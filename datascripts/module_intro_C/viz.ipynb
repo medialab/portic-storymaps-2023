{
 "cells": [
  {
   "cell_type": "code",
   "execution_count": null,
   "metadata": {},
   "outputs": [],
   "source": [
    "from IPython.display import display\n",
    "\n",
    "\n",
    "def VegaLite(spec):\n",
    "    bundle = {}\n",
    "    bundle['application/vnd.vegalite.v4+json'] = spec\n",
    "    display(bundle, raw=True)"
   ]
  },
  {
   "cell_type": "code",
   "execution_count": null,
   "metadata": {},
   "outputs": [],
   "source": [
    "import csv\n",
    "data = []\n",
    "with open(\"evolution_directions_fermes.csv\", \"r\") as data_f:\n",
    "    data = [{\"year\": d['year'],\"value\": float(d['value']), \"direction_ferme\": d['direction_ferme']} for d in csv.DictReader(data_f) if d['direction_ferme'] == 'Marseille']"
   ]
  },
  {
   "cell_type": "code",
   "execution_count": null,
   "metadata": {},
   "outputs": [],
   "source": [
    "data"
   ]
  },
  {
   "cell_type": "code",
   "execution_count": null,
   "metadata": {},
   "outputs": [],
   "source": [
    "\n",
    "VegaLite({\n",
    "  \"$schema\": \"https://vega.github.io/schema/vega-lite/v5.json\",\n",
    "  \"data\": {\"values\":data},\n",
    "  \"layer\": [\n",
    "    {\n",
    "      \"mark\": {\n",
    "        \"type\": \"point\",\n",
    "        \"filled\": True\n",
    "      },\n",
    "      \"encoding\": {\n",
    "        \"x\": {\n",
    "          \"field\": \"year\",\n",
    "          \"type\": \"temporal\",\n",
    "          \"scale\": {\"domain\": [\"1750\",\"1780\"]}\n",
    "        },\n",
    "        \"y\": {\n",
    "          \"field\": \"value\",\n",
    "          \"type\": \"quantitative\"\n",
    "        }\n",
    "      }\n",
    "    },\n",
    "    {\n",
    "      \"mark\": {\n",
    "        \"type\": \"line\",\n",
    "        \"color\": \"firebrick\"\n",
    "      },\n",
    "      \"transform\": [\n",
    "        {\n",
    "          \"regression\": \"reg\",\n",
    "          \"on\": \"value\"\n",
    "        }\n",
    "      ],\n",
    "      \"encoding\": {\n",
    "        \"x\": {\n",
    "          \"field\": \"year\",\n",
    "          \"type\": \"quantitative\"\n",
    "        },\n",
    "        \"y\": {\n",
    "          \"field\": \"reg\",\n",
    "          \"type\": \"quantitative\"\n",
    "        }\n",
    "      }\n",
    "    },\n",
    "    {\n",
    "      \"transform\": [\n",
    "        {\n",
    "          \"regression\": \"reg\",\n",
    "          \"on\": \"value\",\n",
    "          \"params\": True\n",
    "        },\n",
    "        {\"calculate\": \"'R²: '+format(datum.rSquared, '.2f')\", \"as\": \"R2\"}\n",
    "      ],\n",
    "      \"mark\": {\n",
    "        \"type\": \"text\",\n",
    "        \"color\": \"firebrick\",\n",
    "        \"x\": \"width\",\n",
    "        \"align\": \"right\",\n",
    "        \"y\": -5\n",
    "      },\n",
    "      \"encoding\": {\n",
    "        \"text\": {\"type\": \"nominal\", \"field\": \"R2\"}\n",
    "      }\n",
    "    }\n",
    "  ]\n",
    "})"
   ]
  }
 ],
 "metadata": {
  "kernelspec": {
   "display_name": "Python 3",
   "language": "python",
   "name": "python3"
  },
  "language_info": {
   "codemirror_mode": {
    "name": "ipython",
    "version": 3
   },
   "file_extension": ".py",
   "mimetype": "text/x-python",
   "name": "python",
   "nbconvert_exporter": "python",
   "pygments_lexer": "ipython3",
   "version": "3.8.10"
  },
  "orig_nbformat": 4,
  "vscode": {
   "interpreter": {
    "hash": "31f2aee4e71d21fbe5cf8b01ff0e069b9275f58929596ceb00d14d90e3e16cd6"
   }
  }
 },
 "nbformat": 4,
 "nbformat_minor": 2
}
