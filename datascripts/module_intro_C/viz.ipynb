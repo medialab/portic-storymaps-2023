{
 "cells": [
  {
   "cell_type": "code",
   "execution_count": null,
   "metadata": {},
   "outputs": [],
   "source": [
    "from IPython.display import display\n",
    "\n",
    "\n",
    "def VegaLite(spec):\n",
    "    bundle = {}\n",
    "    bundle['application/vnd.vegalite.v4+json'] = spec\n",
    "    display(bundle, raw=True)"
   ]
  },
  {
   "cell_type": "code",
   "execution_count": null,
   "metadata": {},
   "outputs": [],
   "source": [
    "import csv\n",
    "import math\n",
    "from collections import defaultdict\n",
    "\n",
    "data = defaultdict(list)\n",
    "with open(\"evolution_directions_fermes_local.csv\", \"r\") as data_f, open(\"regressions_local.csv\", \"r\") as reg_data_f:\n",
    "    reg_data = defaultdict(dict)\n",
    "    for f in list(csv.DictReader(reg_data_f)):\n",
    "        reg_data[f['direction_ferme']][f['kind']] = f\n",
    "    for d in csv.DictReader(data_f):\n",
    "        data[d['direction_ferme']].append({\n",
    "            \"year\": d['year'],\n",
    "            \"value\": float(d['value']), \n",
    "            \"kind\" : d['kind'],\n",
    "            \"reg_point\": math.exp(float(reg_data[d['direction_ferme']][d['kind']]['slope'])*float(d['year'])+float(reg_data[d['direction_ferme']][d['kind']]['intercept'])) ,\n",
    "            \"direction_ferme\": d['direction_ferme']})\n",
    "\n"
   ]
  },
  {
   "cell_type": "code",
   "execution_count": null,
   "metadata": {},
   "outputs": [],
   "source": [
    "data"
   ]
  },
  {
   "cell_type": "code",
   "execution_count": null,
   "metadata": {},
   "outputs": [],
   "source": [
    "for direction,values in data.items():\n",
    "  VegaLite({\n",
    "    \"$schema\": \"https://vega.github.io/schema/vega-lite/v5.json\",\n",
    "    \"data\": {\"values\": values},\n",
    "    \"facet\":{\n",
    "      \"column\" : {\"field\": \"kind\"}\n",
    "    },\n",
    "    \"spec\":{\n",
    "    \"layer\": [\n",
    "      {\n",
    "        \"mark\": {\n",
    "          \"type\": \"point\",\n",
    "          \"filled\": True\n",
    "        },\n",
    "        \"encoding\": {\n",
    "          \"x\": {\n",
    "            \"field\": \"year\",\n",
    "            \"type\": \"temporal\",\n",
    "            \"scale\": {\"domain\": [\"1740\",\"1789\"]}\n",
    "          },\n",
    "          \"y\": {\n",
    "            \"field\": \"value\",\n",
    "            \"type\": \"quantitative\"\n",
    "          }\n",
    "        }\n",
    "      },\n",
    "      {\n",
    "        \"mark\": {\n",
    "          \"type\": \"line\",\n",
    "          \"color\": \"firebrick\"\n",
    "        },\n",
    "        \"encoding\": {\n",
    "          \"x\": {\n",
    "            \"field\": \"year\",\n",
    "            \"type\": \"temporal\",\n",
    "            \"scale\": {\"domain\": [\"1750\",\"1780\"]}\n",
    "          },\n",
    "          \"y\": {\n",
    "            \"field\": \"reg_point\",\n",
    "            \"type\": \"quantitative\"\n",
    "          }\n",
    "        }\n",
    "      },\n",
    "      {\n",
    "      \n",
    "      \"mark\": {\n",
    "        \"type\": \"text\",\n",
    "        \"color\": \"firebrick\",\n",
    "        \"x\": \"width\",\n",
    "        \"align\": \"right\",\n",
    "        \"y\": -5\n",
    "      },\n",
    "      \"encoding\": {\n",
    "        \"text\": {\"type\": \"nominal\", \"field\": \"direction_ferme\"}\n",
    "      }\n",
    "    }\n",
    "    ]}\n",
    "  })"
   ]
  }
 ],
 "metadata": {
  "kernelspec": {
   "display_name": "Python 3",
   "language": "python",
   "name": "python3"
  },
  "language_info": {
   "codemirror_mode": {
    "name": "ipython",
    "version": 3
   },
   "file_extension": ".py",
   "mimetype": "text/x-python",
   "name": "python",
   "nbconvert_exporter": "python",
   "pygments_lexer": "ipython3",
   "version": "3.8.10"
  },
  "orig_nbformat": 4,
  "vscode": {
   "interpreter": {
    "hash": "31f2aee4e71d21fbe5cf8b01ff0e069b9275f58929596ceb00d14d90e3e16cd6"
   }
  }
 },
 "nbformat": 4,
 "nbformat_minor": 2
}
