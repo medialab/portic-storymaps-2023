{
 "cells": [
  {
   "cell_type": "markdown",
   "metadata": {},
   "source": [
    "# Doc de la bibliothèque python construite pour aider à l'exploration lors du datasprint PORTIC 2023\n",
    "\n",
    "## Objectif de la bibliothèque\n",
    "\n",
    "- proposer deux clients pour récupérer les données PORTIC et de TOFLIT18, faciles à manipuler et avec une API la plus unifiée possible\n",
    "- fournir des utils qui offrent des formatages des données adaptés (récupération de tableaux, construction de réseaux), et qui facilitent le croisement des données PORTIC / TOFLIT18\n",
    "\n",
    "## Information sur les données\n",
    "\n",
    "Concernant les clients web pour l'accès aux données, vous pourrez également accéder par vos propres moyens à partir des sources existantes :\n",
    "   \n",
    "\n",
    "- Voir la doc de l'API PORTIC : https://gitlab.huma-num.fr/portic/porticapi/-/tree/master/porticapi]\n",
    "- Voir le répertoire des données toflit18 au format csv : https://github.com/medialab/toflit18_data)\n",
    "- Voir le code de l'API toflit18 : https://github.com/medialab/toflit18)\n",
    "\n",
    "## Installer la bibliothèque\n",
    "\n",
    "\n",
    "La bibliothèque est installée localement par le script `install.sh`, mais vous pouvez également l'installer depuis une copie du répertoire github via `pip install -e datalib)`. Ne pas oublier de la réinstaller après un git pull dans le cas où elle aurait changé.\n",
    "    \n",
    "## Sommaire des fonctions proposées\n",
    " \n",
    "#### Fonctions principales (donnent accès aux données de base directement utilisables pour l'étude) :\n",
    "\n",
    "Portic:\n",
    "\n",
    "- [get_pointcalls](#portic_client.get_pointcalls(year=1787,-kwargs\\)) : récupération de pointcalls (filtres disponibles : année, port d'enregistrement, entrée ou sortie dans le port, type de navire, activité déclarée (pêche, transport de marchandises ...), ...)\n",
    "\n",
    "Toflit :\n",
    "\n",
    "- [get_flows](#toflit_client.get_flows(start_year=None,-end_year=None,-year=None,-params=None,-kwargs\\)) : récupération de flows (1 flow = import / export d'une marchandise ; infos disponibles : import ou export, produit commercé, partenaire commercial, bureau des Fermes ou a été enregistré le flux ...)\n",
    "\n",
    "\n",
    "\n",
    "#### Fonctions secondaires (plutôt pour aider à paramétrer les fonctions principales, nourrir des fonctions de visualisation, ...)\n",
    "\n",
    "Utils : \n",
    "\n",
    "- [nest_toflit18_flow](#nest_toflit18_flow(flow\\)) : organise un flux toflit18 en un ensemble de clés thématiques\n",
    "- [nest_portic_pointcall](#nest_portic_pointcall(pointcall\\)) : organise un pointcall portic en un ensemble de clés thématiques\n",
    "- [build_cooccurence_graph](#build_cooccurence_graph(data,-key_1,-key_2,-**kwargs\\)) : renvoie un graphe networkx de coocurrence entre des dicts (besoin de fournir 2 clés)\n",
    "- [get_online_csv](#get_online_csv(url\\)) : récupère le contenu d'un csv en ligne (style google spreadsheet)\n",
    "- [get_pointcalls_commodity_purposes_as_toflit_product](#get_pointcalls_commodity_purposes_as_toflit_product(pointcalls,-product_classification=\"product_simplification\"\\)) : correspondance de produits Portic / Toflit sur des pointcalls données en argument \n",
    "- [get_pointcalls_port_as_toflit_partner](#get_pointcalls_port_as_toflit_partner(pointcalls,-product_classification=\"partner_simplification\"\\))  : correspondance de ports d'enregistrement des congés Portic / partenaires Toflit sur des pointcalls données en argument \n",
    "- [get_pointcalls_homeport_as_toflit_partner](#get_pointcalls_homeport_as_toflit_partner(pointcalls,-product_classification=\"partner_simplification\"\\)) : correspondance de ports d'appartenance des navires Portic / partenaires Toflit sur des pointcalls données en argument \n",
    "\n",
    "Portic:\n",
    "\n",
    "- [get_flows](#portic_client.get_flows(kwargs\\)) : récupération de flux (1 flux portic = 1 trajet intermédiaire (escale), souvent décrit par plusieurs pointcalls)\n",
    "- [get_travels](#portic_client.get_travels(kwargs\\)) : récupération de travels (1 travel = ensemble de flux/escales qui s'enchainent ; infos disponibles : point de départ, d'arrivée, distance parcourue, infos sur le navire ...)\n",
    "- [get_fieldnames](#portic_client.get_fieldnames(\\)) : récupère les noms des variables des données et leur description\n",
    "- [get_departures_details](#portic_client.get_departures_details(lon=None,-lat=None,-radius=None,-kwargs\\)) : récupère tous les ports aux alentours d'un point géographique donné\n",
    "- [get_destinations_aggregated](#portic_client.get_destinations_aggregated(lon=None,-lat=None,-radius=None,-kwargs\\)) : retourne une aggrégation des amirautés de départ de voyages qui arrivent dans des points situés dans le voisinage (voir paramètre radius) du point requêté.\n",
    "- [get_ports](#portic_client.get_ports(srid=None\\)) : description de ports et de leur localisation géographique\n",
    "\n",
    "Toflit :\n",
    "\n",
    "- [get_flows_per_year](#toflit_client.get_flows_per_year(type,-kwargs\\)) : récupère les flux par année par direction ou par type de source\n",
    "- [get_locations](#toflit_client.get_locations(classification='partner_orthographic',-kwargs\\)) : récupère le réseau des lieux (directions et partenaires) et le montant de leurs échanges \n",
    "- [get_time_series](#toflit_client.get_time_series(kwargs\\)) : récupère des séries temporelles à propos des flux de marchandises\n",
    "- [get_customs_regions](#toflit_client.get_customs_regions(\\)) : récupère toutes les direction des Fermes de la base Toflit18\n",
    "- [get_product_classifications](#toflit_client.get_product_classifications(\\)) : récupère des informations sur une classification de produit toflit (et optionellement sur ses classifications filles)\n",
    "- [get_partner_classifications](#toflit_client.get_partner_classifications(\\)) : récupère des informations sur une classification de partenaires toflit (et optionellement sur ses classifications filles)\n",
    "- [get_classification_groups](#toflit_client.get_classification_groups(classification=\"product_simplification\",-kwargs\\)) : récupère l'ensemble des catégories associées à une certaine classification (donnée en paramètre)\n",
    "- [get_sources_types](#toflit_client.get_sources_types(\\)) : récupère les types de sources disponibles\n",
    "\n",
    "\n",
    "### Principe généraux d'utilisation du client\n",
    "\n",
    "Les fonctions Portic et Toflit sont appelées respectivement depuis portic_client et toflit_client.\n",
    "Les fonctions utils sont appelables directement.\n",
    "\n",
    "Si des paramètres spécifiques peuvent être utilisés, ils sont décrit dans la doc spécifique à chaque fonction."
   ]
  },
  {
   "cell_type": "markdown",
   "metadata": {},
   "source": [
    "# Imports et bootstrapping des clients"
   ]
  },
  {
   "cell_type": "code",
   "execution_count": null,
   "metadata": {
    "tags": []
   },
   "outputs": [],
   "source": [
    "import networkx as nx\n",
    "import requests\n",
    "import csv\n",
    "import json\n",
    "\n",
    "# liste des imports possibles\n",
    "from marseillesprint import Portic\n",
    "from marseillesprint import Toflit\n",
    "from marseillesprint import nest_toflit18_flow\n",
    "from marseillesprint import nest_portic_pointcall\n",
    "from marseillesprint import build_cooccurence_graph\n",
    "from marseillesprint import get_pointcalls_commodity_purposes_as_toflit_product\n",
    "from marseillesprint import get_online_csv\n",
    "from marseillesprint import get_pointcalls_port_as_toflit_partner\n",
    "from marseillesprint import get_pointcalls_homeport_as_toflit_partner\n",
    "\n",
    "portic_client = Portic()\n",
    "toflit_client = Toflit()"
   ]
  },
  {
   "cell_type": "markdown",
   "metadata": {},
   "source": [
    "# Méthodes pour l'accès à PORTIC\n",
    "pouvant être appelées depuis `portic_client` \n",
    "\n",
    "Paramètres généraux pouvant être appliqués à (presque) toutes ces méthodes :\n",
    "\n",
    "| nom | type | valeurs | défault | description |\n",
    "|---|---|---|---|---|\n",
    "|params|liste de chaînes| ('all', ... tous les noms de params) | all | attributs à intégrer dans la réponse |\n",
    "|format|chaîne| ('json','csv')| json | format de la réponse|\n",
    "|shortenfields| booléen | (true, false) | false | permet de raccourcir les noms des attributs et donc d'alléger la taille du JSON téléchargé.|\n",
    "|both_to| booléen | (true,false) | false | permet de récupérer les données concernant l'arrivée d'un voyage en plus des données du départ (données par défaut). |\n",
    "| date | string format YYYY | (...années) | 1787 | pour filtrer les données sur une année donnée. L'année de la date d'arrivée ou de la date de départ doit commencer par ces 4 digits : 1787 ou  1789 par exemple. Exemple : http://data.portic.fr/api/pointcalls/?format=json&date=1789 |\n",
    "| zipped | booléen | (true, false) | false | ... |"
   ]
  },
  {
   "cell_type": "markdown",
   "metadata": {},
   "source": [
    "# portic_client.get_pointcalls(year=1787, kwargs)\n",
    "\n",
    "\n",
    "Synopsis: récupère une liste de pointcalls selon les filtres et les paramètres spécifés.\n",
    "\n",
    "---\n",
    "\n",
    "Paramètres de requête spécifiques :\n",
    "\n",
    "| nom | type | valeurs | défault | description |\n",
    "|---|---|---|---|---|\n",
    "| start_year | <int/string> | | | année de début |\n",
    "| end_year | <int/string> | | | année de fin |\n",
    "| year | <int/string> | | | année exacte (l'emporte sur début/fin) |\n",
    "\n",
    "\\+ tous les noms de propriétés des pointcalls pouvant être donnés en paramètres pour faire office de filtres (accepte une valeur unique, ou une liste de valeurs possibles pour que l'objet filtré soit valide - ex `pointcall_admirality='La Rochelle'`)\n",
    "\n",
    "\n",
    "### Exemple : je veux tous les pointcalls concernant Marseille"
   ]
  },
  {
   "cell_type": "code",
   "execution_count": 9,
   "metadata": {
    "tags": []
   },
   "outputs": [
    {
     "ename": "KeyError",
     "evalue": "'source_number'",
     "output_type": "error",
     "traceback": [
      "\u001b[0;31m---------------------------------------------------------------------------\u001b[0m",
      "\u001b[0;31mKeyError\u001b[0m                                  Traceback (most recent call last)",
      "\u001b[0;32m/var/folders/1y/4l7zn9vs3xsg6fvyz6vlhpdr0000gn/T/ipykernel_70516/3882254296.py\u001b[0m in \u001b[0;36m<module>\u001b[0;34m\u001b[0m\n\u001b[1;32m     11\u001b[0m \u001b[0mpointcall\u001b[0m \u001b[0;34m=\u001b[0m \u001b[0mpointcalls_datasprint\u001b[0m\u001b[0;34m[\u001b[0m\u001b[0;36m0\u001b[0m\u001b[0;34m]\u001b[0m\u001b[0;34m\u001b[0m\u001b[0;34m\u001b[0m\u001b[0m\n\u001b[1;32m     12\u001b[0m \u001b[0;31m# util pour organiser un pointcall en ensembles de clés thématiques\u001b[0m\u001b[0;34m\u001b[0m\u001b[0;34m\u001b[0m\u001b[0;34m\u001b[0m\u001b[0m\n\u001b[0;32m---> 13\u001b[0;31m \u001b[0mnest_portic_pointcall\u001b[0m\u001b[0;34m(\u001b[0m\u001b[0mpointcall\u001b[0m\u001b[0;34m)\u001b[0m\u001b[0;34m\u001b[0m\u001b[0;34m\u001b[0m\u001b[0m\n\u001b[0m",
      "\u001b[0;32m~/activites/medialab/PORTIC/case_study_2023/portic-storymaps-2023/datalib/marseillesprint/utils.py\u001b[0m in \u001b[0;36mnest_portic_pointcall\u001b[0;34m(pointcall)\u001b[0m\n\u001b[1;32m    455\u001b[0m     \u001b[0moutput\u001b[0m\u001b[0;34m[\u001b[0m\u001b[0mkey\u001b[0m\u001b[0;34m]\u001b[0m \u001b[0;34m=\u001b[0m \u001b[0;34m{\u001b[0m\u001b[0;34m}\u001b[0m\u001b[0;34m\u001b[0m\u001b[0;34m\u001b[0m\u001b[0m\n\u001b[1;32m    456\u001b[0m     \u001b[0;32mfor\u001b[0m \u001b[0mcolumn\u001b[0m \u001b[0;32min\u001b[0m \u001b[0mprops\u001b[0m\u001b[0;34m:\u001b[0m\u001b[0;34m\u001b[0m\u001b[0;34m\u001b[0m\u001b[0m\n\u001b[0;32m--> 457\u001b[0;31m       \u001b[0moutput\u001b[0m\u001b[0;34m[\u001b[0m\u001b[0mkey\u001b[0m\u001b[0;34m]\u001b[0m\u001b[0;34m[\u001b[0m\u001b[0mcolumn\u001b[0m\u001b[0;34m]\u001b[0m \u001b[0;34m=\u001b[0m \u001b[0mpointcall\u001b[0m\u001b[0;34m[\u001b[0m\u001b[0mcolumn\u001b[0m\u001b[0;34m]\u001b[0m\u001b[0;34m\u001b[0m\u001b[0;34m\u001b[0m\u001b[0m\n\u001b[0m\u001b[1;32m    458\u001b[0m \u001b[0;34m\u001b[0m\u001b[0m\n\u001b[1;32m    459\u001b[0m   \u001b[0moutput\u001b[0m\u001b[0;34m[\u001b[0m\u001b[0;34m\"commodity_purposes\"\u001b[0m\u001b[0;34m]\u001b[0m \u001b[0;34m=\u001b[0m \u001b[0;34m[\u001b[0m\u001b[0;34m]\u001b[0m\u001b[0;34m\u001b[0m\u001b[0;34m\u001b[0m\u001b[0m\n",
      "\u001b[0;31mKeyError\u001b[0m: 'source_number'"
     ]
    }
   ],
   "source": [
    "from marseillesprint import Portic\n",
    "portic_client = Portic()\n",
    "\n",
    "\n",
    "pointcalls_datasprint = portic_client.get_pointcalls(\n",
    " pointcall = 'Marseille',\n",
    " year=\"1787\"\n",
    ")\n",
    "\n",
    "\n",
    "pointcall = pointcalls_datasprint[0] \n",
    "# util pour organiser un pointcall en ensembles de clés thématiques\n",
    "nest_portic_pointcall(pointcall)"
   ]
  },
  {
   "cell_type": "markdown",
   "metadata": {},
   "source": [
    "## portic_client.get_fieldnames(API='any')\n",
    "\n",
    "\n",
    "Synopsis:\n",
    "Récupère les noms des variables Portic et leur description (pratique quand on ne sait plus ce qu'une colonne/propriété signifie)\n",
    "\n",
    "Paramètres de requête spécifiques :\n",
    "\n",
    "| nom | type | valeurs | défault | description |\n",
    "|---|---|---|---|---|\n",
    "| API | <string> | 'pointcalls' | 'travels' | 'any' | 'any' | type de fieldnames à récupérer |\n",
    "\n",
    "\n",
    "---\n",
    "\n",
    "### Exemple :"
   ]
  },
  {
   "cell_type": "code",
   "execution_count": null,
   "metadata": {
    "tags": []
   },
   "outputs": [],
   "source": [
    "from marseillesprint import Portic\n",
    "portic_client = Portic()\n",
    "\n",
    "\n",
    "portic_client.get_fieldnames()[0:1]"
   ]
  },
  {
   "cell_type": "markdown",
   "metadata": {},
   "source": [
    "## portic_client.get_flows(kwargs)\n",
    "\n",
    "Synopsis:\n",
    "\n",
    "Retourne une liste de flux, c'est-à-dire de voyages liés à des ports spécifiques, soit en y entrant (direction \"in\"), soit en en sortant (direction \"out\"), soit en ayant navigué autour (direction \"in-out\")\n",
    "\n",
    "**Attention, les flux sont reconstruits d'après plusieurs pointcalls en fonction de leur incertitude, et sont peu complets pour les données du datasprint.** Il vaut mieux raisonner avec les pointcalls par défaut.\n",
    "\n",
    "---\n",
    "\n",
    "Paramètres de requête spécifiques :\n",
    "\n",
    "| nom | type | valeurs | défault | description |\n",
    "|---|---|---|---|---|\n",
    "| ports | list(string) | UHGS_id | 4326 | liste des ids de ports à filtrer (séparés par des virgules)\n",
    "\n",
    "\\+ tous les noms de propriétés des flows portic pouvant être donnés en paramètres pour faire office de filtres (accepte une valeur unique, ou une liste de valeurs possibles pour que l'objet filtré soit valide)\n",
    "\n",
    "\n",
    "\n",
    "### Exemple : tous les flux passant par Bordeaux (A0180923) ou Boulogne sur Mer (A0152606) ; on filtre les résultats sur les localisations de départ et d'arrivée, et la distance entre ces 2 points"
   ]
  },
  {
   "cell_type": "code",
   "execution_count": null,
   "metadata": {
    "tags": []
   },
   "outputs": [],
   "source": [
    "from marseillesprint import Portic\n",
    "portic_client = Portic()\n",
    "\n",
    "\n",
    "flows = portic_client.get_flows(\n",
    "    ports = ['A0180923', 'A0152606'],\n",
    "    params =['distance_dep_dest', 'departure', 'departure_latitude', 'departure_longitude', 'destination', 'destination_latitude', 'destination_longitude']\n",
    ")\n",
    "flows[0:1]"
   ]
  },
  {
   "cell_type": "markdown",
   "metadata": {},
   "source": [
    "## portic_client.get_travels(kwargs)\n",
    "\n",
    "\n",
    "Synopsis:\n",
    "\n",
    "Récupère les données de trajectoires calculées.\n",
    "\n",
    "#### possibilité de filtrer à une valeur ou une liste de valeurs par attribut\n",
    "---\n",
    "\n",
    "Paramètres de requête spécifiques :\n",
    "\n",
    "| nom | type | valeurs | défault | description |\n",
    "|---|---|---|---|---|\n",
    "\n",
    "\n",
    "### Exemple : tous les voyages au départ d'un port rattaché à la direction des Fermes de La Rochelle, dont le port d'attache du navire est Dieppe et Noirmoutier, et son pavillon français, ..."
   ]
  },
  {
   "cell_type": "code",
   "execution_count": null,
   "metadata": {
    "tags": []
   },
   "outputs": [],
   "source": [
    "from marseillesprint import Portic\n",
    "portic_client = Portic()\n",
    "\n",
    "\n",
    "portic_client.get_travels(\n",
    "    departure_action='Out',\n",
    "    departure_ferme_direction='La Rochelle',\n",
    "    homeport_toponyme_fr=['Dieppe', 'Noirmoutier'],\n",
    "    ship_flag_standardized_en='French'\n",
    ")[0:1]"
   ]
  },
  {
   "cell_type": "markdown",
   "metadata": {},
   "source": [
    "## portic_client.get_departures_details(lon=None, lat=None, radius=None, kwargs)\n",
    "\n",
    "\n",
    "Synopsis:\n",
    "\n",
    "Récupère tous les ports aux alentours d'un point géographique donné.\n",
    "\n",
    "---\n",
    "\n",
    "Paramètres de requête spécifiques :\n",
    "\n",
    "| nom | type | valeurs | défault | description |\n",
    "|---|---|---|---|---|\n",
    "| lon | flottant | (minLon,maxLon) | ? | longitude du centre de la zone à requêter|\n",
    "| lat | flottant | (minLat,maxLat) | ? | latitude du centre de la zone à requêter|\n",
    "| radius | flottant | (0,?) | 100 ? |  rayon en kilomètres |\n",
    "\n",
    "\n",
    "### Exemple : coordonnées de tous les ports recensés par Portic dans un rayon de 30km autour du port de La Rochelle "
   ]
  },
  {
   "cell_type": "code",
   "execution_count": null,
   "metadata": {},
   "outputs": [],
   "source": [
    "from marseillesprint import Portic\n",
    "portic_client = Portic()\n",
    "\n",
    "portic_client.get_departures_details(\n",
    " lat = 46.166667, # latitude du port de La Rochelle\n",
    " lon = -1.15, # longitude du port de La Rochelle\n",
    " radius = 30\n",
    ")[0:1]"
   ]
  },
  {
   "cell_type": "markdown",
   "metadata": {},
   "source": [
    "## portic_client.get_destinations_aggregated(lon=None, lat=None, radius=None, kwargs)\n",
    "\n",
    "Synopsis:\n",
    "\n",
    "Retourne une aggrégation des amirautés de départ de voyages qui arrivent dans des points situés dans le voisinage (voir paramètre radius) du point requêté.\n",
    "\n",
    "'label': amirauté de départ\n",
    "\n",
    "'value': nombre de voyages partis de cette amirauté\n",
    "\n",
    "---\n",
    "\n",
    "Paramètres de requête spécifiques :\n",
    "\n",
    "| nom | type | valeurs | défault | description |\n",
    "|---|---|---|---|---|\n",
    "| lon | flottant | (minLon,maxLon) | ? | longitude du centre de la zone à requêter|\n",
    "| lat | flottant | (minLat,maxLat) | ? | latitude du centre de la zone à requêter|\n",
    "| radius | flottant | (0,?) | 100 ? |  rayon en kilomètres |\n",
    "\n",
    "\n",
    "### Exemple : amirautés qui envoient des bateaux autour de l'ile de Ré (à 10km à la ronde), et nombre de bateaux envoyés"
   ]
  },
  {
   "cell_type": "code",
   "execution_count": null,
   "metadata": {},
   "outputs": [],
   "source": [
    "from marseillesprint import Portic\n",
    "portic_client = Portic()\n",
    "\n",
    "portic_client.get_destinations_aggregated(\n",
    " lat = 46.2, # latitude du port de L'Ile de Ré\n",
    " lon = -1.416667, # longitude du port de L'Ile de Ré\n",
    " radius = 10\n",
    ")[0:1]"
   ]
  },
  {
   "cell_type": "markdown",
   "metadata": {},
   "source": [
    "## portic_client.get_ports(srid=None)\n",
    "\n",
    " Synopsis:\n",
    " Retourne une liste de *ports_points* au format JSON\n",
    "\n",
    "---\n",
    "\n",
    "Paramètres de requête spécifiques :\n",
    "\n",
    "| nom | type | valeurs | défault | description |\n",
    "|---|---|---|---|---|\n",
    "|srid|int|---|---|identifiant de référence spatiale unique associé à un système de coordonnées, une tolérance et une résolution spécifiques|\n",
    "\n",
    "\n",
    "### Exemple : description du port avec srid 4326 au format JSON"
   ]
  },
  {
   "cell_type": "code",
   "execution_count": null,
   "metadata": {
    "tags": []
   },
   "outputs": [],
   "source": [
    "from marseillesprint import Portic\n",
    "portic_client = Portic()\n",
    "\n",
    "resp = portic_client.get_ports(\n",
    "    srid = 4326\n",
    ")\n",
    "print(json.dumps(resp[0:5], indent=2))"
   ]
  },
  {
   "cell_type": "markdown",
   "metadata": {},
   "source": [
    "# Méthodes pour l'accès à TOFLIT\n",
    "pouvant être appelées depuis `toflit_client` :\n",
    "\n",
    "## toflit_client.get_flows(start_year=None, end_year=None, year=None, params=None, kwargs)\n",
    "\n",
    "Synopsis : \n",
    "récupère les flux toflit18 tels que présentés au format CSV, avec possibilités de filtrage avancé.\n",
    "\n",
    "Paramètres de requête spécifiques :\n",
    "\n",
    "| nom | type | valeurs | défault | description |\n",
    "|---|---|---|---|---|\n",
    "| start_year | <int/string> | | None | année de début |\n",
    "| end_year | <int/string> | | None | année de fin |\n",
    "| year | <int/string> | | None | année exacte (l'emporte sur fin/début) |\n",
    "| params | list |  | toutes les colonnes | propriétés à renvoyer |\n",
    "\n",
    "\\+ tous les noms de propriétés des flux pouvant être donnés en paramètres pour faire office de filtres (accepte une valeur unique, ou une liste de valeurs possibles pour que l'objet filtré soit valide)\n",
    "\n",
    "## Exemple : tous les flows toflit de 1780 à 1790, enregistrés dans la direction des Fermes de La Rochelle, et où le produit commercé est du vin (on filtre le résultat sur certains params seulement)\n"
   ]
  },
  {
   "cell_type": "code",
   "execution_count": null,
   "metadata": {},
   "outputs": [],
   "source": [
    "from marseillesprint import Toflit\n",
    "toflit_client = Toflit()\n",
    "\n",
    "flows = toflit_client.get_flows(\n",
    "    start_year=1780, \n",
    "    end_year=1790, \n",
    "    customs_region='La Rochelle',\n",
    "    product_revolutionempire='Vins divers',\n",
    "    params=['customs_region', 'partner_simplification', 'product_revolutionempire', 'quantity', 'quantity_unit', 'customs_region_origin']\n",
    ")\n",
    "flows[0:1]\n",
    "\n",
    "# util pour organiser un flow en ensembles thématiques (ne fonctionne que sur un flow avec params=all)\n",
    "# flow = flows[0]\n",
    "# nest_toflit18_flow(flow)"
   ]
  },
  {
   "cell_type": "markdown",
   "metadata": {},
   "source": [
    "## toflit_client.get_customs_regions()\n",
    "\n",
    "Synopsis :\n",
    "\n",
    "Récupère toutes les customs region (direction des Fermes) de la base\n",
    "\n",
    "---\n",
    "\n",
    "### Exemple"
   ]
  },
  {
   "cell_type": "code",
   "execution_count": null,
   "metadata": {},
   "outputs": [],
   "source": [
    "from marseillesprint import Toflit\n",
    "toflit_client = Toflit()\n",
    "\n",
    "\n",
    "toflit_client.get_customs_regions()[0:1]"
   ]
  },
  {
   "cell_type": "markdown",
   "metadata": {},
   "source": [
    "## toflit_client.get_product_classifications()\n",
    "\n",
    "Synopsis :\n",
    "\n",
    "Récupère les classifications de produits\n",
    "\n",
    "---\n",
    "\n",
    "### Exemple : on récupère la classification source (commenter la ligne resp['children']=None pour avoir les classifications filles)"
   ]
  },
  {
   "cell_type": "code",
   "execution_count": null,
   "metadata": {},
   "outputs": [],
   "source": [
    "from marseillesprint import Toflit\n",
    "toflit_client = Toflit()\n",
    "\n",
    "resp = toflit_client.get_product_classifications()\n",
    "# removing children for the sake of logging\n",
    "# resp['children'] = None\n",
    "print(json.dumps(resp, indent=2))"
   ]
  },
  {
   "cell_type": "markdown",
   "metadata": {},
   "source": [
    "## toflit_client.get_partner_classifications()\n",
    "\n",
    "Synopsis :\n",
    "\n",
    "Récupère les classifications de partenaires\n",
    "\n",
    "---\n",
    "\n",
    "### Exemple : on récupère toute l'arborescence de classifications (décommenter la ligne resp['children']=None pour n'avoir que la classification source)"
   ]
  },
  {
   "cell_type": "code",
   "execution_count": null,
   "metadata": {},
   "outputs": [],
   "source": [
    "from marseillesprint import Toflit\n",
    "toflit_client = Toflit()\n",
    "\n",
    "resp = toflit_client.get_partner_classifications()\n",
    "# removing children for the sake of logging\n",
    "resp['children'] = None\n",
    "print(json.dumps(resp, indent=2))"
   ]
  },
  {
   "cell_type": "markdown",
   "metadata": {},
   "source": [
    "## toflit_client.get_classification_groups(classification=\"product_simplification\", kwargs)\n",
    "\n",
    "Synopsis :\n",
    "\n",
    "Récupère l'ensemble des catégories associées à une classification en particulier (sans le détail des valeurs)\n",
    "\n",
    "---\n",
    "\n",
    "### Exemple : récupération des 5 premières catégories de la classification partner grouping"
   ]
  },
  {
   "cell_type": "code",
   "execution_count": null,
   "metadata": {},
   "outputs": [],
   "source": [
    "from marseillesprint import Toflit\n",
    "toflit_client = Toflit()\n",
    "\n",
    "toflit_client.get_classification_groups('partner_grouping')[0:5]"
   ]
  },
  {
   "cell_type": "markdown",
   "metadata": {},
   "source": [
    "## toflit_client.get_classification_search(classification='product_revolutionempire', kwargs)\n",
    "\n",
    "Synopsis :\n",
    "\n",
    "Récupère le détail des groupements associés à une classification en particulier.\n",
    "\n",
    "---\n",
    "\n",
    "Paramètre d'URL `classification` : le nom de la classification préfixé par son type (ex. \"product_simplification\", ou \"partner_source\")\n",
    "\n",
    "---\n",
    "\n",
    "### Exemple : produits sources recouverts par 2 catégories de product orthographic"
   ]
  },
  {
   "cell_type": "code",
   "execution_count": null,
   "metadata": {},
   "outputs": [],
   "source": [
    "from marseillesprint import Toflit\n",
    "toflit_client = Toflit()\n",
    "\n",
    "toflit_client.get_classification_search('product_orthographic')[0:2]"
   ]
  },
  {
   "cell_type": "markdown",
   "metadata": {},
   "source": [
    "## toflit_client.get_locations(classification='partner_orthographic', kwargs)\n",
    "\n",
    "Synopsis :\n",
    "\n",
    "Récupère le réseau des lieux (directions et partenaires) et le montant de leurs échanges\n",
    "\n",
    "---\n",
    "\n",
    "Paramètre `classification` : l'id de la classification de partenaire à utiliser\n",
    "\n",
    "---\n",
    "\n",
    "Paramètres de requête spécifiques :\n",
    "\n",
    "| nom | type | valeurs | défault | description |\n",
    "|---|---|---|---|---|\n",
    "| dateMin | entier | (années) | ? | année de début |\n",
    "| dateMax | entier | (années) | ? | année de fin |\n",
    "| kind | string | ('total', 'import', 'export') | 'total' | type de flux |\n",
    "| sourceType | string | (types de source) | ? | id du type de source à utiliser |\n",
    "| product | liste d'objets | (objects avec {{\"id\",\"name\",\"value\"}) | None | liste des produits à filtrer |\n",
    "| productClassification | string | (ids de classification) | None | Classification de produit à utiliser pour le filtre |\n",
    "\n",
    "---\n",
    "\n",
    "### Exemple "
   ]
  },
  {
   "cell_type": "code",
   "execution_count": null,
   "metadata": {},
   "outputs": [],
   "source": [
    "from marseillesprint import Toflit\n",
    "toflit_client = Toflit()\n",
    "\n",
    "toflit_client.get_locations(\n",
    "    classification = 'partner_grouping', \n",
    "    dateMin = 1750,\n",
    "    dateMax = 1760,\n",
    "    kind = 'total',\n",
    "    sourceType = 'Best Guess national product x partner'\n",
    ")[0:1]"
   ]
  },
  {
   "cell_type": "markdown",
   "metadata": {},
   "source": [
    "## toflit_client.get_flows_per_year(type, kwargs)\n",
    "\n",
    "Synopsis :\n",
    "\n",
    "Récupère les flux par année par direction ou par type de source\n",
    "\n",
    "---\n",
    "\n",
    "Paramètre `type` : le type de flux 'direction' ou 'sourceType'\n",
    "\n",
    "---\n",
    "\n",
    "Paramètres de requête spécifiques :\n",
    "\n",
    "| nom | type | valeurs | défault | description |\n",
    "|---|---|---|---|---|\n",
    "| dateMin | entier | (années) | ? | année de début |\n",
    "| dateMax | entier | (années) | ? | année de fin |\n",
    "| kind | string | ('total', 'import', 'export') | 'total' | type de flux |\n",
    "| sourceType | string | (types de source) | ? | id du type de source à utiliser |\n",
    "| partner | liste d'objets | (objects avec {\"name\",\"id\"}) | None | les partenaires commerciaux à prendre en compte (e.g. {name: 'Alsace', id: 'Alsace~partner_orthographic'}) |\n",
    "| partnerClassification | string | (ids de classification) | None | Classification de partenaire à utiliser pour le filtre |\n",
    "| product | liste d'objets | (objects avec {{\"id\",\"name\",\"value\"}) | None | liste des produits à filtrer |\n",
    "| productClassification | string | (ids de classification) | None | Classification de produit à utiliser pour le filtre |\n",
    "| direction | chaîne | (noms de direction) | '$all$' | nom de la direction à filtrer |\n",
    "\n",
    "---\n",
    "\n",
    "### Exemple"
   ]
  },
  {
   "cell_type": "code",
   "execution_count": null,
   "metadata": {},
   "outputs": [],
   "source": [
    "from marseillesprint import Toflit\n",
    "toflit_client = Toflit()\n",
    "\n",
    "toflit_client.get_flows_per_year(\n",
    "    type ='sourceType', \n",
    "    dateMin = 1750,\n",
    "    dateMax = 1780,\n",
    "    sourceType = 'National toutes directions partenaires manquants'\n",
    ")"
   ]
  },
  {
   "cell_type": "markdown",
   "metadata": {},
   "source": [
    "## toflit_client.get_time_series(kwargs)\n",
    "\n",
    "Synopsis :\n",
    "\n",
    "Récupère des séries temporelles à propos des flux de marchandises\n",
    "\n",
    "---\n",
    "\n",
    "Paramètres de requête spécifiques :\n",
    "\n",
    "| nom | type | valeurs | défault | description |\n",
    "|---|---|---|---|---|\n",
    "| dateMin | entier | (années) | ? | année de début |\n",
    "| dateMax | entier | (années) | ? | année de fin |\n",
    "| kind | string | ('total', 'import', 'export') | 'total' | type de flux |\n",
    "| sourceType | string | (types de source) | ? | id du type de source à utiliser |\n",
    "| partner | liste d'objets | (objects avec {\"name\",\"id\"}) | None | les partenaires commerciaux à prendre en compte (e.g. {name: 'Alsace', id: 'Alsace~partner_orthographic'}) |\n",
    "| partnerClassification | string | (ids de classification) | None | Classification de partenaire à utiliser pour le filtre |\n",
    "| product | liste d'objets | (objects avec {{\"id\",\"name\",\"value\"}) | None | liste des produits à filtrer |\n",
    "| productClassification | string | (ids de classification) | None | Classification de produit à utiliser pour le filtre |\n",
    "| direction | chaîne | (noms de direction) | '$all$' | nom de la direction à filtrer |\n",
    "\n",
    "---\n",
    "\n",
    "### Exemple"
   ]
  },
  {
   "cell_type": "code",
   "execution_count": null,
   "metadata": {},
   "outputs": [],
   "source": [
    "toflit_client.get_time_series(\n",
    "    direction = 'La_Rochelle'\n",
    ")[0:2]"
   ]
  },
  {
   "cell_type": "markdown",
   "metadata": {},
   "source": [
    "## toflit_client.get_sources_types()\n",
    "\n",
    "Synopsis :\n",
    "\n",
    "Récupère les types de sources disponibles\n",
    "\n",
    "---\n",
    "\n",
    "### Exemple"
   ]
  },
  {
   "cell_type": "code",
   "execution_count": null,
   "metadata": {},
   "outputs": [],
   "source": [
    "from marseillesprint import Toflit\n",
    "toflit_client = Toflit()\n",
    "\n",
    "toflit_client.get_sources_types()"
   ]
  },
  {
   "cell_type": "markdown",
   "metadata": {},
   "source": [
    "# Utils\n",
    "\n",
    "\n",
    "\n",
    "## nest_toflit18_flow(flow)\n",
    "\n",
    "\n",
    "Synopsis:\n",
    "Cette fonction organise un flux toflit18 tel que reçu depuis les données en csv\n",
    "  sous la forme d un ensemble de clés thématiques qui contiennent chacun les propriétés correspondantes.\n",
    "\n",
    "---\n",
    "\n",
    "### Exemple : "
   ]
  },
  {
   "cell_type": "code",
   "execution_count": null,
   "metadata": {},
   "outputs": [],
   "source": [
    "from marseillesprint import Toflit\n",
    "toflit_client = Toflit()\n",
    "\n",
    "flows = toflit_client.get_flows(\n",
    "    year=1789, \n",
    "    product_orthographic='dentelle de soie'\n",
    ") \n",
    "\n",
    "flow = flows[0] \n",
    "nest_toflit18_flow(flow)"
   ]
  },
  {
   "cell_type": "markdown",
   "metadata": {},
   "source": [
    "## nest_portic_pointcall(pointcall)\n",
    "\n",
    "\n",
    "Synopsis:\n",
    "Cette fonction organise un pointcall portic tel que reçu depuis les données en csv\n",
    "sous la forme d un ensemble de clés thématiques qui contiennent chacun les propriétés correspondantes.\n",
    "\n",
    "---\n",
    "\n",
    "### Exemple : "
   ]
  },
  {
   "cell_type": "code",
   "execution_count": null,
   "metadata": {},
   "outputs": [],
   "source": [
    "from marseillesprint import Portic\n",
    "from marseillesprint import nest_portic_pointcall\n",
    "portic_client = Portic()\n",
    "\n",
    "pointcalls = portic_client.get_pointcalls(\n",
    "    year=1787\n",
    ")\n",
    "\n",
    "pointcall = pointcalls[0] \n",
    "nest_portic_pointcall(pointcall)"
   ]
  },
  {
   "cell_type": "markdown",
   "metadata": {},
   "source": [
    "## build_cooccurence_graph(data, key_1, key_2, **kwargs)\n",
    "    \n",
    "Synopsis :\n",
    "Cette fonction prend un ensemble de dict (data) et deux noms de clés présents dans chaque dict.\n",
    "Elle renvoie un graphe networkx de coocurrence entre les dicts.\n",
    "\n",
    "---\n",
    "\n",
    "Paramètres de requête spécifiques (**kwargs) :\n",
    "\n",
    "| nom | type | valeurs | défault | description |\n",
    "|---|---|---|---|---|\n",
    "| color_1 | code rgb (string?) |  | rgb(0, 255, 0) | couleur des noeuds de type 1 |\n",
    "| color_2 | code rgb (string?) |  | rgb(255, 0, 0) | couleur des noeuds de type 2 |\n",
    "| node_min_size | int |  | 1 | taille min des noeuds |\n",
    "| node_min_size | int |  | 10 | taille max des noeuds |\n",
    "\n",
    "### Exemple : "
   ]
  },
  {
   "cell_type": "code",
   "execution_count": null,
   "metadata": {},
   "outputs": [],
   "source": [
    "from marseillesprint import Toflit\n",
    "from marseillesprint import build_cooccurence_graph\n",
    "from ipysigma import Sigma\n",
    "\n",
    "toflit_client = Toflit()\n",
    "flows = toflit_client.get_flows(\n",
    "    start_year=1780, \n",
    "    end_year=1790, \n",
    "    customs_region='La Rochelle'\n",
    ")\n",
    "\n",
    "Graph = build_cooccurence_graph(flows, 'partner', 'product')\n",
    "Sigma(Graph, start_layout=True)"
   ]
  },
  {
   "cell_type": "markdown",
   "metadata": {},
   "source": [
    "## get_online_csv(url)\n",
    "\n",
    "Synopsis:\n",
    "Cette fonction permet de récupérer le contenu d'un csv en ligne.\n",
    "Pour les google spreadsheets: fichier > publier sur le web > format csv > copier le lien.\n",
    "  \n",
    "Bien mettre l'url sous forme de string dans les params"
   ]
  },
  {
   "cell_type": "code",
   "execution_count": null,
   "metadata": {},
   "outputs": [],
   "source": [
    "from marseillesprint import get_online_csv\n",
    "\n",
    "\n",
    "pointcalls_from_csv = get_online_csv('https://docs.google.com/spreadsheets/d/e/2PACX-1vSTh5UY2pCjlPQz2WzHhqeKbAqUHzBpetRZbM9C4SzWK4chFZlIOHLU_zVpMtY8n6kNH1k4hIgpXiRE/pub?gid=0&single=true&output=csv')\n",
    "\n",
    "pointcalls_from_csv[0:1]"
   ]
  },
  {
   "cell_type": "markdown",
   "metadata": {},
   "source": [
    "## get_pointcalls_commodity_purposes_as_toflit_product(pointcalls, product_classification=\"product_simplification\")\n",
    "\n",
    "Synopsis :\n",
    "Cette fonction prend en entrée une liste de pointcalls et un nom de classification de produits (\"product_simplification\" par défaut).\n",
    "Elle renvoie en sortie la liste des dict de pointcalls enrichis avec une propriété \"commodity_purposes\" qui ont les propriétés existantes de PORTIC pour commodity_purpose[2,3,4] + une propriété \"commodity_as_toflit qui donne la valeur correspondante dans toflit18."
   ]
  },
  {
   "cell_type": "code",
   "execution_count": null,
   "metadata": {},
   "outputs": [],
   "source": [
    "from marseillesprint import Portic\n",
    "from marseillesprint import get_pointcalls_commodity_purposes_as_toflit_product\n",
    "\n",
    "portic_client = Portic()\n",
    "\n",
    "pointcalls = portic_client.get_pointcalls(\n",
    " year = 1789\n",
    ")\n",
    "\n",
    "with_toflit_products = get_pointcalls_commodity_purposes_as_toflit_product(pointcalls, product_classification='product_simplification')\n",
    "\n",
    "with_toflit_products[0:1]"
   ]
  },
  {
   "cell_type": "markdown",
   "metadata": {},
   "source": [
    "## get_pointcalls_port_as_toflit_partner(pointcalls, product_classification=\"partner_simplification\")\n",
    "\n",
    "Synopsis :\n",
    " Cette fonction prend en entrée une liste de pointcalls et un nom de classification de partenaire (\"partner_simplification\" par défaut).\n",
    "Elle renvoie en sortie la liste des dict de pointcalls enrichis avec une propriété \"pointcall_as_toflit_partner\"."
   ]
  },
  {
   "cell_type": "code",
   "execution_count": null,
   "metadata": {},
   "outputs": [],
   "source": [
    "from marseillesprint import Portic\n",
    "from marseillesprint import get_pointcalls_port_as_toflit_partner\n",
    "\n",
    "portic_client = Portic()\n",
    "\n",
    "pointcalls = portic_client.get_pointcalls(\n",
    " year = 1789\n",
    ")\n",
    "\n",
    "get_pointcalls_port_as_toflit_partner(pointcalls, 'partner_grouping')[0:1]"
   ]
  },
  {
   "cell_type": "markdown",
   "metadata": {},
   "source": [
    "## get_pointcalls_homeport_as_toflit_partner(pointcalls, product_classification=\"partner_simplification\")\n",
    "  \n",
    "Synopsis :\n",
    "Cette fonction prend en entrée une liste de pointcalls et un nom de classification de partenaire (\"partner_simplification\" par défaut).\n",
    "Elle renvoie en sortie la liste des dict de pointcalls enrichis avec une propriété \"homeport_as_toflit_partner\"."
   ]
  },
  {
   "cell_type": "code",
   "execution_count": null,
   "metadata": {},
   "outputs": [],
   "source": [
    "from marseillesprint import Portic\n",
    "from marseillesprint import get_pointcalls_homeport_as_toflit_partner\n",
    "\n",
    "portic_client = Portic()\n",
    "\n",
    "pointcalls = portic_client.get_pointcalls(\n",
    " year = 1789\n",
    ")\n",
    "\n",
    "get_pointcalls_homeport_as_toflit_partner(pointcalls, 'partner_simplification')[0:1]"
   ]
  }
 ],
 "metadata": {
  "kernelspec": {
   "display_name": "Python 3 (ipykernel)",
   "language": "python",
   "name": "python3"
  },
  "language_info": {
   "codemirror_mode": {
    "name": "ipython",
    "version": 3
   },
   "file_extension": ".py",
   "mimetype": "text/x-python",
   "name": "python",
   "nbconvert_exporter": "python",
   "pygments_lexer": "ipython3",
   "version": "3.7.7"
  }
 },
 "nbformat": 4,
 "nbformat_minor": 4
}
