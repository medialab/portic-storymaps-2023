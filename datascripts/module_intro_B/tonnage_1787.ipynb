{
 "cells": [
  {
   "cell_type": "code",
   "execution_count": 1,
   "id": "c63a9889-6bcf-40e1-af2f-cceaa9b68bdc",
   "metadata": {
    "tags": []
   },
   "outputs": [],
   "source": [
    "def VegaLite(spec):\n",
    "    bundle = {}\n",
    "    bundle['application/vnd.vegalite.v4+json'] = spec\n",
    "    display(bundle, raw=True)\n",
    "from csv import DictReader\n",
    "\n",
    "pointcalls = []\n",
    "with open('../../data/navigo_all_pointcalls.csv', newline='') as csvfile:\n",
    "    reader = DictReader(csvfile)\n",
    "    for row in reader:\n",
    "        if row['date_fixed'].split('-')[0] == '1787' \\\n",
    "            and row['source_suite'] == \"G5\" \\\n",
    "            and row['pointcall_function'] == \"O\":\n",
    "           # and row['toponyme_fr'] == 'Marseille' \\\n",
    "            pointcalls.append(row)\n"
   ]
  },
  {
   "cell_type": "code",
   "execution_count": 2,
   "id": "149f2a34-819b-43af-856d-dbce1e67958a",
   "metadata": {
    "tags": []
   },
   "outputs": [],
   "source": [
    "from collections import defaultdict\n",
    "tonnage = defaultdict(float)\n",
    "\n",
    "for row in pointcalls:\n",
    "    if row[\"tonnage\"]:\n",
    "        tonnage[row[\"toponyme_fr\"]] += float(row[\"tonnage\"])\n",
    "    "
   ]
  },
  {
   "cell_type": "code",
   "execution_count": 3,
   "id": "544284c7-845b-4830-8271-ef5779fcde80",
   "metadata": {
    "tags": []
   },
   "outputs": [
    {
     "data": {
      "text/plain": [
       "defaultdict(float,\n",
       "            {'Dunkerque': 109038.0,\n",
       "             'Boulogne-sur-Mer': 24044.0,\n",
       "             'Granville': 22430.0,\n",
       "             'Calais': 28070.0,\n",
       "             'Le Croisic': 18717.0,\n",
       "             'Port-Bail': 3779.0,\n",
       "             'Barfleur': 1926.0,\n",
       "             'Dieppe': 42920.0,\n",
       "             'Marennes': 73139.0,\n",
       "             'Brest': 40916.0,\n",
       "             'Cherbourg': 40779.0,\n",
       "             'Saint-Malo': 50643.0,\n",
       "             'Rouen': 122202.0,\n",
       "             'La Hougue': 5750.0,\n",
       "             'Saint-Valery-sur-Somme': 19098.0,\n",
       "             'Le Havre': 219429.0,\n",
       "             'Marans': 13577.0,\n",
       "             'Rochefort': 28313.0,\n",
       "             'Ribérou': 7330.0,\n",
       "             'Lorient': 68277.0,\n",
       "             'Omonville': 78.0,\n",
       "             'Isigny': 5996.0,\n",
       "             'Le Tréport': 2302.0,\n",
       "             'Courtils': 592.0,\n",
       "             'île de Bouin': 5570.0,\n",
       "             'Beauvoir-sur-Mer': 3862.0,\n",
       "             'Bayonne': 41699.0,\n",
       "             'Landerneau': 3994.0,\n",
       "             'La Roche-Bernard': 996.0,\n",
       "             'Bordeaux': 260896.0,\n",
       "             \"Les Sables-d'Olonne\": 11992.0,\n",
       "             'Diélette': 314.0,\n",
       "             'Saint-Valery-en-Caux': 8096.0,\n",
       "             'Honfleur': 48393.0,\n",
       "             \"Baie d'Authie\": 92.0,\n",
       "             'Abbeville': 1660.0,\n",
       "             'Saint-Martin-de-Ré': 15909.0,\n",
       "             'La Rochelle': 62296.0,\n",
       "             'Nantes': 141995.0,\n",
       "             'Saint-Tropez': 17386.0,\n",
       "             'Saint-Pierre-et-Miquelon': 11579.0,\n",
       "             'Pont-Audemer': 1801.0,\n",
       "             'Moricq': 2719.0,\n",
       "             'Le Passage': 275.0,\n",
       "             'Roscoff': 5611.5,\n",
       "             'Tonnay-Charente': 32882.0,\n",
       "             'La Flotte-en-Ré': 4713.0,\n",
       "             'Ars-en-Ré': 28922.0,\n",
       "             'Étaples': 1182.0,\n",
       "             'Blaye': 3673.0,\n",
       "             'Ajaccio': 283.0,\n",
       "             'Grandcamp': 145.0,\n",
       "             'La Tremblade': 10929.0,\n",
       "             'Fécamp': 9688.0,\n",
       "             \"Saint-Denis d'Oléron\": 1534.0,\n",
       "             'Noirmoutier': 12603.0,\n",
       "             'Le Crotoy': 1423.0,\n",
       "             'Le Canet': 376.0,\n",
       "             'Bourgneuf': 1845.0,\n",
       "             'Royan': 382.0,\n",
       "             'Gravelines': 1999.0,\n",
       "             'La Teste': 605.0,\n",
       "             'Mesquer': 708.0,\n",
       "             'Socoa': 2686.0,\n",
       "             'Collioure': 13506.0,\n",
       "             'Aber-Ildut': 1269.0,\n",
       "             'Le Pouliguen': 4330.0,\n",
       "             'Soubise': 1217.0,\n",
       "             'La Perrotine': 1377.0,\n",
       "             \"Le Château-d'Oléron\": 884.0,\n",
       "             'Saint-Jean-de-Luz': 1569.0,\n",
       "             'Saint-Gilles-sur-Vie': 5108.0,\n",
       "             'Quillebeuf': 14149.0,\n",
       "             'Touques': 11161.0,\n",
       "             'Saint-Laurent-de-la-Salanque': 318.0,\n",
       "             'Chaillevette': 2077.5,\n",
       "             \"Saint-Michel-en-l'Herm\": 421.0,\n",
       "             'Le Conquet': 1140.0,\n",
       "             'Argenton': 275.0,\n",
       "             'Bourg': 110.0,\n",
       "             'La Tranche-sur-Mer': 557.0,\n",
       "             'Meschers': 25.0,\n",
       "             'Pornic': 285.0,\n",
       "             'Penpoul': 556.0,\n",
       "             'Talmont': 356.0,\n",
       "             'Harfleur': 2396.0,\n",
       "             'îles\\xa0Chausey': 232.0,\n",
       "             'Genêts': 39.0,\n",
       "             'Portsall': 204.0,\n",
       "             'Mortagne': 413.0,\n",
       "             'Saint-Nazaire': 654.0,\n",
       "             'Caudebec': 1907.0,\n",
       "             'Bastia': 478.0,\n",
       "             'Calvi': 60.0,\n",
       "             'Champagné-les-Marais': 117.0,\n",
       "             'Cayenne': 392.0,\n",
       "             'Esnandes': 28.0})"
      ]
     },
     "execution_count": 3,
     "metadata": {},
     "output_type": "execute_result"
    }
   ],
   "source": [
    "tonnage"
   ]
  },
  {
   "cell_type": "code",
   "execution_count": 4,
   "id": "90520490-ad5e-4351-822b-b11e9e25b79c",
   "metadata": {
    "tags": []
   },
   "outputs": [],
   "source": [
    "tonnage = sorted([{\"port\": k, \"tonnage\": v} for k, v in tonnage.items()], key=lambda x: x[\"tonnage\"], reverse=True)[:20]"
   ]
  },
  {
   "cell_type": "code",
   "execution_count": 5,
   "id": "530abd74-65a8-4d2f-9353-9c0dff9d2d41",
   "metadata": {
    "tags": []
   },
   "outputs": [
    {
     "data": {
      "application/vnd.vegalite.v4+json": {
       "$schema": "https://vega.github.io/schema/vega-lite/v5.json",
       "data": {
        "values": [
         {
          "port": "Bordeaux",
          "tonnage": 260896
         },
         {
          "port": "Le Havre",
          "tonnage": 219429
         },
         {
          "port": "Nantes",
          "tonnage": 141995
         },
         {
          "port": "Rouen",
          "tonnage": 122202
         },
         {
          "port": "Dunkerque",
          "tonnage": 109038
         },
         {
          "port": "Marennes",
          "tonnage": 73139
         },
         {
          "port": "Lorient",
          "tonnage": 68277
         },
         {
          "port": "La Rochelle",
          "tonnage": 62296
         },
         {
          "port": "Saint-Malo",
          "tonnage": 50643
         },
         {
          "port": "Honfleur",
          "tonnage": 48393
         },
         {
          "port": "Dieppe",
          "tonnage": 42920
         },
         {
          "port": "Bayonne",
          "tonnage": 41699
         },
         {
          "port": "Brest",
          "tonnage": 40916
         },
         {
          "port": "Cherbourg",
          "tonnage": 40779
         },
         {
          "port": "Tonnay-Charente",
          "tonnage": 32882
         },
         {
          "port": "Ars-en-Ré",
          "tonnage": 28922
         },
         {
          "port": "Rochefort",
          "tonnage": 28313
         },
         {
          "port": "Calais",
          "tonnage": 28070
         },
         {
          "port": "Boulogne-sur-Mer",
          "tonnage": 24044
         },
         {
          "port": "Granville",
          "tonnage": 22430
         }
        ]
       },
       "encoding": {
        "x": {
         "field": "tonnage",
         "title": "tonnage",
         "type": "quantitative"
        },
        "y": {
         "field": "port",
         "sort": "-x",
         "title": "port",
         "type": "nominal"
        }
       },
       "mark": "bar",
       "title": "Total des tonnages exportés en 1787"
      },
      "image/png": "[encoded data removed]"
     },
     "metadata": {},
     "output_type": "display_data"
    }
   ],
   "source": [
    "VegaLite({\n",
    "    \"$schema\": \"https://vega.github.io/schema/vega-lite/v5.json\",\n",
    "    \"title\": \"Total des tonnages exportés en 1787\",\n",
    "    \"mark\": \"bar\",\n",
    "    \"data\": {\n",
    "        \"values\": tonnage\n",
    "    },\n",
    "    \"encoding\": {\n",
    "        \"x\": {\n",
    "            \"field\": \"tonnage\",\n",
    "            \"type\": \"quantitative\", \n",
    "            \"title\": \"tonnage\"\n",
    "        },\n",
    "        \"y\": {\n",
    "            \"field\": \"port\",\n",
    "            \"type\": \"nominal\",\n",
    "            \"title\": \"port\",\n",
    "            \"sort\": \"-x\"\n",
    "        }\n",
    "    }\n",
    "})"
   ]
  },
  {
   "cell_type": "code",
   "execution_count": 6,
   "id": "2e471500-4c01-4ea0-bafa-9cdf05766397",
   "metadata": {
    "tags": []
   },
   "outputs": [
    {
     "name": "stdout",
     "output_type": "stream",
     "text": [
      "G5\n",
      "G5\n",
      "G5\n",
      "la Santé registre de patentes de Marseille\n",
      "G5\n"
     ]
    }
   ],
   "source": [
    "pointcalls = []\n",
    "with open('../../data/navigo_all_pointcalls.csv', newline='') as csvfile:\n",
    "    reader = DictReader(csvfile)\n",
    "    for enum, row in enumerate(reader):\n",
    "        if enum < 5:\n",
    "            print(row['source_suite'])\n",
    "        if row['date_fixed'].split('-')[0] == '1787' \\\n",
    "            and (row[\"source_suite\"] == \"Registre du petit cabotage (1786-1787)\" or \\\n",
    "                 row[\"source_suite\"] == \"la Santé registre de patentes de Marseille\") \\\n",
    "            and row['pointcall_function'] == \"O\" \\\n",
    "            and row['net_route_marker'] != \"Q\":\n",
    "            pointcalls.append(row)\n",
    "\n"
   ]
  },
  {
   "cell_type": "code",
   "execution_count": 7,
   "id": "a7e50ca7-afd9-4e8f-a3b4-d0d03af98910",
   "metadata": {
    "tags": []
   },
   "outputs": [],
   "source": [
    "source_suites = defaultdict(int)\n",
    "for row in pointcalls:\n",
    "    if row[\"source_suite\"]:\n",
    "        source_suites[row[\"source_suite\"]] += 1"
   ]
  },
  {
   "cell_type": "code",
   "execution_count": 8,
   "id": "fc278caa-bdd8-4eb5-a130-2bad591ea41b",
   "metadata": {
    "tags": []
   },
   "outputs": [
    {
     "data": {
      "text/plain": [
       "defaultdict(int,\n",
       "            {'Registre du petit cabotage (1786-1787)': 2359,\n",
       "             'la Santé registre de patentes de Marseille': 3296})"
      ]
     },
     "execution_count": 8,
     "metadata": {},
     "output_type": "execute_result"
    }
   ],
   "source": [
    "source_suites"
   ]
  },
  {
   "cell_type": "code",
   "execution_count": 9,
   "id": "67f2a77c-cbda-4454-9004-d70612bc1338",
   "metadata": {
    "tags": []
   },
   "outputs": [],
   "source": [
    "import pandas as pd\n",
    "\n",
    "TONNAGE_SPREADSHEET_URL = 'https://docs.google.com/spreadsheets/d/e/2PACX-1vTYdeIwpzaVpY_KS91cXiHxb309iYBS4JN_1_hW-_oyeysuwcIpC2VJ5fWeZJl4tA/pub?output=csv'\n",
    "estimation_tonnage = pd.read_csv(TONNAGE_SPREADSHEET_URL)"
   ]
  },
  {
   "cell_type": "code",
   "execution_count": 10,
   "id": "7b75dc43-56ab-40ac-b31d-b3b2bfda5849",
   "metadata": {
    "tags": []
   },
   "outputs": [
    {
     "data": {
      "text/plain": [
       "0       Tartane\n",
       "1       Tartane\n",
       "2        Chebec\n",
       "3       Tartane\n",
       "4        Bateau\n",
       "         ...   \n",
       "5650    Tartane\n",
       "5651     Pinque\n",
       "5652     Bateau\n",
       "5653     Allège\n",
       "5654     Bateau\n",
       "Name: ship_class_standardized, Length: 5655, dtype: object"
      ]
     },
     "execution_count": 10,
     "metadata": {},
     "output_type": "execute_result"
    }
   ],
   "source": [
    "entrees = pd.DataFrame(pointcalls)\n",
    "entrees[\"ship_class_standardized\"]"
   ]
  },
  {
   "cell_type": "code",
   "execution_count": 11,
   "id": "991825dd-ae4d-4b08-bb6f-b20a2b80c5c5",
   "metadata": {
    "tags": []
   },
   "outputs": [
    {
     "data": {
      "text/html": [
       "<div>\n",
       "<style scoped>\n",
       "    .dataframe tbody tr th:only-of-type {\n",
       "        vertical-align: middle;\n",
       "    }\n",
       "\n",
       "    .dataframe tbody tr th {\n",
       "        vertical-align: top;\n",
       "    }\n",
       "\n",
       "    .dataframe thead th {\n",
       "        text-align: right;\n",
       "    }\n",
       "</style>\n",
       "<table border=\"1\" class=\"dataframe\">\n",
       "  <thead>\n",
       "    <tr style=\"text-align: right;\">\n",
       "      <th></th>\n",
       "      <th>ship_class</th>\n",
       "      <th>tonnage_estime_en_tx</th>\n",
       "    </tr>\n",
       "  </thead>\n",
       "  <tbody>\n",
       "    <tr>\n",
       "      <th>0</th>\n",
       "      <td>Allège</td>\n",
       "      <td>100</td>\n",
       "    </tr>\n",
       "    <tr>\n",
       "      <th>3</th>\n",
       "      <td>Balandre</td>\n",
       "      <td>35</td>\n",
       "    </tr>\n",
       "    <tr>\n",
       "      <th>5</th>\n",
       "      <td>Barque</td>\n",
       "      <td>150</td>\n",
       "    </tr>\n",
       "    <tr>\n",
       "      <th>6</th>\n",
       "      <td>Bateau</td>\n",
       "      <td>5</td>\n",
       "    </tr>\n",
       "    <tr>\n",
       "      <th>7</th>\n",
       "      <td>Bâtiment</td>\n",
       "      <td>50</td>\n",
       "    </tr>\n",
       "    <tr>\n",
       "      <th>8</th>\n",
       "      <td>Bisque</td>\n",
       "      <td>20</td>\n",
       "    </tr>\n",
       "    <tr>\n",
       "      <th>9</th>\n",
       "      <td>Bombarde</td>\n",
       "      <td>140</td>\n",
       "    </tr>\n",
       "    <tr>\n",
       "      <th>10</th>\n",
       "      <td>Brick</td>\n",
       "      <td>100</td>\n",
       "    </tr>\n",
       "    <tr>\n",
       "      <th>11</th>\n",
       "      <td>Brigantin</td>\n",
       "      <td>150</td>\n",
       "    </tr>\n",
       "    <tr>\n",
       "      <th>12</th>\n",
       "      <td>Canary</td>\n",
       "      <td>15</td>\n",
       "    </tr>\n",
       "    <tr>\n",
       "      <th>15</th>\n",
       "      <td>Chaloupe</td>\n",
       "      <td>5</td>\n",
       "    </tr>\n",
       "    <tr>\n",
       "      <th>16</th>\n",
       "      <td>Chasse-marée</td>\n",
       "      <td>30</td>\n",
       "    </tr>\n",
       "    <tr>\n",
       "      <th>17</th>\n",
       "      <td>Chebec</td>\n",
       "      <td>100</td>\n",
       "    </tr>\n",
       "    <tr>\n",
       "      <th>18</th>\n",
       "      <td>Corvette</td>\n",
       "      <td>175</td>\n",
       "    </tr>\n",
       "    <tr>\n",
       "      <th>19</th>\n",
       "      <td>Cotre</td>\n",
       "      <td>25</td>\n",
       "    </tr>\n",
       "    <tr>\n",
       "      <th>20</th>\n",
       "      <td>Dogre</td>\n",
       "      <td>130</td>\n",
       "    </tr>\n",
       "    <tr>\n",
       "      <th>22</th>\n",
       "      <td>Felouque</td>\n",
       "      <td>10</td>\n",
       "    </tr>\n",
       "    <tr>\n",
       "      <th>23</th>\n",
       "      <td>Filadière</td>\n",
       "      <td>2</td>\n",
       "    </tr>\n",
       "    <tr>\n",
       "      <th>24</th>\n",
       "      <td>Floger</td>\n",
       "      <td>10</td>\n",
       "    </tr>\n",
       "    <tr>\n",
       "      <th>25</th>\n",
       "      <td>Flûte</td>\n",
       "      <td>250</td>\n",
       "    </tr>\n",
       "    <tr>\n",
       "      <th>26</th>\n",
       "      <td>Frégate</td>\n",
       "      <td>250</td>\n",
       "    </tr>\n",
       "    <tr>\n",
       "      <th>27</th>\n",
       "      <td>Gabare</td>\n",
       "      <td>20</td>\n",
       "    </tr>\n",
       "    <tr>\n",
       "      <th>28</th>\n",
       "      <td>Galiote</td>\n",
       "      <td>130</td>\n",
       "    </tr>\n",
       "    <tr>\n",
       "      <th>29</th>\n",
       "      <td>Garde-côte</td>\n",
       "      <td>10</td>\n",
       "    </tr>\n",
       "    <tr>\n",
       "      <th>30</th>\n",
       "      <td>Goelette</td>\n",
       "      <td>50</td>\n",
       "    </tr>\n",
       "    <tr>\n",
       "      <th>31</th>\n",
       "      <td>Gondole</td>\n",
       "      <td>5</td>\n",
       "    </tr>\n",
       "    <tr>\n",
       "      <th>32</th>\n",
       "      <td>Hourque</td>\n",
       "      <td>20</td>\n",
       "    </tr>\n",
       "    <tr>\n",
       "      <th>35</th>\n",
       "      <td>Leuto</td>\n",
       "      <td>15</td>\n",
       "    </tr>\n",
       "    <tr>\n",
       "      <th>36</th>\n",
       "      <td>liuto</td>\n",
       "      <td>NaN</td>\n",
       "    </tr>\n",
       "    <tr>\n",
       "      <th>38</th>\n",
       "      <td>Lougre</td>\n",
       "      <td>10</td>\n",
       "    </tr>\n",
       "    <tr>\n",
       "      <th>39</th>\n",
       "      <td>Navire</td>\n",
       "      <td>150</td>\n",
       "    </tr>\n",
       "    <tr>\n",
       "      <th>41</th>\n",
       "      <td>Patache</td>\n",
       "      <td>50</td>\n",
       "    </tr>\n",
       "    <tr>\n",
       "      <th>43</th>\n",
       "      <td>Pinque</td>\n",
       "      <td>80</td>\n",
       "    </tr>\n",
       "    <tr>\n",
       "      <th>44</th>\n",
       "      <td>Polacre</td>\n",
       "      <td>160</td>\n",
       "    </tr>\n",
       "    <tr>\n",
       "      <th>45</th>\n",
       "      <td>Queche</td>\n",
       "      <td>140</td>\n",
       "    </tr>\n",
       "    <tr>\n",
       "      <th>47</th>\n",
       "      <td>Senau</td>\n",
       "      <td>150</td>\n",
       "    </tr>\n",
       "    <tr>\n",
       "      <th>48</th>\n",
       "      <td>Sloop</td>\n",
       "      <td>30</td>\n",
       "    </tr>\n",
       "    <tr>\n",
       "      <th>49</th>\n",
       "      <td>Smack</td>\n",
       "      <td>75</td>\n",
       "    </tr>\n",
       "    <tr>\n",
       "      <th>50</th>\n",
       "      <td>Tartane</td>\n",
       "      <td>50</td>\n",
       "    </tr>\n",
       "    <tr>\n",
       "      <th>51</th>\n",
       "      <td>Tiake</td>\n",
       "      <td>70</td>\n",
       "    </tr>\n",
       "    <tr>\n",
       "      <th>52</th>\n",
       "      <td>Trabaccolo</td>\n",
       "      <td>120</td>\n",
       "    </tr>\n",
       "    <tr>\n",
       "      <th>53</th>\n",
       "      <td>Vaisseau</td>\n",
       "      <td>300</td>\n",
       "    </tr>\n",
       "  </tbody>\n",
       "</table>\n",
       "</div>"
      ],
      "text/plain": [
       "      ship_class tonnage_estime_en_tx\n",
       "0         Allège                  100\n",
       "3       Balandre                   35\n",
       "5         Barque                  150\n",
       "6         Bateau                    5\n",
       "7       Bâtiment                   50\n",
       "8         Bisque                   20\n",
       "9       Bombarde                  140\n",
       "10         Brick                  100\n",
       "11     Brigantin                  150\n",
       "12        Canary                   15\n",
       "15      Chaloupe                    5\n",
       "16  Chasse-marée                   30\n",
       "17        Chebec                  100\n",
       "18      Corvette                  175\n",
       "19         Cotre                   25\n",
       "20         Dogre                  130\n",
       "22      Felouque                   10\n",
       "23     Filadière                    2\n",
       "24        Floger                   10\n",
       "25         Flûte                  250\n",
       "26       Frégate                  250\n",
       "27        Gabare                   20\n",
       "28       Galiote                  130\n",
       "29    Garde-côte                   10\n",
       "30      Goelette                   50\n",
       "31       Gondole                    5\n",
       "32       Hourque                   20\n",
       "35         Leuto                   15\n",
       "36         liuto                  NaN\n",
       "38        Lougre                   10\n",
       "39        Navire                  150\n",
       "41       Patache                   50\n",
       "43        Pinque                   80\n",
       "44       Polacre                  160\n",
       "45        Queche                  140\n",
       "47         Senau                  150\n",
       "48         Sloop                   30\n",
       "49         Smack                   75\n",
       "50       Tartane                   50\n",
       "51         Tiake                   70\n",
       "52    Trabaccolo                  120\n",
       "53      Vaisseau                  300"
      ]
     },
     "execution_count": 11,
     "metadata": {},
     "output_type": "execute_result"
    }
   ],
   "source": [
    "estimation_tonnage = estimation_tonnage[estimation_tonnage.tonnage_estime_en_tx != \"No data\"]\n",
    "estimation_tonnage"
   ]
  },
  {
   "cell_type": "code",
   "execution_count": 12,
   "id": "2f13021f-a041-43b5-9998-7d6f2548ffa0",
   "metadata": {
    "tags": []
   },
   "outputs": [],
   "source": [
    "jointure = entrees.merge(estimation_tonnage, \n",
    "                           left_on=\"ship_class_standardized\",\n",
    "                           right_on=\"ship_class\",\n",
    "                           how=\"left\")"
   ]
  },
  {
   "cell_type": "code",
   "execution_count": 13,
   "id": "8a33a88e-5adf-47e0-9454-63cd16df27a2",
   "metadata": {
    "tags": []
   },
   "outputs": [
    {
     "data": {
      "text/plain": [
       "50     2339\n",
       "5      1416\n",
       "150     684\n",
       "100     329\n",
       "80      317\n",
       "300     221\n",
       "10      133\n",
       "160      80\n",
       "175      58\n",
       "140      47\n",
       "130      13\n",
       "250       3\n",
       "Name: tonnage_estime_en_tx, dtype: int64"
      ]
     },
     "execution_count": 13,
     "metadata": {},
     "output_type": "execute_result"
    }
   ],
   "source": [
    "jointure.tonnage_estime_en_tx.value_counts()"
   ]
  },
  {
   "cell_type": "code",
   "execution_count": 26,
   "id": "73c478c3-af89-4db6-a7cb-0117d2e83b5e",
   "metadata": {
    "tags": []
   },
   "outputs": [
    {
     "data": {
      "text/plain": [
       "585     Galéasse\n",
       "710        Côtre\n",
       "1347      Londro\n",
       "1633       Canot\n",
       "2297       Côtre\n",
       "2474            \n",
       "2613            \n",
       "2721            \n",
       "2723            \n",
       "2724            \n",
       "2725            \n",
       "2848       Canot\n",
       "3206       Côtre\n",
       "3294            \n",
       "3559       Côtre\n",
       "Name: ship_class_standardized, dtype: object"
      ]
     },
     "execution_count": 26,
     "metadata": {},
     "output_type": "execute_result"
    }
   ],
   "source": [
    "jointure[jointure.tonnage_estime_en_tx.isna()].ship_class_standardized"
   ]
  },
  {
   "cell_type": "code",
   "execution_count": 14,
   "id": "d20a1f03-5627-4a22-a5c9-961ef18725b3",
   "metadata": {
    "tags": []
   },
   "outputs": [],
   "source": [
    "mean = jointure[jointure.tonnage_estime_en_tx.notna()].tonnage_estime_en_tx.astype(int).mean()"
   ]
  },
  {
   "cell_type": "code",
   "execution_count": 24,
   "id": "a808a0d3-ff7a-41e5-b9d4-b091d282ebdb",
   "metadata": {
    "tags": []
   },
   "outputs": [
    {
     "data": {
      "text/plain": [
       "68.17198581560284"
      ]
     },
     "execution_count": 24,
     "metadata": {},
     "output_type": "execute_result"
    }
   ],
   "source": [
    "mean"
   ]
  },
  {
   "cell_type": "code",
   "execution_count": 15,
   "id": "7594fa03-8d8c-4abb-9163-68053800e2ec",
   "metadata": {
    "tags": []
   },
   "outputs": [],
   "source": [
    "jointure[\"tonnage_corrige\"] = jointure.tonnage_estime_en_tx.fillna(mean).astype(int)"
   ]
  },
  {
   "cell_type": "code",
   "execution_count": 16,
   "id": "eb7407f4-4f63-4ba7-ad70-94e59cab3196",
   "metadata": {
    "tags": []
   },
   "outputs": [
    {
     "data": {
      "text/plain": [
       "dtype('int64')"
      ]
     },
     "execution_count": 16,
     "metadata": {},
     "output_type": "execute_result"
    }
   ],
   "source": [
    "jointure[\"tonnage_corrige\"].dtype"
   ]
  },
  {
   "cell_type": "code",
   "execution_count": 17,
   "id": "92519e77-1dfc-4c0b-b3c3-e8275c16b37d",
   "metadata": {
    "tags": []
   },
   "outputs": [],
   "source": [
    "tonnage_total_Marseille = jointure.groupby(\"toponyme_fr\")[\"tonnage_corrige\"].sum()[0]"
   ]
  },
  {
   "cell_type": "code",
   "execution_count": 18,
   "id": "f4bb3877-fbd9-4ca5-a898-4f0d34e078d4",
   "metadata": {
    "tags": []
   },
   "outputs": [
    {
     "data": {
      "text/plain": [
       "385510"
      ]
     },
     "execution_count": 18,
     "metadata": {},
     "output_type": "execute_result"
    }
   ],
   "source": [
    "tonnage_total_Marseille"
   ]
  },
  {
   "cell_type": "code",
   "execution_count": 19,
   "id": "ced9cd92-6c4b-4554-a0a2-875a31074943",
   "metadata": {
    "tags": []
   },
   "outputs": [],
   "source": [
    "for row in tonnage:\n",
    "    row[\"color\"] = \"sorties\""
   ]
  },
  {
   "cell_type": "code",
   "execution_count": 20,
   "id": "3377de9b-8354-4468-b0ae-ed1e24725126",
   "metadata": {
    "tags": []
   },
   "outputs": [],
   "source": [
    "tonnage.append({\"port\": \"Marseille\", \"tonnage\": tonnage_total_Marseille, \"color\": \"entrées - tonnage estimé\"})"
   ]
  },
  {
   "cell_type": "code",
   "execution_count": 21,
   "id": "23fce66f-71be-4516-bcd9-0857c2d45cde",
   "metadata": {
    "tags": []
   },
   "outputs": [
    {
     "data": {
      "text/plain": [
       "[{'port': 'Bordeaux', 'tonnage': 260896.0, 'color': 'sorties'},\n",
       " {'port': 'Le Havre', 'tonnage': 219429.0, 'color': 'sorties'},\n",
       " {'port': 'Nantes', 'tonnage': 141995.0, 'color': 'sorties'},\n",
       " {'port': 'Rouen', 'tonnage': 122202.0, 'color': 'sorties'},\n",
       " {'port': 'Dunkerque', 'tonnage': 109038.0, 'color': 'sorties'},\n",
       " {'port': 'Marennes', 'tonnage': 73139.0, 'color': 'sorties'},\n",
       " {'port': 'Lorient', 'tonnage': 68277.0, 'color': 'sorties'},\n",
       " {'port': 'La Rochelle', 'tonnage': 62296.0, 'color': 'sorties'},\n",
       " {'port': 'Saint-Malo', 'tonnage': 50643.0, 'color': 'sorties'},\n",
       " {'port': 'Honfleur', 'tonnage': 48393.0, 'color': 'sorties'},\n",
       " {'port': 'Dieppe', 'tonnage': 42920.0, 'color': 'sorties'},\n",
       " {'port': 'Bayonne', 'tonnage': 41699.0, 'color': 'sorties'},\n",
       " {'port': 'Brest', 'tonnage': 40916.0, 'color': 'sorties'},\n",
       " {'port': 'Cherbourg', 'tonnage': 40779.0, 'color': 'sorties'},\n",
       " {'port': 'Tonnay-Charente', 'tonnage': 32882.0, 'color': 'sorties'},\n",
       " {'port': 'Ars-en-Ré', 'tonnage': 28922.0, 'color': 'sorties'},\n",
       " {'port': 'Rochefort', 'tonnage': 28313.0, 'color': 'sorties'},\n",
       " {'port': 'Calais', 'tonnage': 28070.0, 'color': 'sorties'},\n",
       " {'port': 'Boulogne-sur-Mer', 'tonnage': 24044.0, 'color': 'sorties'},\n",
       " {'port': 'Granville', 'tonnage': 22430.0, 'color': 'sorties'},\n",
       " {'port': 'Marseille', 'tonnage': 385510, 'color': 'entrées - tonnage estimé'}]"
      ]
     },
     "execution_count": 21,
     "metadata": {},
     "output_type": "execute_result"
    }
   ],
   "source": [
    "tonnage"
   ]
  },
  {
   "cell_type": "code",
   "execution_count": 23,
   "id": "11767d6b-25ac-411b-a551-b60b2aed57f7",
   "metadata": {
    "tags": []
   },
   "outputs": [
    {
     "data": {
      "application/vnd.vegalite.v4+json": {
       "$schema": "https://vega.github.io/schema/vega-lite/v5.json",
       "data": {
        "values": [
         {
          "color": "sorties",
          "port": "Bordeaux",
          "tonnage": 260896
         },
         {
          "color": "sorties",
          "port": "Le Havre",
          "tonnage": 219429
         },
         {
          "color": "sorties",
          "port": "Nantes",
          "tonnage": 141995
         },
         {
          "color": "sorties",
          "port": "Rouen",
          "tonnage": 122202
         },
         {
          "color": "sorties",
          "port": "Dunkerque",
          "tonnage": 109038
         },
         {
          "color": "sorties",
          "port": "Marennes",
          "tonnage": 73139
         },
         {
          "color": "sorties",
          "port": "Lorient",
          "tonnage": 68277
         },
         {
          "color": "sorties",
          "port": "La Rochelle",
          "tonnage": 62296
         },
         {
          "color": "sorties",
          "port": "Saint-Malo",
          "tonnage": 50643
         },
         {
          "color": "sorties",
          "port": "Honfleur",
          "tonnage": 48393
         },
         {
          "color": "sorties",
          "port": "Dieppe",
          "tonnage": 42920
         },
         {
          "color": "sorties",
          "port": "Bayonne",
          "tonnage": 41699
         },
         {
          "color": "sorties",
          "port": "Brest",
          "tonnage": 40916
         },
         {
          "color": "sorties",
          "port": "Cherbourg",
          "tonnage": 40779
         },
         {
          "color": "sorties",
          "port": "Tonnay-Charente",
          "tonnage": 32882
         },
         {
          "color": "sorties",
          "port": "Ars-en-Ré",
          "tonnage": 28922
         },
         {
          "color": "sorties",
          "port": "Rochefort",
          "tonnage": 28313
         },
         {
          "color": "sorties",
          "port": "Calais",
          "tonnage": 28070
         },
         {
          "color": "sorties",
          "port": "Boulogne-sur-Mer",
          "tonnage": 24044
         },
         {
          "color": "sorties",
          "port": "Granville",
          "tonnage": 22430
         },
         {
          "color": "entrées - tonnage estimé",
          "port": "Marseille",
          "tonnage": 385510
         }
        ]
       },
       "encoding": {
        "color": {
         "field": "color"
        },
        "x": {
         "field": "tonnage",
         "title": "tonnage",
         "type": "quantitative"
        },
        "y": {
         "field": "port",
         "sort": "-x",
         "title": "port",
         "type": "nominal"
        }
       },
       "mark": "bar",
       "title": "Comparaison des tonnages en 1787"
      },
      "image/png": "[encoded data removed]"
     },
     "metadata": {},
     "output_type": "display_data"
    }
   ],
   "source": [
    "VegaLite({\n",
    "    \"$schema\": \"https://vega.github.io/schema/vega-lite/v5.json\",\n",
    "    \"title\": \"Comparaison des tonnages en 1787\",\n",
    "    \"mark\": \"bar\",\n",
    "    \"data\": {\n",
    "        \"values\": tonnage\n",
    "    },\n",
    "    \"encoding\": {\n",
    "        \"x\": {\n",
    "            \"field\": \"tonnage\",\n",
    "            \"type\": \"quantitative\", \n",
    "            \"title\": \"tonnage\"\n",
    "        },\n",
    "        \"y\": {\n",
    "            \"field\": \"port\",\n",
    "            \"type\": \"nominal\",\n",
    "            \"title\": \"port\",\n",
    "            \"sort\": \"-x\"\n",
    "        },\n",
    "        \"color\": {\"field\": \"color\"}\n",
    "    }\n",
    "})"
   ]
  },
  {
   "cell_type": "code",
   "execution_count": null,
   "id": "9857ebdb-3685-4eae-b1a4-97faa3502781",
   "metadata": {},
   "outputs": [],
   "source": []
  }
 ],
 "metadata": {
  "kernelspec": {
   "display_name": "Python 3 (ipykernel)",
   "language": "python",
   "name": "python3"
  },
  "language_info": {
   "codemirror_mode": {
    "name": "ipython",
    "version": 3
   },
   "file_extension": ".py",
   "mimetype": "text/x-python",
   "name": "python",
   "nbconvert_exporter": "python",
   "pygments_lexer": "ipython3",
   "version": "3.8.2"
  }
 },
 "nbformat": 4,
 "nbformat_minor": 5
}
