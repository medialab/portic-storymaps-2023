{
 "cells": [
  {
   "cell_type": "code",
   "execution_count": null,
   "id": "c63a9889-6bcf-40e1-af2f-cceaa9b68bdc",
   "metadata": {
    "tags": []
   },
   "outputs": [],
   "source": [
    "def VegaLite(spec):\n",
    "    bundle = {}\n",
    "    bundle['application/vnd.vegalite.v4+json'] = spec\n",
    "    display(bundle, raw=True)\n",
    "from csv import DictReader\n",
    "\n",
    "pointcalls = []\n",
    "with open('../../data/navigo_all_pointcalls.csv', newline='') as csvfile:\n",
    "    reader = DictReader(csvfile)\n",
    "    for row in reader:\n",
    "        if row['date_fixed'].split('-')[0] == '1787' \\\n",
    "            and row['source_suite'] == \"G5\" \\\n",
    "            and row['pointcall_function'] == \"O\":\n",
    "           # and row['toponyme_fr'] == 'Marseille' \\\n",
    "            pointcalls.append(row)\n"
   ]
  },
  {
   "cell_type": "code",
   "execution_count": null,
   "id": "149f2a34-819b-43af-856d-dbce1e67958a",
   "metadata": {
    "tags": []
   },
   "outputs": [],
   "source": [
    "from collections import defaultdict\n",
    "tonnage = defaultdict(float)\n",
    "\n",
    "for row in pointcalls:\n",
    "    if row[\"tonnage\"]:\n",
    "        tonnage[row[\"toponyme_fr\"]] += float(row[\"tonnage\"])\n",
    "    "
   ]
  },
  {
   "cell_type": "code",
   "execution_count": null,
   "id": "544284c7-845b-4830-8271-ef5779fcde80",
   "metadata": {
    "tags": []
   },
   "outputs": [],
   "source": [
    "tonnage"
   ]
  },
  {
   "cell_type": "code",
   "execution_count": null,
   "id": "90520490-ad5e-4351-822b-b11e9e25b79c",
   "metadata": {
    "tags": []
   },
   "outputs": [],
   "source": [
    "tonnage = sorted([{\"port\": k, \"tonnage\": v} for k, v in tonnage.items()], key=lambda x: x[\"tonnage\"], reverse=True)[:20]"
   ]
  },
  {
   "cell_type": "code",
   "execution_count": null,
   "id": "530abd74-65a8-4d2f-9353-9c0dff9d2d41",
   "metadata": {
    "tags": []
   },
   "outputs": [],
   "source": [
    "VegaLite({\n",
    "    \"$schema\": \"https://vega.github.io/schema/vega-lite/v5.json\",\n",
    "    \"title\": \"Total des tonnages exportés en 1787\",\n",
    "    \"mark\": \"bar\",\n",
    "    \"data\": {\n",
    "        \"values\": tonnage\n",
    "    },\n",
    "    \"encoding\": {\n",
    "        \"x\": {\n",
    "            \"field\": \"tonnage\",\n",
    "            \"type\": \"quantitative\", \n",
    "            \"title\": \"tonnage\"\n",
    "        },\n",
    "        \"y\": {\n",
    "            \"field\": \"port\",\n",
    "            \"type\": \"nominal\",\n",
    "            \"title\": \"port\",\n",
    "            \"sort\": \"-x\"\n",
    "        }\n",
    "    }\n",
    "})"
   ]
  },
  {
   "cell_type": "code",
   "execution_count": null,
   "id": "2e471500-4c01-4ea0-bafa-9cdf05766397",
   "metadata": {
    "tags": []
   },
   "outputs": [],
   "source": [
    "pointcalls = []\n",
    "with open('../../data/navigo_all_pointcalls.csv', newline='') as csvfile:\n",
    "    reader = DictReader(csvfile)\n",
    "    for enum, row in enumerate(reader):\n",
    "        if enum < 5:\n",
    "            print(row['source_suite'])\n",
    "        if row['date_fixed'].split('-')[0] == '1787' \\\n",
    "            and (row[\"source_suite\"] == \"Registre du petit cabotage (1786-1787)\" or \\\n",
    "                 row[\"source_suite\"] == \"la Santé registre de patentes de Marseille\") \\\n",
    "            and row['pointcall_function'] == \"O\" \\\n",
    "            and row['net_route_marker'] != \"Q\":\n",
    "            pointcalls.append(row)\n",
    "\n"
   ]
  },
  {
   "cell_type": "code",
   "execution_count": null,
   "id": "a7e50ca7-afd9-4e8f-a3b4-d0d03af98910",
   "metadata": {
    "tags": []
   },
   "outputs": [],
   "source": [
    "source_suites = defaultdict(int)\n",
    "for row in pointcalls:\n",
    "    if row[\"source_suite\"]:\n",
    "        source_suites[row[\"source_suite\"]] += 1"
   ]
  },
  {
   "cell_type": "code",
   "execution_count": null,
   "id": "fc278caa-bdd8-4eb5-a130-2bad591ea41b",
   "metadata": {
    "tags": []
   },
   "outputs": [],
   "source": [
    "source_suites"
   ]
  },
  {
   "cell_type": "code",
   "execution_count": null,
   "id": "67f2a77c-cbda-4454-9004-d70612bc1338",
   "metadata": {
    "tags": []
   },
   "outputs": [],
   "source": [
    "import pandas as pd\n",
    "\n",
    "TONNAGE_SPREADSHEET_URL = 'https://docs.google.com/spreadsheets/d/e/2PACX-1vTYdeIwpzaVpY_KS91cXiHxb309iYBS4JN_1_hW-_oyeysuwcIpC2VJ5fWeZJl4tA/pub?output=csv'\n",
    "estimation_tonnage = pd.read_csv(TONNAGE_SPREADSHEET_URL)"
   ]
  },
  {
   "cell_type": "code",
   "execution_count": null,
   "id": "7b75dc43-56ab-40ac-b31d-b3b2bfda5849",
   "metadata": {
    "tags": []
   },
   "outputs": [],
   "source": [
    "entrees = pd.DataFrame(pointcalls)\n",
    "entrees[\"ship_class_standardized\"]"
   ]
  },
  {
   "cell_type": "code",
   "execution_count": null,
   "id": "991825dd-ae4d-4b08-bb6f-b20a2b80c5c5",
   "metadata": {
    "tags": []
   },
   "outputs": [],
   "source": [
    "estimation_tonnage = estimation_tonnage[estimation_tonnage.tonnage_estime_en_tx != \"No data\"]\n",
    "estimation_tonnage"
   ]
  },
  {
   "cell_type": "code",
   "execution_count": null,
   "id": "2f13021f-a041-43b5-9998-7d6f2548ffa0",
   "metadata": {
    "tags": []
   },
   "outputs": [],
   "source": [
    "jointure = entrees.merge(estimation_tonnage, \n",
    "                           left_on=\"ship_class_standardized\",\n",
    "                           right_on=\"ship_class\",\n",
    "                           how=\"left\")"
   ]
  },
  {
   "cell_type": "code",
   "execution_count": null,
   "id": "8a33a88e-5adf-47e0-9454-63cd16df27a2",
   "metadata": {
    "tags": []
   },
   "outputs": [],
   "source": [
    "jointure.tonnage_estime_en_tx.value_counts()"
   ]
  },
  {
   "cell_type": "code",
   "execution_count": null,
   "id": "73c478c3-af89-4db6-a7cb-0117d2e83b5e",
   "metadata": {
    "tags": []
   },
   "outputs": [],
   "source": [
    "jointure[jointure.tonnage_estime_en_tx.isna()].ship_class_standardized"
   ]
  },
  {
   "cell_type": "code",
   "execution_count": null,
   "id": "d20a1f03-5627-4a22-a5c9-961ef18725b3",
   "metadata": {
    "tags": []
   },
   "outputs": [],
   "source": [
    "mean = jointure[jointure.tonnage_estime_en_tx.notna()].tonnage_estime_en_tx.astype(int).mean()"
   ]
  },
  {
   "cell_type": "code",
   "execution_count": null,
   "id": "a808a0d3-ff7a-41e5-b9d4-b091d282ebdb",
   "metadata": {
    "tags": []
   },
   "outputs": [],
   "source": [
    "mean"
   ]
  },
  {
   "cell_type": "code",
   "execution_count": null,
   "id": "7594fa03-8d8c-4abb-9163-68053800e2ec",
   "metadata": {
    "tags": []
   },
   "outputs": [],
   "source": [
    "jointure[\"tonnage_corrige\"] = jointure.tonnage_estime_en_tx.fillna(mean).astype(int)"
   ]
  },
  {
   "cell_type": "code",
   "execution_count": null,
   "id": "eb7407f4-4f63-4ba7-ad70-94e59cab3196",
   "metadata": {
    "tags": []
   },
   "outputs": [],
   "source": [
    "jointure[\"tonnage_corrige\"].dtype"
   ]
  },
  {
   "cell_type": "code",
   "execution_count": null,
   "id": "92519e77-1dfc-4c0b-b3c3-e8275c16b37d",
   "metadata": {
    "tags": []
   },
   "outputs": [],
   "source": [
    "tonnage_total_Marseille = jointure.groupby(\"toponyme_fr\")[\"tonnage_corrige\"].sum()[0]"
   ]
  },
  {
   "cell_type": "code",
   "execution_count": null,
   "id": "f4bb3877-fbd9-4ca5-a898-4f0d34e078d4",
   "metadata": {
    "tags": []
   },
   "outputs": [],
   "source": [
    "tonnage_total_Marseille"
   ]
  },
  {
   "cell_type": "code",
   "execution_count": null,
   "id": "ced9cd92-6c4b-4554-a0a2-875a31074943",
   "metadata": {
    "tags": []
   },
   "outputs": [],
   "source": [
    "for row in tonnage:\n",
    "    row[\"color\"] = \"sorties\""
   ]
  },
  {
   "cell_type": "code",
   "execution_count": null,
   "id": "3377de9b-8354-4468-b0ae-ed1e24725126",
   "metadata": {
    "tags": []
   },
   "outputs": [],
   "source": [
    "tonnage.append({\"port\": \"Marseille\", \"tonnage\": tonnage_total_Marseille, \"color\": \"entrées - tonnage estimé\"})"
   ]
  },
  {
   "cell_type": "code",
   "execution_count": null,
   "id": "23fce66f-71be-4516-bcd9-0857c2d45cde",
   "metadata": {
    "tags": []
   },
   "outputs": [],
   "source": [
    "tonnage"
   ]
  },
  {
   "cell_type": "code",
   "execution_count": null,
   "id": "11767d6b-25ac-411b-a551-b60b2aed57f7",
   "metadata": {
    "tags": []
   },
   "outputs": [],
   "source": [
    "VegaLite({\n",
    "    \"$schema\": \"https://vega.github.io/schema/vega-lite/v5.json\",\n",
    "    \"title\": \"Comparaison des tonnages en 1787\",\n",
    "    \"mark\": \"bar\",\n",
    "    \"data\": {\n",
    "        \"values\": tonnage\n",
    "    },\n",
    "    \"encoding\": {\n",
    "        \"x\": {\n",
    "            \"field\": \"tonnage\",\n",
    "            \"type\": \"quantitative\", \n",
    "            \"title\": \"tonnage\"\n",
    "        },\n",
    "        \"y\": {\n",
    "            \"field\": \"port\",\n",
    "            \"type\": \"nominal\",\n",
    "            \"title\": \"port\",\n",
    "            \"sort\": \"-x\"\n",
    "        },\n",
    "        \"color\": {\"field\": \"color\"}\n",
    "    }\n",
    "})"
   ]
  },
  {
   "cell_type": "code",
   "execution_count": null,
   "id": "9857ebdb-3685-4eae-b1a4-97faa3502781",
   "metadata": {},
   "outputs": [],
   "source": []
  }
 ],
 "metadata": {
  "kernelspec": {
   "display_name": "Python 3 (ipykernel)",
   "language": "python",
   "name": "python3"
  },
  "language_info": {
   "codemirror_mode": {
    "name": "ipython",
    "version": 3
   },
   "file_extension": ".py",
   "mimetype": "text/x-python",
   "name": "python",
   "nbconvert_exporter": "python",
   "pygments_lexer": "ipython3",
   "version": "3.8.2"
  }
 },
 "nbformat": 4,
 "nbformat_minor": 5
}
