{
 "cells": [
  {
   "cell_type": "code",
   "execution_count": null,
   "id": "db9be740-5af1-41fb-afad-0a0fc49ded59",
   "metadata": {
    "tags": []
   },
   "outputs": [],
   "source": [
    "# pip install duckdb==0.7.0"
   ]
  },
  {
   "cell_type": "code",
   "execution_count": 26,
   "id": "ca2c8bbe",
   "metadata": {},
   "outputs": [],
   "source": [
    "from IPython.display import display\n",
    "import altair as alt\n",
    "\n",
    "def VegaLite(spec):\n",
    "    bundle = {}\n",
    "    bundle['application/vnd.vegalite.v4+json'] = spec\n",
    "    display(bundle, raw=True)"
   ]
  },
  {
   "attachments": {},
   "cell_type": "markdown",
   "id": "21a931dd",
   "metadata": {},
   "source": [
    "# Récupérer les données"
   ]
  },
  {
   "cell_type": "code",
   "execution_count": 27,
   "id": "1f44a6b0",
   "metadata": {},
   "outputs": [
    {
     "data": {
      "text/plain": [
       "┌──────────────────────┬──────────┬──────────────────────┬───┬──────────────────────┬──────────────────────┐\n",
       "│    customs_office    │  value   │   partner_grouping   │ … │ product_sitc_simplEN │ partner_simplifica…  │\n",
       "│       varchar        │  float   │       varchar        │   │       varchar        │       varchar        │\n",
       "├──────────────────────┼──────────┼──────────────────────┼───┼──────────────────────┼──────────────────────┤\n",
       "│ Dunkerque-Basseville │  14482.5 │ Divers               │ … │ Chemical products    │ Monde via Dunkerque  │\n",
       "│ Dunkerque-Basseville │  81015.5 │ Divers               │ … │ Other foodstuffs a…  │ Monde via Dunkerque  │\n",
       "│ Dunkerque-Basseville │ 200467.5 │ Divers               │ … │ Leather, wood and …  │ Monde via Dunkerque  │\n",
       "│ Dunkerque-Basseville │    180.0 │ Divers               │ … │ Chemical products    │ Monde via Dunkerque  │\n",
       "│ Dunkerque-Basseville │   5700.0 │ Divers               │ … │ Other industrial p…  │ Monde via Dunkerque  │\n",
       "│ Dunkerque-Basseville │    450.0 │ Divers               │ … │ Leather, wood and …  │ Monde via Dunkerque  │\n",
       "│ Dunkerque-Basseville │   2018.4 │ Divers               │ … │ Other industrial p…  │ Monde via Dunkerque  │\n",
       "│ Dunkerque-Basseville │     34.0 │ Divers               │ … │ Leather, wood and …  │ Monde via Dunkerque  │\n",
       "│ Dunkerque-Basseville │   1944.0 │ Divers               │ … │ Other industrial p…  │ Monde via Dunkerque  │\n",
       "│ Dunkerque-Basseville │    168.0 │ Divers               │ … │ Coton threads and …  │ Monde via Dunkerque  │\n",
       "│   ·                  │      ·   │   ·                  │ · │   ·                  │          ·           │\n",
       "│   ·                  │      ·   │   ·                  │ · │   ·                  │          ·           │\n",
       "│   ·                  │      ·   │   ·                  │ · │   ·                  │          ·           │\n",
       "│ Rocroy               │    200.0 │ Flandre et autres …  │ … │ Other                │ États de l'Empereur  │\n",
       "│ Rocroy               │    797.0 │ Allemagne            │ … │ Other industrial p…  │ Allemagne et Pologne │\n",
       "│ Rocroy               │   1006.0 │ Allemagne            │ … │ Other industrial p…  │ Allemagne et Pologne │\n",
       "│ Rocroy               │   4100.0 │ Flandre et autres …  │ … │ Other                │ États de l'Empereur  │\n",
       "│ Rocroy               │    756.0 │ Flandre et autres …  │ … │ Other industrial p…  │ États de l'Empereur  │\n",
       "│ Rocroy               │   1472.0 │ Allemagne            │ … │ Wool threads and f…  │ Allemagne et Pologne │\n",
       "│ Rocroy               │   2628.0 │ Flandre et autres …  │ … │ Wool threads and f…  │ États de l'Empereur  │\n",
       "│ Rocroy               │   2985.0 │ Allemagne            │ … │ Wool threads and f…  │ Allemagne et Pologne │\n",
       "│ Rocroy               │    711.0 │ Allemagne            │ … │ Wool threads and f…  │ Allemagne et Pologne │\n",
       "│ Rocroy               │    107.0 │ Allemagne            │ … │ Crude materials, i…  │ Allemagne et Pologne │\n",
       "├──────────────────────┴──────────┴──────────────────────┴───┴──────────────────────┴──────────────────────┤\n",
       "│ ? rows (>9999 rows, 20 shown)                                                        8 columns (5 shown) │\n",
       "└──────────────────────────────────────────────────────────────────────────────────────────────────────────┘"
      ]
     },
     "execution_count": 27,
     "metadata": {},
     "output_type": "execute_result"
    }
   ],
   "source": [
    "import duckdb\n",
    "\n",
    "# Dataset\n",
    "csv = '../../data/toflit18_all_flows.csv'\n",
    "\n",
    "# Lire les colonnnes pertinentes du csv\n",
    "select_all_flows = duckdb.sql(f\"\"\"\n",
    "SELECT  customs_office,\n",
    "        TRY_CAST(value AS FLOAT) as value,\n",
    "        partner_grouping,\n",
    "        year,\n",
    "        export_import,\n",
    "        best_guess_region_prodxpart,\n",
    "        product_sitc_simplEN,\n",
    "        partner_simplification\n",
    "FROM read_csv_auto('{csv}', ALL_VARCHAR=TRUE)\n",
    "\"\"\")\n",
    "\n",
    "duckdb.sql('FROM select_all_flows WHERE customs_office IS NOT NULL')"
   ]
  },
  {
   "cell_type": "code",
   "execution_count": 28,
   "id": "b2aead70",
   "metadata": {},
   "outputs": [],
   "source": [
    "# Les filtres appliquées à toute catégorie\n",
    "base_relation=\"\"\"\n",
    "    FROM select_all_flows\n",
    "    WHERE customs_office IS NOT NULL\n",
    "    AND value IS NOT NULL\n",
    "    AND best_guess_region_prodxpart = '1'\n",
    "    AND partner_grouping != 'France'\n",
    "    AND year = '1789'\n",
    "\"\"\""
   ]
  },
  {
   "cell_type": "code",
   "execution_count": 29,
   "id": "ac0ecc51-2b56-48db-90a5-3f3e93c31293",
   "metadata": {
    "tags": []
   },
   "outputs": [],
   "source": [
    "# L'aggregation pour toute catégorie\n",
    "def aggregate_order_data(relation):\n",
    "    list_of_regions_values = duckdb.sql(relation)\n",
    "\n",
    "    values_per_customs_region = list_of_regions_values.aggregate(\"\"\"\n",
    "    customs_office,\n",
    "    SUM(value) as total_value\n",
    "    \"\"\")\n",
    "    ordered = duckdb.sql(\"\"\"\n",
    "    SELECT *\n",
    "    FROM values_per_customs_region\n",
    "    ORDER BY total_value DESC\n",
    "    \"\"\")\n",
    "\n",
    "    limited = ordered.limit(20)\n",
    "\n",
    "    values = limited.fetchall()\n",
    "    columns = limited.columns\n",
    "\n",
    "    return [ dict(zip(columns, row)) for row in values]\n",
    "\n",
    "# La visualisation\n",
    "def visualise_single(data, title):\n",
    "\n",
    "    return alt.Chart().from_dict({\n",
    "        \"$schema\": \"https://vega.github.io/schema/vega-lite/v5.json\",\n",
    "        \"title\": title,\n",
    "        \"mark\": \"bar\",\n",
    "        \"data\": {\n",
    "            \"values\": data\n",
    "        },\n",
    "        \"encoding\": {\n",
    "            \"y\": {\n",
    "                \"field\": \"total_value\",\n",
    "                \"type\": \"quantitative\", \n",
    "                \"title\": \"Valeur\"\n",
    "            },\n",
    "            \"x\": {\n",
    "                \"field\": \"customs_office\",\n",
    "                \"type\": \"nominal\",\n",
    "                \"title\": \"Les 20 plus importants bureaux de ferme\",\n",
    "                \"sort\": \"-y\"\n",
    "            }\n",
    "        }\n",
    "    })"
   ]
  },
  {
   "attachments": {},
   "cell_type": "markdown",
   "id": "e9ba4f59",
   "metadata": {},
   "source": [
    "# Résultats"
   ]
  },
  {
   "attachments": {},
   "cell_type": "markdown",
   "id": "f0f9bf85",
   "metadata": {},
   "source": [
    "## 1.A. Exports : origines de tous les exports"
   ]
  },
  {
   "cell_type": "code",
   "execution_count": null,
   "id": "c2deb10b-c49a-4d79-8934-bd20cee82df4",
   "metadata": {
    "tags": []
   },
   "outputs": [],
   "source": [
    "# Appliquer les filtres pour cette agrégation : tous exports\n",
    "filtered_relation = f\"\"\"\n",
    "    {base_relation}\n",
    "    AND export_import = 'Exports'\n",
    "    \"\"\"\n",
    "\n",
    "# Agréger la relation de tous les exports par 'customs_office'\n",
    "data = aggregate_order_data(relation=filtered_relation)\n",
    "title = 'Valeur des exports de tout partenaire hors de la France en 1789'\n",
    "\n",
    "\n",
    "# Visualiser cette relation\n",
    "chart = visualise_single(\n",
    "    data,\n",
    "    'Valeur des exports de tout partenaire hors de la France en 1789'\n",
    ")\n",
    "\n",
    "chart"
   ]
  },
  {
   "attachments": {},
   "cell_type": "markdown",
   "id": "a21f07de",
   "metadata": {},
   "source": [
    "## 1.B. Exports : origines de tous les exports sauf les produits coloniaux et ceux effectués vers les colonies"
   ]
  },
  {
   "cell_type": "code",
   "execution_count": null,
   "id": "ac206851-6e4d-474d-9f6a-4500a2b72055",
   "metadata": {
    "tags": []
   },
   "outputs": [],
   "source": [
    "# Appliquer les filtres pour cette agrégation : tous les exports sauf les produits coloniaux et les colonies\n",
    "filtered_relation = f\"\"\"\n",
    "    {base_relation}\n",
    "    AND export_import = 'Exports'\n",
    "    AND product_sitc_simplEN != 'Plantation foodstuffs'\n",
    "    AND partner_grouping NOT IN ('Monde', 'Outre Mer', 'Amérique', 'Afrique', 'Asie')\n",
    "    \"\"\"\n",
    "\n",
    "# Agréger la relation par 'customs_office'\n",
    "data = aggregate_order_data(relation=filtered_relation)\n",
    "\n",
    "# Visualiser cette relation\n",
    "chart = visualise_single(\n",
    "    data,\n",
    "    'Valeur des exports de tout partenaire hors de la France en 1789 sauf les produits coloniaux et les colonies'\n",
    ")\n",
    "\n",
    "chart"
   ]
  },
  {
   "attachments": {},
   "cell_type": "markdown",
   "id": "063a2872",
   "metadata": {},
   "source": [
    "## 2.A. Imports : origines de tous les imports"
   ]
  },
  {
   "cell_type": "code",
   "execution_count": null,
   "id": "976abb6d",
   "metadata": {},
   "outputs": [],
   "source": [
    "# Appliquer les filtres pour cette agrégation : tous imports\n",
    "filtered_relation = f\"\"\"\n",
    "    {base_relation}\n",
    "    AND export_import = 'Imports'\n",
    "    \"\"\"\n",
    "\n",
    "# Agréger la relation de tous les imports par 'customs_office'\n",
    "data = aggregate_order_data(relation=filtered_relation)\n",
    "\n",
    "# Visualiser cette relation\n",
    "chart = visualise_single(\n",
    "    data,\n",
    "    'Valeur des imports de tout partenaire hors de la France en 1789'\n",
    ")\n",
    "\n",
    "chart"
   ]
  },
  {
   "attachments": {},
   "cell_type": "markdown",
   "id": "201c8322",
   "metadata": {},
   "source": [
    "## 2.B. Imports : origines de tous les imports sauf les produits coloniaux et ceux venant des colonies"
   ]
  },
  {
   "cell_type": "code",
   "execution_count": null,
   "id": "de0b03c7",
   "metadata": {},
   "outputs": [],
   "source": [
    "# Appliquer les filtres pour cette agrégation\n",
    "filtered_relation = f\"\"\"\n",
    "    {base_relation}\n",
    "    AND export_import = 'Imports'\n",
    "    AND product_sitc_simplEN != 'Plantation foodstuffs'\n",
    "    AND partner_grouping NOT IN ('Monde', 'Outre Mer', 'Amérique', 'Afrique', 'Asie')\n",
    "    \"\"\"\n",
    "\n",
    "# Aggregate the relation by 'customs_office'\n",
    "data = aggregate_order_data(relation=filtered_relation)\n",
    "\n",
    "# Visualise this relation\n",
    "chart = visualise_single(\n",
    "    data,\n",
    "    'Valeur des imports de tout partenaire hors de la France en 1789 sauf les produits coloniaux et les colonies'\n",
    ")\n",
    "\n",
    "chart"
   ]
  },
  {
   "cell_type": "code",
   "execution_count": null,
   "id": "9ff1a333-40ec-4b5e-9e95-08943b46cf7f",
   "metadata": {},
   "outputs": [],
   "source": []
  }
 ],
 "metadata": {
  "kernelspec": {
   "display_name": "Python 3 (ipykernel)",
   "language": "python",
   "name": "python3"
  },
  "language_info": {
   "codemirror_mode": {
    "name": "ipython",
    "version": 3
   },
   "file_extension": ".py",
   "mimetype": "text/x-python",
   "name": "python",
   "nbconvert_exporter": "python",
   "pygments_lexer": "ipython3",
   "version": "3.11.0"
  },
  "vscode": {
   "interpreter": {
    "hash": "0ce833c5b73e6d5f6ca6b0c40d780d6c01d5f39b699eb9f23f578f6903492dfc"
   }
  }
 },
 "nbformat": 4,
 "nbformat_minor": 5
}
