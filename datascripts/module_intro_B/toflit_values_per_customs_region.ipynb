{
 "cells": [
  {
   "cell_type": "code",
   "execution_count": null,
   "id": "ca2c8bbe",
   "metadata": {},
   "outputs": [],
   "source": [
    "from IPython.display import display\n",
    "import pandas as pd\n",
    "import altair as alt\n",
    "from altair.utils.data import to_values\n",
    "\n",
    "def VegaLite(spec):\n",
    "    bundle = {}\n",
    "    bundle['application/vnd.vegalite.v4+json'] = spec\n",
    "    display(bundle, raw=True)"
   ]
  },
  {
   "cell_type": "code",
   "execution_count": null,
   "id": "0672eb40",
   "metadata": {},
   "outputs": [],
   "source": [
    "conges = pd.read_csv(\"../../data/toflit18_all_flows.csv\", sep=\",\")"
   ]
  },
  {
   "cell_type": "code",
   "execution_count": null,
   "id": "edd30c91",
   "metadata": {},
   "outputs": [],
   "source": [
    "ports = ['Marseille',\n",
    "'Le Havre',\n",
    "'Dunkerque',\n",
    "'Rouen',\n",
    "'Bordeaux',\n",
    "'Boulogne-sur-Mer',\n",
    "'Marennes',\n",
    "'Cap-Français',\n",
    "'Nantes',\n",
    "'La Rochelle',\n",
    "'Saint-Malo',\n",
    "'Toulon',\n",
    "'Dieppe',\n",
    "'Lorient',\n",
    "'Honfleur',\n",
    "'Marans',\n",
    "'Sète',\n",
    "'Bayonne',\n",
    "'Tonnay-Charente',\n",
    "'Arles']"
   ]
  },
  {
   "cell_type": "code",
   "execution_count": null,
   "id": "1f44a6b0",
   "metadata": {},
   "outputs": [],
   "source": [
    "import csv\n",
    "with open('../../data/toflit18_all_flows.csv') as f:\n",
    "    reader = csv.DictReader(f)\n",
    "#     customs_region_pos = reader.headers['customs_region']\n",
    "#     value_pos = reader.headers['value']\n",
    "#     partner_pos = reader.headers['partner_grouping']\n",
    "    list_of_regions_values = []\n",
    "    for row in reader:\n",
    "        if row['customs_region'] in ports \\\n",
    "        and row['partner_grouping'] != 'France' \\\n",
    "        and row['year'] == '1789'\\\n",
    "        and row['export_import'] == 'Exports':\n",
    "            list_of_regions_values.append(row)"
   ]
  },
  {
   "cell_type": "code",
   "execution_count": null,
   "id": "2b4319ca",
   "metadata": {},
   "outputs": [],
   "source": [
    "values_per_customs_region = {k:0 for k in ports}\n",
    "\n",
    "for i in list_of_regions_values:\n",
    "    if i['value']:\n",
    "        values_per_customs_region[i['customs_region']] += float(i['value'])"
   ]
  },
  {
   "cell_type": "code",
   "execution_count": null,
   "id": "f8c141e6",
   "metadata": {},
   "outputs": [],
   "source": [
    "values_per_customs_region"
   ]
  },
  {
   "cell_type": "code",
   "execution_count": null,
   "id": "b4ae4f86",
   "metadata": {},
   "outputs": [],
   "source": [
    "data = [{'customs_region':k, 'value':v} for k,v in values_per_customs_region.items()]"
   ]
  },
  {
   "cell_type": "code",
   "execution_count": null,
   "id": "976abb6d",
   "metadata": {},
   "outputs": [],
   "source": [
    "VegaLite({\n",
    "    \"$schema\": \"https://vega.github.io/schema/vega-lite/v5.json\",\n",
    "    \"title\": \"Valeur des exports depuis les plus importantes directions de ferme\",\n",
    "    \"mark\": \"bar\",\n",
    "    \"data\": {\n",
    "        \"values\": data\n",
    "    },\n",
    "    \"encoding\": {\n",
    "        \"y\": {\n",
    "            \"field\": \"value\",\n",
    "            \"type\": \"quantitative\", \n",
    "            \"title\": \"value\"\n",
    "        },\n",
    "        \"x\": {\n",
    "            \"field\": \"customs_region\",\n",
    "            \"type\": \"nominal\",\n",
    "            \"title\": \"customs region\",\n",
    "            \"sort\": \"-y\"\n",
    "        }\n",
    "    }\n",
    "})"
   ]
  },
  {
   "cell_type": "code",
   "execution_count": null,
   "id": "de0b03c7",
   "metadata": {},
   "outputs": [],
   "source": []
  }
 ],
 "metadata": {
  "kernelspec": {
   "display_name": "Python 3 (ipykernel)",
   "language": "python",
   "name": "python3"
  },
  "language_info": {
   "codemirror_mode": {
    "name": "ipython",
    "version": 3
   },
   "file_extension": ".py",
   "mimetype": "text/x-python",
   "name": "python",
   "nbconvert_exporter": "python",
   "pygments_lexer": "ipython3",
   "version": "3.11.0"
  }
 },
 "nbformat": 4,
 "nbformat_minor": 5
}
