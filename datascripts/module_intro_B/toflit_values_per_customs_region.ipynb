{
 "cells": [
  {
   "cell_type": "code",
   "execution_count": null,
   "id": "db9be740-5af1-41fb-afad-0a0fc49ded59",
   "metadata": {
    "tags": []
   },
   "outputs": [],
   "source": [
    "# pip install duckdb==0.7.0"
   ]
  },
  {
   "cell_type": "code",
   "execution_count": 1,
   "id": "ca2c8bbe",
   "metadata": {},
   "outputs": [],
   "source": [
    "from IPython.display import display\n",
    "import altair as alt\n",
    "\n",
    "def VegaLite(spec):\n",
    "    bundle = {}\n",
    "    bundle['application/vnd.vegalite.v4+json'] = spec\n",
    "    display(bundle, raw=True)"
   ]
  },
  {
   "cell_type": "code",
   "execution_count": 2,
   "id": "1f44a6b0",
   "metadata": {},
   "outputs": [
    {
     "data": {
      "text/plain": [
       "┌──────────────────────┬──────────┬──────────────────────┬───┬──────────────────────┬──────────────────────┐\n",
       "│    customs_office    │  value   │   partner_grouping   │ … │ product_sitc_simplEN │ partner_simplifica…  │\n",
       "│       varchar        │  float   │       varchar        │   │       varchar        │       varchar        │\n",
       "├──────────────────────┼──────────┼──────────────────────┼───┼──────────────────────┼──────────────────────┤\n",
       "│ Dunkerque-Basseville │  14482.5 │ Divers               │ … │ Chemical products    │ Monde via Dunkerque  │\n",
       "│ Dunkerque-Basseville │  81015.5 │ Divers               │ … │ Other foodstuffs a…  │ Monde via Dunkerque  │\n",
       "│ Dunkerque-Basseville │ 200467.5 │ Divers               │ … │ Leather, wood and …  │ Monde via Dunkerque  │\n",
       "│ Dunkerque-Basseville │    180.0 │ Divers               │ … │ Chemical products    │ Monde via Dunkerque  │\n",
       "│ Dunkerque-Basseville │   5700.0 │ Divers               │ … │ Other industrial p…  │ Monde via Dunkerque  │\n",
       "│ Dunkerque-Basseville │    450.0 │ Divers               │ … │ Leather, wood and …  │ Monde via Dunkerque  │\n",
       "│ Dunkerque-Basseville │   2018.4 │ Divers               │ … │ Other industrial p…  │ Monde via Dunkerque  │\n",
       "│ Dunkerque-Basseville │     34.0 │ Divers               │ … │ Leather, wood and …  │ Monde via Dunkerque  │\n",
       "│ Dunkerque-Basseville │   1944.0 │ Divers               │ … │ Other industrial p…  │ Monde via Dunkerque  │\n",
       "│ Dunkerque-Basseville │    168.0 │ Divers               │ … │ Coton threads and …  │ Monde via Dunkerque  │\n",
       "│   ·                  │      ·   │   ·                  │ · │   ·                  │          ·           │\n",
       "│   ·                  │      ·   │   ·                  │ · │   ·                  │          ·           │\n",
       "│   ·                  │      ·   │   ·                  │ · │   ·                  │          ·           │\n",
       "│ Rocroy               │    200.0 │ Flandre et autres …  │ … │ Other                │ États de l'Empereur  │\n",
       "│ Rocroy               │    797.0 │ Allemagne            │ … │ Other industrial p…  │ Allemagne et Pologne │\n",
       "│ Rocroy               │   1006.0 │ Allemagne            │ … │ Other industrial p…  │ Allemagne et Pologne │\n",
       "│ Rocroy               │   4100.0 │ Flandre et autres …  │ … │ Other                │ États de l'Empereur  │\n",
       "│ Rocroy               │    756.0 │ Flandre et autres …  │ … │ Other industrial p…  │ États de l'Empereur  │\n",
       "│ Rocroy               │   1472.0 │ Allemagne            │ … │ Wool threads and f…  │ Allemagne et Pologne │\n",
       "│ Rocroy               │   2628.0 │ Flandre et autres …  │ … │ Wool threads and f…  │ États de l'Empereur  │\n",
       "│ Rocroy               │   2985.0 │ Allemagne            │ … │ Wool threads and f…  │ Allemagne et Pologne │\n",
       "│ Rocroy               │    711.0 │ Allemagne            │ … │ Wool threads and f…  │ Allemagne et Pologne │\n",
       "│ Rocroy               │    107.0 │ Allemagne            │ … │ Crude materials, i…  │ Allemagne et Pologne │\n",
       "├──────────────────────┴──────────┴──────────────────────┴───┴──────────────────────┴──────────────────────┤\n",
       "│ ? rows (>9999 rows, 20 shown)                                                        8 columns (5 shown) │\n",
       "└──────────────────────────────────────────────────────────────────────────────────────────────────────────┘"
      ]
     },
     "execution_count": 2,
     "metadata": {},
     "output_type": "execute_result"
    }
   ],
   "source": [
    "import duckdb\n",
    "csv = '../../data/toflit18_all_flows.csv'\n",
    "select_all_flows = duckdb.sql(f\"\"\"\n",
    "SELECT  customs_office,\n",
    "        TRY_CAST(value AS FLOAT) as value,\n",
    "        partner_grouping, year, export_import,\n",
    "        best_guess_region_prodxpart,\n",
    "        product_sitc_simplEN,\n",
    "        partner_simplification\n",
    "FROM read_csv_auto('{csv}', ALL_VARCHAR=TRUE)\n",
    "\"\"\")\n",
    "duckdb.sql('FROM select_all_flows WHERE customs_office IS NOT NULL')"
   ]
  },
  {
   "cell_type": "code",
   "execution_count": 3,
   "id": "b2aead70",
   "metadata": {},
   "outputs": [],
   "source": [
    "base_relation=\"\"\"\n",
    "    FROM select_all_flows\n",
    "    WHERE customs_office IS NOT NULL\n",
    "    AND value IS NOT NULL\n",
    "    AND best_guess_region_prodxpart = '1'\n",
    "    AND partner_grouping != 'France'\n",
    "    AND year = '1789'\n",
    "\"\"\""
   ]
  },
  {
   "cell_type": "code",
   "execution_count": 4,
   "id": "ac0ecc51-2b56-48db-90a5-3f3e93c31293",
   "metadata": {
    "tags": []
   },
   "outputs": [],
   "source": [
    "def aggregate_order_data(relation):\n",
    "    list_of_regions_values = duckdb.sql(relation)\n",
    "\n",
    "    values_per_customs_region = list_of_regions_values.aggregate(\"\"\"\n",
    "    customs_office,\n",
    "    SUM(value) as total_value\n",
    "    \"\"\")\n",
    "    ordered = duckdb.sql(\"\"\"\n",
    "    SELECT *\n",
    "    FROM values_per_customs_region\n",
    "    ORDER BY total_value DESC\n",
    "    \"\"\")\n",
    "\n",
    "    limited = ordered.limit(20)\n",
    "\n",
    "    values = limited.fetchall()\n",
    "    columns = limited.columns\n",
    "\n",
    "    return [ dict(zip(columns, row)) for row in values]\n",
    "\n",
    "def visualise_single(data, title):\n",
    "\n",
    "    return alt.Chart().from_dict({\n",
    "        \"$schema\": \"https://vega.github.io/schema/vega-lite/v5.json\",\n",
    "        \"title\": title,\n",
    "        \"mark\": \"bar\",\n",
    "        \"data\": {\n",
    "            \"values\": data\n",
    "        },\n",
    "        \"encoding\": {\n",
    "            \"y\": {\n",
    "                \"field\": \"total_value\",\n",
    "                \"type\": \"quantitative\", \n",
    "                \"title\": \"Valeur\"\n",
    "            },\n",
    "            \"x\": {\n",
    "                \"field\": \"customs_office\",\n",
    "                \"type\": \"nominal\",\n",
    "                \"title\": \"Les 20 plus importants bureaux de ferme\",\n",
    "                \"sort\": \"-y\"\n",
    "            }\n",
    "        }\n",
    "    })"
   ]
  },
  {
   "cell_type": "code",
   "execution_count": 5,
   "id": "c2deb10b-c49a-4d79-8934-bd20cee82df4",
   "metadata": {
    "tags": []
   },
   "outputs": [
    {
     "data": {
      "text/html": [
       "\n",
       "<div id=\"altair-viz-377dab433e1d44018ef4a16923f83929\"></div>\n",
       "<script type=\"text/javascript\">\n",
       "  var VEGA_DEBUG = (typeof VEGA_DEBUG == \"undefined\") ? {} : VEGA_DEBUG;\n",
       "  (function(spec, embedOpt){\n",
       "    let outputDiv = document.currentScript.previousElementSibling;\n",
       "    if (outputDiv.id !== \"altair-viz-377dab433e1d44018ef4a16923f83929\") {\n",
       "      outputDiv = document.getElementById(\"altair-viz-377dab433e1d44018ef4a16923f83929\");\n",
       "    }\n",
       "    const paths = {\n",
       "      \"vega\": \"https://cdn.jsdelivr.net/npm//vega@5?noext\",\n",
       "      \"vega-lib\": \"https://cdn.jsdelivr.net/npm//vega-lib?noext\",\n",
       "      \"vega-lite\": \"https://cdn.jsdelivr.net/npm//vega-lite@4.17.0?noext\",\n",
       "      \"vega-embed\": \"https://cdn.jsdelivr.net/npm//vega-embed@6?noext\",\n",
       "    };\n",
       "\n",
       "    function maybeLoadScript(lib, version) {\n",
       "      var key = `${lib.replace(\"-\", \"\")}_version`;\n",
       "      return (VEGA_DEBUG[key] == version) ?\n",
       "        Promise.resolve(paths[lib]) :\n",
       "        new Promise(function(resolve, reject) {\n",
       "          var s = document.createElement('script');\n",
       "          document.getElementsByTagName(\"head\")[0].appendChild(s);\n",
       "          s.async = true;\n",
       "          s.onload = () => {\n",
       "            VEGA_DEBUG[key] = version;\n",
       "            return resolve(paths[lib]);\n",
       "          };\n",
       "          s.onerror = () => reject(`Error loading script: ${paths[lib]}`);\n",
       "          s.src = paths[lib];\n",
       "        });\n",
       "    }\n",
       "\n",
       "    function showError(err) {\n",
       "      outputDiv.innerHTML = `<div class=\"error\" style=\"color:red;\">${err}</div>`;\n",
       "      throw err;\n",
       "    }\n",
       "\n",
       "    function displayChart(vegaEmbed) {\n",
       "      vegaEmbed(outputDiv, spec, embedOpt)\n",
       "        .catch(err => showError(`Javascript Error: ${err.message}<br>This usually means there's a typo in your chart specification. See the javascript console for the full traceback.`));\n",
       "    }\n",
       "\n",
       "    if(typeof define === \"function\" && define.amd) {\n",
       "      requirejs.config({paths});\n",
       "      require([\"vega-embed\"], displayChart, err => showError(`Error loading script: ${err.message}`));\n",
       "    } else {\n",
       "      maybeLoadScript(\"vega\", \"5\")\n",
       "        .then(() => maybeLoadScript(\"vega-lite\", \"4.17.0\"))\n",
       "        .then(() => maybeLoadScript(\"vega-embed\", \"6\"))\n",
       "        .catch(showError)\n",
       "        .then(() => displayChart(vegaEmbed));\n",
       "    }\n",
       "  })({\"config\": {\"view\": {\"continuousWidth\": 400, \"continuousHeight\": 300}}, \"data\": {\"name\": \"data-725dd744f36e64acb22772b5df850fc8\"}, \"mark\": \"bar\", \"encoding\": {\"x\": {\"field\": \"customs_office\", \"sort\": \"-y\", \"title\": \"Les 20 plus importants bureaux de ferme\", \"type\": \"nominal\"}, \"y\": {\"field\": \"total_value\", \"title\": \"Valeur\", \"type\": \"quantitative\"}}, \"title\": \"Valeur des exports de tout partenaire hors de la France en 1789\", \"$schema\": \"https://vega.github.io/schema/vega-lite/v5.json\", \"datasets\": {\"data-725dd744f36e64acb22772b5df850fc8\": [{\"customs_office\": \"Bordeaux\", \"total_value\": 130596719.87841034}, {\"customs_office\": \"Marseille\", \"total_value\": 82040780.05075073}, {\"customs_office\": \"Nantes\", \"total_value\": 43322182.36628723}, {\"customs_office\": \"Le Havre\", \"total_value\": 37604670.0}, {\"customs_office\": \"Saint-Esprit de Bayonne\", \"total_value\": 11099432.276687622}, {\"customs_office\": \"Pont-de-Beauvoisin\", \"total_value\": 10870962.938873291}, {\"customs_office\": \"Arcey\", \"total_value\": 7975206.346038818}, {\"customs_office\": \"La Rochelle\", \"total_value\": 6853377.103759766}, {\"customs_office\": \"Cette\", \"total_value\": 6347404.431663513}, {\"customs_office\": \"Dunkerque\", \"total_value\": 5972028.0}, {\"customs_office\": \"Tonnay-Charente\", \"total_value\": 5158973.308837891}, {\"customs_office\": \"Grenoble\", \"total_value\": 4689868.119842529}, {\"customs_office\": \"Saint-Dizier\", \"total_value\": 4618916.181030273}, {\"customs_office\": \"Jussey\", \"total_value\": 4138863.6123046875}, {\"customs_office\": \"Rouen\", \"total_value\": 4014646.0}, {\"customs_office\": \"Saint-Malo\", \"total_value\": 3738910.9695358276}, {\"customs_office\": \"Port franc de Bayonne et Saint Jean de Luz\", \"total_value\": 3559266.0}, {\"customs_office\": \"Longeray\", \"total_value\": 2841614.743247986}, {\"customs_office\": \"Valenciennes\", \"total_value\": 2715875.0}, {\"customs_office\": \"Lille\", \"total_value\": 2671172.0}]}}, {\"mode\": \"vega-lite\"});\n",
       "</script>"
      ],
      "text/plain": [
       "alt.Chart(...)"
      ]
     },
     "execution_count": 5,
     "metadata": {},
     "output_type": "execute_result"
    }
   ],
   "source": [
    "# Apply filters for this aggregation\n",
    "filtered_relation = f\"\"\"\n",
    "    {base_relation}\n",
    "    AND export_import = 'Exports'\n",
    "    \"\"\"\n",
    "\n",
    "# Aggregate the relation by 'customs_office'\n",
    "data = aggregate_order_data(relation=filtered_relation)\n",
    "title = 'Valeur des exports de tout partenaire hors de la France en 1789'\n",
    "\n",
    "\n",
    "# Visualise this relation\n",
    "chart = visualise_single(\n",
    "    data,\n",
    "    'Valeur des exports de tout partenaire hors de la France en 1789'\n",
    ")\n",
    "\n",
    "chart"
   ]
  },
  {
   "cell_type": "code",
   "execution_count": null,
   "id": "a21f07de",
   "metadata": {},
   "outputs": [],
   "source": []
  },
  {
   "cell_type": "code",
   "execution_count": null,
   "id": "ac206851-6e4d-474d-9f6a-4500a2b72055",
   "metadata": {
    "tags": []
   },
   "outputs": [],
   "source": [
    "# Apply filters for this aggregation\n",
    "filtered_relation = f\"\"\"\n",
    "    {base_relation}\n",
    "    AND export_import = 'Exports'\n",
    "    AND product_sitc_simplEN != 'Plantation foodstuffs'\n",
    "    AND partner_grouping NOT IN ('Outre Mer', 'Amérique', 'Afrique', 'Asie')\n",
    "    AND partner_simplification != 'Monde hors colonies'\n",
    "    \"\"\"\n",
    "\n",
    "# Aggregate the relation by 'customs_office'\n",
    "data = aggregate_order_data(relation=filtered_relation)\n",
    "\n",
    "# Visualise this relation\n",
    "chart = visualise_single(\n",
    "    data,\n",
    "    'Valeur des exports de tout partenaire hors de la France en 1789 sauf les produits coloniaux et les colonies'\n",
    ")\n",
    "\n",
    "chart"
   ]
  },
  {
   "cell_type": "code",
   "execution_count": null,
   "id": "976abb6d",
   "metadata": {},
   "outputs": [],
   "source": [
    "# Apply filters for this aggregation\n",
    "filtered_relation = f\"\"\"\n",
    "    {base_relation}\n",
    "    AND export_import = 'Imports'\n",
    "    \"\"\"\n",
    "\n",
    "# Aggregate the relation by 'customs_office'\n",
    "data = aggregate_order_data(relation=filtered_relation)\n",
    "\n",
    "# Visualise this relation\n",
    "chart = visualise_single(\n",
    "    data,\n",
    "    'Valeur des imports de tout partenaire hors de la France en 1789'\n",
    ")\n",
    "\n",
    "chart"
   ]
  },
  {
   "cell_type": "code",
   "execution_count": null,
   "id": "de0b03c7",
   "metadata": {},
   "outputs": [],
   "source": [
    "# Apply filters for this aggregation\n",
    "filtered_relation = f\"\"\"\n",
    "    {base_relation}\n",
    "    AND export_import = 'Imports'\n",
    "    AND product_sitc_simplEN != 'Plantation foodstuffs'\n",
    "    AND partner_grouping NOT IN ('Outre Mer', 'Amérique', 'Afrique', 'Asie')\n",
    "    AND partner_simplification != 'Monde hors colonies'\n",
    "    \"\"\"\n",
    "\n",
    "# Aggregate the relation by 'customs_office'\n",
    "data = aggregate_order_data(relation=filtered_relation)\n",
    "\n",
    "# Visualise this relation\n",
    "chart = visualise_single(\n",
    "    data,\n",
    "    'Valeur des imports de tout partenaire hors de la France en 1789 sauf les produits coloniaux et les colonies'\n",
    ")\n",
    "\n",
    "chart"
   ]
  },
  {
   "cell_type": "code",
   "execution_count": null,
   "id": "9ff1a333-40ec-4b5e-9e95-08943b46cf7f",
   "metadata": {},
   "outputs": [],
   "source": []
  }
 ],
 "metadata": {
  "kernelspec": {
   "display_name": "Python 3 (ipykernel)",
   "language": "python",
   "name": "python3"
  },
  "language_info": {
   "codemirror_mode": {
    "name": "ipython",
    "version": 3
   },
   "file_extension": ".py",
   "mimetype": "text/x-python",
   "name": "python",
   "nbconvert_exporter": "python",
   "pygments_lexer": "ipython3",
   "version": "3.11.0"
  },
  "vscode": {
   "interpreter": {
    "hash": "0ce833c5b73e6d5f6ca6b0c40d780d6c01d5f39b699eb9f23f578f6903492dfc"
   }
  }
 },
 "nbformat": 4,
 "nbformat_minor": 5
}
