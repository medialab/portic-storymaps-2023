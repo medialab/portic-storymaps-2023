{
 "cells": [
  {
   "cell_type": "code",
   "execution_count": 1,
   "id": "db9be740-5af1-41fb-afad-0a0fc49ded59",
   "metadata": {
    "tags": []
   },
   "outputs": [],
   "source": [
    "# pip install duckdb==0.7.0"
   ]
  },
  {
   "cell_type": "code",
   "execution_count": 2,
   "id": "ca2c8bbe",
   "metadata": {},
   "outputs": [],
   "source": [
    "from IPython.display import display\n",
    "# import pandas as pd\n",
    "import altair as alt\n",
    "from altair.utils.data import to_values\n",
    "\n",
    "def VegaLite(spec):\n",
    "    bundle = {}\n",
    "    bundle['application/vnd.vegalite.v4+json'] = spec\n",
    "    display(bundle, raw=True)"
   ]
  },
  {
   "cell_type": "code",
   "execution_count": 3,
   "id": "1f44a6b0",
   "metadata": {},
   "outputs": [
    {
     "name": "stdout",
     "output_type": "stream",
     "text": [
      "┌────────────────┬───────────┬──────────────────┬─────────┬───────────────┬─────────────────────────────┐\n",
      "│ customs_region │   value   │ partner_grouping │  year   │ export_import │ best_guess_region_prodxpart │\n",
      "│    varchar     │   float   │     varchar      │ varchar │    varchar    │           varchar           │\n",
      "├────────────────┼───────────┼──────────────────┼─────────┼───────────────┼─────────────────────────────┤\n",
      "│ NULL           │  248210.0 │ Divers           │ 1792    │ Exports       │ 0                           │\n",
      "│ NULL           │      NULL │ Divers           │ 1792    │ Exports       │ 0                           │\n",
      "│ NULL           │      NULL │ Divers           │ 1792    │ Exports       │ 0                           │\n",
      "│ NULL           │      NULL │ Outre-mers       │ 1792    │ Exports       │ 0                           │\n",
      "│ NULL           │      NULL │ Asie             │ 1792    │ Exports       │ 0                           │\n",
      "│ NULL           │      NULL │ Divers           │ 1792    │ Exports       │ 0                           │\n",
      "│ NULL           │      NULL │ Divers           │ 1792    │ Exports       │ 0                           │\n",
      "│ NULL           │      NULL │ Divers           │ 1792    │ Exports       │ 0                           │\n",
      "│ NULL           │      NULL │ Divers           │ 1792    │ Exports       │ 0                           │\n",
      "│ NULL           │      NULL │ Outre-mers       │ 1792    │ Exports       │ 0                           │\n",
      "│  ·             │        ·  │    ·             │  ·      │    ·          │ ·                           │\n",
      "│  ·             │        ·  │    ·             │  ·      │    ·          │ ·                           │\n",
      "│  ·             │        ·  │    ·             │  ·      │    ·          │ ·                           │\n",
      "│ Bayonne        │     351.6 │ Espagne          │ 1760    │ Exports       │ 1                           │\n",
      "│ Bayonne        │      81.0 │ Espagne          │ 1760    │ Exports       │ 1                           │\n",
      "│ Bayonne        │      72.0 │ Espagne          │ 1760    │ Exports       │ 1                           │\n",
      "│ Bayonne        │    1582.5 │ Espagne          │ 1760    │ Exports       │ 1                           │\n",
      "│ Bayonne        │     140.0 │ Espagne          │ 1760    │ Exports       │ 1                           │\n",
      "│ Bayonne        │ 1620.0001 │ Espagne          │ 1760    │ Exports       │ 1                           │\n",
      "│ Bayonne        │      56.0 │ Espagne          │ 1760    │ Exports       │ 1                           │\n",
      "│ Bayonne        │       1.2 │ Espagne          │ 1760    │ Exports       │ 1                           │\n",
      "│ Bayonne        │   23544.0 │ Espagne          │ 1760    │ Exports       │ 1                           │\n",
      "│ Bayonne        │   4461.75 │ Espagne          │ 1760    │ Exports       │ 1                           │\n",
      "├────────────────┴───────────┴──────────────────┴─────────┴───────────────┴─────────────────────────────┤\n",
      "│ ? rows (>9999 rows, 20 shown)                                                               6 columns │\n",
      "└───────────────────────────────────────────────────────────────────────────────────────────────────────┘\n",
      "\n"
     ]
    }
   ],
   "source": [
    "import duckdb\n",
    "csv = '../../data/toflit18_all_flows.csv'\n",
    "select_all_flows = duckdb.sql(f\"\"\"\n",
    "SELECT customs_region, TRY_CAST(value AS FLOAT) as value, partner_grouping, year, export_import, best_guess_region_prodxpart\n",
    "FROM read_csv_auto('{csv}', ALL_VARCHAR=TRUE)\n",
    "\"\"\")\n",
    "select_all_flows.show()"
   ]
  },
  {
   "cell_type": "code",
   "execution_count": 4,
   "id": "3b5d1038-56fe-4e12-9063-400e58e32715",
   "metadata": {
    "tags": []
   },
   "outputs": [
    {
     "name": "stdout",
     "output_type": "stream",
     "text": [
      "┌────────────────┬─────────┬───────────────────────┬─────────┬───────────────┬─────────────────────────────┐\n",
      "│ customs_region │  value  │   partner_grouping    │  year   │ export_import │ best_guess_region_prodxpart │\n",
      "│    varchar     │  float  │        varchar        │ varchar │    varchar    │           varchar           │\n",
      "├────────────────┼─────────┼───────────────────────┼─────────┼───────────────┼─────────────────────────────┤\n",
      "│ Amiens         │ 34500.0 │ Portugal              │ 1789    │ Exports       │ 1                           │\n",
      "│ Amiens         │  5150.0 │ Portugal              │ 1789    │ Exports       │ 1                           │\n",
      "│ Amiens         │   900.0 │ Portugal              │ 1789    │ Exports       │ 1                           │\n",
      "│ Amiens         │    63.0 │ Nord                  │ 1789    │ Exports       │ 1                           │\n",
      "│ Amiens         │  1485.0 │ Angleterre            │ 1789    │ Exports       │ 1                           │\n",
      "│ Amiens         │  290.25 │ États-Unis d'Amérique │ 1789    │ Exports       │ 1                           │\n",
      "│ Amiens         │   56.25 │ Espagne               │ 1789    │ Exports       │ 1                           │\n",
      "│ Amiens         │  4724.0 │ Espagne               │ 1789    │ Exports       │ 1                           │\n",
      "│ Amiens         │  3680.0 │ Portugal              │ 1789    │ Exports       │ 1                           │\n",
      "│ Amiens         │  6804.0 │ Espagne               │ 1789    │ Exports       │ 1                           │\n",
      "│   ·            │     ·   │    ·                  │  ·      │    ·          │ ·                           │\n",
      "│   ·            │     ·   │    ·                  │  ·      │    ·          │ ·                           │\n",
      "│   ·            │     ·   │    ·                  │  ·      │    ·          │ ·                           │\n",
      "│ Marseille      │  2691.0 │ Amériques             │ 1789    │ Exports       │ 1                           │\n",
      "│ Marseille      │   335.0 │ Amériques             │ 1789    │ Exports       │ 1                           │\n",
      "│ Marseille      │  4752.0 │ Amériques             │ 1789    │ Exports       │ 1                           │\n",
      "│ Marseille      │  2720.0 │ Amériques             │ 1789    │ Exports       │ 1                           │\n",
      "│ Marseille      │   904.0 │ Amériques             │ 1789    │ Exports       │ 1                           │\n",
      "│ Marseille      │   240.0 │ Amériques             │ 1789    │ Exports       │ 1                           │\n",
      "│ Marseille      │  1392.0 │ Amériques             │ 1789    │ Exports       │ 1                           │\n",
      "│ Marseille      │ 42748.0 │ Amériques             │ 1789    │ Exports       │ 1                           │\n",
      "│ Marseille      │  4556.0 │ Amériques             │ 1789    │ Exports       │ 1                           │\n",
      "│ Marseille      │  4608.0 │ Amériques             │ 1789    │ Exports       │ 1                           │\n",
      "├────────────────┴─────────┴───────────────────────┴─────────┴───────────────┴─────────────────────────────┤\n",
      "│ ? rows (>9999 rows, 20 shown)                                                                  6 columns │\n",
      "└──────────────────────────────────────────────────────────────────────────────────────────────────────────┘\n",
      "\n"
     ]
    }
   ],
   "source": [
    "list_of_regions_values = duckdb.sql(\"\"\"\n",
    "FROM select_all_flows\n",
    "WHERE customs_region IS NOT NULL\n",
    "AND value IS NOT NULL\n",
    "AND partner_grouping != 'France'\n",
    "AND partner_grouping != '????'\n",
    "AND year = '1789'\n",
    "AND export_import = 'Exports'\n",
    "AND best_guess_region_prodxpart = '1'\n",
    "\"\"\")\n",
    "list_of_regions_values.show()"
   ]
  },
  {
   "cell_type": "code",
   "execution_count": 5,
   "id": "ac0ecc51-2b56-48db-90a5-3f3e93c31293",
   "metadata": {
    "tags": []
   },
   "outputs": [
    {
     "name": "stdout",
     "output_type": "stream",
     "text": [
      "┌─────────────────────┬────────────────────┐\n",
      "│   customs_region    │    total_value     │\n",
      "│       varchar       │       double       │\n",
      "├─────────────────────┼────────────────────┤\n",
      "│ Amiens              │ 3610793.6906585693 │\n",
      "│ Auch                │  2145359.301551819 │\n",
      "│ Bayonne             │ 16653122.974777222 │\n",
      "│ Besançon            │ 16182680.241600037 │\n",
      "│ Bordeaux            │ 131582196.87841034 │\n",
      "│ Caen                │ 502370.94706726074 │\n",
      "│ Charleville         │ 2265570.1178207397 │\n",
      "│ Châlons             │  6407065.964874268 │\n",
      "│ Directions de terre │           607756.0 │\n",
      "│ Flandre             │         10951606.0 │\n",
      "│    ·                │              ·     │\n",
      "│    ·                │              ·     │\n",
      "│    ·                │              ·     │\n",
      "│ Marseille           │  82122535.14059448 │\n",
      "│ Montpellier         │  7423987.931632996 │\n",
      "│ Nantes              │ 43446843.090530396 │\n",
      "│ Narbonne            │ 1167178.5250778198 │\n",
      "│ Rouen               │         42264843.0 │\n",
      "│ Saint-Malo          │  6393802.203636169 │\n",
      "│ Saint-Quentin       │             5217.0 │\n",
      "│ Soisson             │            23897.0 │\n",
      "│ Toulon              │ 2270502.6285858154 │\n",
      "│ Valenciennes        │          4655819.0 │\n",
      "├─────────────────────┴────────────────────┤\n",
      "│ 26 rows (20 shown)             2 columns │\n",
      "└──────────────────────────────────────────┘\n",
      "\n"
     ]
    }
   ],
   "source": [
    "values_per_customs_region = list_of_regions_values.aggregate(\"\"\"\n",
    "customs_region,\n",
    "SUM(value) as total_value\n",
    "\"\"\")\n",
    "\n",
    "values_per_customs_region.show()"
   ]
  },
  {
   "cell_type": "code",
   "execution_count": 6,
   "id": "c2deb10b-c49a-4d79-8934-bd20cee82df4",
   "metadata": {
    "tags": []
   },
   "outputs": [],
   "source": [
    "values = values_per_customs_region.fetchall()\n",
    "columns = values_per_customs_region.columns"
   ]
  },
  {
   "cell_type": "code",
   "execution_count": 7,
   "id": "ac206851-6e4d-474d-9f6a-4500a2b72055",
   "metadata": {
    "tags": []
   },
   "outputs": [],
   "source": [
    "data = [ dict(zip(columns, row)) for row in values]"
   ]
  },
  {
   "cell_type": "code",
   "execution_count": null,
   "id": "976abb6d",
   "metadata": {},
   "outputs": [],
   "source": [
    "VegaLite({\n",
    "    \"$schema\": \"https://vega.github.io/schema/vega-lite/v5.json\",\n",
    "    \"title\": \"Valeur des exports depuis les plus importantes directions de ferme\",\n",
    "    \"mark\": \"bar\",\n",
    "    \"data\": {\n",
    "        \"values\": data\n",
    "    },\n",
    "    \"encoding\": {\n",
    "        \"y\": {\n",
    "            \"field\": \"total_value\",\n",
    "            \"type\": \"quantitative\", \n",
    "            \"title\": \"value\"\n",
    "        },\n",
    "        \"x\": {\n",
    "            \"field\": \"customs_region\",\n",
    "            \"type\": \"nominal\",\n",
    "            \"title\": \"customs region\",\n",
    "            \"sort\": \"-y\"\n",
    "        }\n",
    "    }\n",
    "})"
   ]
  },
  {
   "cell_type": "code",
   "execution_count": null,
   "id": "de0b03c7",
   "metadata": {},
   "outputs": [],
   "source": []
  }
 ],
 "metadata": {
  "kernelspec": {
   "display_name": "Python 3 (ipykernel)",
   "language": "python",
   "name": "python3"
  },
  "language_info": {
   "codemirror_mode": {
    "name": "ipython",
    "version": 3
   },
   "file_extension": ".py",
   "mimetype": "text/x-python",
   "name": "python",
   "nbconvert_exporter": "python",
   "pygments_lexer": "ipython3",
   "version": "3.11.0"
  }
 },
 "nbformat": 4,
 "nbformat_minor": 5
}
