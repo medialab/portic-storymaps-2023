{
 "cells": [
  {
   "cell_type": "code",
   "execution_count": 1,
   "id": "ca2c8bbe",
   "metadata": {},
   "outputs": [],
   "source": [
    "from IPython.display import display\n",
    "import pandas as pd\n",
    "import altair as alt\n",
    "from altair.utils.data import to_values\n",
    "\n",
    "def VegaLite(spec):\n",
    "    bundle = {}\n",
    "    bundle['application/vnd.vegalite.v4+json'] = spec\n",
    "    display(bundle, raw=True)"
   ]
  },
  {
   "cell_type": "code",
   "execution_count": null,
   "id": "0672eb40",
   "metadata": {},
   "outputs": [],
   "source": []
  },
  {
   "cell_type": "code",
   "execution_count": 2,
   "id": "edd30c91",
   "metadata": {},
   "outputs": [],
   "source": [
    "ports = ['Marseille',\n",
    "'Le Havre',\n",
    "'Dunkerque',\n",
    "'Rouen',\n",
    "'Bordeaux',\n",
    "'Boulogne-sur-Mer',\n",
    "'Marennes',\n",
    "'Cap-Français',\n",
    "'Nantes',\n",
    "'La Rochelle',\n",
    "'Saint-Malo',\n",
    "'Toulon',\n",
    "'Dieppe',\n",
    "'Lorient',\n",
    "'Honfleur',\n",
    "'Marans',\n",
    "'Sète',\n",
    "'Bayonne',\n",
    "'Tonnay-Charente',\n",
    "'Arles']"
   ]
  },
  {
   "cell_type": "code",
   "execution_count": 16,
   "id": "1f44a6b0",
   "metadata": {},
   "outputs": [],
   "source": [
    "import csv\n",
    "with open('../../data/toflit18_all_flows.csv') as f:\n",
    "    reader = csv.DictReader(f)\n",
    "#     customs_region_pos = reader.headers['customs_region']\n",
    "#     value_pos = reader.headers['value']\n",
    "#     partner_pos = reader.headers['partner_grouping']\n",
    "    list_of_regions_values = []\n",
    "    for row in reader:\n",
    "        if row['customs_region'] \\\n",
    "        and row['partner_grouping'] != 'France' \\\n",
    "        and row['year'] == '1789'\\\n",
    "        and row['export_import'] == 'Imports'\\\n",
    "        and row['best_guess_region_prodxpart'] =='1':\n",
    "            list_of_regions_values.append(row)"
   ]
  },
  {
   "cell_type": "code",
   "execution_count": 17,
   "id": "2b4319ca",
   "metadata": {},
   "outputs": [],
   "source": [
    "values_per_customs_region = {}\n",
    "\n",
    "for i in list_of_regions_values:\n",
    "    if i['value']:\n",
    "        if not i['customs_region'] in values_per_customs_region:\n",
    "            values_per_customs_region[i['customs_region']] = 0\n",
    "        values_per_customs_region[i['customs_region']] += float(i['value'])"
   ]
  },
  {
   "cell_type": "code",
   "execution_count": 13,
   "id": "f8c141e6",
   "metadata": {},
   "outputs": [
    {
     "data": {
      "text/plain": [
       "{'Amiens': 3610793.6956379474,\n",
       " 'Auch': 2145359.3009015005,\n",
       " 'Bayonne': 16653122.977829149,\n",
       " 'Besançon': 16182680.233392753,\n",
       " 'Bordeaux': 131582196.8769541,\n",
       " 'Caen': 502370.94720339996,\n",
       " 'Charleville': 2265570.115926632,\n",
       " 'Châlons': 6407065.968854733,\n",
       " 'Directions de terre': 607756.0,\n",
       " 'Flandre': 10951606.0,\n",
       " 'France': 1388076.0,\n",
       " 'Grenoble': 15873853.45344538,\n",
       " 'La Rochelle': 13334295.937960692,\n",
       " 'Langres': 477352.30000000005,\n",
       " 'Lorient': 2736414.64403617,\n",
       " 'Lyon': 3296029.8279999997,\n",
       " 'Marseille': 82122895.1804797,\n",
       " 'Montpellier': 7423987.9590612035,\n",
       " 'Nantes': 43446843.15019201,\n",
       " 'Narbonne': 1167178.52401036,\n",
       " 'Rouen': 42264843.0,\n",
       " 'Saint-Malo': 6393802.211436911,\n",
       " 'Saint-Quentin': 5217.0,\n",
       " 'Soisson': 23897.0,\n",
       " 'Toulon': 2270502.6090725833,\n",
       " 'Valenciennes': 4655819.0}"
      ]
     },
     "execution_count": 13,
     "metadata": {},
     "output_type": "execute_result"
    }
   ],
   "source": [
    "values_per_customs_region"
   ]
  },
  {
   "cell_type": "code",
   "execution_count": 18,
   "id": "b4ae4f86",
   "metadata": {},
   "outputs": [],
   "source": [
    "data = [{'customs_region':k, 'value':v} for k,v in values_per_customs_region.items()]"
   ]
  },
  {
   "cell_type": "code",
   "execution_count": 20,
   "id": "976abb6d",
   "metadata": {},
   "outputs": [
    {
     "data": {
      "application/vnd.vegalite.v4+json": {
       "$schema": "https://vega.github.io/schema/vega-lite/v5.json",
       "data": {
        "values": [
         {
          "customs_region": "Amiens",
          "value": 13769344.404999997
         },
         {
          "customs_region": "Auch",
          "value": 224131.10019143
         },
         {
          "customs_region": "Bayonne",
          "value": 10583312.229999999
         },
         {
          "customs_region": "Bordeaux",
          "value": 119052135.35924602
         },
         {
          "customs_region": "Caen",
          "value": 576868.87
         },
         {
          "customs_region": "Charleville",
          "value": 6713725.305270759
         },
         {
          "customs_region": "Châlons",
          "value": 4167672.9025000003
         },
         {
          "customs_region": "Flandre",
          "value": 71158493
         },
         {
          "customs_region": "France",
          "value": 99065
         },
         {
          "customs_region": "Grenoble",
          "value": 18106138.568396747
         },
         {
          "customs_region": "La Rochelle",
          "value": 10599154.435469542
         },
         {
          "customs_region": "Langres",
          "value": 806641.941844011
         },
         {
          "customs_region": "Lorient",
          "value": 5189009.419081001
         },
         {
          "customs_region": "Lyon",
          "value": 4429407.8006872395
         },
         {
          "customs_region": "Marseille",
          "value": 131546378.56101577
         },
         {
          "customs_region": "Montpellier",
          "value": 2794673.496921799
         },
         {
          "customs_region": "Nantes",
          "value": 55708633.02290355
         },
         {
          "customs_region": "Narbonne",
          "value": 329695.6284426
         },
         {
          "customs_region": "Rouen",
          "value": 108058409
         },
         {
          "customs_region": "Saint-Malo",
          "value": 3969210.915390069
         },
         {
          "customs_region": "Saint-Quentin",
          "value": 6398
         },
         {
          "customs_region": "Soisson",
          "value": 39970
         },
         {
          "customs_region": "Toulon",
          "value": 3251672.523802912
         },
         {
          "customs_region": "Valenciennes",
          "value": 5695170
         }
        ]
       },
       "encoding": {
        "x": {
         "field": "customs_region",
         "sort": "-y",
         "title": "customs region",
         "type": "nominal"
        },
        "y": {
         "field": "value",
         "title": "value",
         "type": "quantitative"
        }
       },
       "mark": "bar",
       "title": "Valeur des imports depuis les plus importantes directions de ferme"
      },
      "image/png": "[encoded data removed]"
     },
     "metadata": {},
     "output_type": "display_data"
    }
   ],
   "source": [
    "VegaLite({\n",
    "    \"$schema\": \"https://vega.github.io/schema/vega-lite/v5.json\",\n",
    "    \"title\": \"Valeur des imports depuis les plus importantes directions de ferme\",\n",
    "    \"mark\": \"bar\",\n",
    "    \"data\": {\n",
    "        \"values\": data\n",
    "    },\n",
    "    \"encoding\": {\n",
    "        \"y\": {\n",
    "            \"field\": \"value\",\n",
    "            \"type\": \"quantitative\", \n",
    "            \"title\": \"value\"\n",
    "        },\n",
    "        \"x\": {\n",
    "            \"field\": \"customs_region\",\n",
    "            \"type\": \"nominal\",\n",
    "            \"title\": \"customs region\",\n",
    "            \"sort\": \"-y\"\n",
    "        }\n",
    "    }\n",
    "})"
   ]
  },
  {
   "cell_type": "code",
   "execution_count": null,
   "id": "de0b03c7",
   "metadata": {},
   "outputs": [],
   "source": []
  }
 ],
 "metadata": {
  "kernelspec": {
   "display_name": "Python 3 (ipykernel)",
   "language": "python",
   "name": "python3"
  },
  "language_info": {
   "codemirror_mode": {
    "name": "ipython",
    "version": 3
   },
   "file_extension": ".py",
   "mimetype": "text/x-python",
   "name": "python",
   "nbconvert_exporter": "python",
   "pygments_lexer": "ipython3",
   "version": "3.11.0"
  }
 },
 "nbformat": 4,
 "nbformat_minor": 5
}
