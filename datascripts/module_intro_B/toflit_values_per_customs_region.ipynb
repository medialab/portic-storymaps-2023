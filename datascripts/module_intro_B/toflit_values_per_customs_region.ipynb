{
 "cells": [
  {
   "cell_type": "code",
   "execution_count": null,
   "id": "db9be740-5af1-41fb-afad-0a0fc49ded59",
   "metadata": {
    "tags": []
   },
   "outputs": [],
   "source": [
    "# pip install duckdb==0.7.0"
   ]
  },
  {
   "cell_type": "code",
   "execution_count": null,
   "id": "ca2c8bbe",
   "metadata": {},
   "outputs": [],
   "source": [
    "from IPython.display import display\n",
    "import altair as alt\n",
    "from altair.utils.data import to_values\n",
    "\n",
    "def VegaLite(spec):\n",
    "    bundle = {}\n",
    "    bundle['application/vnd.vegalite.v4+json'] = spec\n",
    "    display(bundle, raw=True)"
   ]
  },
  {
   "cell_type": "code",
   "execution_count": 1,
   "id": "1f44a6b0",
   "metadata": {},
   "outputs": [
    {
     "data": {
      "text/plain": [
       "┌──────────────────────┬──────────┬───┬───────────────┬──────────────────────┬──────────────────────┐\n",
       "│    customs_office    │  value   │ … │ export_import │ best_guess_region_…  │ product_sitc_simplEN │\n",
       "│       varchar        │  float   │   │    varchar    │       varchar        │       varchar        │\n",
       "├──────────────────────┼──────────┼───┼───────────────┼──────────────────────┼──────────────────────┤\n",
       "│ Dunkerque-Basseville │  14482.5 │ … │ Exports       │ 1                    │ Chemical products    │\n",
       "│ Dunkerque-Basseville │  81015.5 │ … │ Exports       │ 1                    │ Other foodstuffs a…  │\n",
       "│ Dunkerque-Basseville │ 200467.5 │ … │ Exports       │ 1                    │ Leather, wood and …  │\n",
       "│ Dunkerque-Basseville │    180.0 │ … │ Exports       │ 1                    │ Chemical products    │\n",
       "│ Dunkerque-Basseville │   5700.0 │ … │ Exports       │ 1                    │ Other industrial p…  │\n",
       "│ Dunkerque-Basseville │    450.0 │ … │ Exports       │ 1                    │ Leather, wood and …  │\n",
       "│ Dunkerque-Basseville │   2018.4 │ … │ Exports       │ 1                    │ Other industrial p…  │\n",
       "│ Dunkerque-Basseville │     34.0 │ … │ Exports       │ 1                    │ Leather, wood and …  │\n",
       "│ Dunkerque-Basseville │   1944.0 │ … │ Exports       │ 1                    │ Other industrial p…  │\n",
       "│ Dunkerque-Basseville │    168.0 │ … │ Exports       │ 1                    │ Coton threads and …  │\n",
       "│   ·                  │      ·   │ · │    ·          │ ·                    │   ·                  │\n",
       "│   ·                  │      ·   │ · │    ·          │ ·                    │   ·                  │\n",
       "│   ·                  │      ·   │ · │    ·          │ ·                    │   ·                  │\n",
       "│ Rocroy               │    200.0 │ … │ Exports       │ 1                    │ Other                │\n",
       "│ Rocroy               │    797.0 │ … │ Exports       │ 1                    │ Other industrial p…  │\n",
       "│ Rocroy               │   1006.0 │ … │ Exports       │ 1                    │ Other industrial p…  │\n",
       "│ Rocroy               │   4100.0 │ … │ Exports       │ 1                    │ Other                │\n",
       "│ Rocroy               │    756.0 │ … │ Exports       │ 1                    │ Other industrial p…  │\n",
       "│ Rocroy               │   1472.0 │ … │ Exports       │ 1                    │ Wool threads and f…  │\n",
       "│ Rocroy               │   2628.0 │ … │ Exports       │ 1                    │ Wool threads and f…  │\n",
       "│ Rocroy               │   2985.0 │ … │ Exports       │ 1                    │ Wool threads and f…  │\n",
       "│ Rocroy               │    711.0 │ … │ Exports       │ 1                    │ Wool threads and f…  │\n",
       "│ Rocroy               │    107.0 │ … │ Exports       │ 1                    │ Crude materials, i…  │\n",
       "├──────────────────────┴──────────┴───┴───────────────┴──────────────────────┴──────────────────────┤\n",
       "│ ? rows (>9999 rows, 20 shown)                                                 7 columns (5 shown) │\n",
       "└───────────────────────────────────────────────────────────────────────────────────────────────────┘"
      ]
     },
     "execution_count": 1,
     "metadata": {},
     "output_type": "execute_result"
    }
   ],
   "source": [
    "import duckdb\n",
    "csv = '../../data/toflit18_all_flows.csv'\n",
    "select_all_flows = duckdb.sql(f\"\"\"\n",
    "SELECT  customs_office,\n",
    "        TRY_CAST(value AS FLOAT) as value,\n",
    "        partner_grouping, year, export_import,\n",
    "        best_guess_region_prodxpart,\n",
    "        product_sitc_simplEN\n",
    "FROM read_csv_auto('{csv}', ALL_VARCHAR=TRUE)\n",
    "\"\"\")\n",
    "duckdb.sql('FROM select_all_flows WHERE customs_office IS NOT NULL')"
   ]
  },
  {
   "cell_type": "code",
   "execution_count": null,
   "id": "ac0ecc51-2b56-48db-90a5-3f3e93c31293",
   "metadata": {
    "tags": []
   },
   "outputs": [],
   "source": [
    "def aggregate_and_visualize(data, filters, title):\n",
    "    list_of_regions_values = duckdb.sql(filters)\n",
    "\n",
    "    values_per_customs_region = list_of_regions_values.aggregate(\"\"\"\n",
    "    customs_office,\n",
    "    SUM(value) as total_value\n",
    "    \"\"\")\n",
    "    ordered = duckdb.sql(\"\"\"\n",
    "    SELECT *\n",
    "    FROM values_per_customs_region\n",
    "    ORDER BY total_value DESC\n",
    "    \"\"\")\n",
    "    \n",
    "    limited = ordered.limit(20)\n",
    "    \n",
    "    values = limited.fetchall()\n",
    "    columns = limited.columns\n",
    "    \n",
    "    data = [ dict(zip(columns, row)) for row in values]\n",
    "    \n",
    "    VegaLite({\n",
    "        \"$schema\": \"https://vega.github.io/schema/vega-lite/v5.json\",\n",
    "        \"title\": title,\n",
    "        \"mark\": \"bar\",\n",
    "        \"data\": {\n",
    "            \"values\": data\n",
    "        },\n",
    "        \"encoding\": {\n",
    "            \"y\": {\n",
    "                \"field\": \"total_value\",\n",
    "                \"type\": \"quantitative\", \n",
    "                \"title\": \"Valeur\"\n",
    "            },\n",
    "            \"x\": {\n",
    "                \"field\": \"customs_office\",\n",
    "                \"type\": \"nominal\",\n",
    "                \"title\": \"Les 20 plus importants bureaux de ferme\",\n",
    "                \"sort\": \"-y\"\n",
    "            }\n",
    "        }\n",
    "    })\n",
    "\n",
    "common_filters=\"\"\"\n",
    "    FROM select_all_flows\n",
    "    WHERE customs_office IS NOT NULL\n",
    "    AND value IS NOT NULL\n",
    "    AND best_guess_region_prodxpart = '1'\n",
    "    AND partner_grouping != 'France'\n",
    "    AND year = '1789'\n",
    "\"\"\""
   ]
  },
  {
   "cell_type": "code",
   "execution_count": null,
   "id": "c2deb10b-c49a-4d79-8934-bd20cee82df4",
   "metadata": {
    "tags": []
   },
   "outputs": [],
   "source": [
    "exports_all_but_france = f\"\"\"\n",
    "    {common_filters}\n",
    "    AND export_import = 'Exports'\n",
    "    \"\"\"\n",
    "\n",
    "aggregate_and_visualize(\n",
    "    select_all_flows,\n",
    "    exports_all_but_france,\n",
    "    'Valeur des exports de tout partenaire hors de la France en 1789'\n",
    ")"
   ]
  },
  {
   "cell_type": "code",
   "execution_count": null,
   "id": "ac206851-6e4d-474d-9f6a-4500a2b72055",
   "metadata": {
    "tags": []
   },
   "outputs": [],
   "source": [
    "exports_all_but_france_and_monde = f\"\"\"\n",
    "    {common_filters}\n",
    "    AND export_import = 'Exports'\n",
    "    AND product_sitc_simplEN != 'Plantation foodstuffs'\n",
    "    \"\"\"\n",
    "aggregate_and_visualize(\n",
    "    select_all_flows,\n",
    "    exports_all_but_france_and_monde,\n",
    "    'Valeur des exports de tout partenaire hors de la France en 1789 sauf les colonies')"
   ]
  },
  {
   "cell_type": "code",
   "execution_count": null,
   "id": "976abb6d",
   "metadata": {},
   "outputs": [],
   "source": [
    "imports_all_but_france = f\"\"\"\n",
    "    {common_filters}\n",
    "    AND export_import = 'Imports'\n",
    "    \"\"\"\n",
    "\n",
    "aggregate_and_visualize(\n",
    "    select_all_flows,\n",
    "    imports_all_but_france,\n",
    "    'Valeur des imports de tout partenaire hors de la France en 1789'\n",
    ")"
   ]
  },
  {
   "cell_type": "code",
   "execution_count": null,
   "id": "de0b03c7",
   "metadata": {},
   "outputs": [],
   "source": [
    "imports_all_but_france_and_monde = f\"\"\"\n",
    "    {common_filters}\n",
    "    AND export_import = 'Imports'\n",
    "    AND product_sitc_simplEN != 'Plantation foodstuffs'\n",
    "    \"\"\"\n",
    "\n",
    "aggregate_and_visualize(\n",
    "    select_all_flows,\n",
    "    imports_all_but_france_and_monde,\n",
    "    'Valeur des imports de tout partenaire hors de la France en 1789 sauf les colonies'\n",
    ")"
   ]
  },
  {
   "cell_type": "code",
   "execution_count": null,
   "id": "9ff1a333-40ec-4b5e-9e95-08943b46cf7f",
   "metadata": {},
   "outputs": [],
   "source": []
  }
 ],
 "metadata": {
  "kernelspec": {
   "display_name": "Python 3 (ipykernel)",
   "language": "python",
   "name": "python3"
  },
  "language_info": {
   "codemirror_mode": {
    "name": "ipython",
    "version": 3
   },
   "file_extension": ".py",
   "mimetype": "text/x-python",
   "name": "python",
   "nbconvert_exporter": "python",
   "pygments_lexer": "ipython3",
   "version": "3.11.0"
  }
 },
 "nbformat": 4,
 "nbformat_minor": 5
}
