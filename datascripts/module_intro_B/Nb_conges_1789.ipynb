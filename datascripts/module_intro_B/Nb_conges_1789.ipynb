{
 "cells": [
  {
   "cell_type": "code",
   "execution_count": 23,
   "id": "d37d4691-7a09-4e03-8ec5-a0f980e943b7",
   "metadata": {
    "tags": []
   },
   "outputs": [],
   "source": [
    "\n",
    "from IPython.display import display\n",
    "import pandas as pd\n",
    "import altair as alt\n",
    "from altair.utils.data import to_values\n",
    "\n",
    "def VegaLite(spec):\n",
    "    bundle = {}\n",
    "    bundle['application/vnd.vegalite.v4+json'] = spec\n",
    "    display(bundle, raw=True)"
   ]
  },
  {
   "cell_type": "code",
   "execution_count": 6,
   "id": "2fb18d78-5c8c-4755-aeb2-79621bcea4f4",
   "metadata": {
    "tags": []
   },
   "outputs": [],
   "source": [
    "conges = pd.read_csv(\"../../data/decompte_sources_saisies_15.02.2023.csv\", sep=\";\")"
   ]
  },
  {
   "cell_type": "code",
   "execution_count": 8,
   "id": "baf01a4f-e06f-4e1b-b4da-6a453e3a8ad5",
   "metadata": {
    "tags": []
   },
   "outputs": [],
   "source": [
    "conges = conges[conges.annee == 1789]"
   ]
  },
  {
   "cell_type": "code",
   "execution_count": 14,
   "id": "ae829a4f-2e1e-4ac1-8d49-5081e04ec196",
   "metadata": {
    "tags": []
   },
   "outputs": [],
   "source": [
    "conges = conges.sort_values(\"nb_conges_cr\", ascending=False)"
   ]
  },
  {
   "cell_type": "code",
   "execution_count": 16,
   "id": "b5000a79-f014-4bb4-930b-62ca2ae811a7",
   "metadata": {
    "tags": []
   },
   "outputs": [],
   "source": [
    "first_conges = conges[:20]"
   ]
  },
  {
   "cell_type": "code",
   "execution_count": 29,
   "id": "71a5cde2-7fe9-4382-87b7-02d360bfa54d",
   "metadata": {
    "tags": []
   },
   "outputs": [],
   "source": [
    "first_conges_list = [dict(row) for i, row in first_conges.iterrows()]"
   ]
  },
  {
   "cell_type": "code",
   "execution_count": 35,
   "id": "9ea38e21-3e1b-441c-a60a-cfca10dde5db",
   "metadata": {
    "tags": []
   },
   "outputs": [
    {
     "data": {
      "application/vnd.vegalite.v4+json": {
       "$schema": "https://vega.github.io/schema/vega-lite/v5.json",
       "data": {
        "values": [
         {
          "annee": 1789,
          "nb_conges_cr": 4353,
          "nb_conges_inputdone": "nan",
          "nb_conges_sante": 3084,
          "nb_longcours_marseille": 119,
          "nb_petitcabotage": 2416,
          "toponyme_standard_fr": "Marseille",
          "uhgs_id": "A0210797"
         },
         {
          "annee": 1789,
          "nb_conges_cr": 2622,
          "nb_conges_inputdone": "nan",
          "nb_conges_sante": "nan",
          "nb_longcours_marseille": "nan",
          "nb_petitcabotage": "nan",
          "toponyme_standard_fr": "Le Havre",
          "uhgs_id": "A0187101"
         },
         {
          "annee": 1789,
          "nb_conges_cr": 2599,
          "nb_conges_inputdone": 2596,
          "nb_conges_sante": "nan",
          "nb_longcours_marseille": "nan",
          "nb_petitcabotage": "nan",
          "toponyme_standard_fr": "Dunkerque",
          "uhgs_id": "A0204180"
         },
         {
          "annee": 1789,
          "nb_conges_cr": 2495,
          "nb_conges_inputdone": "nan",
          "nb_conges_sante": "nan",
          "nb_longcours_marseille": "nan",
          "nb_petitcabotage": "nan",
          "toponyme_standard_fr": "Rouen",
          "uhgs_id": "A0122218"
         },
         {
          "annee": 1789,
          "nb_conges_cr": 2137,
          "nb_conges_inputdone": "nan",
          "nb_conges_sante": "nan",
          "nb_longcours_marseille": "nan",
          "nb_petitcabotage": "nan",
          "toponyme_standard_fr": "Bordeaux",
          "uhgs_id": "A0180923"
         },
         {
          "annee": 1789,
          "nb_conges_cr": 1568,
          "nb_conges_inputdone": "nan",
          "nb_conges_sante": "nan",
          "nb_longcours_marseille": "nan",
          "nb_petitcabotage": "nan",
          "toponyme_standard_fr": "Boulogne-sur-Mer",
          "uhgs_id": "A0152606"
         },
         {
          "annee": 1789,
          "nb_conges_cr": 1480,
          "nb_conges_inputdone": 1481,
          "nb_conges_sante": "nan",
          "nb_longcours_marseille": "nan",
          "nb_petitcabotage": "nan",
          "toponyme_standard_fr": "Marennes",
          "uhgs_id": "A0136930"
         },
         {
          "annee": 1789,
          "nb_conges_cr": 1388,
          "nb_conges_inputdone": "nan",
          "nb_conges_sante": "nan",
          "nb_longcours_marseille": "nan",
          "nb_petitcabotage": "nan",
          "toponyme_standard_fr": "Cap-Français",
          "uhgs_id": "B2048070"
         },
         {
          "annee": 1789,
          "nb_conges_cr": 1376,
          "nb_conges_inputdone": "nan",
          "nb_conges_sante": "nan",
          "nb_longcours_marseille": "nan",
          "nb_petitcabotage": "nan",
          "toponyme_standard_fr": "Nantes",
          "uhgs_id": "A0124817"
         },
         {
          "annee": 1789,
          "nb_conges_cr": 1140,
          "nb_conges_inputdone": 1060,
          "nb_conges_sante": "nan",
          "nb_longcours_marseille": "nan",
          "nb_petitcabotage": "nan",
          "toponyme_standard_fr": "La Rochelle",
          "uhgs_id": "A0198999"
         },
         {
          "annee": 1789,
          "nb_conges_cr": 923,
          "nb_conges_inputdone": "nan",
          "nb_conges_sante": "nan",
          "nb_longcours_marseille": "nan",
          "nb_petitcabotage": "nan",
          "toponyme_standard_fr": "Saint-Malo",
          "uhgs_id": "A0170819"
         },
         {
          "annee": 1789,
          "nb_conges_cr": 806,
          "nb_conges_inputdone": "nan",
          "nb_conges_sante": "nan",
          "nb_longcours_marseille": "nan",
          "nb_petitcabotage": "nan",
          "toponyme_standard_fr": "Toulon",
          "uhgs_id": "A0200330"
         },
         {
          "annee": 1789,
          "nb_conges_cr": 752,
          "nb_conges_inputdone": "nan",
          "nb_conges_sante": "nan",
          "nb_longcours_marseille": "nan",
          "nb_petitcabotage": "nan",
          "toponyme_standard_fr": "Dieppe",
          "uhgs_id": "A0130761"
         },
         {
          "annee": 1789,
          "nb_conges_cr": 724,
          "nb_conges_inputdone": "nan",
          "nb_conges_sante": "nan",
          "nb_longcours_marseille": "nan",
          "nb_petitcabotage": "nan",
          "toponyme_standard_fr": "Lorient",
          "uhgs_id": "A0140266"
         },
         {
          "annee": 1789,
          "nb_conges_cr": 676,
          "nb_conges_inputdone": "nan",
          "nb_conges_sante": "nan",
          "nb_longcours_marseille": "nan",
          "nb_petitcabotage": "nan",
          "toponyme_standard_fr": "Honfleur",
          "uhgs_id": "A0187836"
         },
         {
          "annee": 1789,
          "nb_conges_cr": 626,
          "nb_conges_inputdone": 630,
          "nb_conges_sante": "nan",
          "nb_longcours_marseille": "nan",
          "nb_petitcabotage": "nan",
          "toponyme_standard_fr": "Marans",
          "uhgs_id": "A1964694"
         },
         {
          "annee": 1789,
          "nb_conges_cr": 625,
          "nb_conges_inputdone": "nan",
          "nb_conges_sante": "nan",
          "nb_longcours_marseille": "nan",
          "nb_petitcabotage": "nan",
          "toponyme_standard_fr": "Sète",
          "uhgs_id": "A0170986"
         },
         {
          "annee": 1789,
          "nb_conges_cr": 623,
          "nb_conges_inputdone": "nan",
          "nb_conges_sante": "nan",
          "nb_longcours_marseille": "nan",
          "nb_petitcabotage": "nan",
          "toponyme_standard_fr": "Bayonne",
          "uhgs_id": "A0187995"
         },
         {
          "annee": 1789,
          "nb_conges_cr": 601,
          "nb_conges_inputdone": 601,
          "nb_conges_sante": "nan",
          "nb_longcours_marseille": "nan",
          "nb_petitcabotage": "nan",
          "toponyme_standard_fr": "Tonnay-Charente",
          "uhgs_id": "A0171758"
         },
         {
          "annee": 1789,
          "nb_conges_cr": 463,
          "nb_conges_inputdone": "nan",
          "nb_conges_sante": "nan",
          "nb_longcours_marseille": "nan",
          "nb_petitcabotage": "nan",
          "toponyme_standard_fr": "Arles",
          "uhgs_id": "A0139070"
         }
        ]
       },
       "encoding": {
        "x": {
         "field": "toponyme_standard_fr",
         "sort": "-y",
         "title": "port",
         "type": "nominal"
        },
        "y": {
         "field": "nb_conges_cr",
         "title": "nombre de congés",
         "type": "quantitative"
        }
       },
       "mark": "bar",
       "title": "Total des congés delivrés en 1789"
      },
      "image/png": "[encoded data removed]"
     },
     "metadata": {},
     "output_type": "display_data"
    }
   ],
   "source": [
    "VegaLite({\n",
    "    \"$schema\": \"https://vega.github.io/schema/vega-lite/v5.json\",\n",
    "    \"title\": \"Total des congés delivrés en 1789\",\n",
    "    \"mark\": \"bar\",\n",
    "    \"data\": {\n",
    "        \"values\": first_conges_list\n",
    "    },\n",
    "    \"encoding\": {\n",
    "        \"y\": {\n",
    "            \"field\": \"nb_conges_cr\",\n",
    "            \"type\": \"quantitative\", \n",
    "            \"title\": \"nombre de congés\"\n",
    "        },\n",
    "        \"x\": {\n",
    "            \"field\": \"toponyme_standard_fr\",\n",
    "            \"type\": \"nominal\",\n",
    "            \"title\": \"port\",\n",
    "            \"sort\": \"-y\"\n",
    "        }\n",
    "    }\n",
    "})"
   ]
  },
  {
   "cell_type": "code",
   "execution_count": null,
   "id": "8539179a-3efa-471d-abbf-dfe3f194d3e4",
   "metadata": {},
   "outputs": [],
   "source": []
  }
 ],
 "metadata": {
  "kernelspec": {
   "display_name": "Python 3 (ipykernel)",
   "language": "python",
   "name": "python3"
  },
  "language_info": {
   "codemirror_mode": {
    "name": "ipython",
    "version": 3
   },
   "file_extension": ".py",
   "mimetype": "text/x-python",
   "name": "python",
   "nbconvert_exporter": "python",
   "pygments_lexer": "ipython3",
   "version": "3.8.2"
  }
 },
 "nbformat": 4,
 "nbformat_minor": 5
}
