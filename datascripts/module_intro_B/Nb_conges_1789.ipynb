{
 "cells": [
  {
   "cell_type": "code",
   "execution_count": null,
   "id": "d37d4691-7a09-4e03-8ec5-a0f980e943b7",
   "metadata": {
    "tags": []
   },
   "outputs": [],
   "source": [
    "\n",
    "from IPython.display import display\n",
    "import pandas as pd\n",
    "\n",
    "def VegaLite(spec):\n",
    "    bundle = {}\n",
    "    bundle['application/vnd.vegalite.v4+json'] = spec\n",
    "    display(bundle, raw=True)"
   ]
  },
  {
   "cell_type": "code",
   "execution_count": null,
   "id": "2fb18d78-5c8c-4755-aeb2-79621bcea4f4",
   "metadata": {
    "tags": []
   },
   "outputs": [],
   "source": [
    "conges = pd.read_csv(\"../../data/decompte_sources_saisies_15.02.2023.csv\", sep=\";\")"
   ]
  },
  {
   "cell_type": "code",
   "execution_count": null,
   "id": "baf01a4f-e06f-4e1b-b4da-6a453e3a8ad5",
   "metadata": {
    "tags": []
   },
   "outputs": [],
   "source": [
    "conges = conges[conges.annee == 1789]"
   ]
  },
  {
   "cell_type": "code",
   "execution_count": null,
   "id": "ae829a4f-2e1e-4ac1-8d49-5081e04ec196",
   "metadata": {
    "tags": []
   },
   "outputs": [],
   "source": [
    "conges = conges.sort_values(\"nb_conges_cr\", ascending=False)"
   ]
  },
  {
   "cell_type": "code",
   "execution_count": null,
   "id": "b5000a79-f014-4bb4-930b-62ca2ae811a7",
   "metadata": {
    "tags": []
   },
   "outputs": [],
   "source": [
    "first_conges = conges[:20]"
   ]
  },
  {
   "cell_type": "code",
   "execution_count": null,
   "id": "71a5cde2-7fe9-4382-87b7-02d360bfa54d",
   "metadata": {
    "tags": []
   },
   "outputs": [],
   "source": [
    "first_conges_list = [dict(row) for i, row in first_conges.iterrows()]"
   ]
  },
  {
   "cell_type": "code",
   "execution_count": null,
   "id": "9ea38e21-3e1b-441c-a60a-cfca10dde5db",
   "metadata": {
    "tags": []
   },
   "outputs": [],
   "source": [
    "VegaLite({\n",
    "    \"$schema\": \"https://vega.github.io/schema/vega-lite/v5.json\",\n",
    "    \"title\": \"Total des congés delivrés en 1789\",\n",
    "    \"mark\": \"bar\",\n",
    "    \"data\": {\n",
    "        \"values\": first_conges_list\n",
    "    },\n",
    "    \"encoding\": {\n",
    "        \"y\": {\n",
    "            \"field\": \"nb_conges_cr\",\n",
    "            \"type\": \"quantitative\", \n",
    "            \"title\": \"nombre de congés\"\n",
    "        },\n",
    "        \"x\": {\n",
    "            \"field\": \"toponyme_standard_fr\",\n",
    "            \"type\": \"nominal\",\n",
    "            \"title\": \"port\",\n",
    "            \"sort\": \"-y\"\n",
    "        }\n",
    "    }\n",
    "})"
   ]
  },
  {
   "cell_type": "code",
   "execution_count": null,
   "id": "8539179a-3efa-471d-abbf-dfe3f194d3e4",
   "metadata": {},
   "outputs": [],
   "source": []
  }
 ],
 "metadata": {
  "kernelspec": {
   "display_name": "Python 3 (ipykernel)",
   "language": "python",
   "name": "python3"
  },
  "language_info": {
   "codemirror_mode": {
    "name": "ipython",
    "version": 3
   },
   "file_extension": ".py",
   "mimetype": "text/x-python",
   "name": "python",
   "nbconvert_exporter": "python",
   "pygments_lexer": "ipython3",
   "version": "3.8.2"
  }
 },
 "nbformat": 4,
 "nbformat_minor": 5
}
