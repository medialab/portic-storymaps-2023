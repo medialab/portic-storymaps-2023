{
 "cells": [
  {
   "attachments": {},
   "cell_type": "markdown",
   "metadata": {},
   "source": [
    "# Sortie arrière-pays G5 1789 ; récupération des données pour avoir les congés par ports et par provinces associés"
   ]
  },
  {
   "attachments": {},
   "cell_type": "markdown",
   "metadata": {},
   "source": [
    "Récupérer les données du document decompte_sources_saisies"
   ]
  },
  {
   "cell_type": "code",
   "execution_count": null,
   "metadata": {},
   "outputs": [],
   "source": [
    "import requests\n",
    "import csv\n",
    "from pprint import pprint\n",
    "\n",
    "def get_online_csv(url):\n",
    "  results = []\n",
    "  with requests.Session() as s:\n",
    "      download = s.get(url)\n",
    "      decoded_content = download.content.decode('utf-8')\n",
    "      reader = csv.DictReader(decoded_content.splitlines(), delimiter=',')\n",
    "      for row in reader:\n",
    "        results.append(dict(row))\n",
    "  return results\n",
    "\n",
    "sorties_g5 = 'https://docs.google.com/spreadsheets/d/e/2PACX-1vRNAeIEFhB_RTm2xBgeuXl5oMtNIrGhWT6uCB2S9wEUblwDidRBwv9dp8D0S-YIPUyoASaG2p-NgfWD/pub?output=csv'\n",
    "\n",
    "sorties_g5 = get_online_csv(sorties_g5)\n",
    "\n",
    "pprint(sorties_g5[0])\n",
    "\n",
    "print(type(sorties_g5))"
   ]
  },
  {
   "attachments": {},
   "cell_type": "markdown",
   "metadata": {},
   "source": [
    "Récupérer les provinces des pointcalls pour cibler l'arrière pays"
   ]
  },
  {
   "cell_type": "code",
   "execution_count": null,
   "metadata": {},
   "outputs": [],
   "source": [
    "pip install pandas"
   ]
  },
  {
   "cell_type": "code",
   "execution_count": null,
   "metadata": {},
   "outputs": [],
   "source": [
    "from csv import DictReader\n",
    "import pandas as pd\n",
    "\n",
    "with open('../../data/navigo_all_pointcalls.csv', newline='', encoding='utf8') as csvfile:\n",
    "    pointcalls = pd.read_csv(csvfile, sep=',')"
   ]
  },
  {
   "cell_type": "code",
   "execution_count": null,
   "metadata": {},
   "outputs": [],
   "source": [
    "pointcalls.info()\n",
    "pointcalls"
   ]
  },
  {
   "cell_type": "code",
   "execution_count": null,
   "metadata": {},
   "outputs": [],
   "source": [
    "data = pointcalls[['toponyme_fr', 'pointcall_province']]\n",
    "\n",
    "data"
   ]
  },
  {
   "attachments": {},
   "cell_type": "markdown",
   "metadata": {},
   "source": [
    "Cibler l'arrière pays dans tous les pointcalls"
   ]
  },
  {
   "cell_type": "code",
   "execution_count": null,
   "metadata": {},
   "outputs": [],
   "source": [
    "arriere_pays = [\"Corse\", \"Provence\", \"Languedoc\", \"Roussillon\"]\n",
    "\n",
    "subset_data = data[data['pointcall_province'].isin(arriere_pays)]\n",
    "subset_data"
   ]
  },
  {
   "attachments": {},
   "cell_type": "markdown",
   "metadata": {},
   "source": [
    "Supprimer les doublons "
   ]
  },
  {
   "cell_type": "code",
   "execution_count": null,
   "metadata": {},
   "outputs": [],
   "source": [
    "subset_data.drop_duplicates(keep = 'first', inplace=True)\n",
    "subset_data"
   ]
  },
  {
   "attachments": {},
   "cell_type": "markdown",
   "metadata": {},
   "source": [
    "Jointure province des pointcalls avec le décompte des sorties G5 en 1789"
   ]
  },
  {
   "cell_type": "code",
   "execution_count": null,
   "metadata": {},
   "outputs": [],
   "source": [
    "df_sorties_g5 = pd.DataFrame(sorties_g5, columns =['annee', \n",
    "                                                  'nb_conges_cr',\n",
    "                                                  'nb_conges_inputdone',\n",
    "                                                  'nb_conges_sante',\n",
    "                                                  'nb_longcours_marseille',\n",
    "                                                  'nb_petitcabotage',\n",
    "                                                  'toponyme_standard_fr',\n",
    "                                                  'uhgs_id'\n",
    "                                                  ])\n",
    "\n",
    "sortie_arriere_pays = pd.merge(df_sorties_g5, subset_data, left_on='toponyme_standard_fr', right_on='toponyme_fr')\n",
    "sortie_arriere_pays"
   ]
  },
  {
   "attachments": {},
   "cell_type": "markdown",
   "metadata": {},
   "source": [
    "Filtrer par année 1789, et uniquement les noms des ports et leur province associées\n"
   ]
  },
  {
   "cell_type": "code",
   "execution_count": null,
   "metadata": {},
   "outputs": [],
   "source": [
    "sortie_arriere_pays_1789 = sortie_arriere_pays[sortie_arriere_pays['annee'] == '1789']\n",
    "sortie_arriere_pays_1789 = sortie_arriere_pays_1789[['nb_conges_cr', 'toponyme_fr', 'pointcall_province']]\n",
    "sortie_arriere_pays_1789 "
   ]
  },
  {
   "cell_type": "code",
   "execution_count": null,
   "metadata": {},
   "outputs": [],
   "source": [
    "from IPython.display import display\n",
    "\n",
    "def VegaLite(spec):\n",
    "    bundle = {}\n",
    "    bundle['application/vnd.vegalite.v4+json'] = spec\n",
    "    display(bundle, raw=True)"
   ]
  },
  {
   "cell_type": "code",
   "execution_count": null,
   "metadata": {},
   "outputs": [],
   "source": [
    "dict_sortie_arriere_pays_1789 = sortie_arriere_pays_1789.to_dict('records')\n",
    "\n",
    "pprint(dict_sortie_arriere_pays_1789)"
   ]
  },
  {
   "attachments": {},
   "cell_type": "markdown",
   "metadata": {},
   "source": [
    "Nombre de congés en fonction du port"
   ]
  },
  {
   "cell_type": "code",
   "execution_count": null,
   "metadata": {},
   "outputs": [],
   "source": [
    "VegaLite({\n",
    "    \"$schema\": \"https://vega.github.io/schema/vega-lite/v5.json\",\n",
    "    \"title\": \"Nombre de congés en fonction du port\",\n",
    "    \"mark\": {\n",
    "        \"tooltip\": {\n",
    "         \"content\": \"data\"\n",
    "        },\n",
    "        \"type\": \"bar\" #type de visualisation (ici rectangle)\n",
    "    },\n",
    "    \"data\": {\n",
    "        \"values\": dict_sortie_arriere_pays_1789 #mettre la liste des données\n",
    "    },\n",
    "    \"encoding\": {\n",
    "        \"x\": {\n",
    "            \"field\": \"nb_conges_cr\",\n",
    "            \"type\": \"quantitative\", #ou nominal \n",
    "            \"title\": \"conges\",\n",
    "            \"axis\": {\n",
    "                \"orient\": \"top\"\n",
    "            }\n",
    "        },\n",
    "        \"y\": {\n",
    "            \"field\": \"toponyme_fr\",\n",
    "            \"type\": \"nominal\",\n",
    "            \"title\": \"port\",\n",
    "            \"sort\": {\"field\" : \"nb_conges_cr\",\n",
    "                     \"order\": \"descending\"}\n",
    "        },\n",
    "    }\n",
    "})\n"
   ]
  },
  {
   "attachments": {},
   "cell_type": "markdown",
   "metadata": {},
   "source": [
    "Nombre de congés en fonction de la province"
   ]
  },
  {
   "cell_type": "code",
   "execution_count": null,
   "metadata": {},
   "outputs": [],
   "source": [
    "VegaLite({\n",
    "    \"$schema\": \"https://vega.github.io/schema/vega-lite/v5.json\",\n",
    "    \"title\": \"Nombre de congés en fonction de la province\",\n",
    "    \"mark\": {\n",
    "        \"tooltip\": {\n",
    "         \"content\": \"data\"\n",
    "        },\n",
    "        \"type\": \"bar\" #type de visualisation (ici rectangle)\n",
    "    },\n",
    "    \"data\": {\n",
    "        \"values\": dict_sortie_arriere_pays_1789 #mettre la liste des données\n",
    "    },\n",
    "    \"encoding\": {\n",
    "        \"x\": {\n",
    "            \"field\": \"nb_conges_cr\",\n",
    "            \"type\": \"quantitative\", #ou nominal \n",
    "            \"title\": \"conges\",\n",
    "            \"axis\": {\n",
    "                \"orient\": \"top\"\n",
    "            }\n",
    "        },\n",
    "        \"y\": {\n",
    "            \"field\": \"pointcall_province\",\n",
    "            \"type\": \"nominal\",\n",
    "            \"title\": \"port\",\n",
    "            \"sort\": {\"field\" : \"nb_conges_cr\",\n",
    "                     \"order\": \"descending\"}\n",
    "        },\n",
    "    }\n",
    "})\n"
   ]
  }
 ],
 "metadata": {
  "kernelspec": {
   "display_name": "Python 3",
   "language": "python",
   "name": "python3"
  },
  "language_info": {
   "codemirror_mode": {
    "name": "ipython",
    "version": 3
   },
   "file_extension": ".py",
   "mimetype": "text/x-python",
   "name": "python",
   "nbconvert_exporter": "python",
   "pygments_lexer": "ipython3",
   "version": "3.8.14"
  },
  "orig_nbformat": 4,
  "vscode": {
   "interpreter": {
    "hash": "d0a0fda81e871a488515550ff9eda7570f03c43328c7ae4915d98c868a556550"
   }
  }
 },
 "nbformat": 4,
 "nbformat_minor": 2
}
