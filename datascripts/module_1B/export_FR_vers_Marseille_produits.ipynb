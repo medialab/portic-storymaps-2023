{
 "cells": [
  {
   "attachments": {},
   "cell_type": "markdown",
   "id": "9e8fee14",
   "metadata": {},
   "source": [
    "# Récuperer les données"
   ]
  },
  {
   "cell_type": "code",
   "execution_count": null,
   "id": "e6f05f2f-a8bb-48c0-8425-9ea3d5b14965",
   "metadata": {},
   "outputs": [],
   "source": [
    "import duckdb\n",
    "\n",
    "# Le dataset\n",
    "csv = '../../data/toflit18_all_flows.csv'\n",
    "\n",
    "# Lire le csv et l'envoyer comme une relation (table)\n",
    "toflit18_flows = duckdb.sql(f\"\"\"\n",
    "SELECT  customs_region,\n",
    "        CAST(value AS FLOAT) as value,\n",
    "        year,\n",
    "        export_import,\n",
    "        best_guess_region_prodxpart,\n",
    "        partner_simplification,\n",
    "        origin_province,\n",
    "        partner_grouping,\n",
    "        product_orthographic,\n",
    "        product_sitc_simplEN\n",
    "FROM read_csv_auto('{csv}', ALL_VARCHAR=TRUE)\n",
    "\"\"\")"
   ]
  },
  {
   "cell_type": "code",
   "execution_count": null,
   "id": "69e2dd3f",
   "metadata": {},
   "outputs": [],
   "source": [
    "# Appliquer les filtres de base\n",
    "\n",
    "base_relation = duckdb.sql(f\"\"\"\n",
    "    FROM toflit18_flows\n",
    "    WHERE year = '1789'\n",
    "    AND best_guess_region_prodxpart = '1'\n",
    "    AND partner_simplification = 'Marseille'\n",
    "    AND customs_region != 'Marseille'\n",
    "    AND export_import = 'Exports'\n",
    "    AND product_sitc_simplEN IS NOT NULL\n",
    "    AND origin_province IS NOT NULL\n",
    "\"\"\")\n",
    "\n",
    "base_relation.show()"
   ]
  },
  {
   "attachments": {},
   "cell_type": "markdown",
   "id": "e6d44733",
   "metadata": {},
   "source": [
    "# Agréger par produit, origine, et direction de ferme exportatrice\n",
    "\n",
    "Effectuer un groupement des exports vers Marseille selon trois dimensions :\n",
    "- le type du produit\n",
    "- l'origine du produit\n",
    "- la direction de terme qui a exporté le produit vers Marseille"
   ]
  },
  {
   "cell_type": "code",
   "execution_count": null,
   "id": "6e063c6b",
   "metadata": {},
   "outputs": [],
   "source": [
    "imports_grouped_by_origine_province_type = duckdb.sql(\"\"\"\n",
    "SELECT origin_province, customs_region, SUM(value) as sum_value, COUNT(value) as nb_flows, product_sitc_simplEN\n",
    "FROM base_relation\n",
    "GROUP BY (origin_province, customs_region, product_sitc_simplEN);\n",
    "\"\"\")\n",
    "\n",
    "imports_grouped_by_origine_province_type.show()"
   ]
  },
  {
   "cell_type": "code",
   "execution_count": null,
   "id": "dea50f38",
   "metadata": {},
   "outputs": [],
   "source": [
    "# Transformer la relation de la table filtrée en dictionnaires imbriqués dans une liste\n",
    "columns = imports_grouped_by_origine_province_type.columns\n",
    "values = imports_grouped_by_origine_province_type.fetchall()\n",
    "\n",
    "data = [dict(zip(columns, row)) for row in values]"
   ]
  },
  {
   "attachments": {},
   "cell_type": "markdown",
   "id": "ec3f1e5a",
   "metadata": {},
   "source": [
    "# Visualiser les agrégations"
   ]
  },
  {
   "cell_type": "code",
   "execution_count": null,
   "id": "73e2a688",
   "metadata": {},
   "outputs": [],
   "source": [
    "import altair as alt\n",
    "\n",
    "chart = alt.Chart().from_dict({\n",
    "    \"$schema\": \"https://vega.github.io/schema/vega-lite/v5.json\",\n",
    "    \"title\": \"Type de produit exporté vers Marseille en 1789 par son origine et par la direction de ferme exportatrice\",\n",
    "    \"width\": 800,\n",
    "    \"mark\": {\n",
    "        \"tooltip\": {\n",
    "         \"content\": \"data\"\n",
    "        },\n",
    "        \"type\": \"bar\"\n",
    "    },\n",
    "    \"data\": {\n",
    "        \"values\": data\n",
    "    },\n",
    "    \"encoding\": {\n",
    "        \"row\": {\n",
    "                \"field\": \"customs_region\",  \n",
    "                \"header\":{\"labelOrient\": \"top\"},\n",
    "                \"sort\": {\n",
    "                    \"op\": \"sum\",\n",
    "                    \"field\": \"sum_value\",\n",
    "                    \"order\": \"descending\"\n",
    "                    }\n",
    "            },\n",
    "        \"x\": {\n",
    "            \n",
    "            \"field\": \"sum_value\",\n",
    "            \"type\": \"quantitative\",\n",
    "            \"title\": \"Valeur totale\"\n",
    "        },\n",
    "        \"y\": {\n",
    "            \"field\": \"origin_province\",\n",
    "            \"type\": \"nominal\",\n",
    "            \"title\": \"Origine du produit\",\n",
    "            \"axis\": {\n",
    "                \"labelLimit\": 500,\n",
    "            },\n",
    "            \"sort\": \"-x\"\n",
    "            \n",
    "        },\n",
    "        \"color\": {\n",
    "            \"field\": \"product_sitc_simplEN\",\n",
    "            \"type\": \"nominal\",\n",
    "            \"title\": \"Type du produit exporté\",\n",
    "            \"scale\": {\n",
    "                \"range\": [\"#a7ecff\",\n",
    "                        \"#4605ba\",\n",
    "                        \"#eaff76\",\n",
    "                        \"#9b0071\",\n",
    "                        \"#398700\",\n",
    "                        \"#db0048\",\n",
    "                        \"#02ece4\",\n",
    "                        \"#af4600\",\n",
    "                        \"#004b86\",\n",
    "                        \"#ffc68a\",\n",
    "                        \"#002e36\",\n",
    "                        \"#c1b6ff\",\n",
    "                        \"#282600\"]\n",
    "            }\n",
    "        },\n",
    "       \n",
    "        \n",
    "    },\n",
    "    \"resolve\": {\"scale\": {\"y\": \"independent\"}}\n",
    "\n",
    "})\n",
    "\n",
    "chart"
   ]
  },
  {
   "cell_type": "code",
   "execution_count": null,
   "id": "7f304e3c",
   "metadata": {},
   "outputs": [],
   "source": []
  }
 ],
 "metadata": {
  "kernelspec": {
   "display_name": "portic2023",
   "language": "python",
   "name": "python3"
  },
  "language_info": {
   "codemirror_mode": {
    "name": "ipython",
    "version": 3
   },
   "file_extension": ".py",
   "mimetype": "text/x-python",
   "name": "python",
   "nbconvert_exporter": "python",
   "pygments_lexer": "ipython3",
   "version": "3.11.0"
  },
  "vscode": {
   "interpreter": {
    "hash": "0ce833c5b73e6d5f6ca6b0c40d780d6c01d5f39b699eb9f23f578f6903492dfc"
   }
  }
 },
 "nbformat": 4,
 "nbformat_minor": 5
}
