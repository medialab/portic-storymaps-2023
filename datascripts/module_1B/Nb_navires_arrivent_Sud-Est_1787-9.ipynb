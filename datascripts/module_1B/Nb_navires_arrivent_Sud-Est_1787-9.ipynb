{
 "cells": [
  {
   "cell_type": "markdown",
   "id": "8c8d0dc0-8f64-4508-9dc6-4b9cf0418c37",
   "metadata": {},
   "source": [
    "### Combien de navires arrivent du Sud-Est en 1787 et 1789\n",
    "\n",
    "- filtre : Santé + petit cabotage\n",
    "- par rapport au : total des entrées\n",
    "\n",
    "refaire la même chose avec estimation du tonnage"
   ]
  },
  {
   "cell_type": "code",
   "execution_count": null,
   "id": "991830bc-6fc6-4b55-bf68-69c7152c501b",
   "metadata": {},
   "outputs": [],
   "source": []
  }
 ],
 "metadata": {
  "kernelspec": {
   "display_name": "Python 3 (ipykernel)",
   "language": "python",
   "name": "python3"
  },
  "language_info": {
   "codemirror_mode": {
    "name": "ipython",
    "version": 3
   },
   "file_extension": ".py",
   "mimetype": "text/x-python",
   "name": "python",
   "nbconvert_exporter": "python",
   "pygments_lexer": "ipython3",
   "version": "3.11.0"
  }
 },
 "nbformat": 4,
 "nbformat_minor": 5
}
