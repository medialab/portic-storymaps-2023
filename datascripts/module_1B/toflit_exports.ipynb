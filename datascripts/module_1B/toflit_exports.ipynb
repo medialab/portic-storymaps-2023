{
 "cells": [
  {
   "cell_type": "markdown",
   "id": "8c8d0dc0-8f64-4508-9dc6-4b9cf0418c37",
   "metadata": {},
   "source": [
    "## L’importance de Marseille comme destination des ports du Sud-Est:\n",
    "\n",
    "Rapporter le nombre de congés délivrés en 1787 (et idem pour  1789) tirés des comptes rendus de la série G5 des ports des amirautés méditerranéennes (voir avec Christine pour extraction du tableau utilisé par Vizsources) avec le nombre d’entrées (dépositions des capitaines de la Santé ET petit cabotage) en provenance (=variable first_point) des ports appartenants aux amirautés des provinces = Corse, Languedoc, Provence, Corse et Roussillon avec nombre d’entrées first_point agrégés par amirauté (departure_admiralty)"
   ]
  },
  {
   "cell_type": "markdown",
   "id": "0c3383fd-2970-4734-abe6-9f0fa1398d28",
   "metadata": {},
   "source": [
    "des produits exportés depuis Marseille\n",
    "\n",
    "d'où viennent les marchandises qui sont exportés\n",
    "\n",
    "- customs_region = Marseille / France\n",
    "- year = 1789\n",
    "- export_import = 'Exports'\n",
    "- best_guess_prodxpartner = '1'\n",
    "- partner_grouping != 'France'\n",
    "- origin_province != etranger [list]\n",
    "- group by origin_province\n",
    "- sum value\n",
    "\n",
    "`data/toflit18_all_flows.csv`"
   ]
  },
  {
   "cell_type": "code",
   "execution_count": null,
   "id": "168a42a6-6d2b-4a46-a8e6-c95cc19a94d3",
   "metadata": {
    "tags": []
   },
   "outputs": [],
   "source": [
    "from IPython.display import display\n",
    "import altair as alt\n",
    "from altair.utils.data import to_values\n",
    "\n",
    "def VegaLite(spec):\n",
    "    bundle = {}\n",
    "    bundle['application/vnd.vegalite.v4+json'] = spec\n",
    "    display(bundle, raw=True)"
   ]
  },
  {
   "cell_type": "markdown",
   "id": "26bf12da-c4ca-466a-a2e3-66887fc7a97e",
   "metadata": {},
   "source": [
    "# 1. Histogrammes d'exports vers l'etranger effectués depuis Marseille / France"
   ]
  },
  {
   "cell_type": "code",
   "execution_count": null,
   "id": "94b49197-0e6f-4e6e-8021-92f922cb356d",
   "metadata": {
    "tags": []
   },
   "outputs": [],
   "source": [
    "# Renvoyer les colonnes pertinentes dans un grand dataframe (Pyrelation de duckdb) \n",
    "\n",
    "import duckdb\n",
    "\n",
    "foreign_origins = \"('Monde', 'Levant et Barbarie', 'Inconnu', 'Asie', 'Italie', 'Amérique', 'Angleterre')\"\n",
    "\n",
    "common_filters = f\"\"\"\n",
    "        WHERE   customs_region IS NOT NULL\n",
    "        AND year = '1789'\n",
    "        AND value IS NOT NULL\n",
    "        AND best_guess_region_prodxpart = '1'\n",
    "        AND export_import = 'Exports'\n",
    "        AND partner_grouping != 'France'\n",
    "        AND origin_province NOT IN {foreign_origins}\n",
    "\"\"\"\n",
    "\n",
    "csv = '../../data/toflit18_all_flows.csv'\n",
    "base_relation = duckdb.sql(f\"\"\"\n",
    "SELECT  customs_region,\n",
    "        CAST(value AS FLOAT) as value,\n",
    "        year,\n",
    "        export_import,\n",
    "        best_guess_region_prodxpart,\n",
    "        origin_province,\n",
    "        partner_grouping,\n",
    "FROM read_csv_auto('{csv}', ALL_VARCHAR=TRUE)\n",
    "{common_filters}\n",
    "\"\"\")\n",
    "\n",
    "base_relation.show()"
   ]
  },
  {
   "cell_type": "code",
   "execution_count": null,
   "id": "10b35286-9635-4caa-8f77-d21800a238fe",
   "metadata": {
    "tags": []
   },
   "outputs": [],
   "source": [
    "# La fonction pour aggréger les données de Marseille et/ou la France\n",
    "\n",
    "def aggregate(data, limit):\n",
    "\n",
    "    aggregated_values_per_origin_province = data.aggregate(\"\"\"\n",
    "    origin_province,\n",
    "    SUM(value) as total_value\n",
    "    \"\"\")\n",
    "    ordered_values_per_origin_province = duckdb.sql(\"\"\"\n",
    "    SELECT *\n",
    "    FROM aggregated_values_per_origin_province\n",
    "    ORDER BY total_value DESC\n",
    "    \"\"\")\n",
    "\n",
    "    if limit:\n",
    "        values_per_origin_province = ordered_values_per_origin_province.limit(limit)\n",
    "    else:\n",
    "        values_per_origin_province = ordered_values_per_origin_province\n",
    "\n",
    "    values = values_per_origin_province.fetchall()\n",
    "    columns = values_per_origin_province.columns\n",
    "\n",
    "    return [ dict(zip(columns, row)) for row in values]\n",
    "\n",
    "\n",
    "# La fonction pour visualiser les histogrammes d'exports Marseille / France\n",
    "\n",
    "def visualise(aggregations, title):\n",
    "    \n",
    "    VegaLite({\n",
    "        \"$schema\": \"https://vega.github.io/schema/vega-lite/v5.json\",\n",
    "        \"title\": title,\n",
    "        \"mark\": \"bar\",\n",
    "        \"data\": {\n",
    "            \"values\": aggregations\n",
    "        },\n",
    "        \"encoding\": {\n",
    "            \"x\": {\n",
    "                \"field\": \"total_value\",\n",
    "                \"type\": \"quantitative\", \n",
    "                \"title\": \"value\"\n",
    "            },\n",
    "            \"y\": {\n",
    "                \"field\": \"origin_province\",\n",
    "                \"type\": \"nominal\",\n",
    "                \"title\": \"origin_province\",\n",
    "                \"sort\": \"-x\"\n",
    "            }\n",
    "        }\n",
    "    })"
   ]
  },
  {
   "cell_type": "markdown",
   "id": "18f98356-5831-4d4b-a12e-50766fdec79c",
   "metadata": {},
   "source": [
    "## A. Exports effectués depuis Marseille"
   ]
  },
  {
   "cell_type": "code",
   "execution_count": null,
   "id": "97a3421f-9fa0-4f2b-9807-9586993c68e6",
   "metadata": {
    "tags": []
   },
   "outputs": [],
   "source": [
    "# Filtrer le grand dataframe pour Marseille\n",
    "\n",
    "list_of_regions_values_from_marseille = duckdb.sql(f\"\"\"\n",
    "    FROM base_relation\n",
    "    WHERE customs_region = 'Marseille'\n",
    "\"\"\")\n",
    "\n",
    "# Visualiser histogramme d'exports depuis Marseille\n",
    "\n",
    "title = \"La valeur des produits exportés depuis Marseille par province d'origine en 1789\"\n",
    "export_origins_marseille = aggregate(list_of_regions_values_from_marseille, limit=20)\n",
    "\n",
    "visualise(export_origins_marseille,title)"
   ]
  },
  {
   "cell_type": "markdown",
   "id": "6fcdab64-a182-4633-ab58-4be46932edb8",
   "metadata": {},
   "source": [
    "## B. Exports effectués depuis la France"
   ]
  },
  {
   "cell_type": "code",
   "execution_count": null,
   "id": "457efde2-755c-48ec-bb7e-9e42cb68d1f0",
   "metadata": {
    "tags": []
   },
   "outputs": [],
   "source": [
    "# Visualiser histogramme d'exports depuis toute la France\n",
    "\n",
    "title = \"La valeur des produits exportés depuis la France par province d'origine en 1789\"\n",
    "export_origins_france = aggregate(base_relation, limit=20)\n",
    "\n",
    "visualise(export_origins_france,title)"
   ]
  },
  {
   "cell_type": "markdown",
   "id": "bb8b8a61-94cd-4010-8c35-9e295488f6dd",
   "metadata": {},
   "source": [
    "## C. Comparaison Marseille / France"
   ]
  },
  {
   "cell_type": "code",
   "execution_count": null,
   "id": "68a4e01e-d5f4-4814-b225-71ab5774b439",
   "metadata": {
    "tags": []
   },
   "outputs": [],
   "source": [
    "# Dictionnaires imbriqués portant sur la valeur des exports effectués depuis toute la France regroupés par origine\n",
    "export_origins_france = aggregate(base_relation, limit=10)\n",
    "france_value_per_origin = {i['origin_province']:i['total_value'] for i in export_origins_france}\n",
    "\n",
    "# Dictionnaires imbriqués portant sur la valeur des exports effectués depuis Marseille regroupés par origine\n",
    "export_origins_marseille = aggregate(list_of_regions_values_from_marseille, limit=None)\n",
    "marseille_value_per_origin = {i['origin_province']:i['total_value'] for i in export_origins_marseille}"
   ]
  },
  {
   "cell_type": "code",
   "execution_count": null,
   "id": "b2835dba-7a79-46bf-bec5-1c2a37d37800",
   "metadata": {
    "tags": []
   },
   "outputs": [],
   "source": [
    "ratio_marseille_france = []\n",
    "\n",
    "for origin, value_france in france_value_per_origin.items():\n",
    "    if marseille_value_per_origin.get(origin):\n",
    "        value_marseille = marseille_value_per_origin[origin]\n",
    "        p = value_marseille/value_france\n",
    "    else:\n",
    "        p = 0.0\n",
    "    ratio_marseille_france.append(\n",
    "        {'origin_province':origin,\n",
    "         'total_value':p\n",
    "        }\n",
    "    )\n",
    "\n",
    "VegaLite({\n",
    "        \"$schema\": \"https://vega.github.io/schema/vega-lite/v5.json\",\n",
    "        \"title\": \"Proportion des exportations en valeur effectuées depuis Marseille en 1789\",\n",
    "        \"mark\": \"bar\",\n",
    "        \"data\": {\n",
    "            \"values\": ratio_marseille_france\n",
    "        },\n",
    "        \"encoding\": {\n",
    "            \"x\": {\n",
    "                \"field\": \"total_value\",\n",
    "                \"type\": \"quantitative\", \n",
    "                \"title\": \"% de valeur exporté depuis Marseille\"\n",
    "            },\n",
    "            \"y\": {\n",
    "                \"field\": \"origin_province\",\n",
    "                \"type\": \"nominal\",\n",
    "                \"title\": \"origin_province\",\n",
    "                \"sort\": \"-x\"\n",
    "            }\n",
    "        }\n",
    "    })"
   ]
  },
  {
   "cell_type": "markdown",
   "id": "169ea379-49bc-4a09-86d1-a6bf2f5f1391",
   "metadata": {
    "tags": []
   },
   "source": [
    "# 2. Par quelles régions transitent les produits exportés à l'etranger du Lyonnais / Languedoc"
   ]
  },
  {
   "cell_type": "code",
   "execution_count": null,
   "id": "a030a50f-25f0-45f3-87d8-5d05bb92be58",
   "metadata": {
    "tags": []
   },
   "outputs": [],
   "source": [
    "common_filters = \"\"\"\n",
    "WHERE   customs_region IS NOT NULL\n",
    "        AND year = '1789'\n",
    "        AND value IS NOT NULL\n",
    "        AND best_guess_region_prodxpart = '1'\n",
    "        AND export_import = 'Exports'\n",
    "        AND partner_grouping != 'France'\n",
    "\"\"\"\n",
    "\n",
    "csv = '../../data/toflit18_all_flows.csv'\n",
    "base_relation = duckdb.sql(f\"\"\"\n",
    "SELECT  customs_region,\n",
    "        CAST(value AS FLOAT) as value,\n",
    "        year,\n",
    "        export_import,\n",
    "        best_guess_region_prodxpart,\n",
    "        origin_province,\n",
    "        partner_grouping,\n",
    "FROM read_csv_auto('{csv}', ALL_VARCHAR=TRUE)\n",
    "{common_filters}\n",
    "\"\"\")"
   ]
  },
  {
   "cell_type": "code",
   "execution_count": null,
   "id": "8998d8a6-5a13-403a-9fb4-6079fcc8b004",
   "metadata": {
    "tags": []
   },
   "outputs": [],
   "source": [
    "# Fonction pour agréger les exports par destination (customs_region)\n",
    "\n",
    "def aggregate_and_visualise(dataframe, title):\n",
    "\n",
    "    values_per_customs_region = dataframe.aggregate(\"\"\"\n",
    "    customs_region,\n",
    "    SUM(value) as total_value\n",
    "    \"\"\")\n",
    "    ordered_values = duckdb.sql(\"\"\"\n",
    "    SELECT *\n",
    "    FROM values_per_customs_region\n",
    "    ORDER BY total_value DESC\n",
    "    \"\"\")\n",
    "    \n",
    "    limited_values = ordered_values.limit(10)\n",
    "\n",
    "    values = limited_values.fetchall()\n",
    "    columns = limited_values.columns\n",
    "\n",
    "    data = [ dict(zip(columns, row)) for row in values]\n",
    "\n",
    "\n",
    "    VegaLite({\n",
    "        \"$schema\": \"https://vega.github.io/schema/vega-lite/v5.json\",\n",
    "        \"title\": title,\n",
    "        \"mark\": \"bar\",\n",
    "        \"data\": {\n",
    "            \"values\": data\n",
    "        },\n",
    "        \"encoding\": {\n",
    "            \"x\": {\n",
    "                \"field\": \"total_value\",\n",
    "                \"type\": \"quantitative\", \n",
    "                \"title\": \"total_value\"\n",
    "            },\n",
    "            \"y\": {\n",
    "                \"field\": \"customs_region\",\n",
    "                \"type\": \"nominal\",\n",
    "                \"title\": \"customs_region\",\n",
    "                \"sort\": \"-x\"\n",
    "            }\n",
    "        }\n",
    "    })"
   ]
  },
  {
   "cell_type": "markdown",
   "id": "00b00bce-5a54-4993-8725-bd2eb9ba9cb7",
   "metadata": {},
   "source": [
    "## A. Export des produits du Lyonnais"
   ]
  },
  {
   "cell_type": "code",
   "execution_count": null,
   "id": "f5c75cf3-c7db-46c7-afa0-586137bf5cd3",
   "metadata": {
    "tags": []
   },
   "outputs": [],
   "source": [
    "# Filtrer le grand dataframe pour l'origine du Lyonnaise\n",
    "\n",
    "exports_du_lyonnais = duckdb.sql(f\"\"\"\n",
    "    FROM base_relation\n",
    "    WHERE origin_province = 'Lyonnais'\n",
    "\"\"\")\n",
    "\n",
    "# Visualiser histogramme d'exports depuis toute la France\n",
    "\n",
    "title = \"Décomposition des régions de départ des exportations des produits du Lyonnais en 1789\"\n",
    "aggregate_and_visualise(exports_du_lyonnais, title)"
   ]
  },
  {
   "cell_type": "markdown",
   "id": "7aa1d6ea-9af5-407c-a339-b6bbcec856ee",
   "metadata": {},
   "source": [
    "## B. Export du produits du Languedoc"
   ]
  },
  {
   "cell_type": "code",
   "execution_count": null,
   "id": "55c34f51-7355-4d5f-a5e1-471e43824c31",
   "metadata": {
    "tags": []
   },
   "outputs": [],
   "source": [
    "# Filtrer le grand dataframe pour l'origine Languedoc\n",
    "\n",
    "exports_du_languedoc = duckdb.sql(f\"\"\"\n",
    "    FROM base_relation\n",
    "    WHERE origin_province = 'Languedoc'\n",
    "\"\"\")\n",
    "\n",
    "# Visualiser histogramme d'exports depuis toute la France\n",
    "\n",
    "title = \"Décomposition des régions de départ des exportations des produits du Languedoc en 1789\"\n",
    "aggregate_and_visualise(exports_du_languedoc, title)"
   ]
  },
  {
   "cell_type": "markdown",
   "id": "d5de6176-09a0-420f-b1ad-2ab398e9aacd",
   "metadata": {
    "tags": []
   },
   "source": [
    "## C. Export du produits de la Provence"
   ]
  },
  {
   "cell_type": "code",
   "execution_count": null,
   "id": "ce940689-efd2-4291-b377-880d60a90bb8",
   "metadata": {
    "tags": []
   },
   "outputs": [],
   "source": [
    "# Filtrer le grand dataframe pour l'origine de la Provence\n",
    "\n",
    "exports_du_lyonnais = duckdb.sql(f\"\"\"\n",
    "    FROM base_relation\n",
    "    WHERE origin_province = 'Provence'\n",
    "\"\"\")\n",
    "\n",
    "# Visualiser histogramme d'exports depuis toute la France\n",
    "\n",
    "title = \"Décomposition des régions de départ des exportations des produits de la Provence en 1789\"\n",
    "aggregate_and_visualise(exports_du_lyonnais, title)"
   ]
  },
  {
   "cell_type": "markdown",
   "id": "c785b730-6f0e-4175-a05a-b7448b076542",
   "metadata": {
    "tags": []
   },
   "source": [
    "## D. Export du produits de la Provence"
   ]
  },
  {
   "cell_type": "code",
   "execution_count": null,
   "id": "db0f7a25-ccc4-45f7-ba17-b5b08dddee03",
   "metadata": {
    "tags": []
   },
   "outputs": [],
   "source": [
    "# Filtrer le grand dataframe pour l'origine de l'Île de France\n",
    "\n",
    "exports_du_lyonnais = duckdb.sql(f\"\"\"\n",
    "    FROM base_relation\n",
    "    WHERE origin_province = 'Île-de-France'\n",
    "\"\"\")\n",
    "\n",
    "# Visualiser histogramme d'exports depuis toute la France\n",
    "\n",
    "title = \"Décomposition des régions de départ des exportations des produits de l'Île-de-France en 1789\"\n",
    "aggregate_and_visualise(exports_du_lyonnais, title)"
   ]
  },
  {
   "cell_type": "code",
   "execution_count": null,
   "id": "0bffabc3-282a-4926-a3f6-55c45c429a03",
   "metadata": {},
   "outputs": [],
   "source": []
  }
 ],
 "metadata": {
  "kernelspec": {
   "display_name": "Python 3 (ipykernel)",
   "language": "python",
   "name": "python3"
  },
  "language_info": {
   "codemirror_mode": {
    "name": "ipython",
    "version": 3
   },
   "file_extension": ".py",
   "mimetype": "text/x-python",
   "name": "python",
   "nbconvert_exporter": "python",
   "pygments_lexer": "ipython3",
   "version": "3.7.7"
  },
  "vscode": {
   "interpreter": {
    "hash": "0ce833c5b73e6d5f6ca6b0c40d780d6c01d5f39b699eb9f23f578f6903492dfc"
   }
  }
 },
 "nbformat": 4,
 "nbformat_minor": 5
}
