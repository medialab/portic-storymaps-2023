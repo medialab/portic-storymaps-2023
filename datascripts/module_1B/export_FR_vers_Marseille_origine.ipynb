{
 "cells": [
  {
   "cell_type": "code",
   "execution_count": null,
   "metadata": {},
   "outputs": [],
   "source": [
    "import csv\n",
    "from itertools import groupby\n",
    "\n",
    "with open('../../data/toflit18_all_flows.csv', 'r') as data:\n",
    "    key = lambda r : (r['origin_province'],r['customs_region'])\n",
    "    exports_from_fr_to_marseille = sorted([row for row in csv.DictReader(data) if \\\n",
    "            row['year'] == \"1789\" and \\\n",
    "            row['best_guess_region_prodxpart'] == '1' and \\\n",
    "            row['partner_simplification'] == \"Marseille\" and \\\n",
    "            row['customs_region'] != 'Marseille' and \\\n",
    "            row['export_import'] == 'Exports'], key=key)\n",
    "    \n",
    "    data = []\n",
    "    total_value = 0\n",
    "    for (origine, exporter), flows in groupby(exports_from_fr_to_marseille, key= key):\n",
    "        value = sum(float(flow['value']) for flow in flows if flow[\"value\"] != '')\n",
    "        total_value += value\n",
    "        data.append({\"value\":value, 'origine':origine if origine != '' else 'inconnue', 'direction_ferme': exporter})\n",
    "\n",
    "    print(total_value)"
   ]
  },
  {
   "cell_type": "code",
   "execution_count": null,
   "metadata": {},
   "outputs": [],
   "source": [
    "data\n"
   ]
  },
  {
   "cell_type": "code",
   "execution_count": null,
   "metadata": {},
   "outputs": [],
   "source": [
    "def VegaLite(spec):\n",
    "    bundle = {}\n",
    "    bundle['application/vnd.vegalite.v4+json'] = spec\n",
    "    display(bundle, raw=True)\n",
    "\n",
    "VegaLite({\n",
    "    \"$schema\": \"https://vega.github.io/schema/vega-lite/v5.json\",\n",
    "    \"title\": \"Origine par direction de fermes des imports pour Marseille en 1789\",\n",
    "    \"width\": 800,\n",
    "    \"mark\": {\n",
    "        \"tooltip\": {\n",
    "         \"content\": \"data\"\n",
    "        },\n",
    "        \"type\": \"bar\"\n",
    "    },\n",
    "    \"data\": {\n",
    "        \"values\": data\n",
    "    },\n",
    "    \"encoding\": {\n",
    "        \"row\": {\n",
    "                \"field\": \"origine\",  \n",
    "                \"header\":{\"labelOrient\": \"top\"},\n",
    "                \"sort\": {\n",
    "                    \"op\": \"sum\",\n",
    "                    \"field\": \"value\",\n",
    "                    \"order\": \"descending\"\n",
    "                    \n",
    "                }\n",
    "            },\n",
    "        \"x\": {\n",
    "            \n",
    "            \"field\": \"value\",\n",
    "            \"type\": \"quantitative\"\n",
    "        },\n",
    "        \"y\": {\n",
    "            \"field\": \"direction_ferme\",\n",
    "            \"type\": \"nominal\",\n",
    "            \"title\": \"\",\n",
    "            \"axis\": {\n",
    "                \"labelLimit\": 500,\n",
    "            },\n",
    "            \"sort\": \"-x\"\n",
    "            \n",
    "        },\n",
    "        \"color\": {\n",
    "            \"field\": \"direction_ferme\",\n",
    "            \"type\": \"nominal\",\n",
    "            \"title\": \"Direction de ferme exportatrice\"\n",
    "        },\n",
    "       \n",
    "        \n",
    "    },\n",
    "    \"resolve\": {\"scale\": {\"y\": \"independent\"}}\n",
    "\n",
    "})"
   ]
  }
 ],
 "metadata": {
  "kernelspec": {
   "display_name": "Python 3",
   "language": "python",
   "name": "python3"
  },
  "language_info": {
   "codemirror_mode": {
    "name": "ipython",
    "version": 3
   },
   "file_extension": ".py",
   "mimetype": "text/x-python",
   "name": "python",
   "nbconvert_exporter": "python",
   "pygments_lexer": "ipython3",
   "version": "3.8.10"
  },
  "orig_nbformat": 4,
  "vscode": {
   "interpreter": {
    "hash": "31f2aee4e71d21fbe5cf8b01ff0e069b9275f58929596ceb00d14d90e3e16cd6"
   }
  }
 },
 "nbformat": 4,
 "nbformat_minor": 2
}
