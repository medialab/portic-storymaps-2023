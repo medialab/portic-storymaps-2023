{
 "cells": [
  {
   "cell_type": "code",
   "execution_count": 27,
   "id": "168a42a6-6d2b-4a46-a8e6-c95cc19a94d3",
   "metadata": {
    "tags": []
   },
   "outputs": [],
   "source": [
    "from IPython.display import display\n",
    "import altair as alt\n",
    "\n",
    "def VegaLite(spec):\n",
    "    bundle = {}\n",
    "    bundle['application/vnd.vegalite.v4+json'] = spec\n",
    "    display(bundle, raw=True)"
   ]
  },
  {
   "attachments": {},
   "cell_type": "markdown",
   "id": "6a9708f6",
   "metadata": {},
   "source": [
    "# Récuperer les données"
   ]
  },
  {
   "cell_type": "code",
   "execution_count": 28,
   "id": "94b49197-0e6f-4e6e-8021-92f922cb356d",
   "metadata": {
    "tags": []
   },
   "outputs": [],
   "source": [
    "import duckdb\n",
    "\n",
    "# Le dataset\n",
    "csv = '../../data/toflit18_all_flows.csv'\n",
    "\n",
    "# Lire le csv et l'envoyer comme une relation (table)\n",
    "toflit_flows = duckdb.sql(f\"\"\"\n",
    "SELECT  customs_region,\n",
    "        CAST(value AS FLOAT) as value,\n",
    "        year,\n",
    "        export_import,\n",
    "        best_guess_region_prodxpart\n",
    "        best_guess_national_prodxpart,\n",
    "        best_guess_national_partner,\n",
    "        best_guess_national_product,\n",
    "        best_guess_region_prodxpart,\n",
    "        best_guess_national_region,\n",
    "        origin_province,\n",
    "        partner_grouping,\n",
    "        partner_simplification\n",
    "FROM read_csv_auto('{csv}', ALL_VARCHAR=TRUE)\n",
    "\"\"\")"
   ]
  },
  {
   "cell_type": "code",
   "execution_count": 29,
   "id": "76bf54a0",
   "metadata": {},
   "outputs": [],
   "source": [
    "# Appliquer les filtres de base (communes à tous)\n",
    "\n",
    "base_relation = duckdb.sql(f\"\"\"\n",
    "    FROM toflit_flows\n",
    "    WHERE customs_region = 'Marseille'\n",
    "    AND year = '1789'\n",
    "    AND value IS NOT NULL\n",
    "    AND export_import = 'Exports'\n",
    "    AND best_guess_region_prodxpart = '1'\n",
    "\"\"\")"
   ]
  },
  {
   "attachments": {},
   "cell_type": "markdown",
   "id": "26e62561",
   "metadata": {},
   "source": [
    "# Filtrer les données en trois catégories"
   ]
  },
  {
   "attachments": {},
   "cell_type": "markdown",
   "id": "5c8b0178",
   "metadata": {},
   "source": [
    "## 1. Exports effectués depuis Marseille vers Marseille"
   ]
  },
  {
   "cell_type": "code",
   "execution_count": 30,
   "id": "506467f7",
   "metadata": {},
   "outputs": [],
   "source": [
    "# BUCKET 1 (Marseille) - partner_grouping = 'France' AND partner_simplification = 'Marseille'\n",
    "\n",
    "marseille_bucket = duckdb.sql(f\"\"\"\n",
    "FROM base_relation\n",
    "WHERE partner_grouping = 'France'\n",
    "AND partner_simplification = 'Marseille'\n",
    "\"\"\")"
   ]
  },
  {
   "attachments": {},
   "cell_type": "markdown",
   "id": "b5fdb074",
   "metadata": {},
   "source": [
    "## 2. Exports effectués depuis Marseille vers la France"
   ]
  },
  {
   "cell_type": "code",
   "execution_count": 31,
   "id": "092fceba",
   "metadata": {},
   "outputs": [],
   "source": [
    "# BUCKET 2 (France) - partner_grouping = 'France' AND partner_simplification != 'Marseille'\n",
    "\n",
    "france_bucket = duckdb.sql(f\"\"\"\n",
    "FROM base_relation\n",
    "WHERE partner_grouping = 'France'\n",
    "AND partner_simplification != 'Marseille'\n",
    "\"\"\")"
   ]
  },
  {
   "attachments": {},
   "cell_type": "markdown",
   "id": "34588d4b",
   "metadata": {},
   "source": [
    "## 3. Exports effectués depuis Marseille vers l'étranger"
   ]
  },
  {
   "cell_type": "code",
   "execution_count": 32,
   "id": "9c77888e",
   "metadata": {},
   "outputs": [],
   "source": [
    "# BUCKET 3 (monde) - partner_grouping != 'France'\n",
    "\n",
    "monde_bucket = duckdb.sql(f\"\"\"\n",
    "FROM base_relation\n",
    "WHERE partner_grouping != 'France'\n",
    "\"\"\")"
   ]
  },
  {
   "attachments": {},
   "cell_type": "markdown",
   "id": "f0290aa1",
   "metadata": {},
   "source": [
    "# Des outils d'agrégation et de visualisation"
   ]
  },
  {
   "cell_type": "code",
   "execution_count": 33,
   "id": "bd380cac",
   "metadata": {},
   "outputs": [],
   "source": [
    "def group_by_province(relation) -> list[dict]:\n",
    "    aggreg = relation.aggregate(\"\"\"\n",
    "        origin_province,\n",
    "        SUM(value) as total_value\n",
    "    \"\"\")\n",
    "\n",
    "    values = aggreg.fetchall()\n",
    "    columns = aggreg.columns\n",
    "\n",
    "    return [dict(zip(columns, row)) for row in values]"
   ]
  },
  {
   "cell_type": "code",
   "execution_count": 34,
   "id": "10b35286-9635-4caa-8f77-d21800a238fe",
   "metadata": {
    "tags": []
   },
   "outputs": [],
   "source": [
    "def visualise(aggregations, title):\n",
    "    \n",
    "    return alt.Chart().from_dict({\n",
    "        \"$schema\": \"https://vega.github.io/schema/vega-lite/v5.json\",\n",
    "        \"title\": title,\n",
    "        \"mark\": \"bar\",\n",
    "        \"data\": {\n",
    "            \"values\": aggregations\n",
    "        },\n",
    "        \"encoding\": {\n",
    "            \"x\": {\n",
    "                \"field\": \"total_value\",\n",
    "                \"type\": \"quantitative\", \n",
    "                \"title\": \"value\"\n",
    "            },\n",
    "            \"y\": {\n",
    "                \"field\": \"origin_province\",\n",
    "                \"type\": \"nominal\",\n",
    "                \"title\": \"origin_province\",\n",
    "                \"sort\": \"-x\"\n",
    "            }\n",
    "        }\n",
    "    })"
   ]
  },
  {
   "attachments": {},
   "cell_type": "markdown",
   "id": "8cf6a391",
   "metadata": {},
   "source": [
    "# Les résultats"
   ]
  },
  {
   "attachments": {},
   "cell_type": "markdown",
   "id": "4c66bf79",
   "metadata": {},
   "source": [
    "## 1. Marseille vers Marseille\n",
    "\n",
    "L'origine des produits exportés depuis Marseille et vers Marseille est souvent enregistrée en 1789. La plupart des produits vient du Languedoc, de la Provence, et du Lyonnais."
   ]
  },
  {
   "cell_type": "code",
   "execution_count": 35,
   "id": "ee3cc11d",
   "metadata": {},
   "outputs": [],
   "source": [
    "marseille_bucket_data = group_by_province(marseille_bucket)"
   ]
  },
  {
   "cell_type": "code",
   "execution_count": 36,
   "id": "4bae6f10",
   "metadata": {},
   "outputs": [],
   "source": [
    "chart = visualise(marseille_bucket_data, 'Origine des produits exportés depuis Marseille vers Marseille')\n",
    "# chart"
   ]
  },
  {
   "attachments": {},
   "cell_type": "markdown",
   "id": "4b2d096a",
   "metadata": {},
   "source": [
    "## 2. Marseille vers la France\n",
    "\n",
    "L'origine d'aucun produit exporté depuis Marseille vers la France n'est enregistrée."
   ]
  },
  {
   "cell_type": "code",
   "execution_count": 37,
   "id": "1064e02e",
   "metadata": {},
   "outputs": [
    {
     "name": "stdout",
     "output_type": "stream",
     "text": [
      "┌────────────────┬───────────┬─────────┬───────────────┬───┬─────────────────┬──────────────────┬──────────────────────┐\n",
      "│ customs_region │   value   │  year   │ export_import │ … │ origin_province │ partner_grouping │ partner_simplifica…  │\n",
      "│    varchar     │   float   │ varchar │    varchar    │   │     varchar     │     varchar      │       varchar        │\n",
      "├────────────────┼───────────┼─────────┼───────────────┼───┼─────────────────┼──────────────────┼──────────────────────┤\n",
      "│ Marseille      │ 26325.771 │ 1789    │ Exports       │ … │ NULL            │ France           │ Dunkerque            │\n",
      "│ Marseille      │   2198.44 │ 1789    │ Exports       │ … │ NULL            │ France           │ Bayonne              │\n",
      "│ Marseille      │   3015.46 │ 1789    │ Exports       │ … │ NULL            │ France           │ Dunkerque            │\n",
      "│ Marseille      │     116.0 │ 1789    │ Exports       │ … │ NULL            │ France           │ Corse                │\n",
      "│ Marseille      │     154.0 │ 1789    │ Exports       │ … │ NULL            │ France           │ Dunkerque            │\n",
      "│ Marseille      │    4482.0 │ 1789    │ Exports       │ … │ NULL            │ France           │ Bayonne              │\n",
      "│ Marseille      │    1452.0 │ 1789    │ Exports       │ … │ NULL            │ France           │ Corse                │\n",
      "│ Marseille      │     432.0 │ 1789    │ Exports       │ … │ NULL            │ France           │ Corse                │\n",
      "│ Marseille      │   2535.04 │ 1789    │ Exports       │ … │ NULL            │ France           │ Dunkerque            │\n",
      "│ Marseille      │    575.05 │ 1789    │ Exports       │ … │ NULL            │ France           │ Bayonne              │\n",
      "│     ·          │       ·   │  ·      │    ·          │ · │  ·              │   ·              │    ·                 │\n",
      "│     ·          │       ·   │  ·      │    ·          │ · │  ·              │   ·              │    ·                 │\n",
      "│     ·          │       ·   │  ·      │    ·          │ · │  ·              │   ·              │    ·                 │\n",
      "│ Marseille      │   99466.8 │ 1789    │ Exports       │ … │ NULL            │ France           │ Dunkerque            │\n",
      "│ Marseille      │    1719.0 │ 1789    │ Exports       │ … │ NULL            │ France           │ Corse                │\n",
      "│ Marseille      │    2960.0 │ 1789    │ Exports       │ … │ NULL            │ France           │ Corse                │\n",
      "│ Marseille      │   22552.0 │ 1789    │ Exports       │ … │ NULL            │ France           │ Corse                │\n",
      "│ Marseille      │    1009.0 │ 1789    │ Exports       │ … │ NULL            │ France           │ Corse                │\n",
      "│ Marseille      │     170.8 │ 1789    │ Exports       │ … │ NULL            │ France           │ Dunkerque            │\n",
      "│ Marseille      │      99.4 │ 1789    │ Exports       │ … │ NULL            │ France           │ Corse                │\n",
      "│ Marseille      │ 2003.8801 │ 1789    │ Exports       │ … │ NULL            │ France           │ Dunkerque            │\n",
      "│ Marseille      │    131.88 │ 1789    │ Exports       │ … │ NULL            │ France           │ Corse                │\n",
      "│ Marseille      │   10800.0 │ 1789    │ Exports       │ … │ NULL            │ France           │ Bayonne              │\n",
      "├────────────────┴───────────┴─────────┴───────────────┴───┴─────────────────┴──────────────────┴──────────────────────┤\n",
      "│ 120 rows (20 shown)                                                                             12 columns (7 shown) │\n",
      "└──────────────────────────────────────────────────────────────────────────────────────────────────────────────────────┘\n",
      "\n"
     ]
    }
   ],
   "source": [
    "france_bucket_data = group_by_province(france_bucket)\n",
    "france_bucket.show()"
   ]
  },
  {
   "cell_type": "code",
   "execution_count": 38,
   "id": "c566f7be",
   "metadata": {},
   "outputs": [],
   "source": [
    "chart = visualise(france_bucket_data, 'Origine des produits exportés depuis Marseille vers partenaires en France')\n",
    "# chart"
   ]
  },
  {
   "attachments": {},
   "cell_type": "markdown",
   "id": "40ea1401",
   "metadata": {},
   "source": [
    "## 3. Marseille vers l'étranger\n",
    "\n",
    "Une bonne partie des produits exportés depuis Marseille vers l'étranger en 1789 n'a pas d'origine enregristée."
   ]
  },
  {
   "cell_type": "code",
   "execution_count": 39,
   "id": "8410bf07",
   "metadata": {},
   "outputs": [],
   "source": [
    "monde_bucket_data = group_by_province(monde_bucket)"
   ]
  },
  {
   "cell_type": "code",
   "execution_count": 40,
   "id": "8e36b072",
   "metadata": {},
   "outputs": [],
   "source": [
    "chart = visualise(monde_bucket_data, \"Origine des produits exportés effectués depuis Marseille vers l'étranger\")\n",
    "# chart"
   ]
  },
  {
   "attachments": {},
   "cell_type": "markdown",
   "id": "ab98b03e",
   "metadata": {},
   "source": [
    "Voir qui sont les partenaires de la marchandise exportée depuis Marseille vers la France "
   ]
  },
  {
   "cell_type": "code",
   "execution_count": 41,
   "metadata": {},
   "outputs": [
    {
     "data": {
      "text/plain": [
       "[{'partner_simplification': 'Dunkerque',\n",
       "  'total_value': 655032.4423675537,\n",
       "  'nb_value': 43},\n",
       " {'partner_simplification': 'Bayonne',\n",
       "  'total_value': 280171.2106628418,\n",
       "  'nb_value': 25},\n",
       " {'partner_simplification': 'Corse',\n",
       "  'total_value': 350871.0802078247,\n",
       "  'nb_value': 48},\n",
       " {'partner_simplification': 'Lorient',\n",
       "  'total_value': 63961.70001220703,\n",
       "  'nb_value': 4}]"
      ]
     },
     "execution_count": 41,
     "metadata": {},
     "output_type": "execute_result"
    }
   ],
   "source": [
    "france_bucket = duckdb.sql(f\"\"\"\n",
    "FROM base_relation\n",
    "WHERE partner_grouping = 'France'\n",
    "AND partner_simplification != 'Marseille'\n",
    "\"\"\")\n",
    "\n",
    "def group_by_partner(relation) -> list[dict]:\n",
    "    aggreg = relation.aggregate(\"\"\"\n",
    "        partner_simplification,\n",
    "        SUM(value) as total_value,\n",
    "        COUNT(value) as nb_value,\n",
    "    \"\"\")\n",
    "\n",
    "    values = aggreg.fetchall()\n",
    "    columns = aggreg.columns\n",
    "\n",
    "    return [dict(zip(columns, row)) for row in values]\n",
    "\n",
    "france_origin_is_null_grouped_by_partner = group_by_partner(france_bucket)\n",
    "\n",
    "france_origin_is_null_grouped_by_partner"
   ]
  }
 ],
 "metadata": {
  "kernelspec": {
   "display_name": "portic2023",
   "language": "python",
   "name": "python3"
  },
  "language_info": {
   "codemirror_mode": {
    "name": "ipython",
    "version": 3
   },
   "file_extension": ".py",
   "mimetype": "text/x-python",
   "name": "python",
   "nbconvert_exporter": "python",
   "pygments_lexer": "ipython3",
   "version": "3.11.0"
  },
  "vscode": {
   "interpreter": {
    "hash": "0ce833c5b73e6d5f6ca6b0c40d780d6c01d5f39b699eb9f23f578f6903492dfc"
   }
  }
 },
 "nbformat": 4,
 "nbformat_minor": 5
}
