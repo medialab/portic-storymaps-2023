{
 "cells": [
  {
   "cell_type": "code",
   "execution_count": 85,
   "id": "168a42a6-6d2b-4a46-a8e6-c95cc19a94d3",
   "metadata": {
    "tags": []
   },
   "outputs": [],
   "source": [
    "from IPython.display import display\n",
    "import altair as alt\n",
    "from altair.utils.data import to_values\n",
    "\n",
    "def VegaLite(spec):\n",
    "    bundle = {}\n",
    "    bundle['application/vnd.vegalite.v4+json'] = spec\n",
    "    display(bundle, raw=True)"
   ]
  },
  {
   "cell_type": "code",
   "execution_count": 86,
   "id": "94b49197-0e6f-4e6e-8021-92f922cb356d",
   "metadata": {
    "tags": []
   },
   "outputs": [],
   "source": [
    "import duckdb\n",
    "\n",
    "# Le dataset\n",
    "csv = '../../data/toflit18_all_flows.csv'\n",
    "\n",
    "# Lire le csv et l'envoyer comme une relation (table)\n",
    "toflit_flows = duckdb.sql(f\"\"\"\n",
    "SELECT  customs_region,\n",
    "        CAST(value AS FLOAT) as value,\n",
    "        year,\n",
    "        export_import,\n",
    "        best_guess_region_prodxpart\n",
    "        best_guess_national_prodxpart,\n",
    "        best_guess_national_partner,\n",
    "        best_guess_national_product,\n",
    "        best_guess_region_prodxpart,\n",
    "        best_guess_national_region,\n",
    "        origin_province,\n",
    "        partner_grouping,\n",
    "        partner_simplification\n",
    "FROM read_csv_auto('{csv}', ALL_VARCHAR=TRUE)\n",
    "\"\"\")"
   ]
  },
  {
   "cell_type": "code",
   "execution_count": 87,
   "id": "76bf54a0",
   "metadata": {},
   "outputs": [
    {
     "name": "stdout",
     "output_type": "stream",
     "text": [
      "┌────────────────┬──────────┬─────────┬───────────────┬───┬─────────────────┬──────────────────┬──────────────────────┐\n",
      "│ customs_region │  value   │  year   │ export_import │ … │ origin_province │ partner_grouping │ partner_simplifica…  │\n",
      "│    varchar     │  float   │ varchar │    varchar    │   │     varchar     │     varchar      │       varchar        │\n",
      "├────────────────┼──────────┼─────────┼───────────────┼───┼─────────────────┼──────────────────┼──────────────────────┤\n",
      "│ Marseille      │   2312.5 │ 1789    │ Exports       │ … │ Provence        │ France           │ Marseille            │\n",
      "│ Marseille      │   4237.0 │ 1789    │ Exports       │ … │ NULL            │ France           │ Marseille            │\n",
      "│ Marseille      │  43636.5 │ 1789    │ Exports       │ … │ Bourgogne       │ France           │ Marseille            │\n",
      "│ Marseille      │   1593.0 │ 1789    │ Exports       │ … │ Dauphiné        │ France           │ Marseille            │\n",
      "│ Marseille      │ 194160.0 │ 1789    │ Exports       │ … │ Amérique        │ Monde            │ Monde hors colonies  │\n",
      "│ Marseille      │   2586.0 │ 1789    │ Exports       │ … │ Provence        │ France           │ Marseille            │\n",
      "│ Marseille      │   2640.0 │ 1789    │ Exports       │ … │ Bourgogne       │ France           │ Marseille            │\n",
      "│ Marseille      │   2916.0 │ 1789    │ Exports       │ … │ Bourgogne       │ France           │ Marseille            │\n",
      "│ Marseille      │   2790.0 │ 1789    │ Exports       │ … │ Provence        │ France           │ Marseille            │\n",
      "│ Marseille      │   1726.0 │ 1789    │ Exports       │ … │ Provence        │ France           │ Marseille            │\n",
      "│     ·          │      ·   │  ·      │    ·          │ · │    ·            │   ·              │     ·                │\n",
      "│     ·          │      ·   │  ·      │    ·          │ · │    ·            │   ·              │     ·                │\n",
      "│     ·          │      ·   │  ·      │    ·          │ · │    ·            │   ·              │     ·                │\n",
      "│ Marseille      │    120.0 │ 1789    │ Exports       │ … │ Provence        │ Amériques        │ Martinique           │\n",
      "│ Marseille      │    150.0 │ 1789    │ Exports       │ … │ Bourgogne       │ Amériques        │ Saint-Domingue       │\n",
      "│ Marseille      │    165.0 │ 1789    │ Exports       │ … │ Provence        │ Amériques        │ Guadeloupe           │\n",
      "│ Marseille      │   5583.0 │ 1789    │ Exports       │ … │ NULL            │ Amériques        │ Saint-Domingue       │\n",
      "│ Marseille      │  12944.0 │ 1789    │ Exports       │ … │ NULL            │ Amériques        │ Martinique           │\n",
      "│ Marseille      │   5100.0 │ 1789    │ Exports       │ … │ NULL            │ Amériques        │ Guadeloupe           │\n",
      "│ Marseille      │    432.0 │ 1789    │ Exports       │ … │ NULL            │ Amériques        │ Cayenne et Guyane    │\n",
      "│ Marseille      │ 782367.0 │ 1789    │ Exports       │ … │ NULL            │ Asie             │ Îles de France et …  │\n",
      "│ Marseille      │ 131079.0 │ 1789    │ Exports       │ … │ NULL            │ Asie             │ Indes                │\n",
      "│ Marseille      │ 747238.0 │ 1789    │ Exports       │ … │ NULL            │ Asie             │ Indes                │\n",
      "├────────────────┴──────────┴─────────┴───────────────┴───┴─────────────────┴──────────────────┴──────────────────────┤\n",
      "│ 2860 rows (20 shown)                                                                           12 columns (7 shown) │\n",
      "└─────────────────────────────────────────────────────────────────────────────────────────────────────────────────────┘\n",
      "\n"
     ]
    }
   ],
   "source": [
    "# Appliquer les filtres de base (communes aux tous buckets)\n",
    "\n",
    "base_relation = duckdb.sql(f\"\"\"\n",
    "    FROM toflit_flows\n",
    "    WHERE customs_region = 'Marseille'\n",
    "    AND year = '1789'\n",
    "    AND value IS NOT NULL\n",
    "    AND export_import = 'Exports'\n",
    "    AND best_guess_region_prodxpart = '1'\n",
    "\"\"\")\n",
    "\n",
    "base_relation.show()"
   ]
  },
  {
   "cell_type": "code",
   "execution_count": 88,
   "id": "506467f7",
   "metadata": {},
   "outputs": [
    {
     "name": "stdout",
     "output_type": "stream",
     "text": [
      "┌────────────────┬───────────┬─────────┬───────────────┬───┬─────────────────┬──────────────────┬──────────────────────┐\n",
      "│ customs_region │   value   │  year   │ export_import │ … │ origin_province │ partner_grouping │ partner_simplifica…  │\n",
      "│    varchar     │   float   │ varchar │    varchar    │   │     varchar     │     varchar      │       varchar        │\n",
      "├────────────────┼───────────┼─────────┼───────────────┼───┼─────────────────┼──────────────────┼──────────────────────┤\n",
      "│ Marseille      │    2312.5 │ 1789    │ Exports       │ … │ Provence        │ France           │ Marseille            │\n",
      "│ Marseille      │    4237.0 │ 1789    │ Exports       │ … │ NULL            │ France           │ Marseille            │\n",
      "│ Marseille      │   43636.5 │ 1789    │ Exports       │ … │ Bourgogne       │ France           │ Marseille            │\n",
      "│ Marseille      │    1593.0 │ 1789    │ Exports       │ … │ Dauphiné        │ France           │ Marseille            │\n",
      "│ Marseille      │    2586.0 │ 1789    │ Exports       │ … │ Provence        │ France           │ Marseille            │\n",
      "│ Marseille      │    2640.0 │ 1789    │ Exports       │ … │ Bourgogne       │ France           │ Marseille            │\n",
      "│ Marseille      │    2916.0 │ 1789    │ Exports       │ … │ Bourgogne       │ France           │ Marseille            │\n",
      "│ Marseille      │    2790.0 │ 1789    │ Exports       │ … │ Provence        │ France           │ Marseille            │\n",
      "│ Marseille      │    1726.0 │ 1789    │ Exports       │ … │ Provence        │ France           │ Marseille            │\n",
      "│ Marseille      │   12950.0 │ 1789    │ Exports       │ … │ Languedoc       │ France           │ Marseille            │\n",
      "│     ·          │       ·   │  ·      │    ·          │ · │    ·            │   ·              │     ·                │\n",
      "│     ·          │       ·   │  ·      │    ·          │ · │    ·            │   ·              │     ·                │\n",
      "│     ·          │       ·   │  ·      │    ·          │ · │    ·            │   ·              │     ·                │\n",
      "│ Marseille      │    4687.5 │ 1789    │ Exports       │ … │ Flandre         │ France           │ Marseille            │\n",
      "│ Marseille      │   23962.5 │ 1789    │ Exports       │ … │ Provence        │ France           │ Marseille            │\n",
      "│ Marseille      │   32175.0 │ 1789    │ Exports       │ … │ Flandre         │ France           │ Marseille            │\n",
      "│ Marseille      │    8256.0 │ 1789    │ Exports       │ … │ Flandre         │ France           │ Marseille            │\n",
      "│ Marseille      │   35926.8 │ 1789    │ Exports       │ … │ Lorraine        │ France           │ Marseille            │\n",
      "│ Marseille      │  530392.0 │ 1789    │ Exports       │ … │ Provence        │ France           │ Marseille            │\n",
      "│ Marseille      │    2339.0 │ 1789    │ Exports       │ … │ Provence        │ France           │ Marseille            │\n",
      "│ Marseille      │     448.0 │ 1789    │ Exports       │ … │ NULL            │ France           │ Marseille            │\n",
      "│ Marseille      │ 7471.1997 │ 1789    │ Exports       │ … │ Provence        │ France           │ Marseille            │\n",
      "│ Marseille      │    7270.0 │ 1789    │ Exports       │ … │ Lyonnais        │ France           │ Marseille            │\n",
      "├────────────────┴───────────┴─────────┴───────────────┴───┴─────────────────┴──────────────────┴──────────────────────┤\n",
      "│ 573 rows (20 shown)                                                                             12 columns (7 shown) │\n",
      "└──────────────────────────────────────────────────────────────────────────────────────────────────────────────────────┘\n",
      "\n"
     ]
    }
   ],
   "source": [
    "# BUCKET 1 (Marseille) - partner_grouping = 'France' AND partner_simplification = 'Marseille'\n",
    "\n",
    "marseille_bucket = duckdb.sql(f\"\"\"\n",
    "FROM base_relation\n",
    "WHERE partner_grouping = 'France'\n",
    "AND partner_simplification = 'Marseille'\n",
    "\"\"\")\n",
    "\n",
    "marseille_bucket.show()"
   ]
  },
  {
   "cell_type": "code",
   "execution_count": 89,
   "id": "092fceba",
   "metadata": {},
   "outputs": [
    {
     "name": "stdout",
     "output_type": "stream",
     "text": [
      "┌────────────────┬───────────┬─────────┬───────────────┬───┬─────────────────┬──────────────────┬──────────────────────┐\n",
      "│ customs_region │   value   │  year   │ export_import │ … │ origin_province │ partner_grouping │ partner_simplifica…  │\n",
      "│    varchar     │   float   │ varchar │    varchar    │   │     varchar     │     varchar      │       varchar        │\n",
      "├────────────────┼───────────┼─────────┼───────────────┼───┼─────────────────┼──────────────────┼──────────────────────┤\n",
      "│ Marseille      │ 26325.771 │ 1789    │ Exports       │ … │ NULL            │ France           │ Dunkerque            │\n",
      "│ Marseille      │   2198.44 │ 1789    │ Exports       │ … │ NULL            │ France           │ Bayonne              │\n",
      "│ Marseille      │   3015.46 │ 1789    │ Exports       │ … │ NULL            │ France           │ Dunkerque            │\n",
      "│ Marseille      │     116.0 │ 1789    │ Exports       │ … │ NULL            │ France           │ Corse                │\n",
      "│ Marseille      │     154.0 │ 1789    │ Exports       │ … │ NULL            │ France           │ Dunkerque            │\n",
      "│ Marseille      │    4482.0 │ 1789    │ Exports       │ … │ NULL            │ France           │ Bayonne              │\n",
      "│ Marseille      │    1452.0 │ 1789    │ Exports       │ … │ NULL            │ France           │ Corse                │\n",
      "│ Marseille      │     432.0 │ 1789    │ Exports       │ … │ NULL            │ France           │ Corse                │\n",
      "│ Marseille      │   2535.04 │ 1789    │ Exports       │ … │ NULL            │ France           │ Dunkerque            │\n",
      "│ Marseille      │    575.05 │ 1789    │ Exports       │ … │ NULL            │ France           │ Bayonne              │\n",
      "│     ·          │       ·   │  ·      │    ·          │ · │  ·              │   ·              │    ·                 │\n",
      "│     ·          │       ·   │  ·      │    ·          │ · │  ·              │   ·              │    ·                 │\n",
      "│     ·          │       ·   │  ·      │    ·          │ · │  ·              │   ·              │    ·                 │\n",
      "│ Marseille      │   99466.8 │ 1789    │ Exports       │ … │ NULL            │ France           │ Dunkerque            │\n",
      "│ Marseille      │    1719.0 │ 1789    │ Exports       │ … │ NULL            │ France           │ Corse                │\n",
      "│ Marseille      │    2960.0 │ 1789    │ Exports       │ … │ NULL            │ France           │ Corse                │\n",
      "│ Marseille      │   22552.0 │ 1789    │ Exports       │ … │ NULL            │ France           │ Corse                │\n",
      "│ Marseille      │    1009.0 │ 1789    │ Exports       │ … │ NULL            │ France           │ Corse                │\n",
      "│ Marseille      │     170.8 │ 1789    │ Exports       │ … │ NULL            │ France           │ Dunkerque            │\n",
      "│ Marseille      │      99.4 │ 1789    │ Exports       │ … │ NULL            │ France           │ Corse                │\n",
      "│ Marseille      │ 2003.8801 │ 1789    │ Exports       │ … │ NULL            │ France           │ Dunkerque            │\n",
      "│ Marseille      │    131.88 │ 1789    │ Exports       │ … │ NULL            │ France           │ Corse                │\n",
      "│ Marseille      │   10800.0 │ 1789    │ Exports       │ … │ NULL            │ France           │ Bayonne              │\n",
      "├────────────────┴───────────┴─────────┴───────────────┴───┴─────────────────┴──────────────────┴──────────────────────┤\n",
      "│ 120 rows (20 shown)                                                                             12 columns (7 shown) │\n",
      "└──────────────────────────────────────────────────────────────────────────────────────────────────────────────────────┘\n",
      "\n"
     ]
    }
   ],
   "source": [
    "# BUCKET 2 (France) - partner_grouping = 'France' AND partner_simplification != 'Marseille'\n",
    "\n",
    "france_bucket = duckdb.sql(f\"\"\"\n",
    "FROM base_relation\n",
    "WHERE partner_grouping = 'France'\n",
    "AND partner_simplification != 'Marseille'\n",
    "\"\"\")\n",
    "\n",
    "france_bucket.show()"
   ]
  },
  {
   "cell_type": "code",
   "execution_count": 90,
   "id": "9c77888e",
   "metadata": {},
   "outputs": [],
   "source": [
    "# BUCKET 3 (monde) - partner_grouping != 'France'\n",
    "\n",
    "monde_bucket = duckdb.sql(f\"\"\"\n",
    "FROM base_relation\n",
    "WHERE partner_grouping != 'France'\n",
    "\"\"\")\n",
    "\n",
    "# monde_bucket.show()"
   ]
  },
  {
   "cell_type": "code",
   "execution_count": 91,
   "id": "bd380cac",
   "metadata": {},
   "outputs": [],
   "source": [
    "def group_by_province(relation) -> list[dict]:\n",
    "    agg = relation.aggregate(\"\"\"\n",
    "        origin_province,\n",
    "        SUM(value) as total_value\n",
    "    \"\"\")\n",
    "\n",
    "    values = agg.fetchall()\n",
    "    columns = agg.columns\n",
    "\n",
    "    return [dict(zip(columns, row)) for row in values]\n",
    "\n",
    "marseille_bucket_data = group_by_province(marseille_bucket)\n",
    "france_bucket_data = group_by_province(france_bucket)\n",
    "monde_bucket_data = group_by_province(monde_bucket)"
   ]
  },
  {
   "cell_type": "code",
   "execution_count": 92,
   "id": "10b35286-9635-4caa-8f77-d21800a238fe",
   "metadata": {
    "tags": []
   },
   "outputs": [],
   "source": [
    "def visualise(aggregations, title):\n",
    "    \n",
    "    VegaLite({\n",
    "        \"$schema\": \"https://vega.github.io/schema/vega-lite/v5.json\",\n",
    "        \"title\": title,\n",
    "        \"mark\": \"bar\",\n",
    "        \"data\": {\n",
    "            \"values\": aggregations\n",
    "        },\n",
    "        \"encoding\": {\n",
    "            \"x\": {\n",
    "                \"field\": \"total_value\",\n",
    "                \"type\": \"quantitative\", \n",
    "                \"title\": \"value\"\n",
    "            },\n",
    "            \"y\": {\n",
    "                \"field\": \"origin_province\",\n",
    "                \"type\": \"nominal\",\n",
    "                \"title\": \"origin_province\",\n",
    "                \"sort\": \"-x\"\n",
    "            }\n",
    "        }\n",
    "    })"
   ]
  },
  {
   "cell_type": "code",
   "execution_count": 103,
   "id": "4bae6f10",
   "metadata": {},
   "outputs": [
    {
     "data": {
      "application/vnd.vegalite.v4+json": {
       "$schema": "https://vega.github.io/schema/vega-lite/v5.json",
       "data": {
        "values": [
         {
          "origin_province": "Provence",
          "total_value": 8127777.450965881
         },
         {
          "origin_province": null,
          "total_value": 42897
         },
         {
          "origin_province": "Bourgogne",
          "total_value": 65461.25
         },
         {
          "origin_province": "Dauphiné",
          "total_value": 161474.73046875
         },
         {
          "origin_province": "Languedoc",
          "total_value": 12452093.75
         },
         {
          "origin_province": "Lyonnais",
          "total_value": 7223073.910186768
         },
         {
          "origin_province": "Île-de-France",
          "total_value": 569400
         },
         {
          "origin_province": "Normandie",
          "total_value": 1256823.25
         },
         {
          "origin_province": "Monde",
          "total_value": 235966.8857421875
         },
         {
          "origin_province": "Inconnu",
          "total_value": 118739
         },
         {
          "origin_province": "Orléanais",
          "total_value": 361464
         },
         {
          "origin_province": "Picardie",
          "total_value": 499890.5
         },
         {
          "origin_province": "Champagne",
          "total_value": 1326674.25
         },
         {
          "origin_province": "Angleterre",
          "total_value": 35733
         },
         {
          "origin_province": "Flandre",
          "total_value": 1054792.4497070312
         },
         {
          "origin_province": "Maine",
          "total_value": 253363
         },
         {
          "origin_province": "Guyenne",
          "total_value": 18789
         },
         {
          "origin_province": "Hollande",
          "total_value": 104070
         },
         {
          "origin_province": "Asie",
          "total_value": 985000
         },
         {
          "origin_province": "Suisse",
          "total_value": 752.5
         },
         {
          "origin_province": "Bretagne",
          "total_value": 93348
         },
         {
          "origin_province": "Alsace",
          "total_value": 43524
         },
         {
          "origin_province": "Lorraine",
          "total_value": 45988.80078125
         }
        ]
       },
       "encoding": {
        "x": {
         "field": "total_value",
         "title": "value",
         "type": "quantitative"
        },
        "y": {
         "field": "origin_province",
         "sort": "-x",
         "title": "origin_province",
         "type": "nominal"
        }
       },
       "mark": "bar",
       "title": "Origine des produits exportés depuis Marseille vers Marseille"
      }
     },
     "metadata": {},
     "output_type": "display_data"
    }
   ],
   "source": [
    "visualise(marseille_bucket_data, 'Origine des produits exportés depuis Marseille vers Marseille')"
   ]
  },
  {
   "cell_type": "code",
   "execution_count": 104,
   "id": "c566f7be",
   "metadata": {},
   "outputs": [
    {
     "data": {
      "application/vnd.vegalite.v4+json": {
       "$schema": "https://vega.github.io/schema/vega-lite/v5.json",
       "data": {
        "values": [
         {
          "origin_province": null,
          "total_value": 1350036.4332504272
         }
        ]
       },
       "encoding": {
        "x": {
         "field": "total_value",
         "title": "value",
         "type": "quantitative"
        },
        "y": {
         "field": "origin_province",
         "sort": "-x",
         "title": "origin_province",
         "type": "nominal"
        }
       },
       "mark": "bar",
       "title": "Origine des produits exportés depuis Marseille vers partenaires en France"
      }
     },
     "metadata": {},
     "output_type": "display_data"
    }
   ],
   "source": [
    "visualise(france_bucket_data, 'Origine des produits exportés depuis Marseille vers partenaires en France')"
   ]
  },
  {
   "cell_type": "code",
   "execution_count": 105,
   "id": "8e36b072",
   "metadata": {},
   "outputs": [
    {
     "data": {
      "application/vnd.vegalite.v4+json": {
       "$schema": "https://vega.github.io/schema/vega-lite/v5.json",
       "data": {
        "values": [
         {
          "origin_province": "Amérique",
          "total_value": 24912626
         },
         {
          "origin_province": "Monde",
          "total_value": 719270
         },
         {
          "origin_province": "Provence",
          "total_value": 8983025.08984375
         },
         {
          "origin_province": null,
          "total_value": 42228648.05075073
         },
         {
          "origin_province": "Lyonnais",
          "total_value": 1538081
         },
         {
          "origin_province": "Île-de-France",
          "total_value": 530604
         },
         {
          "origin_province": "Dauphiné",
          "total_value": 153492
         },
         {
          "origin_province": "Languedoc",
          "total_value": 749237
         },
         {
          "origin_province": "Levant et Barbarie",
          "total_value": 128257
         },
         {
          "origin_province": "Flandre",
          "total_value": 120619
         },
         {
          "origin_province": "Inconnu",
          "total_value": 148001
         },
         {
          "origin_province": "Normandie",
          "total_value": 25460
         },
         {
          "origin_province": "Champagne",
          "total_value": 30153
         },
         {
          "origin_province": "Asie",
          "total_value": 1578281
         },
         {
          "origin_province": "Auvergne",
          "total_value": 88244
         },
         {
          "origin_province": "Picardie",
          "total_value": 143473
         },
         {
          "origin_province": "Touraine",
          "total_value": 1367
         },
         {
          "origin_province": "Anjou",
          "total_value": 15120
         },
         {
          "origin_province": "Italie",
          "total_value": 11152
         },
         {
          "origin_province": "Maine",
          "total_value": 7612
         },
         {
          "origin_province": "Nivernais",
          "total_value": 10023
         },
         {
          "origin_province": "Bourgogne",
          "total_value": 150
         }
        ]
       },
       "encoding": {
        "x": {
         "field": "total_value",
         "title": "value",
         "type": "quantitative"
        },
        "y": {
         "field": "origin_province",
         "sort": "-x",
         "title": "origin_province",
         "type": "nominal"
        }
       },
       "mark": "bar",
       "title": "Origine des produits exportés effectués depuis Marseille vers l'étranger"
      }
     },
     "metadata": {},
     "output_type": "display_data"
    }
   ],
   "source": [
    "visualise(monde_bucket_data, \"Origine des produits exportés effectués depuis Marseille vers l'étranger\")"
   ]
  },
  {
   "cell_type": "code",
   "execution_count": 110,
   "metadata": {},
   "outputs": [
    {
     "data": {
      "text/plain": [
       "[{'partner_simplification': 'Dunkerque', 'total_value': 655032.4423675537},\n",
       " {'partner_simplification': 'Bayonne', 'total_value': 280171.2106628418},\n",
       " {'partner_simplification': 'Corse', 'total_value': 350871.0802078247},\n",
       " {'partner_simplification': 'Lorient', 'total_value': 63961.70001220703}]"
      ]
     },
     "execution_count": 110,
     "metadata": {},
     "output_type": "execute_result"
    }
   ],
   "source": [
    "# Voir qui sont les partenaires de la marchandise \n",
    "# exportée depuis Marseille vers la France \n",
    "# pour laquelle il n'y a pas d'origin_province\n",
    "\n",
    "france_bucket = duckdb.sql(f\"\"\"\n",
    "FROM base_relation\n",
    "WHERE partner_grouping = 'France'\n",
    "AND partner_simplification != 'Marseille'\n",
    "\"\"\")\n",
    "\n",
    "def group_by_partner(relation) -> list[dict]:\n",
    "    agg = relation.aggregate(\"\"\"\n",
    "        partner_simplification,\n",
    "        SUM(value) as total_value\n",
    "    \"\"\")\n",
    "\n",
    "    values = agg.fetchall()\n",
    "    columns = agg.columns\n",
    "\n",
    "    return [dict(zip(columns, row)) for row in values]\n",
    "\n",
    "france_origin_is_null_grouped_by_partner = group_by_partner(france_bucket)\n",
    "\n",
    "france_origin_is_null_grouped_by_partner"
   ]
  }
 ],
 "metadata": {
  "kernelspec": {
   "display_name": "portic2023",
   "language": "python",
   "name": "python3"
  },
  "language_info": {
   "codemirror_mode": {
    "name": "ipython",
    "version": 3
   },
   "file_extension": ".py",
   "mimetype": "text/x-python",
   "name": "python",
   "nbconvert_exporter": "python",
   "pygments_lexer": "ipython3",
   "version": "3.11.0"
  },
  "vscode": {
   "interpreter": {
    "hash": "0ce833c5b73e6d5f6ca6b0c40d780d6c01d5f39b699eb9f23f578f6903492dfc"
   }
  }
 },
 "nbformat": 4,
 "nbformat_minor": 5
}
