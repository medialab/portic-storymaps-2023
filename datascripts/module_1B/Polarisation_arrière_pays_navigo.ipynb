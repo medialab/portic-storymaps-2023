{
 "cells": [
  {
   "cell_type": "code",
   "execution_count": null,
   "id": "4e25c0fe-4d57-4b9c-a9e6-c9c83d4d4a72",
   "metadata": {
    "tags": []
   },
   "outputs": [],
   "source": [
    "def VegaLite(spec):\n",
    "    bundle = {}\n",
    "    bundle['application/vnd.vegalite.v4+json'] = spec\n",
    "    display(bundle, raw=True)\n",
    "from csv import DictReader\n",
    "\n",
    "pointcalls_observations_Marseille = []\n",
    "with open('../../data/navigo_all_pointcalls.csv', newline='') as csvfile:\n",
    "    reader = DictReader(csvfile)\n",
    "    for row in reader:\n",
    "        if row['date_fixed'].split('-')[0] == '1787' \\\n",
    "        and row['pointcall_function'] == \"O\" \\\n",
    "        and (row[\"source_suite\"] == \"Registre du petit cabotage (1786-1787)\" \\\n",
    "             or row[\"source_suite\"] == \"la Santé registre de patentes de Marseille\") \\\n",
    "        and row['net_route_marker'] != \"Q\":\n",
    "           # and row['toponyme_fr'] == 'Marseille' \\\n",
    "            pointcalls_observations_Marseille.append(row)"
   ]
  },
  {
   "cell_type": "code",
   "execution_count": null,
   "id": "56fe191f-263b-4c46-b184-e769876c4387",
   "metadata": {
    "tags": []
   },
   "outputs": [],
   "source": [
    "import pandas as pd\n"
   ]
  },
  {
   "cell_type": "code",
   "execution_count": null,
   "id": "983285e4-66f7-402d-b29f-f4351ce7b134",
   "metadata": {},
   "outputs": [],
   "source": [
    "pointcalls_before_Marseille = []\n",
    "with open('../../data/navigo_all_pointcalls.csv', newline='') as csvfile:\n",
    "    reader = DictReader(csvfile)\n",
    "    for row in reader:\n",
    "        if row['date_fixed'].split('-')[0] == '1787' \\\n",
    "        and (row[\"source_suite\"] == \"Registre du petit cabotage (1786-1787)\" \\\n",
    "             or row[\"source_suite\"] == \"la Santé registre de patentes de Marseille\") \\\n",
    "        and row['net_route_marker'] != \"Q\":\n",
    "           # and row['toponyme_fr'] == 'Marseille' \\\n",
    "            pointcalls_before_Marseille.append(row)"
   ]
  },
  {
   "cell_type": "code",
   "execution_count": null,
   "id": "d03dd25f-9d28-43bd-851b-dd53918eecc1",
   "metadata": {
    "tags": []
   },
   "outputs": [],
   "source": [
    "all_pointcalls = []\n",
    "from collections import Counter, defaultdict\n",
    "with open('../../data/navigo_all_pointcalls.csv', newline='') as csvfile:\n",
    "    reader = DictReader(csvfile)\n",
    "    for row in reader:\n",
    "        if row['date_fixed'].split('-')[0] == '1787' \\\n",
    "        and row[\"source_suite\"] == \"G5\":\n",
    "           # and row['toponyme_fr'] == 'Marseille' \\\n",
    "            all_pointcalls.append(row)"
   ]
  },
  {
   "cell_type": "code",
   "execution_count": null,
   "id": "53ab72ff-a42e-465a-b806-c958c5e3a643",
   "metadata": {
    "tags": []
   },
   "outputs": [],
   "source": [
    "rank_Marseille = {}\n",
    "for row in pointcalls_observations_Marseille:\n",
    "    rank_Marseille[row[\"source_doc_id\"]] = row[\"pointcall_rank_dedieu\"]"
   ]
  },
  {
   "cell_type": "code",
   "execution_count": null,
   "id": "7d0d3c5d-3ec5-485e-bbf0-35e8cfd42701",
   "metadata": {
    "tags": []
   },
   "outputs": [],
   "source": [
    "ranks_smaller_than_Marseille = []\n",
    "for row in pointcalls_before_Marseille:\n",
    "    if row[\"source_doc_id\"] in rank_Marseille:\n",
    "        max_rank = rank_Marseille[row[\"source_doc_id\"]]\n",
    "        if row[\"pointcall_rank_dedieu\"] < max_rank:\n",
    "            ranks_smaller_than_Marseille.append(row)\n"
   ]
  },
  {
   "cell_type": "code",
   "execution_count": null,
   "id": "fc5c79a5",
   "metadata": {},
   "outputs": [],
   "source": [
    "# code christine et ines"
   ]
  },
  {
   "cell_type": "code",
   "execution_count": null,
   "id": "0ebbde9d-815f-4068-9924-072cad7f3f88",
   "metadata": {},
   "outputs": [],
   "source": [
    "import requests\n",
    "import csv\n",
    "from pprint import pprint\n",
    "\n",
    "def get_online_csv(url):\n",
    "  results = []\n",
    "  with requests.Session() as s:\n",
    "      download = s.get(url)\n",
    "      decoded_content = download.content.decode('utf-8')\n",
    "      reader = csv.DictReader(decoded_content.splitlines(), delimiter=',')\n",
    "      for row in reader:\n",
    "        results.append(dict(row))\n",
    "  return results\n",
    "\n",
    "sorties_g5 = 'https://docs.google.com/spreadsheets/d/e/2PACX-1vRNAeIEFhB_RTm2xBgeuXl5oMtNIrGhWT6uCB2S9wEUblwDidRBwv9dp8D0S-YIPUyoASaG2p-NgfWD/pub?output=csv'\n",
    "\n",
    "sorties_g5 = get_online_csv(sorties_g5)\n",
    "\n",
    "pprint(sorties_g5[0])\n",
    "\n",
    "print(type(sorties_g5))"
   ]
  },
  {
   "cell_type": "code",
   "execution_count": null,
   "id": "f4dada3d",
   "metadata": {},
   "outputs": [],
   "source": [
    "from csv import DictReader\n",
    "import pandas as pd\n",
    "\n",
    "with open('../../data/navigo_all_pointcalls.csv', newline='', encoding='utf8') as csvfile:\n",
    "    pointcalls = pd.read_csv(csvfile, sep=',')"
   ]
  },
  {
   "cell_type": "code",
   "execution_count": null,
   "id": "c6010e43",
   "metadata": {},
   "outputs": [],
   "source": [
    "pointcalls.info()\n",
    "pointcalls"
   ]
  },
  {
   "cell_type": "code",
   "execution_count": null,
   "id": "22542167",
   "metadata": {},
   "outputs": [],
   "source": [
    "data = pointcalls[['toponyme_fr', 'pointcall_province']]\n",
    "\n",
    "data"
   ]
  },
  {
   "cell_type": "code",
   "execution_count": null,
   "id": "cc26767e",
   "metadata": {},
   "outputs": [],
   "source": [
    "arriere_pays = [\"Corse\", \"Provence\", \"Languedoc\", \"Roussillon\"]\n",
    "\n",
    "subset_data = data[data['pointcall_province'].isin(arriere_pays)]\n",
    "subset_data"
   ]
  },
  {
   "cell_type": "code",
   "execution_count": null,
   "id": "65d8d7f5",
   "metadata": {},
   "outputs": [],
   "source": [
    "subset_data.drop_duplicates(keep = 'first', inplace=True)\n",
    "subset_data"
   ]
  },
  {
   "cell_type": "code",
   "execution_count": null,
   "id": "14a2d9f1",
   "metadata": {},
   "outputs": [],
   "source": [
    "df_sorties_g5 = pd.DataFrame(sorties_g5, columns =['annee', \n",
    "                                                  'nb_conges_cr',\n",
    "                                                  'nb_conges_inputdone',\n",
    "                                                  'nb_conges_sante',\n",
    "                                                  'nb_longcours_marseille',\n",
    "                                                  'nb_petitcabotage',\n",
    "                                                  'toponyme_standard_fr',\n",
    "                                                  'uhgs_id'\n",
    "                                                  ])\n",
    "\n",
    "sortie_arriere_pays = pd.merge(df_sorties_g5, subset_data, left_on='toponyme_standard_fr', right_on='toponyme_fr')\n",
    "sortie_arriere_pays"
   ]
  },
  {
   "cell_type": "code",
   "execution_count": null,
   "id": "33fd2979",
   "metadata": {},
   "outputs": [],
   "source": [
    "sortie_arriere_pays_1789 = sortie_arriere_pays[sortie_arriere_pays['annee'] == '1789']\n",
    "sortie_arriere_pays_1789 = sortie_arriere_pays_1789[['nb_conges_cr', 'toponyme_fr', 'pointcall_province']]\n",
    "sortie_arriere_pays_1789 "
   ]
  },
  {
   "cell_type": "code",
   "execution_count": null,
   "id": "235f67e1",
   "metadata": {},
   "outputs": [],
   "source": [
    "from IPython.display import display\n",
    "\n",
    "def VegaLite(spec):\n",
    "    bundle = {}\n",
    "    bundle['application/vnd.vegalite.v4+json'] = spec\n",
    "    display(bundle, raw=True)"
   ]
  },
  {
   "cell_type": "code",
   "execution_count": null,
   "id": "06882a34",
   "metadata": {},
   "outputs": [],
   "source": [
    "dict_sortie_arriere_pays_1789 = sortie_arriere_pays_1789.to_dict('records')\n",
    "\n",
    "pprint(dict_sortie_arriere_pays_1789)"
   ]
  },
  {
   "cell_type": "code",
   "execution_count": null,
   "id": "45da823e",
   "metadata": {},
   "outputs": [],
   "source": [
    "sortie_arriere_pays_1789"
   ]
  },
  {
   "cell_type": "code",
   "execution_count": null,
   "id": "e0c321d0",
   "metadata": {},
   "outputs": [],
   "source": [
    "departures = {row[\"toponyme_fr\"]: row[\"nb_conges_cr\"] for i, row in sortie_arriere_pays_1789.iterrows()}\n"
   ]
  },
  {
   "cell_type": "code",
   "execution_count": null,
   "id": "a1df8515",
   "metadata": {},
   "outputs": [],
   "source": [
    "departures"
   ]
  },
  {
   "cell_type": "code",
   "execution_count": null,
   "id": "ef874e60",
   "metadata": {},
   "outputs": [],
   "source": [
    "len(departures)"
   ]
  },
  {
   "cell_type": "code",
   "execution_count": null,
   "id": "f25e6e97-0ecc-4086-bd2a-449b85b4f3c4",
   "metadata": {
    "tags": []
   },
   "outputs": [],
   "source": [
    "polarization_ratios = defaultdict(dict)\n",
    "for departure, value in departures.items():\n",
    "    polarization_ratios[departure][\"departure_count\"] = value\n",
    "    polarization_ratios[departure][\"departure_port\"] = departure\n",
    "    polarization_ratios[departure][\"arrival_count\"] = 0\n",
    "\n",
    "for row in ranks_smaller_than_Marseille:\n",
    "    if row[\"toponyme_fr\"] in departures:\n",
    "        polarization_ratios[row[\"toponyme_fr\"]][\"arrival_count\"] += 1\n",
    "\n"
   ]
  },
  {
   "cell_type": "code",
   "execution_count": null,
   "id": "99362ce0-8f84-402f-a315-6dedb1469453",
   "metadata": {
    "tags": []
   },
   "outputs": [],
   "source": [
    "list_polarisation_ratios = []\n",
    "for k, v in polarization_ratios.items():\n",
    "    list_polarisation_ratios.append({\"port\": k, \"value\": v[\"departure_count\"], \"type\": \"departure\"})\n",
    "    list_polarisation_ratios.append({\"port\": k, \"value\": v[\"arrival_count\"], \"type\": \"arrival\"})"
   ]
  },
  {
   "cell_type": "code",
   "execution_count": null,
   "id": "13cc47d9-ab05-4506-b83e-22166ee0afef",
   "metadata": {
    "tags": []
   },
   "outputs": [],
   "source": [
    "viz_df = pd.DataFrame(list_polarisation_ratios)\n",
    "viz_df = viz_df.sort_values([\"type\", \"value\"])"
   ]
  },
  {
   "cell_type": "code",
   "execution_count": null,
   "id": "aa6c9820",
   "metadata": {},
   "outputs": [],
   "source": [
    "viz_df.value = viz_df.value.astype(int)"
   ]
  },
  {
   "cell_type": "code",
   "execution_count": null,
   "id": "8db37592",
   "metadata": {},
   "outputs": [],
   "source": [
    "viz_df = viz_df[viz_df.port != \"Marseille\"]"
   ]
  },
  {
   "cell_type": "code",
   "execution_count": null,
   "id": "498c640e-d650-4c7d-bb7f-9b43bc209140",
   "metadata": {},
   "outputs": [],
   "source": [
    "import seaborn as sns\n",
    "import matplotlib.pyplot as plt\n",
    "sns.set_theme(style=\"whitegrid\")\n",
    "\n",
    "# Draw a nested barplot by species and sex\n",
    "g = sns.catplot(\n",
    "    data=viz_df, kind=\"bar\",\n",
    "    x=\"value\", y=\"port\", hue=\"type\", orient=\"h\",\n",
    "    height=6\n",
    ")\n",
    "g.set_axis_labels(\"nb de bateaux\", \"Ports\")\n",
    "plt.title(\"Nb de bateaux arrivés à Marseille et partis des ports de son bassin commercial\")\n",
    "plt.show()"
   ]
  }
 ],
 "metadata": {
  "kernelspec": {
   "display_name": "Python 3 (ipykernel)",
   "language": "python",
   "name": "python3"
  },
  "language_info": {
   "codemirror_mode": {
    "name": "ipython",
    "version": 3
   },
   "file_extension": ".py",
   "mimetype": "text/x-python",
   "name": "python",
   "nbconvert_exporter": "python",
   "pygments_lexer": "ipython3",
   "version": "3.9.12"
  }
 },
 "nbformat": 4,
 "nbformat_minor": 5
}
