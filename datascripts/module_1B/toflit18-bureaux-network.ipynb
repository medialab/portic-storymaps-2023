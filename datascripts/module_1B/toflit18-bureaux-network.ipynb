{
 "cells": [
  {
   "cell_type": "code",
   "execution_count": 22,
   "id": "ebfa2355-9ae6-4c45-924c-73d142b0b978",
   "metadata": {
    "tags": []
   },
   "outputs": [],
   "source": [
    "from csv import DictReader\n",
    "\n",
    "nodes = {}\n",
    "edges = {}\n",
    "\n",
    "def create_or_update_node (id, type, value):\n",
    "    if id not in nodes:\n",
    "        nodes[id] = {\n",
    "            \"id\": id,\n",
    "            \"type\": type,\n",
    "            \"weight\": value\n",
    "        }\n",
    "    else:\n",
    "        nodes[id][\"weight\"] += value\n",
    "\n",
    "def create_or_update_edge (provenance, destination, value):\n",
    "    footprint = \"from \" + provenance + \" to \" + destination\n",
    "    if footprint not in edges:\n",
    "        edges[footprint] = {\n",
    "            \"from\": provenance,\n",
    "            \"to\": destination,\n",
    "            \"weight\": value\n",
    "        }\n",
    "    else:\n",
    "        edges[footprint][\"weight\"] += value\n",
    "\n",
    "with open('../../data/toflit18_all_flows.csv', newline='') as csvfile:\n",
    "    reader = DictReader(csvfile)\n",
    "    for row in reader:\n",
    "        value = int(row['value'].split('.')[0] or 0)\n",
    "        if \\\n",
    "                row['year'] == '1789' \\\n",
    "            and row['best_guess_region_prodxpart'] == '1' \\\n",
    "            :\n",
    "            # Marseille is reporting\n",
    "            if row['customs_region'] == 'Marseille':\n",
    "                bureau = row['customs_office_source']\n",
    "                if bureau == \"Septeme\":\n",
    "                    bureau = \"Septemes\"\n",
    "                if bureau == \"Marseille, Poids et Casse\":\n",
    "                    bureau = \"Marseille - Poids et Casse\"\n",
    "                if bureau == \"Penne\":\n",
    "                    bureau = \"La Penne\"\n",
    "                bureau = \"bureau des fermes \" + bureau\n",
    "                create_or_update_node(bureau, \"Marseille\", value)\n",
    "                if row['export_import'] == 'Exports':\n",
    "                    if row['partner_grouping'] == 'France':\n",
    "                        if row['partner_simplification'] == 'Marseille':\n",
    "                            partner = \"Direction des Fermes de Marseille (pas de bureau spécifié)\"\n",
    "                            create_or_update_node(partner, \"Marseille\", value)\n",
    "                        else:\n",
    "                            partner = \"ports francs de France\"\n",
    "                            create_or_update_node(partner, \"France hors Marseille\", value)\n",
    "                    else:\n",
    "                        partner = \"Monde\"\n",
    "                        create_or_update_node(partner, \"Monde\", value)\n",
    "                    create_or_update_edge(bureau, partner, value)\n",
    "                elif row['export_import'] == 'Imports':\n",
    "                    if row['partner_grouping'] == 'France':  \n",
    "                        partner = \"ports francs de France\"\n",
    "                        create_or_update_node(partner, \"France hors Marseille\", value)\n",
    "                    else:\n",
    "                        partner = \"Monde\"\n",
    "                        create_or_update_node(partner, \"Monde\", value)\n",
    "                    create_or_update_edge(partner, bureau, value)\n",
    "            # Marseille is partner\n",
    "            if row['partner_simplification'] == 'Marseille':\n",
    "                reporter = \"directions des Fermes hors Marseille\"\n",
    "                create_or_update_node(reporter, \"France hors Marseille\", value)\n",
    "                partner = \"Direction des Fermes de Marseille (pas de bureau spécifié)\"\n",
    "                create_or_update_node(partner, \"Marseille\", value)\n",
    "                if row['export_import'] == 'Exports':\n",
    "                    create_or_update_edge(reporter, partner, value)\n",
    "                else:\n",
    "                    create_or_update_edge(partner, reporter, value)\n"
   ]
  },
  {
   "cell_type": "code",
   "execution_count": 23,
   "id": "a3cad994-836c-4dc8-ab10-ed41eab2c65a",
   "metadata": {
    "tags": []
   },
   "outputs": [],
   "source": [
    "import networkx as nx\n",
    "from ipysigma import Sigma\n",
    "\n",
    "graph = nx.DiGraph()\n",
    "\n",
    "for id, props in nodes.items():\n",
    "    graph.add_node(id)\n",
    "    for key, val in props.items():\n",
    "        graph.nodes[id][key] = val\n",
    "\n",
    "for id, props in edges.items():\n",
    "    provenance = props[\"from\"]\n",
    "    destination = props[\"to\"]\n",
    "    graph.add_edge(provenance, destination)\n",
    "    for key, val in props.items():\n",
    "        graph.edges[provenance, destination][key] = val\n",
    "nx.write_gexf(\n",
    "    graph, \n",
    "    \"toflit18-bureaux-network.gexf\",\n",
    "    encoding='utf-8',\n",
    "    prettyprint=True\n",
    ")"
   ]
  },
  {
   "cell_type": "code",
   "execution_count": 9,
   "id": "cca2d855-4083-4280-9c32-db959010440f",
   "metadata": {
    "tags": []
   },
   "outputs": [],
   "source": [
    "import json\n",
    "\n",
    "for_d3 = {\n",
    "    \"nodes\": [],\n",
    "    \"links\": []\n",
    "}\n",
    "sources_indexes = {}\n",
    "for index, (node_id, node) in enumerate(nodes.items()):\n",
    "    sources_indexes[node_id] = index\n",
    "\n",
    "for id, props in nodes.items():\n",
    "    for_d3[\"nodes\"].append({\n",
    "        \"name\": props[\"id\"],\n",
    "        \"label\":  props[\"id\"],\n",
    "        \"value\": props[\"weight\"],\n",
    "        \"id\": id\n",
    "    })\n",
    "\n",
    "\n",
    "for id, props in edges.items():\n",
    "    for_d3[\"links\"].append({\n",
    "        \"source\": sources_indexes[props[\"from\"]],\n",
    "        \"target\": sources_indexes[props[\"to\"]],\n",
    "        \"value\": props[\"weight\"]\n",
    "    })\n",
    "with open('toflit18-bureaux-network.json', 'w') as f:\n",
    "    json.dump(for_d3, f, indent=2)"
   ]
  },
  {
   "cell_type": "code",
   "execution_count": 40,
   "id": "bea1dc11-7292-4abf-b4af-640ec3a7a957",
   "metadata": {
    "tags": []
   },
   "outputs": [
    {
     "data": {
      "application/vnd.jupyter.widget-view+json": {
       "model_id": "02bb4017130147f0924a9347537db2bb",
       "version_major": 2,
       "version_minor": 0
      },
      "text/plain": [
       "Sigma(nx.DiGraph with 12 nodes and 13 edges)"
      ]
     },
     "metadata": {},
     "output_type": "display_data"
    }
   ],
   "source": [
    "import networkx as nx\n",
    "from ipysigma import Sigma\n",
    "\n",
    "Sigma(graph, node_size=\"value\", node_color='type', background_color=\"black\")"
   ]
  }
 ],
 "metadata": {
  "kernelspec": {
   "display_name": "Python 3 (ipykernel)",
   "language": "python",
   "name": "python3"
  },
  "language_info": {
   "codemirror_mode": {
    "name": "ipython",
    "version": 3
   },
   "file_extension": ".py",
   "mimetype": "text/x-python",
   "name": "python",
   "nbconvert_exporter": "python",
   "pygments_lexer": "ipython3",
   "version": "3.7.7"
  }
 },
 "nbformat": 4,
 "nbformat_minor": 5
}
