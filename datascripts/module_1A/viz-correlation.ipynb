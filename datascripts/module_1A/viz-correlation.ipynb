{
 "cells": [
  {
   "cell_type": "markdown",
   "id": "b579b7b0-df8d-4ca3-b124-49837295607c",
   "metadata": {},
   "source": [
    "# Graphe de corrélation des prix du blé 1715-1800"
   ]
  },
  {
   "cell_type": "code",
   "execution_count": null,
   "id": "c655a254-6bcb-46dd-a13d-bf7ef13b5257",
   "metadata": {
    "tags": []
   },
   "outputs": [],
   "source": [
    "from csv import DictReader\n",
    "import networkx as nx\n",
    "\n",
    "data = []\n",
    "with open('1-A--Blé.csv', newline='') as csvfile:\n",
    "    reader = DictReader(csvfile)\n",
    "    for row in reader:\n",
    "        if row[\"A_market\"] == row[\"B_market\"] or row[\"corr\"] == \"\":\n",
    "            continue\n",
    "        data.append(row)\n",
    "\n",
    "graph = nx.Graph()\n",
    "\n",
    "nodes = {}\n",
    "for row in data:\n",
    "    a = row[\"A_market\"]\n",
    "    b = row[\"B_market\"]\n",
    "    c = row[\"corr\"]\n",
    "    weight = pow(float(c) + 1, 2)\n",
    "    graph.add_node(a)\n",
    "    graph.add_node(b)\n",
    "    graph.add_edge(a, b, weight=weight)\n",
    "\n",
    "\"\"\"\n",
    "if a not in nodes:\n",
    "    nodes[a] = a\n",
    "if b not in nodes:\n",
    "    nodes[b] = b\n",
    "\"\"\"\n",
    "    \n",
    "nx.write_gexf(\n",
    "    graph, \n",
    "    \"correlations-ble-1715-1800.gexf\",\n",
    "    encoding='utf-8',\n",
    "    prettyprint=True\n",
    ")"
   ]
  },
  {
   "cell_type": "markdown",
   "id": "99f50d47-107c-4f35-b09c-53093f72373b",
   "metadata": {},
   "source": [
    "# Graphe de corrélation des indices de prix généraux 1714-1789"
   ]
  },
  {
   "cell_type": "code",
   "execution_count": null,
   "id": "bcce0b16-7cf9-49ec-98d2-f4ec666602b0",
   "metadata": {
    "tags": []
   },
   "outputs": [],
   "source": [
    "from csv import DictReader\n",
    "import networkx as nx\n",
    "\n",
    "data = []\n",
    "with open('1-A--Ports.csv', newline='') as csvfile:\n",
    "    reader = DictReader(csvfile)\n",
    "    for row in reader:\n",
    "        if row[\"A\"] == row[\"B\"] or row[\"corr\"] == \"\":\n",
    "            continue\n",
    "        data.append(row)\n",
    "\n",
    "graph = nx.Graph()\n",
    "\n",
    "nodes = {}\n",
    "for row in data:\n",
    "    a = row[\"A\"]\n",
    "    b = row[\"B\"]\n",
    "    c = row[\"corr\"]\n",
    "    weight = pow(float(c) + 1, 2)\n",
    "    graph.add_node(a)\n",
    "    graph.add_node(b)\n",
    "    graph.add_edge(a, b, weight=weight)\n",
    "\n",
    "\"\"\"\n",
    "if a not in nodes:\n",
    "    nodes[a] = a\n",
    "if b not in nodes:\n",
    "    nodes[b] = b\n",
    "\"\"\"\n",
    "    \n",
    "nx.write_gexf(\n",
    "    graph, \n",
    "    \"correlations-general-ports.gexf\",\n",
    "    encoding='utf-8',\n",
    "    prettyprint=True\n",
    ")"
   ]
  },
  {
   "cell_type": "code",
   "execution_count": null,
   "id": "02ae7a4c-dfb8-414d-8efb-2566b11d4cea",
   "metadata": {
    "tags": []
   },
   "outputs": [],
   "source": [
    "from IPython.display import display\n",
    "\n",
    "\n",
    "def VegaLite(spec):\n",
    "    bundle = {}\n",
    "    bundle['application/vnd.vegalite.v4+json'] = spec\n",
    "    display(bundle, raw=True)\n",
    "\n",
    "\n",
    "VegaLite({\n",
    "    \"$schema\": \"https://vega.github.io/schema/vega-lite/v5.json\",\n",
    "    \"title\": \"Matrice de corrélation des prix entre les grands ports\",\n",
    "    \"mark\": {\n",
    "        \"tooltip\": {\n",
    "         \"content\": \"data\"\n",
    "        },\n",
    "        \"type\": \"rect\"\n",
    "    },\n",
    "    \"data\": {\n",
    "        \"values\": data\n",
    "    },\n",
    "    \"encoding\": {\n",
    "        \"x\": {\n",
    "            \"field\": \"A\",\n",
    "            \"type\": \"nominal\", \n",
    "            \"title\": \"Ville A\",\n",
    "            \"sort\": {\"op\": \"mean\", \"field\": \"corr\"}\n",
    "        },\n",
    "        \n",
    "        \"y\": {\n",
    "            \"field\": \"B\",\n",
    "            \"type\": \"nominal\",\n",
    "            \"title\": \"Ville B\",\n",
    "            \"sort\": {\"op\": \"mean\", \"field\": \"corr\"}\n",
    "        },\n",
    "        \"color\": {\n",
    "            \"type\": \"quantitative\",\n",
    "            \"field\": \"corr\",\n",
    "            \"title\": \"Coefficient de corrélation\",\n",
    "            \"scale\": {\n",
    "                \"range\": [\"red\", \"white\", \"blue\"],\n",
    "                \"domain\": [-1, 1]\n",
    "            }\n",
    "        }\n",
    "    }\n",
    "})"
   ]
  },
  {
   "cell_type": "code",
   "execution_count": null,
   "id": "c1d81a6c-5815-40fe-bfad-c5bbeb27e4ab",
   "metadata": {
    "tags": []
   },
   "outputs": [],
   "source": []
  }
 ],
 "metadata": {
  "kernelspec": {
   "display_name": "Python 3 (ipykernel)",
   "language": "python",
   "name": "python3"
  },
  "language_info": {
   "codemirror_mode": {
    "name": "ipython",
    "version": 3
   },
   "file_extension": ".py",
   "mimetype": "text/x-python",
   "name": "python",
   "nbconvert_exporter": "python",
   "pygments_lexer": "ipython3",
   "version": "3.7.7"
  }
 },
 "nbformat": 4,
 "nbformat_minor": 5
}
