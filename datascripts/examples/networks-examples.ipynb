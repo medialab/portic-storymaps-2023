{
 "cells": [
  {
   "cell_type": "code",
   "execution_count": null,
   "id": "fb3b9f0d-bac3-4d87-905e-e8e4d4cddf31",
   "metadata": {
    "tags": []
   },
   "outputs": [],
   "source": [
    "import json\n",
    "import networkx as nx\n",
    "from ipysigma import Sigma\n",
    "\n",
    "# this function allows to map a value from a domain of min-max to another\n",
    "def map_value(value, domain_min, domain_max, range_min, range_max):\n",
    "    left_span = domain_max - domain_min\n",
    "    right_span = range_max - range_min\n",
    "\n",
    "    # Convert the left range into a 0-1 range (float)\n",
    "    scaled = float(value - domain_min) / float(left_span)\n",
    "\n",
    "    # Convert the 0-1 range into a value in the right range.\n",
    "    return range_min + (scaled * right_span)"
   ]
  },
  {
   "cell_type": "code",
   "execution_count": null,
   "id": "3ed3754b-5415-448e-9782-88e266c56eab",
   "metadata": {
    "tags": []
   },
   "outputs": [],
   "source": [
    "from csv import DictReader\n",
    "\n",
    "flows = []\n",
    "with open('../../data/toflit18_all_flows.csv', newline='') as csvfile:\n",
    "    reader = DictReader(csvfile)\n",
    "    for row in reader:\n",
    "        if \\\n",
    "                row['customs_region'] == 'Marseille' \\\n",
    "            and row['year'] == '1789'\\\n",
    "            :\n",
    "            flows.append(dict(row))\n",
    "print(len(flows))"
   ]
  },
  {
   "cell_type": "code",
   "execution_count": null,
   "id": "14f746ac-a4f3-458a-ba62-d6caa78b465f",
   "metadata": {
    "tags": []
   },
   "outputs": [],
   "source": [
    "# créer un graphe\n",
    "Graph = nx.Graph()\n",
    "\n",
    "# créer des dict pour les deux types de noeuds et les liens\n",
    "products_uniq = {}\n",
    "partners_uniq = {}\n",
    "edges_uniq = {}\n",
    "# remplir les dicts\n",
    "for flow in flows:\n",
    "    partner_id = flow[\"partner_simplification\"]\n",
    "    product_id = flow[\"product_RE_aggregate\"]\n",
    "    if product_id in products_uniq:\n",
    "        products_uniq[product_id] = {**products_uniq[product_id], \"size\": products_uniq[product_id][\"size\"] + 1}\n",
    "    else:\n",
    "       products_uniq[product_id] = {\n",
    "           \"type\": \"product\", \n",
    "           \"name\": product_id, \n",
    "           \"color\": \"rgb(0, 255, 0)\",\n",
    "           \"size\": 1\n",
    "       }\n",
    "    if partner_id in partners_uniq:\n",
    "        partners_uniq[partner_id] = {**partners_uniq[partner_id], \"size\": partners_uniq[partner_id][\"size\"] + 1}\n",
    "    else:\n",
    "       partners_uniq[partner_id] = {\n",
    "           \"type\": \"partner\", \n",
    "           \"name\": partner_id, \n",
    "           \"color\": \"rgb(255, 0, 0)\",\n",
    "           \"size\": 1\n",
    "       }\n",
    "    edge_footprint = partner_id + \"-\" + product_id\n",
    "    if edge_footprint in edges_uniq:\n",
    "        edges_uniq[edge_footprint][\"weight\"] += 1\n",
    "    else: \n",
    "        edges_uniq[edge_footprint] = {\n",
    "            \"source\": product_id,\n",
    "            \"target\": partner_id,\n",
    "            \"weight\": 1\n",
    "        }\n",
    "# concaténer les deux dicts de noeuds en un seul\n",
    "all_nodes = partners_uniq\n",
    "all_nodes.update(products_uniq)\n",
    "# applatir et formatter les noeuds\n",
    "nodes = []\n",
    "for key, node in all_nodes.items():\n",
    "    nodes.append((key, node))\n",
    "edges = []\n",
    "\n",
    "for key, edge in edges_uniq.items():\n",
    "    edges.append((edge[\"source\"], edge[\"target\"], {\"weight\": edge[\"weight\"]}))\n",
    "    \n",
    "domain_min_nodes_size = min([node[1]['size'] for node in nodes])\n",
    "domain_max_nodes_size = max([node[1]['size'] for node in nodes])\n",
    "range_in_nodes_size = [1, 10]\n",
    "nodes_size_mapping_params = [domain_min_nodes_size, domain_max_nodes_size, *range_in_nodes_size]\n",
    "\n",
    "for node in nodes:\n",
    "    node[1][\"size\"] = map_value(node[1][\"size\"], *nodes_size_mapping_params)\n",
    "    node[1][\"label\"] = node[1][\"name\"]\n",
    "\n",
    "Graph.add_nodes_from(nodes)\n",
    "Graph.add_edges_from(edges)\n",
    "\n",
    "# nx.write_gexf(Graph, 'text_graph.gexf')"
   ]
  },
  {
   "cell_type": "code",
   "execution_count": null,
   "id": "9d4feb5b-8d77-418b-948b-99044f67ffaf",
   "metadata": {
    "tags": []
   },
   "outputs": [],
   "source": [
    "# Sigma(Graph, node_size='size', edge_size ='weight', node_color='color')\n",
    "Sigma(Graph)"
   ]
  }
 ],
 "metadata": {
  "kernelspec": {
   "display_name": "Python 3 (ipykernel)",
   "language": "python",
   "name": "python3"
  },
  "language_info": {
   "codemirror_mode": {
    "name": "ipython",
    "version": 3
   },
   "file_extension": ".py",
   "mimetype": "text/x-python",
   "name": "python",
   "nbconvert_exporter": "python",
   "pygments_lexer": "ipython3",
   "version": "3.7.7"
  }
 },
 "nbformat": 4,
 "nbformat_minor": 5
}
