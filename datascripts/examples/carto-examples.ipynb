{
 "cells": [
  {
   "cell_type": "code",
   "execution_count": null,
   "id": "85205602-8ce4-4bae-9190-46a5b3c3d963",
   "metadata": {
    "tags": []
   },
   "outputs": [],
   "source": [
    "from csv import DictReader\n",
    "\n",
    "departures = {}\n",
    "with open('../../data/navigo_all_flows.csv', newline='') as csvfile:\n",
    "    reader = DictReader(csvfile)\n",
    "    for row in reader:\n",
    "        if \\\n",
    "                row['destination_fr'] == 'Marseille' \\\n",
    "            and row['indate_fixed'].split('-')[0] == '1789' \\\n",
    "            and row['departure_fr'] != '' \\\n",
    "            :\n",
    "            departure = row['departure_fr']\n",
    "            if departure not in departures:\n",
    "                departures[departure] = {\n",
    "                    \"latitude\": float(row[\"departure_latitude\"].strip() or 0),\n",
    "                    \"longitude\": float(row[\"departure_longitude\"].strip() or 0),\n",
    "                    \"count\": 0\n",
    "                }\n",
    "            departures[departure]['count'] += 1"
   ]
  },
  {
   "cell_type": "code",
   "execution_count": null,
   "id": "88e3360d-a44c-49e1-b23a-f7cd82077412",
   "metadata": {
    "tags": []
   },
   "outputs": [],
   "source": [
    "from ipyleaflet import Map, Marker, Popup, basemaps, basemap_to_tiles, CircleMarker\n",
    "from ipywidgets import HTML\n",
    "\n",
    "# this function allows to map a value from a domain of min-max to another\n",
    "def map_value(value, domain_min, domain_max, range_min, range_max):\n",
    "    left_span = domain_max - domain_min\n",
    "    right_span = range_max - range_min\n",
    "\n",
    "    # Convert the left range into a 0-1 range (float)\n",
    "    scaled = float(value - domain_min) / float(left_span)\n",
    "\n",
    "    # Convert the 0-1 range into a value in the right range.\n",
    "    return range_min + (scaled * right_span)\n",
    "\n",
    "# doc : https://ipyleaflet.readthedocs.io/en/latest/api_reference/circle_marker.html"
   ]
  },
  {
   "cell_type": "code",
   "execution_count": null,
   "id": "930728fb-96fd-4658-8759-6f4984f7bacc",
   "metadata": {
    "tags": []
   },
   "outputs": [],
   "source": [
    "# compute min and max for radiuses\n",
    "ports = [port for key,port in departures.items()]\n",
    "max_count = max([port[\"count\"] for port in ports])\n",
    "min_count = min([port[\"count\"] for port in ports])\n",
    "MIN_RADIUS = 1\n",
    "MAX_RADIUS = 20\n",
    "\n",
    "# setup map\n",
    "center = (47, -1) # France\n",
    "portic_map = Map(center=center,zoom=5)\n",
    "\n",
    "# plot data\n",
    "for port, port_data in departures.items():\n",
    "    circle_marker = CircleMarker()\n",
    "    circle_marker.location = (port_data[\"latitude\"], port_data[\"longitude\"])\n",
    "    circle_marker.radius = int(map_value(port_data[\"count\"], min_count, max_count, MIN_RADIUS, MAX_RADIUS))\n",
    "    circle_marker.color = \"red\"\n",
    "    circle_marker.fill_color = \"red\"\n",
    "    portic_map.add_layer(circle_marker)\n",
    "          \n",
    "display(portic_map)"
   ]
  },
  {
   "cell_type": "code",
   "execution_count": null,
   "id": "68c94e7f-8e34-4818-b880-bc3433f793ee",
   "metadata": {
    "tags": []
   },
   "outputs": [],
   "source": [
    "from keplergl import KeplerGl\n",
    "import pandas as pd\n",
    "\n",
    "# setting kepler config\n",
    "config = {\n",
    "    'version': 'v1',\n",
    "    'config': {\n",
    "        # centering the map on the region\n",
    "        'mapState': {\n",
    "            'latitude': 45.6876849,\n",
    "            'longitude': -1.15,\n",
    "            'zoom': 5.2\n",
    "        }\n",
    "    }\n",
    "}\n",
    "\n",
    "df = pd.DataFrame([{**values, \"size\": values[\"count\"]} for values in departures.values()])\n",
    "\n",
    "points_map = KeplerGl(config=config, data={'data_1': df})\n",
    "points_map"
   ]
  }
 ],
 "metadata": {
  "kernelspec": {
   "display_name": "Python 3 (ipykernel)",
   "language": "python",
   "name": "python3"
  },
  "language_info": {
   "codemirror_mode": {
    "name": "ipython",
    "version": 3
   },
   "file_extension": ".py",
   "mimetype": "text/x-python",
   "name": "python",
   "nbconvert_exporter": "python",
   "pygments_lexer": "ipython3",
   "version": "3.7.7"
  }
 },
 "nbformat": 4,
 "nbformat_minor": 5
}
