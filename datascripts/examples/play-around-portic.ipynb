{
 "cells": [
  {
   "cell_type": "code",
   "execution_count": null,
   "id": "af2569ba-9031-48ad-b0ad-881180573ead",
   "metadata": {
    "tags": []
   },
   "outputs": [],
   "source": [
    "from IPython.display import display\n",
    "import pandas as pd\n",
    "\n",
    "\n",
    "def VegaLite(spec):\n",
    "    bundle = {}\n",
    "    bundle['application/vnd.vegalite.v4+json'] = spec\n",
    "    display(bundle, raw=True)"
   ]
  },
  {
   "cell_type": "code",
   "execution_count": null,
   "id": "5d069649-0a93-465c-9dcd-df8790dce668",
   "metadata": {
    "tags": []
   },
   "outputs": [],
   "source": [
    "from marseillesprint import Portic\n",
    "portic_client = Portic()\n",
    "\n",
    "\n",
    "pointcalls = portic_client.get_pointcalls(\n",
    " pointcall = 'Marseille',\n",
    " # year=\"1789\"\n",
    ")\n",
    "len(pointcalls)"
   ]
  },
  {
   "cell_type": "code",
   "execution_count": null,
   "id": "65813d96-a808-4e2c-98c4-f4fd153abfef",
   "metadata": {
    "tags": []
   },
   "outputs": [],
   "source": [
    "sources = {}\n",
    "for p in pointcalls:\n",
    "    source = p[\"source_suite\"]\n",
    "    action = p[\"pointcall_action\"]\n",
    "    year = p[\"date_fixed\"].split('-')[0]\n",
    "    if source not in sources:\n",
    "        sources[source] = {}\n",
    "    if year not in sources[source]:\n",
    "        sources[source][year] = {}\n",
    "    if action not in sources[source][year]:\n",
    "        sources[source][year][action] = 0\n",
    "    sources[source][year][action] += 1\n",
    "\n",
    "sources_list = []\n",
    "for source, yeargroup in sources.items():\n",
    "    for year, actionsgroup in yeargroup.items():\n",
    "        for action, count in actionsgroup.items():\n",
    "            sources_list.append({\n",
    "                \"source\": source,\n",
    "                \"year\": year,\n",
    "                \"action\": action,\n",
    "                \"count\": count\n",
    "            })"
   ]
  },
  {
   "cell_type": "code",
   "execution_count": null,
   "id": "a2a1f2be-2039-49c8-9599-e2828eaadd69",
   "metadata": {
    "tags": []
   },
   "outputs": [],
   "source": [
    "\n",
    "VegaLite({\n",
    "    \"$schema\": \"https://vega.github.io/schema/vega-lite/v5.json\",\n",
    "    \"title\": \"Nombre de pointcalls par action, année et source\",\n",
    "    \"mark\": {\n",
    "        \"tooltip\": {\n",
    "         \"content\": \"data\"\n",
    "        },\n",
    "        \"type\": \"rect\"\n",
    "    },\n",
    "    \"data\": {\n",
    "        \"values\": sources_list\n",
    "    },\n",
    "    \"encoding\": {\n",
    "        \"column\": {\n",
    "            \"field\": \"source\"\n",
    "        },\n",
    "        \"x\": {\n",
    "            \"field\": \"action\",\n",
    "            \"type\": \"nominal\", \n",
    "            \"title\": \"action\",\n",
    "            \"axis\": {\n",
    "                \"orient\": \"top\"\n",
    "            }\n",
    "        },\n",
    "        \"y\": {\n",
    "            \"field\": \"year\",\n",
    "            \"type\": \"nominal\",\n",
    "            \"title\": \"année\"\n",
    "        },\n",
    "        \"color\": {\n",
    "            \"field\": \"count\",\n",
    "            \"type\": \"quantitative\",\n",
    "            \"title\": \"Nombre de pointcalls\"\n",
    "        }\n",
    "    }\n",
    "})"
   ]
  },
  {
   "cell_type": "code",
   "execution_count": null,
   "id": "30c3be53-79f7-4631-9e2d-458a93c01553",
   "metadata": {
    "tags": []
   },
   "outputs": [],
   "source": [
    "flows_1789_vers_marseille = portic_client.get_flows(\n",
    " destination = 'Marseille',\n",
    " year=\"1789\"\n",
    ")\n",
    "len(flows_1789_vers_marseille)"
   ]
  },
  {
   "cell_type": "code",
   "execution_count": null,
   "id": "9d8f4a1b-e973-48e5-9a14-3bdc104a7578",
   "metadata": {
    "tags": []
   },
   "outputs": [],
   "source": [
    "VegaLite({\n",
    "    \"$schema\": \"https://vega.github.io/schema/vega-lite/v5.json\",\n",
    "    \"title\": \"Provenance des trajets vers Marseille en 1789\",\n",
    "    \"mark\": {\n",
    "        \"tooltip\": {\n",
    "         \"content\": \"data\"\n",
    "        },\n",
    "        \"type\": \"rect\"\n",
    "    },\n",
    "    \"data\": {\n",
    "        \"values\": flows_1789_vers_marseille\n",
    "    },\n",
    "    \"encoding\": {\n",
    "        \"column\": {\n",
    "            \"field\": \"source_suite\"\n",
    "        },\n",
    "        \"y\": {\n",
    "            \"field\": \"departure_fr\",\n",
    "            \"type\": \"nominal\", \n",
    "            \"title\": \"port de départ\"\n",
    "        },\n",
    "        \"x\": {\n",
    "            \"field\": \"ship_class_standardized\",\n",
    "            \"type\": \"nominal\",\n",
    "            \"title\": \"classe de navire\",\n",
    "            \"axis\": {\n",
    "                \"orient\": \"top\"\n",
    "            }\n",
    "        },\n",
    "        \"color\": {\n",
    "            \"aggregate\": \"count\",\n",
    "            \"type\": \"quantitative\",\n",
    "            \"title\": \"Nombre de flux\"\n",
    "        }\n",
    "    }\n",
    "})"
   ]
  }
 ],
 "metadata": {
  "kernelspec": {
   "display_name": "Python 3 (ipykernel)",
   "language": "python",
   "name": "python3"
  },
  "language_info": {
   "codemirror_mode": {
    "name": "ipython",
    "version": 3
   },
   "file_extension": ".py",
   "mimetype": "text/x-python",
   "name": "python",
   "nbconvert_exporter": "python",
   "pygments_lexer": "ipython3",
   "version": "3.7.7"
  }
 },
 "nbformat": 4,
 "nbformat_minor": 5
}
