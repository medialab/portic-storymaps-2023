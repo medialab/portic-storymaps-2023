{
 "cells": [
  {
   "cell_type": "code",
   "execution_count": null,
   "id": "e7558b57-7264-455c-9910-991191836b9f",
   "metadata": {
    "tags": []
   },
   "outputs": [],
   "source": [
    "from IPython.display import display\n",
    "import pandas as pd\n",
    "\n",
    "\n",
    "def VegaLite(spec):\n",
    "    bundle = {}\n",
    "    bundle['application/vnd.vegalite.v4+json'] = spec\n",
    "    display(bundle, raw=True)"
   ]
  },
  {
   "cell_type": "code",
   "execution_count": null,
   "id": "15a8276b-a096-47f6-b804-e62aeea9a942",
   "metadata": {
    "tags": []
   },
   "outputs": [],
   "source": [
    "from marseillesprint import Toflit\n",
    "toflit_client = Toflit()\n",
    "\n",
    "\n",
    "marseille_as_direction_flows = toflit_client.get_flows(\n",
    " customs_region = 'Marseille',\n",
    ")\n",
    "len(marseille_as_direction_flows)"
   ]
  },
  {
   "cell_type": "code",
   "execution_count": null,
   "id": "855b33ec-4574-4eff-9a92-37e0cd7e9851",
   "metadata": {},
   "outputs": [],
   "source": [
    "sources_as_direction = {}\n",
    "for p in marseille_as_direction_flows:\n",
    "    source = p[\"source_type\"]\n",
    "    action = p[\"export_import\"]\n",
    "    year = p[\"year\"]\n",
    "    if source not in sources_as_direction:\n",
    "        sources_as_direction[source] = {}\n",
    "    if year not in sources_as_direction[source]:\n",
    "        sources_as_direction[source][year] = {}\n",
    "    if action not in sources_as_direction[source][year]:\n",
    "        sources_as_direction[source][year][action] = 0\n",
    "    sources_as_direction[source][year][action] += 1\n",
    "\n",
    "sources_as_direction_list = []\n",
    "for source, yeargroup in sources_as_direction.items():\n",
    "    for year, actionsgroup in yeargroup.items():\n",
    "        for action, count in actionsgroup.items():\n",
    "            sources_as_direction_list.append({\n",
    "                \"source\": source,\n",
    "                \"year\": year,\n",
    "                \"action\": action,\n",
    "                \"count\": count\n",
    "            })"
   ]
  },
  {
   "cell_type": "code",
   "execution_count": null,
   "id": "549d1811-5ff4-4178-84c1-6ffdf07b2022",
   "metadata": {
    "tags": []
   },
   "outputs": [],
   "source": [
    "VegaLite({\n",
    "    \"$schema\": \"https://vega.github.io/schema/vega-lite/v5.json\",\n",
    "    \"title\": \"Nombre de flux par type, année et source pour Marseille comme direction des fermes\",\n",
    "    \"mark\": {\n",
    "        \"tooltip\": {\n",
    "         \"content\": \"data\"\n",
    "        },\n",
    "        \"type\": \"rect\"\n",
    "    },\n",
    "    \"width\": 200,\n",
    "    \"data\": {\n",
    "        \"values\": sources_as_direction_list\n",
    "    },\n",
    "    \"encoding\": {\n",
    "        \"column\": {\n",
    "            \"field\": \"source\"\n",
    "        },\n",
    "        \"x\": {\n",
    "            \"field\": \"action\",\n",
    "            \"type\": \"nominal\", \n",
    "            \"title\": \"action\",\n",
    "            \"axis\": {\n",
    "                \"orient\": \"top\"\n",
    "            }\n",
    "        },\n",
    "        \"y\": {\n",
    "            \"field\": \"year\",\n",
    "            \"type\": \"nominal\",\n",
    "            \"title\": \"année\"\n",
    "        },\n",
    "        \"color\": {\n",
    "            \"field\": \"count\",\n",
    "            \"type\": \"quantitative\",\n",
    "            \"title\": \"Nombre de flux\"\n",
    "        }\n",
    "    }\n",
    "})"
   ]
  },
  {
   "cell_type": "code",
   "execution_count": null,
   "id": "5f0f548e-a57d-44d4-84e6-257062257d9d",
   "metadata": {
    "tags": []
   },
   "outputs": [],
   "source": [
    "from marseillesprint import Toflit\n",
    "toflit_client = Toflit()\n",
    "\n",
    "\n",
    "marseille_as_partner_flows = toflit_client.get_flows(\n",
    " partner_simplification = 'Marseille',\n",
    ")\n",
    "len(marseille_as_partner_flows)"
   ]
  },
  {
   "cell_type": "code",
   "execution_count": null,
   "id": "096ca740-b47d-421b-a2db-36a6321581e2",
   "metadata": {
    "tags": []
   },
   "outputs": [],
   "source": [
    "sources_as_partner = {}\n",
    "for p in marseille_as_partner_flows:\n",
    "    source = p[\"source_type\"]\n",
    "    action = p[\"export_import\"]\n",
    "    year = p[\"year\"]\n",
    "    if source not in sources_as_partner:\n",
    "        sources_as_partner[source] = {}\n",
    "    if year not in sources_as_partner[source]:\n",
    "        sources_as_partner[source][year] = {}\n",
    "    if action not in sources_as_partner[source][year]:\n",
    "        sources_as_partner[source][year][action] = 0\n",
    "    sources_as_partner[source][year][action] += 1\n",
    "\n",
    "sources_as_partner_list = []\n",
    "for source, yeargroup in sources_as_partner.items():\n",
    "    for year, actionsgroup in yeargroup.items():\n",
    "        for action, count in actionsgroup.items():\n",
    "            sources_as_partner_list.append({\n",
    "                \"source\": source,\n",
    "                \"year\": year,\n",
    "                \"action\": action,\n",
    "                \"count\": count\n",
    "            })"
   ]
  },
  {
   "cell_type": "code",
   "execution_count": null,
   "id": "16d77b83-f0a5-4960-b5ac-8f7855e96d97",
   "metadata": {
    "tags": []
   },
   "outputs": [],
   "source": [
    "VegaLite({\n",
    "    \"$schema\": \"https://vega.github.io/schema/vega-lite/v5.json\",\n",
    "    \"title\": \"Nombre de flux par type, année et source pour Marseille comme partenaire\",\n",
    "    \"mark\": {\n",
    "        \"tooltip\": {\n",
    "         \"content\": \"data\"\n",
    "        },\n",
    "        \"type\": \"rect\"\n",
    "    },\n",
    "    \"width\": 300,\n",
    "    \"data\": {\n",
    "        \"values\": sources_as_partner_list\n",
    "    },\n",
    "    \"encoding\": {\n",
    "        \"column\": {\n",
    "            \"field\": \"source\"\n",
    "        },\n",
    "        \"x\": {\n",
    "            \"field\": \"action\",\n",
    "            \"type\": \"nominal\", \n",
    "            \"title\": \"action\",\n",
    "            \"axis\": {\n",
    "                \"orient\": \"top\"\n",
    "            }\n",
    "        },\n",
    "        \"y\": {\n",
    "            \"field\": \"year\",\n",
    "            \"type\": \"nominal\",\n",
    "            \"title\": \"année\"\n",
    "        },\n",
    "        \"color\": {\n",
    "            \"field\": \"count\",\n",
    "            \"type\": \"quantitative\",\n",
    "            \"title\": \"Nombre de flux\"\n",
    "        }\n",
    "    }\n",
    "})"
   ]
  }
 ],
 "metadata": {
  "kernelspec": {
   "display_name": "Python 3 (ipykernel)",
   "language": "python",
   "name": "python3"
  },
  "language_info": {
   "codemirror_mode": {
    "name": "ipython",
    "version": 3
   },
   "file_extension": ".py",
   "mimetype": "text/x-python",
   "name": "python",
   "nbconvert_exporter": "python",
   "pygments_lexer": "ipython3",
   "version": "3.7.7"
  }
 },
 "nbformat": 4,
 "nbformat_minor": 5
}
