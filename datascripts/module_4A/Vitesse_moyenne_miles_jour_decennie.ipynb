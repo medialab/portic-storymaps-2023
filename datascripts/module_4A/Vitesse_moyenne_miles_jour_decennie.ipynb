{
 "cells": [
  {
   "attachments": {},
   "cell_type": "markdown",
   "metadata": {},
   "source": [
    "# Vitesse moyenne en miles par jour pour chaque décennie"
   ]
  },
  {
   "cell_type": "code",
   "execution_count": null,
   "metadata": {},
   "outputs": [],
   "source": [
    "from csv import DictReader\n",
    "\n",
    "flows = []\n",
    "with open('../../data/navigo_all_flows.csv', newline='') as csvfile:\n",
    "    reader = DictReader(csvfile)\n",
    "    for row in reader:\n",
    "        if \\\n",
    "            row['source_suite'] == 'la Santé registre de patentes de Marseille':\n",
    "            flows.append(dict(row))\n",
    "\n",
    "print(len(flows))"
   ]
  },
  {
   "cell_type": "code",
   "execution_count": null,
   "metadata": {},
   "outputs": [],
   "source": [
    "import pandas as pd\n",
    "df = pd.DataFrame(flows)\n",
    "df.info()\n",
    "df.describe()"
   ]
  },
  {
   "cell_type": "code",
   "execution_count": null,
   "metadata": {},
   "outputs": [],
   "source": [
    "# TONOTE : find a column name \n",
    "for c in df.columns: \n",
    "    if 'date' in c:\n",
    "        print(c)"
   ]
  },
  {
   "cell_type": "code",
   "execution_count": null,
   "metadata": {},
   "outputs": [],
   "source": [
    "df['indate_fixed']\n",
    "# pas besoin de filtre"
   ]
  },
  {
   "cell_type": "code",
   "execution_count": null,
   "metadata": {},
   "outputs": [],
   "source": [
    "df['distance_dep_dest_miles']"
   ]
  },
  {
   "cell_type": "code",
   "execution_count": null,
   "metadata": {},
   "outputs": [],
   "source": [
    "for c in df.columns: \n",
    "    if 'duration' in c:\n",
    "        print(c)"
   ]
  },
  {
   "cell_type": "code",
   "execution_count": null,
   "metadata": {},
   "outputs": [],
   "source": [
    "df['duration']"
   ]
  },
  {
   "cell_type": "code",
   "execution_count": null,
   "metadata": {},
   "outputs": [],
   "source": [
    "date_dist = {}\n",
    "\n",
    "for row in flows:\n",
    "    if row['distance_dep_dest_miles'] and row['duration']:\n",
    "        annee = row['indate_fixed'][:4]\n",
    "        annee = annee if annee[-1] == '9' else annee[:3] + str(9)\n",
    "        if annee not in date_dist:\n",
    "            date_dist[annee] = {\n",
    "                'total_dist': 0,\n",
    "                'total_dur': 0\n",
    "            }\n",
    "        date_dist[annee]['total_dist'] += int(row['distance_dep_dest_miles'])\n",
    "        date_dist[annee]['total_dur'] += int(row['duration'])\n"
   ]
  },
  {
   "cell_type": "code",
   "execution_count": null,
   "metadata": {},
   "outputs": [],
   "source": [
    "date_dist"
   ]
  },
  {
   "cell_type": "code",
   "execution_count": null,
   "metadata": {},
   "outputs": [],
   "source": [
    "viz_list = []\n",
    "\n",
    "for key, row in date_dist.items():\n",
    "    row['ratio'] = row['total_dist']/row['total_dur']\n",
    "    row['year'] = key\n",
    "    viz_list.append(row)\n"
   ]
  },
  {
   "cell_type": "code",
   "execution_count": null,
   "metadata": {},
   "outputs": [],
   "source": [
    "viz_list"
   ]
  },
  {
   "cell_type": "code",
   "execution_count": null,
   "metadata": {},
   "outputs": [],
   "source": [
    "from IPython.display import display\n",
    "\n",
    "def VegaLite(spec):\n",
    "    bundle = {}\n",
    "    bundle['application/vnd.vegalite.v4+json'] = spec\n",
    "    display(bundle, raw=True)"
   ]
  },
  {
   "cell_type": "code",
   "execution_count": null,
   "metadata": {},
   "outputs": [],
   "source": [
    "VegaLite({\n",
    "    \"$schema\": \"https://vega.github.io/schema/vega-lite/v5.json\",\n",
    "    \"title\": \"Vitesse moyenne en miles par jour pour chaque décennie\",\n",
    "    \"mark\": {\n",
    "        \"tooltip\": {\n",
    "         \"content\": \"data\"\n",
    "        },\n",
    "        \"type\": \"bar\" #type de visualisation \n",
    "    },\n",
    "    \"data\": {\n",
    "        \"values\": viz_list #mettre la liste des données\n",
    "    },\n",
    "    \"encoding\": {\n",
    "        \"x\": {\n",
    "            \"field\": \"year\",\n",
    "            \"type\": \"nominal\", #ou nominal \n",
    "            \"title\": \"décennie\",\n",
    "        },\n",
    "        \"y\": {\n",
    "            \"field\": \"ratio\",\n",
    "            \"type\": \"quantitative\",\n",
    "            \"title\": \"miles par jour\",\n",
    "            \"sort\": {\"field\" : \"year\",\n",
    "                     \"order\": \"ascending\"}\n",
    "        },\n",
    "    }\n",
    "})"
   ]
  }
 ],
 "metadata": {
  "kernelspec": {
   "display_name": "Python 3",
   "language": "python",
   "name": "python3"
  },
  "language_info": {
   "codemirror_mode": {
    "name": "ipython",
    "version": 3
   },
   "file_extension": ".py",
   "mimetype": "text/x-python",
   "name": "python",
   "nbconvert_exporter": "python",
   "pygments_lexer": "ipython3",
   "version": "3.8.14"
  },
  "orig_nbformat": 4,
  "vscode": {
   "interpreter": {
    "hash": "d0a0fda81e871a488515550ff9eda7570f03c43328c7ae4915d98c868a556550"
   }
  }
 },
 "nbformat": 4,
 "nbformat_minor": 2
}
