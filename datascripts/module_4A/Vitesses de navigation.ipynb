{
 "cells": [
  {
   "cell_type": "code",
   "execution_count": null,
   "id": "f8e11578",
   "metadata": {
    "tags": []
   },
   "outputs": [],
   "source": [
    "import csv\n",
    "import pandas as pd\n",
    "import numpy as np\n",
    "import pprint"
   ]
  },
  {
   "cell_type": "markdown",
   "id": "5e6ffcb8",
   "metadata": {},
   "source": [
    "### 1. Filtrage des flows"
   ]
  },
  {
   "cell_type": "code",
   "execution_count": null,
   "id": "b4028b60",
   "metadata": {
    "tags": []
   },
   "outputs": [],
   "source": [
    "flows_to_Marseille = []\n",
    "rank_Marseille = {}\n",
    "with open('../../data/navigo_all_flows.csv', newline='') as csvfile:\n",
    "    reader = csv.DictReader(csvfile)\n",
    "    for row in reader:\n",
    "        if row['destination_function'] == \"O\" \\\n",
    "        and row[\"source_suite\"] == \"la Santé registre de patentes de Marseille\":\n",
    "           # and row['toponyme_fr'] == 'Marseille' \\\n",
    "            flows_to_Marseille.append(row)\n",
    "            rank_Marseille[row[\"source_doc_id\"]] = row[\"travel_rank\"]\n"
   ]
  },
  {
   "cell_type": "code",
   "execution_count": null,
   "id": "8592bba8-942a-4773-a5e4-227eedb00844",
   "metadata": {
    "tags": []
   },
   "outputs": [],
   "source": [
    "ranks_smaller_than_Marseille = []\n",
    "counter_uhgs_99999 = 0\n",
    "with open('../../data/navigo_all_flows.csv', newline='') as csvfile:\n",
    "    reader = csv.DictReader(csvfile)\n",
    "    for row in reader:\n",
    "        if row[\"source_suite\"] == \"la Santé registre de patentes de Marseille\":\n",
    "            if row[\"destination_uhgs_id\"] == 'A9999997':\n",
    "                counter_uhgs_99999 += 1\n",
    "                continue\n",
    "            if row[\"source_doc_id\"] in rank_Marseille:\n",
    "                max_rank = rank_Marseille[row[\"source_doc_id\"]]\n",
    "                if row[\"travel_rank\"] <= max_rank:\n",
    "                    ranks_smaller_than_Marseille.append(row)\n",
    "counter_uhgs_99999"
   ]
  },
  {
   "cell_type": "markdown",
   "id": "6c1ab307",
   "metadata": {},
   "source": [
    "### 2. Reconstitution des voyages"
   ]
  },
  {
   "cell_type": "code",
   "execution_count": null,
   "id": "c4acb890-0774-4abc-92d8-892749f3759d",
   "metadata": {
    "tags": []
   },
   "outputs": [],
   "source": [
    "from collections import defaultdict\n",
    "travels = defaultdict(lambda: {\"total_miles\": 0, \"total_steps\": 0, \"keep\": True})\n",
    "null_distance = 0\n",
    "\n",
    "for row in ranks_smaller_than_Marseille:\n",
    "    doc_id = row[\"source_doc_id\"]\n",
    "    travel = travels[doc_id]\n",
    "    distance = row[\"distance_dep_dest_miles\"]\n",
    "    if distance and distance != '0' and travel[\"keep\"] and row[\"departure_out_date\"]:\n",
    "        travel[\"total_miles\"] += int(distance)\n",
    "        travel[\"total_steps\"] += 1\n",
    "        if row[\"travel_rank\"] == \"1\":\n",
    "            travel[\"departure_date\"] = row[\"departure_out_date\"]\n",
    "        if row[\"travel_rank\"] == rank_Marseille[doc_id]:\n",
    "            travel[\"arrival_date\"] = row[\"indate_fixed\"] \n",
    "            travel[\"pavillon\"] = row[\"ship_flag_standardized_fr\"]\n",
    "            travel[\"classe_bateau\"] = row[\"ship_class_standardized\"]\n",
    "            year = row[\"indate_fixed\"][:4]\n",
    "            travel[\"year\"] = year if year[-1] == \"9\" else year[:3]+\"9\"\n",
    "    else:\n",
    "        travel[\"keep\"] = False"
   ]
  },
  {
   "cell_type": "markdown",
   "id": "7911ecf2",
   "metadata": {},
   "source": [
    "### 3. Suppression des voyages invalides"
   ]
  },
  {
   "cell_type": "code",
   "execution_count": null,
   "id": "726c2f88-0d56-41ec-8dc3-2f2084fc2d4a",
   "metadata": {
    "tags": []
   },
   "outputs": [],
   "source": [
    "from datetime import datetime\n",
    "\n",
    "good_travels = {}\n",
    "error_list = []\n",
    "\n",
    "for k, v in travels.items():\n",
    "    if v[\"keep\"] and ('<' not in v['departure_date'] and '>' not in v['departure_date']):\n",
    "        travel = v.copy()\n",
    "        end_time = datetime.strptime(v[\"arrival_date\"], \"%Y-%m-%d\")\n",
    "        try:\n",
    "            start_time = datetime.strptime(v[\"departure_date\"][:10], \"%Y=%m=%d\")\n",
    "        except ValueError as e:\n",
    "            error_list.append(e)\n",
    "            continue\n",
    "        travel[\"duration\"] = (end_time - start_time).days\n",
    "        if travel[\"duration\"] == 0:\n",
    "            travel[\"duration\"] = 1\n",
    "        travel[\"speed\"] = v[\"total_miles\"] / travel[\"duration\"]\n",
    "        travel[\"decade\"] = v[\"arrival_date\"][:4]\n",
    "        travel.pop(\"keep\")\n",
    "        good_travels[k] = travel\n"
   ]
  },
  {
   "cell_type": "code",
   "execution_count": null,
   "id": "1e0ce142-5c3e-4208-b290-dac6a6b9fc20",
   "metadata": {
    "tags": []
   },
   "outputs": [],
   "source": [
    "df_travels = pd.DataFrame(good_travels).transpose()\n",
    "df_travels = df_travels[df_travels.duration > 0]"
   ]
  },
  {
   "cell_type": "code",
   "execution_count": null,
   "id": "c78647cc",
   "metadata": {},
   "outputs": [],
   "source": [
    "df_travels\n",
    "df_travels.to_csv('df_travels.csv')"
   ]
  },
  {
   "cell_type": "markdown",
   "id": "3a6ac4b4",
   "metadata": {},
   "source": [
    "### 4. Création des matrices de résultats"
   ]
  },
  {
   "cell_type": "code",
   "execution_count": null,
   "id": "20f2056c-7cd3-40b6-9dc9-bb8a143768bd",
   "metadata": {
    "tags": []
   },
   "outputs": [],
   "source": [
    "# Vitesse moyenne pour chaque pavillon et chaque décennie\n",
    "mean_speed = pd.pivot_table(df_travels, values='speed', index=['pavillon'], columns=['year'], aggfunc=np.mean).sort_index()\n",
    "mean_speed.to_csv(\"travel_mean_speed_per_flag_and_year.csv\")"
   ]
  },
  {
   "cell_type": "code",
   "execution_count": null,
   "id": "7afa7ed8-354a-4ef5-b711-b3410b18d4a8",
   "metadata": {
    "tags": []
   },
   "outputs": [],
   "source": [
    "# Nombre de trajets total pour chaque pavillon et chaque décennie\n",
    "count = pd.pivot_table(df_travels, values='speed', index=['pavillon'], columns=['year'], aggfunc=np.ma.count).sort_index()\n",
    "count.to_csv(\"travel_count_per_flag_and_year.csv\")"
   ]
  },
  {
   "cell_type": "code",
   "execution_count": null,
   "id": "1250824c-af5c-4c63-a9e7-ffabacd2b776",
   "metadata": {
    "tags": []
   },
   "outputs": [],
   "source": [
    "# Nombre moyen de flows des trajets pour chaque pavillon et chaque décennie\n",
    "mean_flow_count = pd.pivot_table(df_travels, values='total_steps', index=['pavillon'], columns=['year'], aggfunc=np.mean).sort_index()\n",
    "mean_flow_count.to_csv(\"mean_flow_count_per_flag_and_year.csv\")"
   ]
  },
  {
   "cell_type": "code",
   "execution_count": null,
   "id": "cf43ff08",
   "metadata": {},
   "outputs": [],
   "source": [
    "viz_df = df_travels.groupby(['year', 'pavillon']).agg({'speed': 'mean',\n",
    "                                                       'total_steps': 'mean',\n",
    "                                                       'total_miles': 'mean',\n",
    "                                                       'departure_date': 'size',\n",
    "                                                       'duration': 'mean'\n",
    "                                                       }\n",
    "                                                      ).reset_index()\n",
    "\n",
    "viz_df.columns = ['year', 'pavillon', 'mean_speed', 'mean_number_steps', 'mean_total_miles', 'count_travel', 'mean_duration']\n",
    "\n",
    "viz_df.to_csv('viz_travel.csv')"
   ]
  },
  {
   "cell_type": "code",
   "execution_count": null,
   "id": "3a4166e7",
   "metadata": {},
   "outputs": [],
   "source": [
    "# Nombre trajet par pavillon et par types de bateau (toutes années confondues)\n",
    "travel_shipclass = pd.pivot_table(df_travels, values='total_miles', index=['pavillon'], columns=['classe_bateau'], aggfunc=np.ma.count, margins=True)\\\n",
    ".transpose().sort_values('All', ascending=False).fillna(0.0)\n",
    "travel_shipclass.to_csv(\"travels_count_per_shipclass_perflag.csv\")"
   ]
  },
  {
   "cell_type": "code",
   "execution_count": null,
   "id": "c9ce01fc",
   "metadata": {},
   "outputs": [],
   "source": [
    "viz_travel_ship = df_travels.groupby(['pavillon', 'classe_bateau']).agg({'speed': 'mean',\n",
    "                                                       'total_steps': 'mean',\n",
    "                                                       'total_miles': 'mean',\n",
    "                                                       'departure_date': 'size',\n",
    "                                                       'duration': 'mean'\n",
    "                                                       }\n",
    "                                                      ).reset_index()\n",
    "\n",
    "viz_travel_ship.columns = ['pavillon', 'classe_bateau', 'mean_speed', 'mean_number_steps', 'mean_total_miles', 'count_travel', 'mean_duration']\n"
   ]
  },
  {
   "cell_type": "code",
   "execution_count": null,
   "id": "7b2099e8",
   "metadata": {},
   "outputs": [],
   "source": [
    "viz_travel_ship"
   ]
  },
  {
   "cell_type": "markdown",
   "id": "9141c883",
   "metadata": {},
   "source": [
    "### 5. Création des visualisations"
   ]
  },
  {
   "cell_type": "code",
   "execution_count": null,
   "id": "23be2f16",
   "metadata": {},
   "outputs": [],
   "source": [
    "list_viz = []\n",
    "\n",
    "for i,row in viz_df.iterrows():\n",
    "    list_viz.append(dict(row))\n"
   ]
  },
  {
   "cell_type": "code",
   "execution_count": null,
   "id": "b5650726",
   "metadata": {},
   "outputs": [],
   "source": [
    "list_viz_travel_ship = []\n",
    "\n",
    "for i,row in viz_travel_ship.iterrows():\n",
    "    list_viz_travel_ship.append(dict(row))"
   ]
  },
  {
   "cell_type": "code",
   "execution_count": null,
   "id": "88ce9ff2",
   "metadata": {},
   "outputs": [],
   "source": [
    "from IPython.display import display\n",
    "\n",
    "def VegaLite(spec):\n",
    "    bundle = {}\n",
    "    bundle['application/vnd.vegalite.v4+json'] = spec\n",
    "    display(bundle, raw=True)"
   ]
  },
  {
   "cell_type": "code",
   "execution_count": null,
   "id": "116505b0",
   "metadata": {},
   "outputs": [],
   "source": [
    "# Vitesse moyenne pour chaque pavillon et chaque décennie Heatmap\n",
    "\n",
    "VegaLite({\n",
    "    \"$schema\": \"https://vega.github.io/schema/vega-lite/v5.json\",\n",
    "    \"title\": \"Vitesse moyenne pour chaque pavillon et chaque décennie\",\n",
    "    \"mark\": {\n",
    "        \"tooltip\": {\n",
    "         \"content\": \"data\"\n",
    "        },\n",
    "        \"type\": \"rect\"\n",
    "    },\n",
    "    \"data\": {\n",
    "        \"values\": list_viz\n",
    "    },\n",
    "    \"encoding\": {\n",
    "        \"x\": {\n",
    "            \"field\": \"year\",\n",
    "            \"type\": \"nominal\", \n",
    "            \"title\": \"year\",\n",
    "            \"axis\": {\n",
    "                \"orient\": \"top\"\n",
    "            }\n",
    "        },\n",
    "        \"y\": {\n",
    "            \"field\": \"pavillon\",\n",
    "            \"type\": \"nominal\",\n",
    "            \"title\": \"pavillon\"\n",
    "        },\n",
    "        \"color\": {\n",
    "            \"field\": \"mean_speed\",\n",
    "            \"type\": \"quantitative\",\n",
    "            \"title\": \"Vitesse moyenne\"\n",
    "        }\n",
    "    }\n",
    "})\n"
   ]
  },
  {
   "cell_type": "code",
   "execution_count": null,
   "id": "9ba2d49d",
   "metadata": {},
   "outputs": [],
   "source": [
    "# Vitesse moyenne pour chaque pavillon et chaque décennie Line Chart\n",
    "\n",
    "VegaLite({\n",
    "    \"$schema\": \"https://vega.github.io/schema/vega-lite/v5.json\",\n",
    "    \"title\": \"Vitesse moyenne pour chaque pavillon et chaque décennie\",\n",
    "    \"mark\":  \"line\",\n",
    "    \"data\": {\n",
    "        \"values\": list_viz\n",
    "    },\n",
    "    \"encoding\": {\n",
    "        \"x\": {\n",
    "            \"field\": \"year\",\n",
    "            \"type\": \"temporal\", \n",
    "            \"title\": \"year\"\n",
    "        },\n",
    "        \"y\": {\n",
    "            \"field\": \"mean_speed\",\n",
    "            \"type\": \"quantitative\",\n",
    "            \"title\": \"mean speed\"\n",
    "        },\n",
    "        \"color\": {\n",
    "            \"field\": \"pavillon\",\n",
    "            \"type\": \"nominal\",\n",
    "            \"title\": \"pavillon\"\n",
    "        }\n",
    "    }\n",
    "})\n"
   ]
  },
  {
   "cell_type": "code",
   "execution_count": null,
   "id": "fc590787",
   "metadata": {},
   "outputs": [],
   "source": [
    "# Nombre de trajets total pour chaque pavillon et chaque décennie Heatmap\n",
    "\n",
    "VegaLite({\n",
    "    \"$schema\": \"https://vega.github.io/schema/vega-lite/v5.json\",\n",
    "    \"title\": \"Nombre de trajets total pour chaque pavillon et chaque décennie\",\n",
    "    \"mark\": {\n",
    "        \"tooltip\": {\n",
    "         \"content\": \"data\"\n",
    "        },\n",
    "        \"type\": \"rect\"\n",
    "    },\n",
    "    \"data\": {\n",
    "        \"values\": list_viz\n",
    "    },\n",
    "    \"encoding\": {\n",
    "        \"x\": {\n",
    "            \"field\": \"year\",\n",
    "            \"type\": \"nominal\", \n",
    "            \"title\": \"year\",\n",
    "            \"axis\": {\n",
    "                \"orient\": \"top\"\n",
    "            }\n",
    "        },\n",
    "        \"y\": {\n",
    "            \"field\": \"pavillon\",\n",
    "            \"type\": \"nominal\",\n",
    "            \"title\": \"pavillon\"\n",
    "        },\n",
    "        \"color\": {\n",
    "            \"field\": \"count_travel\",\n",
    "            \"type\": \"quantitative\",\n",
    "            \"title\": \"nombre de trajets\"\n",
    "        }\n",
    "    }\n",
    "})\n"
   ]
  },
  {
   "cell_type": "code",
   "execution_count": null,
   "id": "09b1ff22",
   "metadata": {},
   "outputs": [],
   "source": [
    "# Nombre moyen de flows par trajets pour chaque pavillon et chaque décennie Heatmap\n",
    "\n",
    "VegaLite({\n",
    "    \"$schema\": \"https://vega.github.io/schema/vega-lite/v5.json\",\n",
    "    \"title\": \"Nombre moyen de flows par trajets pour chaque pavillon et chaque décennie\",\n",
    "    \"mark\": {\n",
    "        \"tooltip\": {\n",
    "         \"content\": \"data\"\n",
    "        },\n",
    "        \"type\": \"rect\"\n",
    "    },\n",
    "    \"data\": {\n",
    "        \"values\": list_viz\n",
    "    },\n",
    "    \"encoding\": {\n",
    "        \"x\": {\n",
    "            \"field\": \"year\",\n",
    "            \"type\": \"nominal\", \n",
    "            \"title\": \"year\",\n",
    "            \"axis\": {\n",
    "                \"orient\": \"top\"\n",
    "            }\n",
    "        },\n",
    "        \"y\": {\n",
    "            \"field\": \"pavillon\",\n",
    "            \"type\": \"nominal\",\n",
    "            \"title\": \"pavillon\"\n",
    "        },\n",
    "        \"color\": {\n",
    "            \"field\": \"mean_number_steps\",\n",
    "            \"type\": \"quantitative\",\n",
    "            \"title\": \"nombre moyens d'étapes\"\n",
    "        }\n",
    "    }\n",
    "})\n"
   ]
  },
  {
   "cell_type": "code",
   "execution_count": null,
   "id": "03dafdbb",
   "metadata": {},
   "outputs": [],
   "source": [
    "# Nombre moyen de miles pour chaque pavillon et chaque décennie Heatmap\n",
    "VegaLite({\n",
    "    \"$schema\": \"https://vega.github.io/schema/vega-lite/v5.json\",\n",
    "    \"title\": \"Nombre total de miles pour chaque pavillon et chaque décennie\",\n",
    "    \"mark\": {\n",
    "        \"tooltip\": {\n",
    "         \"content\": \"data\"\n",
    "        },\n",
    "        \"type\": \"rect\"\n",
    "    },\n",
    "    \"data\": {\n",
    "        \"values\": list_viz\n",
    "    },\n",
    "    \"encoding\": {\n",
    "        \"x\": {\n",
    "            \"field\": \"year\",\n",
    "            \"type\": \"nominal\", \n",
    "            \"title\": \"year\",\n",
    "            \"axis\": {\n",
    "                \"orient\": \"top\"\n",
    "            }\n",
    "        },\n",
    "        \"y\": {\n",
    "            \"field\": \"pavillon\",\n",
    "            \"type\": \"nominal\",\n",
    "            \"title\": \"pavillon\"\n",
    "        },\n",
    "        \"color\": {\n",
    "            \"field\": \"mean_total_miles\",\n",
    "            \"type\": \"quantitative\",\n",
    "            \"title\": \"total miles\"\n",
    "        }\n",
    "    }\n",
    "})\n"
   ]
  },
  {
   "cell_type": "code",
   "execution_count": null,
   "id": "ae9d60b7",
   "metadata": {},
   "outputs": [],
   "source": [
    "# Moyenne des temps de trajets pour chaque pavillon et chaque décennie Heatmap\n",
    "\n",
    "VegaLite({\n",
    "    \"$schema\": \"https://vega.github.io/schema/vega-lite/v5.json\",\n",
    "    \"title\": \"Moyenne des temps de trajets pour chaque pavillon et chaque décennie\",\n",
    "    \"mark\": {\n",
    "        \"tooltip\": {\n",
    "         \"content\": \"data\"\n",
    "        },\n",
    "        \"type\": \"rect\"\n",
    "    },\n",
    "    \"data\": {\n",
    "        \"values\": list_viz\n",
    "    },\n",
    "    \"encoding\": {\n",
    "        \"x\": {\n",
    "            \"field\": \"year\",\n",
    "            \"type\": \"nominal\", \n",
    "            \"title\": \"year\",\n",
    "            \"axis\": {\n",
    "                \"orient\": \"top\"\n",
    "            }\n",
    "        },\n",
    "        \"y\": {\n",
    "            \"field\": \"pavillon\",\n",
    "            \"type\": \"nominal\",\n",
    "            \"title\": \"pavillon\"\n",
    "        },\n",
    "        \"color\": {\n",
    "            \"field\": \"mean_duration\",\n",
    "            \"type\": \"quantitative\",\n",
    "            \"title\": \"temps de trajet moyen\"\n",
    "        }\n",
    "    }\n",
    "})"
   ]
  },
  {
   "cell_type": "code",
   "execution_count": null,
   "id": "66bd8957",
   "metadata": {},
   "outputs": [],
   "source": [
    "# Nombre de trajet par pavillon et par types de bateau Heatmap \n",
    "\n",
    "VegaLite({\n",
    "    \"$schema\": \"https://vega.github.io/schema/vega-lite/v5.json\",\n",
    "    \"title\": \"Nombre de trajet par pavillon et par types de bateau\",\n",
    "    \"mark\": {\n",
    "        \"tooltip\": {\n",
    "         \"content\": \"data\"\n",
    "        },\n",
    "        \"type\": \"rect\"\n",
    "    },\n",
    "    \"data\": {\n",
    "        \"values\": list_viz_travel_ship\n",
    "    },\n",
    "    \"encoding\": {\n",
    "        \"x\": {\n",
    "            \"field\": \"classe_bateau\",\n",
    "            \"type\": \"nominal\", \n",
    "            \"title\": \"type de bateau\",\n",
    "            \"axis\": {\n",
    "                \"orient\": \"top\"\n",
    "            },\n",
    "            \"sort\": {\"field\": \"count_travel\", \"op\": \"sum\"}\n",
    "        },\n",
    "        \"y\": {\n",
    "            \"field\": \"pavillon\",\n",
    "            \"type\": \"nominal\",\n",
    "            \"title\": \"pavillon\",\n",
    "            \"sort\": {\"field\": \"count_travel\", \"op\": \"sum\"}\n",
    "        },\n",
    "        \"color\": {\n",
    "            \"field\": \"count_travel\",\n",
    "            \"type\": \"quantitative\",\n",
    "            \"title\": \"nb de trajet, échelle log\",\n",
    "            \"scale\": {\"type\": \"log\"}\n",
    "        }\n",
    "    }\n",
    "})\n"
   ]
  },
  {
   "cell_type": "code",
   "execution_count": null,
   "id": "9cd4dbf7",
   "metadata": {
    "tags": []
   },
   "outputs": [],
   "source": [
    "# Durée moyenne d'un trajet par pavillon et par types de bateau Heatmap \n",
    "\n",
    "VegaLite({\n",
    "    \"$schema\": \"https://vega.github.io/schema/vega-lite/v5.json\",\n",
    "    \"title\": \"Durée moyenne par pavillon et par types de bateau\",\n",
    "    \"mark\": {\n",
    "        \"tooltip\": {\n",
    "         \"content\": \"data\"\n",
    "        },\n",
    "        \"type\": \"rect\"\n",
    "    },\n",
    "    \"data\": {\n",
    "        \"values\": list_viz_travel_ship\n",
    "    },\n",
    "    \"encoding\": {\n",
    "        \"x\": {\n",
    "            \"field\": \"classe_bateau\",\n",
    "            \"type\": \"nominal\", \n",
    "            \"title\": \"type de bateau\",\n",
    "            \"sort\": {\"field\": \"count_travel\", \"op\": \"sum\"},\n",
    "            \"axis\": {\n",
    "                \"orient\": \"top\"\n",
    "            }\n",
    "        },\n",
    "        \"y\": {\n",
    "            \"field\": \"pavillon\",\n",
    "            \"type\": \"nominal\",\n",
    "            \"title\": \"pavillon\",\n",
    "            \"sort\": {\"field\": \"count_travel\", \"op\": \"sum\"}\n",
    "        },\n",
    "        \"color\": {\n",
    "            \"field\": \"mean_duration\",\n",
    "            \"type\": \"quantitative\",\n",
    "            \"title\": \"durée moyenne d'un trajet\"\n",
    "        }\n",
    "    }\n",
    "})\n"
   ]
  },
  {
   "cell_type": "code",
   "execution_count": null,
   "id": "971ed15c-ab1f-48b1-a727-f736e4f9b728",
   "metadata": {},
   "outputs": [],
   "source": []
  }
 ],
 "metadata": {
  "kernelspec": {
   "display_name": "Python 3 (ipykernel)",
   "language": "python",
   "name": "python3"
  },
  "language_info": {
   "codemirror_mode": {
    "name": "ipython",
    "version": 3
   },
   "file_extension": ".py",
   "mimetype": "text/x-python",
   "name": "python",
   "nbconvert_exporter": "python",
   "pygments_lexer": "ipython3",
   "version": "3.8.2"
  },
  "vscode": {
   "interpreter": {
    "hash": "d0a0fda81e871a488515550ff9eda7570f03c43328c7ae4915d98c868a556550"
   }
  }
 },
 "nbformat": 4,
 "nbformat_minor": 5
}
