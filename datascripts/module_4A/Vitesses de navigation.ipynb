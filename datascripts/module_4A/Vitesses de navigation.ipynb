{
 "cells": [
  {
   "cell_type": "code",
   "execution_count": null,
   "id": "f8e11578",
   "metadata": {},
   "outputs": [],
   "source": [
    "import csv"
   ]
  },
  {
   "cell_type": "code",
   "execution_count": null,
   "id": "b4028b60",
   "metadata": {},
   "outputs": [],
   "source": [
    "speed_flows = []\n",
    "with open('../../data/navigo_all_flows.csv', newline='') as csvfile:\n",
    "    reader = csv.DictReader(csvfile)\n",
    "    for row in reader:\n",
    "        # TODO : add filters\n",
    "        speed_flows.append(row)"
   ]
  },
  {
   "cell_type": "code",
   "execution_count": null,
   "id": "979510b9",
   "metadata": {},
   "outputs": [],
   "source": [
    "len(speed_flows)"
   ]
  },
  {
   "cell_type": "code",
   "execution_count": null,
   "id": "0055b68e",
   "metadata": {},
   "outputs": [],
   "source": []
  }
 ],
 "metadata": {
  "kernelspec": {
   "display_name": "Python 3 (ipykernel)",
   "language": "python",
   "name": "python3"
  },
  "language_info": {
   "codemirror_mode": {
    "name": "ipython",
    "version": 3
   },
   "file_extension": ".py",
   "mimetype": "text/x-python",
   "name": "python",
   "nbconvert_exporter": "python",
   "pygments_lexer": "ipython3",
   "version": "3.9.12"
  }
 },
 "nbformat": 4,
 "nbformat_minor": 5
}
