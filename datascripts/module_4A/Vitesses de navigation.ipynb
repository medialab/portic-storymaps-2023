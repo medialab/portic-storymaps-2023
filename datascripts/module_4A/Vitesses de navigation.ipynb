{
 "cells": [
  {
   "cell_type": "code",
   "execution_count": null,
   "id": "f8e11578",
   "metadata": {
    "tags": []
   },
   "outputs": [],
   "source": [
    "import csv\n",
    "import pandas as pd\n",
    "import numpy as np\n",
    "import pprint"
   ]
  },
  {
   "cell_type": "code",
   "execution_count": null,
   "id": "b4028b60",
   "metadata": {
    "tags": []
   },
   "outputs": [],
   "source": [
    "flows_to_Marseille = []\n",
    "rank_Marseille = {}\n",
    "with open('../../data/navigo_all_flows.csv', newline='') as csvfile:\n",
    "    reader = csv.DictReader(csvfile)\n",
    "    for row in reader:\n",
    "        if row['destination_function'] == \"O\" \\\n",
    "        and row[\"source_suite\"] == \"la Santé registre de patentes de Marseille\":\n",
    "           # and row['toponyme_fr'] == 'Marseille' \\\n",
    "            flows_to_Marseille.append(row)\n",
    "            rank_Marseille[row[\"source_doc_id\"]] = row[\"travel_rank\"]\n"
   ]
  },
  {
   "cell_type": "code",
   "execution_count": null,
   "id": "290e29ae-f442-48d5-8cfc-f7324a7b8fee",
   "metadata": {
    "tags": []
   },
   "outputs": [],
   "source": [
    "len(flows_to_Marseille)"
   ]
  },
  {
   "cell_type": "code",
   "execution_count": null,
   "id": "8592bba8-942a-4773-a5e4-227eedb00844",
   "metadata": {
    "tags": []
   },
   "outputs": [],
   "source": [
    "ranks_smaller_than_Marseille = []\n",
    "counter_uhgs_99999 = 0\n",
    "with open('../../data/navigo_all_flows.csv', newline='') as csvfile:\n",
    "    reader = csv.DictReader(csvfile)\n",
    "    for row in reader:\n",
    "        if row[\"source_suite\"] == \"la Santé registre de patentes de Marseille\":\n",
    "            if row[\"destination_uhgs_id\"] == 'A9999997':\n",
    "                counter_uhgs_99999 += 1\n",
    "                continue\n",
    "            if row[\"source_doc_id\"] in rank_Marseille:\n",
    "                max_rank = rank_Marseille[row[\"source_doc_id\"]]\n",
    "                if row[\"travel_rank\"] <= max_rank:\n",
    "                    ranks_smaller_than_Marseille.append(row)\n",
    "counter_uhgs_99999"
   ]
  },
  {
   "cell_type": "code",
   "execution_count": null,
   "id": "c4acb890-0774-4abc-92d8-892749f3759d",
   "metadata": {
    "tags": []
   },
   "outputs": [],
   "source": [
    "from collections import defaultdict\n",
    "travels = defaultdict(lambda: {\"total_miles\": 0, \"total_steps\": 0, \"keep\": True})\n",
    "null_distance = 0\n",
    "\n",
    "for row in ranks_smaller_than_Marseille:\n",
    "    doc_id = row[\"source_doc_id\"]\n",
    "    if doc_id == \"00182452\":\n",
    "        print(row[\"travel_rank\"])\n",
    "    travel = travels[doc_id]\n",
    "    distance = row[\"distance_dep_dest_miles\"]\n",
    "    if distance and distance != '0' and travel[\"keep\"]:\n",
    "        \n",
    "        travel[\"total_miles\"] += int(distance)\n",
    "        travel[\"total_steps\"] += 1\n",
    "        if row[\"travel_rank\"] == \"1\":\n",
    "            travel[\"departure_date\"] = row[\"outdate_fixed\"]\n",
    "        if row[\"travel_rank\"] == rank_Marseille[doc_id]:\n",
    "            travel[\"arrival_date\"] = row[\"indate_fixed\"] \n",
    "            travel[\"pavillon\"] = row[\"ship_flag_standardized_fr\"]\n",
    "            travel[\"classe_bateau\"] = row[\"ship_class_standardized\"]\n",
    "            year = row[\"indate_fixed\"][:4]\n",
    "            travel[\"year\"] = year if year[-1] == \"9\" else year[:3]+\"9\"\n",
    "    else:\n",
    "        travel[\"keep\"] = False\n",
    "\n"
   ]
  },
  {
   "cell_type": "code",
   "execution_count": null,
   "id": "726c2f88-0d56-41ec-8dc3-2f2084fc2d4a",
   "metadata": {
    "tags": []
   },
   "outputs": [],
   "source": [
    "from datetime import datetime\n",
    "\n",
    "good_travels = travels.copy()\n",
    "for k, v in travels.items():\n",
    "    if not v[\"keep\"]:\n",
    "        good_travels.pop(k)\n",
    "    else:\n",
    "        v[\"duration\"] = (datetime.strptime(v[\"arrival_date\"], \"%Y-%m-%d\") - datetime.strptime(v[\"departure_date\"], \"%Y-%m-%d\")).days\n",
    "        if v[\"duration\"] == 0:\n",
    "            v[\"duration\"] = 1\n",
    "        v[\"speed\"] = v[\"total_miles\"] / v[\"duration\"]\n",
    "        v[\"decade\"] = v[\"arrival_date\"][:4]\n",
    "        v.pop(\"keep\")\n"
   ]
  },
  {
   "cell_type": "code",
   "execution_count": null,
   "id": "1e0ce142-5c3e-4208-b290-dac6a6b9fc20",
   "metadata": {
    "tags": []
   },
   "outputs": [],
   "source": [
    "df_travels = pd.DataFrame(good_travels).transpose()\n",
    "df_travels = df_travels[df_travels.duration > 0]\n"
   ]
  },
  {
   "cell_type": "code",
   "execution_count": null,
   "id": "20f2056c-7cd3-40b6-9dc9-bb8a143768bd",
   "metadata": {
    "tags": []
   },
   "outputs": [],
   "source": [
    "# Vitesse moyenne pour chaque pavillon et chaque décennie\n",
    "mean_speed = pd.pivot_table(df_travels, values='speed', index=['pavillon'], columns=['year'], aggfunc=np.mean).sort_index()\n",
    "mean_speed.to_csv(\"../../data/travel_mean_speed_per_flag_and_year.csv\")"
   ]
  },
  {
   "cell_type": "code",
   "execution_count": null,
   "id": "7afa7ed8-354a-4ef5-b711-b3410b18d4a8",
   "metadata": {
    "tags": []
   },
   "outputs": [],
   "source": [
    "# Nombre de trajets total pour chaque pavillon et chaque décennie\n",
    "count = pd.pivot_table(df_travels, values='speed', index=['pavillon'], columns=['year'], aggfunc=np.ma.count).sort_index()\n",
    "count.to_csv(\"../../data/travel_count_per_flag_and_year.csv\")"
   ]
  },
  {
   "cell_type": "code",
   "execution_count": null,
   "id": "1250824c-af5c-4c63-a9e7-ffabacd2b776",
   "metadata": {
    "tags": []
   },
   "outputs": [],
   "source": [
    "# Nombre moyen de flows des trajets pour chaque pavillon et chaque décennie\n",
    "mean_flow_count = pd.pivot_table(df_travels, values='total_steps', index=['pavillon'], columns=['year'], aggfunc=np.mean).sort_index()\n",
    "mean_flow_count.to_csv(\"../../data/mean_flow_count_per_flag_and_year.csv\")"
   ]
  },
  {
   "cell_type": "code",
   "execution_count": null,
   "id": "057c163b-4772-4e14-8b5e-b0a079bbe55e",
   "metadata": {},
   "outputs": [],
   "source": []
  }
 ],
 "metadata": {
  "kernelspec": {
   "display_name": "Python 3 (ipykernel)",
   "language": "python",
   "name": "python3"
  },
  "language_info": {
   "codemirror_mode": {
    "name": "ipython",
    "version": 3
   },
   "file_extension": ".py",
   "mimetype": "text/x-python",
   "name": "python",
   "nbconvert_exporter": "python",
   "pygments_lexer": "ipython3",
   "version": "3.8.2"
  }
 },
 "nbformat": 4,
 "nbformat_minor": 5
}
