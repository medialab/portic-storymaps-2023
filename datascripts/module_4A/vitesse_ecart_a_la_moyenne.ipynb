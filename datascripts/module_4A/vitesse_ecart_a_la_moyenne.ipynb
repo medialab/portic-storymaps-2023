{
 "cells": [
  {
   "cell_type": "code",
   "execution_count": null,
   "id": "49553735-43b3-4e3b-b34f-6b5539c16da2",
   "metadata": {
    "tags": []
   },
   "outputs": [],
   "source": [
    "from classif_archaisme import (\n",
    "    ughs_id_to_province, \n",
    "    LEVANT_PROVINCES,\n",
    "    BIRTHPLACE_TO_PROVINCE,\n",
    "    FLAG_TO_GROUPING\n",
    ")\n",
    "import csv\n",
    "import pandas as pd\n",
    "import numpy as np"
   ]
  },
  {
   "cell_type": "code",
   "execution_count": null,
   "id": "c6790b22-bce6-4371-947a-89373784fd33",
   "metadata": {
    "tags": []
   },
   "outputs": [],
   "source": [
    "def aggregate_flag_for_flow(flow, ughs_id_to_province_map, isolate_levant=True):\n",
    "    flag = row['ship_flag_standardized_fr']\n",
    "    birthplace_uhgs_id = row['birthplace_uhgs_id']\n",
    "    birthplace_city = row['birthplace']\n",
    "    if flag == '':\n",
    "        return 'Inconnu'\n",
    "    if flag == 'français' and isolate_levant:\n",
    "        province = ughs_id_to_province_map[birthplace_uhgs_id] if birthplace_uhgs_id in ughs_id_to_province_map else 'Inconnu'\n",
    "        if province == 'Inconnu' and birthplace_city in BIRTHPLACE_TO_PROVINCE:\n",
    "            province = BIRTHPLACE_TO_PROVINCE[birthplace_city]\n",
    "        if province in LEVANT_PROVINCES:\n",
    "            return 'France du Levant'\n",
    "        else:\n",
    "            return 'France du Ponant'\n",
    "    elif flag in FLAG_TO_GROUPING:\n",
    "        if flag == 'monégasque' and isolate_levant:\n",
    "            return 'France du Levant'\n",
    "        else:\n",
    "            return FLAG_TO_GROUPING[flag]\n",
    "    else:\n",
    "        return 'Inconnu'"
   ]
  },
  {
   "cell_type": "code",
   "execution_count": null,
   "id": "07d354f4-99bf-47b8-bf62-9c7aa2242fed",
   "metadata": {
    "tags": []
   },
   "outputs": [],
   "source": [
    "stats = {}\n",
    "with open('../../data/navigo_all_flows.csv', newline='') as csvfile:\n",
    "    reader = csv.DictReader(csvfile)\n",
    "    for row in reader:\n",
    "        if row['destination_function'] == \"O\" \\\n",
    "        and row[\"source_suite\"] == \"la Santé registre de patentes de Marseille\":\n",
    "           # and row['toponyme_fr'] == 'Marseille' \\\n",
    "            flag_class = aggregate_flag_for_flow(row, ughs_id_to_province)\n",
    "            if flag_class not in stats:\n",
    "                stats[flag_class] = 0\n",
    "            stats[flag_class]+= 1\n",
    "# print(flags)\n",
    "for flag_class, nb in sorted(stats.items(), key=lambda c : c[1]):\n",
    "    print(flag_class, str(nb))"
   ]
  },
  {
   "cell_type": "code",
   "execution_count": null,
   "id": "2ace501b-f0e0-471f-bf44-5ff94ad4b8cd",
   "metadata": {
    "tags": []
   },
   "outputs": [],
   "source": [
    "print(FLAG_TO_GROUPING)"
   ]
  },
  {
   "cell_type": "code",
   "execution_count": null,
   "id": "54e4e516-3313-4769-addf-d6e2c3c14817",
   "metadata": {
    "tags": []
   },
   "outputs": [],
   "source": [
    "flows_to_Marseille = []\n",
    "rank_Marseille = {}\n",
    "with open('../../data/navigo_all_flows.csv', newline='') as csvfile:\n",
    "    reader = csv.DictReader(csvfile)\n",
    "    for row in reader:\n",
    "        if row['destination_function'] == \"O\" \\\n",
    "        and row[\"source_suite\"] == \"la Santé registre de patentes de Marseille\":\n",
    "            flows_to_Marseille.append(row)\n",
    "            rank_Marseille[row[\"source_doc_id\"]] = row[\"travel_rank\"]\n",
    "            \n",
    "ranks_smaller_than_Marseille = []\n",
    "with open('../../data/navigo_all_flows.csv', newline='') as csvfile:\n",
    "    reader = csv.DictReader(csvfile)\n",
    "    for row in reader:\n",
    "        if row[\"source_suite\"] == \"la Santé registre de patentes de Marseille\":\n",
    "            if row[\"destination_uhgs_id\"] == 'A9999997':\n",
    "                continue\n",
    "            if row[\"source_doc_id\"] in rank_Marseille:\n",
    "                max_rank = rank_Marseille[row[\"source_doc_id\"]]\n",
    "                if row[\"travel_rank\"] <= max_rank:\n",
    "                    ranks_smaller_than_Marseille.append(row)"
   ]
  },
  {
   "cell_type": "code",
   "execution_count": null,
   "id": "5c90b1e0-88b3-4390-aeb8-90afa7673554",
   "metadata": {
    "tags": []
   },
   "outputs": [],
   "source": [
    "from collections import defaultdict\n",
    "travels = defaultdict(lambda: {\"total_miles\": 0, \"total_steps\": 0, \"keep\": True})\n",
    "null_distance = 0\n",
    "\n",
    "for row in ranks_smaller_than_Marseille:\n",
    "    doc_id = row[\"source_doc_id\"]\n",
    "    travel = travels[doc_id]\n",
    "    distance = row[\"distance_dep_dest_miles\"]\n",
    "    if distance and distance != '0' and travel[\"keep\"] and row[\"departure_out_date\"]:\n",
    "        travel[\"total_miles\"] += int(distance)\n",
    "        travel[\"total_steps\"] += 1\n",
    "        if row[\"travel_rank\"] == \"1\":\n",
    "            travel[\"departure_date\"] = row[\"departure_out_date\"]\n",
    "        if row[\"travel_rank\"] == rank_Marseille[doc_id]:\n",
    "            travel[\"arrival_date\"] = row[\"indate_fixed\"] \n",
    "            travel[\"pavillon\"] = row[\"ship_flag_standardized_fr\"]\n",
    "            travel[\"classe_bateau\"] = row[\"ship_class_standardized\"]\n",
    "            travel[\"year\"] = row[\"indate_fixed\"][:4]\n",
    "            travel[\"flag_class\"] = aggregate_flag_for_flow(row, ughs_id_to_province, isolate_levant=True)\n",
    "    else:\n",
    "        travel[\"keep\"] = False"
   ]
  },
  {
   "cell_type": "code",
   "execution_count": null,
   "id": "bb046745-928e-439a-b493-9a9cd9ff944a",
   "metadata": {
    "tags": []
   },
   "outputs": [],
   "source": [
    "for enum, t in enumerate(travels.values()):\n",
    "    print(t)\n",
    "    if enum == 10:\n",
    "        break"
   ]
  },
  {
   "cell_type": "code",
   "execution_count": null,
   "id": "892af538-51c7-4866-bf53-258fc626f111",
   "metadata": {
    "tags": []
   },
   "outputs": [],
   "source": [
    "from datetime import datetime\n",
    "\n",
    "good_travels = {}\n",
    "error_list = []\n",
    "\n",
    "for k, v in travels.items():\n",
    "    if v[\"keep\"] and ('<' not in v['departure_date'] and '>' not in v['departure_date']) and v[\"year\"] != '1787':\n",
    "        travel = v.copy()\n",
    "        end_time = datetime.strptime(v[\"arrival_date\"], \"%Y-%m-%d\")\n",
    "        try:\n",
    "            start_time = datetime.strptime(v[\"departure_date\"][:10], \"%Y=%m=%d\")\n",
    "        except ValueError as e:\n",
    "            error_list.append(e)\n",
    "            continue\n",
    "        travel[\"duration\"] = (end_time - start_time).days\n",
    "        if travel[\"duration\"] == 0:\n",
    "            travel[\"duration\"] = 1\n",
    "        travel[\"speed\"] = v[\"total_miles\"] / travel[\"duration\"]\n",
    "        travel.pop(\"keep\")\n",
    "        good_travels[k] = travel\n"
   ]
  },
  {
   "cell_type": "code",
   "execution_count": null,
   "id": "5bd0eb72-a3a1-4d47-987d-54ea9fe93d86",
   "metadata": {
    "tags": []
   },
   "outputs": [],
   "source": [
    "df_travels = pd.DataFrame(good_travels).transpose()\n",
    "df_travels = df_travels[df_travels.duration > 0]"
   ]
  },
  {
   "cell_type": "code",
   "execution_count": null,
   "id": "24bc64f7-301c-4dd6-b52a-d4d40b719626",
   "metadata": {
    "tags": []
   },
   "outputs": [],
   "source": [
    "general_speed = df_travels['speed'].mean()\n",
    "flag_class_speed = df_travels.groupby('flag_class').agg({'speed': 'mean'}).to_dict()['speed']"
   ]
  },
  {
   "cell_type": "code",
   "execution_count": null,
   "id": "f5bfbd79-ed2c-4bbe-96bc-56d13a371cce",
   "metadata": {
    "tags": []
   },
   "outputs": [],
   "source": [
    "viz_df = df_travels.groupby(['year', 'flag_class']).agg({'speed': 'mean',\n",
    "                                           'total_steps': 'mean',\n",
    "                                           'total_miles': 'mean',\n",
    "                                           'departure_date': 'size',\n",
    "                                           'duration': 'mean'\n",
    "                                          }).reset_index()\n",
    "\n",
    "viz_df.columns = ['year', 'flag_class', 'mean_speed', 'mean_number_steps', \n",
    "                  'mean_distance', 'count_travel', 'mean_duration']\n",
    "\n",
    "viz_df[\"war\"] = viz_df.year.isin([\"1759\", \"1779\", \"1799\"]).replace({True: \"guerre\", False: \"paix\"})\n",
    "viz_df[\"flagclass_mean_speed\"] = viz_df[\"flag_class\"].map(flag_class_speed)\n",
    "viz_df[\"deviation_to_flag_mean\"] = viz_df[\"mean_speed\"] - viz_df[\"flagclass_mean_speed\"]\n",
    "viz_df[\"deviation_to_general_mean\"] = viz_df[\"mean_speed\"] - general_speed"
   ]
  },
  {
   "cell_type": "code",
   "execution_count": null,
   "id": "37a06300-394a-4259-b3da-5b3e13735752",
   "metadata": {
    "tags": []
   },
   "outputs": [],
   "source": [
    "list_viz = []\n",
    "\n",
    "for i,row in viz_df.iterrows():\n",
    "    list_viz.append(dict(row))"
   ]
  },
  {
   "cell_type": "code",
   "execution_count": null,
   "id": "d8ef0a65-6bc6-4128-83ce-deb1c913c9b3",
   "metadata": {
    "tags": []
   },
   "outputs": [],
   "source": [
    "from IPython.display import display\n",
    "\n",
    "def VegaLite(spec):\n",
    "    bundle = {}\n",
    "    bundle['application/vnd.vegalite.v4+json'] = spec\n",
    "    display(bundle, raw=True)"
   ]
  },
  {
   "cell_type": "code",
   "execution_count": null,
   "id": "7e5cf0a9-6602-45b8-89aa-1e1414880418",
   "metadata": {
    "tags": []
   },
   "outputs": [],
   "source": [
    "VegaLite({\n",
    "    \"$schema\": \"https://vega.github.io/schema/vega-lite/v5.json\",\n",
    "        \"title\": \"Écart à la vitesse moyenne du pavillon pour chaque décennie\",\n",
    "    \"mark\":  \"bar\",\n",
    "    \"data\": {\n",
    "        \"values\": list_viz\n",
    "    },\n",
    "    \"encoding\": {\n",
    "        \"facet\": {\n",
    "            \"field\": \"flag_class\",\n",
    "            \"columns\": 3,\n",
    "        },\n",
    "        \"x\": {\n",
    "            \"field\": \"year\",\n",
    "            \"type\": \"nominal\", \n",
    "            \"title\": \"year\"\n",
    "        },\n",
    "        \"y\": {\n",
    "            \"field\": \"deviation_to_flag_mean\",\n",
    "            \"type\": \"quantitative\",\n",
    "            \"title\": \"deviation to mean - miles p. day\"\n",
    "        },\n",
    "        \"color\": {\n",
    "            \"field\": \"war\",\n",
    "            \"type\": \"nominal\",\n",
    "            \"title\": \"guerre\"\n",
    "        }\n",
    "    }\n",
    "})"
   ]
  },
  {
   "cell_type": "code",
   "execution_count": null,
   "id": "3edae92f-164f-44c9-87fd-7e0a19eb6496",
   "metadata": {
    "tags": []
   },
   "outputs": [],
   "source": [
    "VegaLite({\n",
    "    \"$schema\": \"https://vega.github.io/schema/vega-lite/v5.json\",\n",
    "        \"title\": \"Écart de la vitesse à la moyenne générale pour chaque décennie\",\n",
    "    \"mark\":  \"bar\",\n",
    "    \"data\": {\n",
    "        \"values\": list_viz\n",
    "    },\n",
    "    \"encoding\": {\n",
    "        \"facet\": {\n",
    "            \"field\": \"flag_class\",\n",
    "            \"columns\": 3,\n",
    "        },\n",
    "        \"x\": {\n",
    "            \"field\": \"year\",\n",
    "            \"type\": \"nominal\", \n",
    "            \"title\": \"year\"\n",
    "        },\n",
    "        \"y\": {\n",
    "            \"field\": \"deviation_to_general_mean\",\n",
    "            \"type\": \"quantitative\",\n",
    "            \"title\": \"deviation to mean - miles p. day\"\n",
    "        },\n",
    "        \"color\": {\n",
    "            \"field\": \"war\",\n",
    "            \"type\": \"nominal\",\n",
    "            \"title\": \"guerre\"\n",
    "        }\n",
    "    }\n",
    "})"
   ]
  },
  {
   "cell_type": "code",
   "execution_count": null,
   "id": "7dd62368-755c-4766-93ac-a7c55f278167",
   "metadata": {},
   "outputs": [],
   "source": [
    "VegaLite({\n",
    "    \"$schema\": \"https://vega.github.io/schema/vega-lite/v5.json\",\n",
    "        \"title\": \"Vitesse moyenne pour chaque décennie\",\n",
    "    \"mark\":  \"bar\",\n",
    "    \"data\": {\n",
    "        \"values\": list_viz\n",
    "    },\n",
    "    \"encoding\": {\n",
    "        \"facet\": {\n",
    "            \"field\": \"flag_class\",\n",
    "            \"columns\": 3,\n",
    "        },\n",
    "        \"x\": {\n",
    "            \"field\": \"year\",\n",
    "            \"type\": \"nominal\", \n",
    "            \"title\": \"year\"\n",
    "        },\n",
    "        \"y\": {\n",
    "            \"field\": \"mean_speed\",\n",
    "            \"type\": \"quantitative\",\n",
    "            \"title\": \"vitesse moyenne\"\n",
    "        },\n",
    "        \"color\": {\n",
    "            \"field\": \"war\",\n",
    "            \"type\": \"nominal\",\n",
    "            \"title\": \"guerre\"\n",
    "        }\n",
    "    }\n",
    "})"
   ]
  },
  {
   "cell_type": "code",
   "execution_count": null,
   "id": "7faac820-49f3-407d-92b0-d8157b26e9e8",
   "metadata": {},
   "outputs": [],
   "source": []
  }
 ],
 "metadata": {
  "kernelspec": {
   "display_name": "Python 3 (ipykernel)",
   "language": "python",
   "name": "python3"
  },
  "language_info": {
   "codemirror_mode": {
    "name": "ipython",
    "version": 3
   },
   "file_extension": ".py",
   "mimetype": "text/x-python",
   "name": "python",
   "nbconvert_exporter": "python",
   "pygments_lexer": "ipython3",
   "version": "3.8.2"
  }
 },
 "nbformat": 4,
 "nbformat_minor": 5
}
