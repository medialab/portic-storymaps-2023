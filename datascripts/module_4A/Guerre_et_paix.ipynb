{
 "cells": [
  {
   "cell_type": "code",
   "execution_count": 1,
   "id": "13d4e6ee-7a43-4b04-9a35-327e20513658",
   "metadata": {
    "tags": []
   },
   "outputs": [],
   "source": [
    "import csv\n",
    "import pandas as pd\n",
    "import numpy as np\n",
    "import pprint"
   ]
  },
  {
   "cell_type": "markdown",
   "id": "59c06b63-a4ba-48a7-a76e-cc75f8a1a1bc",
   "metadata": {},
   "source": [
    "### 1. Filtrage des flows"
   ]
  },
  {
   "cell_type": "code",
   "execution_count": 2,
   "id": "1dde6ecd-6db1-400a-86e4-16afcf55ac60",
   "metadata": {},
   "outputs": [
    {
     "ename": "KeyError",
     "evalue": "'travel_rank'",
     "output_type": "error",
     "traceback": [
      "\u001b[0;31m---------------------------------------------------------------------------\u001b[0m",
      "\u001b[0;31mKeyError\u001b[0m                                  Traceback (most recent call last)",
      "\u001b[0;32m/var/folders/1y/4l7zn9vs3xsg6fvyz6vlhpdr0000gn/T/ipykernel_74425/1030897237.py\u001b[0m in \u001b[0;36m<module>\u001b[0;34m\u001b[0m\n\u001b[1;32m      8\u001b[0m            \u001b[0;31m# and row['toponyme_fr'] == 'Marseille' \\\u001b[0m\u001b[0;34m\u001b[0m\u001b[0;34m\u001b[0m\u001b[0;34m\u001b[0m\u001b[0m\n\u001b[1;32m      9\u001b[0m             \u001b[0mflows_to_Marseille\u001b[0m\u001b[0;34m.\u001b[0m\u001b[0mappend\u001b[0m\u001b[0;34m(\u001b[0m\u001b[0mrow\u001b[0m\u001b[0;34m)\u001b[0m\u001b[0;34m\u001b[0m\u001b[0;34m\u001b[0m\u001b[0m\n\u001b[0;32m---> 10\u001b[0;31m             \u001b[0mrank_Marseille\u001b[0m\u001b[0;34m[\u001b[0m\u001b[0mrow\u001b[0m\u001b[0;34m[\u001b[0m\u001b[0;34m\"source_doc_id\"\u001b[0m\u001b[0;34m]\u001b[0m\u001b[0;34m]\u001b[0m \u001b[0;34m=\u001b[0m \u001b[0mrow\u001b[0m\u001b[0;34m[\u001b[0m\u001b[0;34m\"travel_rank\"\u001b[0m\u001b[0;34m]\u001b[0m\u001b[0;34m\u001b[0m\u001b[0;34m\u001b[0m\u001b[0m\n\u001b[0m",
      "\u001b[0;31mKeyError\u001b[0m: 'travel_rank'"
     ]
    }
   ],
   "source": [
    "flows_to_Marseille = []\n",
    "rank_Marseille = {}\n",
    "with open('../../data/navigo_all_flows.csv', newline='') as csvfile:\n",
    "    reader = csv.DictReader(csvfile)\n",
    "    for row in reader:\n",
    "        if row['destination_function'] == \"O\" \\\n",
    "        and row[\"source_suite\"] == \"la Santé registre de patentes de Marseille\":\n",
    "           # and row['toponyme_fr'] == 'Marseille' \\\n",
    "            flows_to_Marseille.append(row)\n",
    "            rank_Marseille[row[\"source_doc_id\"]] = row[\"travel_rank\"]"
   ]
  },
  {
   "cell_type": "code",
   "execution_count": null,
   "id": "2df40430-5ad7-48b5-8490-5aafc059d251",
   "metadata": {},
   "outputs": [],
   "source": [
    "ranks_smaller_than_Marseille = []\n",
    "counter_uhgs_99999 = 0\n",
    "with open('../../data/navigo_all_flows.csv', newline='') as csvfile:\n",
    "    reader = csv.DictReader(csvfile)\n",
    "    for row in reader:\n",
    "        if row[\"source_suite\"] == \"la Santé registre de patentes de Marseille\":\n",
    "            if row[\"destination_uhgs_id\"] == 'A9999997':\n",
    "                counter_uhgs_99999 += 1\n",
    "                continue\n",
    "            if row[\"source_doc_id\"] in rank_Marseille:\n",
    "                max_rank = rank_Marseille[row[\"source_doc_id\"]]\n",
    "                if row[\"travel_rank\"] <= max_rank:\n",
    "                    ranks_smaller_than_Marseille.append(row)\n",
    "counter_uhgs_99999"
   ]
  },
  {
   "cell_type": "markdown",
   "id": "01a4f49d-3e80-4ae1-85ca-cec4eed1cf32",
   "metadata": {},
   "source": [
    "### 2. Reconstitution des voyages"
   ]
  },
  {
   "cell_type": "code",
   "execution_count": null,
   "id": "7312c35b-b812-4dd5-bf32-b37e0621c22b",
   "metadata": {},
   "outputs": [],
   "source": [
    "from collections import defaultdict\n",
    "travels = defaultdict(lambda: {\"total_miles\": 0, \"total_steps\": 0, \"keep\": True})\n",
    "null_distance = 0\n",
    "\n",
    "for row in ranks_smaller_than_Marseille:\n",
    "    doc_id = row[\"source_doc_id\"]\n",
    "    travel = travels[doc_id]\n",
    "    distance = row[\"distance_dep_dest_miles\"]\n",
    "    if distance and distance != '0' and travel[\"keep\"] and row[\"departure_out_date\"]:\n",
    "        travel[\"total_miles\"] += int(distance)\n",
    "        travel[\"total_steps\"] += 1\n",
    "        if row[\"travel_rank\"] == \"1\":\n",
    "            travel[\"departure_date\"] = row[\"departure_out_date\"]\n",
    "        if row[\"travel_rank\"] == rank_Marseille[doc_id]:\n",
    "            travel[\"arrival_date\"] = row[\"indate_fixed\"] \n",
    "            travel[\"pavillon\"] = row[\"ship_flag_standardized_fr\"]\n",
    "            travel[\"classe_bateau\"] = row[\"ship_class_standardized\"]\n",
    "            year = row[\"indate_fixed\"][:4]\n",
    "            travel[\"year\"] = year if year[-1] == \"9\" else year[:3]+\"9\"\n",
    "    else:\n",
    "        travel[\"keep\"] = False"
   ]
  },
  {
   "cell_type": "markdown",
   "id": "b7424fe0-c7d6-4570-ab65-fd6683ff65fb",
   "metadata": {
    "tags": []
   },
   "source": [
    "### 3. Suppression des voyages invalides"
   ]
  },
  {
   "cell_type": "code",
   "execution_count": null,
   "id": "df9ef147-c751-4103-bb79-5ae7214969a8",
   "metadata": {
    "tags": []
   },
   "outputs": [],
   "source": [
    "from datetime import datetime\n",
    "\n",
    "good_travels = {}\n",
    "error_list = []\n",
    "\n",
    "for k, v in travels.items():\n",
    "    if v[\"keep\"] and ('<' not in v['departure_date'] and '>' not in v['departure_date']):\n",
    "        travel = v.copy()\n",
    "        end_time = datetime.strptime(v[\"arrival_date\"], \"%Y-%m-%d\")\n",
    "        try:\n",
    "            start_time = datetime.strptime(v[\"departure_date\"][:10], \"%Y=%m=%d\")\n",
    "        except ValueError as e:\n",
    "            error_list.append(e)\n",
    "            continue\n",
    "        travel[\"duration\"] = (end_time - start_time).days\n",
    "        if travel[\"duration\"] == 0:\n",
    "            travel[\"duration\"] = 1\n",
    "        travel[\"speed\"] = v[\"total_miles\"] / travel[\"duration\"]\n",
    "        travel[\"decade\"] = v[\"arrival_date\"][:4]\n",
    "        travel.pop(\"keep\")\n",
    "        good_travels[k] = travel"
   ]
  },
  {
   "cell_type": "code",
   "execution_count": null,
   "id": "98bc8644-fd7f-4726-bd42-9936c62c0d4b",
   "metadata": {},
   "outputs": [],
   "source": [
    "df_travels = pd.DataFrame(good_travels).transpose()\n",
    "df_travels = df_travels[df_travels.duration > 0]"
   ]
  },
  {
   "cell_type": "markdown",
   "id": "3691dcf6-d912-4494-9d75-4ee81d0b2e5e",
   "metadata": {},
   "source": [
    "### 4. Création des visualisations"
   ]
  },
  {
   "cell_type": "code",
   "execution_count": null,
   "id": "adeb32ae-2d6b-48f0-ab52-50c31b5fb880",
   "metadata": {},
   "outputs": [],
   "source": [
    "viz_df = df_travels.groupby(['year', 'pavillon']).agg({'speed': 'mean',\n",
    "                                                       'total_steps': 'mean',\n",
    "                                                       'total_miles': 'sum',\n",
    "                                                       'departure_date': 'size',\n",
    "                                                       'duration': 'mean'\n",
    "                                                       }\n",
    "                                                      ).reset_index()\n",
    "\n",
    "viz_df.columns = ['year', 'pavillon', 'mean_speed', 'mean_number_steps', 'sum_total_miles', 'count_travel', 'mean_duration']\n",
    "\n",
    "viz_df[\"war\"] = viz_df.year.isin([\"1759\", \"1779\", \"1799\"]).replace({True: \"guerre\", False: \"paix\"})"
   ]
  },
  {
   "cell_type": "code",
   "execution_count": null,
   "id": "dccaec4d-f0cb-426c-9fc3-24bc4fda0972",
   "metadata": {},
   "outputs": [],
   "source": [
    "list_viz = []\n",
    "\n",
    "for i,row in viz_df.iterrows():\n",
    "    list_viz.append(dict(row))"
   ]
  },
  {
   "cell_type": "code",
   "execution_count": null,
   "id": "6b1b4d03-2242-490a-85da-515c9bef392b",
   "metadata": {},
   "outputs": [],
   "source": [
    "from IPython.display import display\n",
    "\n",
    "def VegaLite(spec):\n",
    "    bundle = {}\n",
    "    bundle['application/vnd.vegalite.v4+json'] = spec\n",
    "    display(bundle, raw=True)"
   ]
  },
  {
   "cell_type": "code",
   "execution_count": null,
   "id": "03de4545-53e7-4f3b-9681-29da24ebaa34",
   "metadata": {
    "tags": []
   },
   "outputs": [],
   "source": [
    "# Vitesse moyenne pour chaque pavillon et chaque décennie Heatmap, en temps de guerre et paix\n",
    "\n",
    "VegaLite({\n",
    "    \"$schema\": \"https://vega.github.io/schema/vega-lite/v5.json\",\n",
    "    \"title\": \"Vitesse moyenne pour chaque pavillon et chaque décennie\",\n",
    "    \"mark\": {\n",
    "        \"tooltip\": {\n",
    "         \"content\": \"data\"\n",
    "        },\n",
    "        \"type\": \"rect\"\n",
    "    },\n",
    "    \"data\": {\n",
    "        \"values\": list_viz\n",
    "    },\n",
    "    \"resolve\": {\"scale\": {\"x\": \"independent\"}},\n",
    "    \"encoding\": {\n",
    "        \"column\": {\"field\": \"war\"},\n",
    "        \"x\": {\n",
    "            \"field\": \"year\",\n",
    "            \"type\": \"nominal\", \n",
    "            \"title\": \"year\",\n",
    "            \"axis\": {\n",
    "                \"orient\": \"top\"\n",
    "            }\n",
    "        },\n",
    "        \"y\": {\n",
    "            \"field\": \"pavillon\",\n",
    "            \"type\": \"nominal\",\n",
    "            \"title\": \"pavillon\"\n",
    "        },\n",
    "        \"color\": {\n",
    "            \"field\": \"mean_speed\",\n",
    "            \"type\": \"quantitative\",\n",
    "            \"title\": \"Vitesse moyenne\"\n",
    "        }\n",
    "    }\n",
    "})"
   ]
  },
  {
   "cell_type": "code",
   "execution_count": null,
   "id": "7100c53a-c007-4089-a118-bd06e59e8ef2",
   "metadata": {},
   "outputs": [],
   "source": [
    "# Nombre de trajets total pour chaque pavillon et chaque décennie, en temps de guerre et paix\n",
    "\n",
    "VegaLite({\n",
    "    \"$schema\": \"https://vega.github.io/schema/vega-lite/v5.json\",\n",
    "    \"title\": \"Nombre de trajets total pour chaque pavillon et chaque décennie\",\n",
    "    \"mark\": {\n",
    "        \"tooltip\": {\n",
    "         \"content\": \"data\"\n",
    "        },\n",
    "        \"type\": \"rect\"\n",
    "    },\n",
    "    \"data\": {\n",
    "        \"values\": list_viz\n",
    "    },\n",
    "    \"resolve\": {\"scale\": {\"x\": \"independent\"}},\n",
    "    \"encoding\": {\n",
    "        \"column\": {\"field\": \"war\"},\n",
    "        \"x\": {\n",
    "            \"field\": \"year\",\n",
    "            \"type\": \"nominal\", \n",
    "            \"title\": \"year\",\n",
    "            \"axis\": {\n",
    "                \"orient\": \"top\"\n",
    "            }\n",
    "        },\n",
    "        \"y\": {\n",
    "            \"field\": \"pavillon\",\n",
    "            \"type\": \"nominal\",\n",
    "            \"title\": \"pavillon\"\n",
    "        },\n",
    "        \"color\": {\n",
    "            \"field\": \"count_travel\",\n",
    "            \"type\": \"quantitative\",\n",
    "            \"title\": \"nb de trajets, échelle log\",\n",
    "            \"scale\": {\"type\": \"log\"}\n",
    "        }\n",
    "    }\n",
    "})\n"
   ]
  },
  {
   "cell_type": "code",
   "execution_count": null,
   "id": "e40dd9a4-3d90-4b4c-b93a-fb1bdb37a1c6",
   "metadata": {
    "tags": []
   },
   "outputs": [],
   "source": [
    "# Grouper les pavillons étrangers entre eux\n",
    "df_travels[\"french_pavillon\"] = df_travels.pavillon == \"français\"\n",
    "df_travels[\"french_pavillon\"] = df_travels[\"french_pavillon\"].replace({True: \"français\", False: \"étranger\"})\n",
    "\n",
    "viz_df = df_travels.groupby(['year', 'french_pavillon']).agg({'speed': 'mean',\n",
    "                                                       'total_steps': 'mean',\n",
    "                                                       'total_miles': 'sum',\n",
    "                                                       'departure_date': 'size',\n",
    "                                                       'duration': 'mean'\n",
    "                                                       }\n",
    "                                                      ).reset_index()\n",
    "viz_df.columns = ['year', 'french_pavillon', 'mean_speed', 'mean_number_steps', 'sum_total_miles', 'count_travel', 'mean_duration']\n",
    "viz_df[\"war\"] = viz_df.year.isin([\"1759\", \"1779\", \"1799\"]).replace({True: \"guerre\", False: \"paix\"})\n",
    "\n",
    "list_viz = []\n",
    "\n",
    "for i,row in viz_df.iterrows():\n",
    "    list_viz.append(dict(row))\n",
    "    \n",
    "VegaLite({\n",
    "    \"$schema\": \"https://vega.github.io/schema/vega-lite/v5.json\",\n",
    "    \"title\": \"Nombre de trajets total pour chaque pavillon et chaque décennie\",\n",
    "    \"mark\": {\n",
    "        \"tooltip\": {\n",
    "         \"content\": \"data\"\n",
    "        },\n",
    "        \"type\": \"rect\"\n",
    "    },\n",
    "    \"data\": {\n",
    "        \"values\": list_viz\n",
    "    },\n",
    "    \"resolve\": {\"scale\": {\"x\": \"independent\"}},\n",
    "    \"encoding\": {\n",
    "        \"column\": {\"field\": \"war\"},\n",
    "        \"x\": {\n",
    "            \"field\": \"year\",\n",
    "            \"type\": \"nominal\", \n",
    "            \"title\": \"year\",\n",
    "            \"axis\": {\n",
    "                \"orient\": \"top\"\n",
    "            }\n",
    "        },\n",
    "        \"y\": {\n",
    "            \"field\": \"french_pavillon\",\n",
    "            \"type\": \"nominal\",\n",
    "            \"title\": \"pavillon\"\n",
    "        },\n",
    "        \"color\": {\n",
    "            \"field\": \"count_travel\",\n",
    "            \"type\": \"quantitative\",\n",
    "            \"title\": \"nombre de trajets\"\n",
    "        }\n",
    "    }\n",
    "})"
   ]
  },
  {
   "cell_type": "code",
   "execution_count": null,
   "id": "8afe4cd4-f945-4559-9163-8fe759409463",
   "metadata": {
    "tags": []
   },
   "outputs": [],
   "source": [
    "# Regarder uniquement les pavillons étrangers\n",
    "viz_df = df_travels[df_travels.french_pavillon != \"français\"].groupby(['year', 'pavillon']).agg({'speed': 'mean',\n",
    "                                                       'total_steps': 'mean',\n",
    "                                                       'total_miles': 'sum',\n",
    "                                                       'departure_date': 'size',\n",
    "                                                       'duration': 'mean'\n",
    "                                                       }\n",
    "                                                      ).reset_index()\n",
    "viz_df.columns = ['year', 'pavillon', 'mean_speed', 'mean_number_steps', 'sum_total_miles', 'count_travel', 'mean_duration']\n",
    "viz_df[\"war\"] = viz_df.year.isin([\"1759\", \"1779\", \"1799\"]).replace({True: \"guerre\", False: \"paix\"})\n",
    "\n",
    "list_viz = []\n",
    "\n",
    "for i,row in viz_df.iterrows():\n",
    "    list_viz.append(dict(row))\n",
    "    \n",
    "VegaLite({\n",
    "    \"$schema\": \"https://vega.github.io/schema/vega-lite/v5.json\",\n",
    "    \"title\": \"Nombre de trajets total pour chaque pavillon et chaque décennie, français exclus\",\n",
    "    \"mark\": {\n",
    "        \"tooltip\": {\n",
    "         \"content\": \"data\"\n",
    "        },\n",
    "        \"type\": \"rect\"\n",
    "    },\n",
    "    \"data\": {\n",
    "        \"values\": list_viz\n",
    "    },\n",
    "    \"resolve\": {\"scale\": {\"x\": \"independent\"}},\n",
    "    \"encoding\": {\n",
    "        \"column\": {\"field\": \"war\"},\n",
    "        \"x\": {\n",
    "            \"field\": \"year\",\n",
    "            \"type\": \"nominal\", \n",
    "            \"title\": \"year\",\n",
    "            \"axis\": {\n",
    "                \"orient\": \"top\"\n",
    "            }\n",
    "        },\n",
    "        \"y\": {\n",
    "            \"field\": \"pavillon\",\n",
    "            \"type\": \"nominal\",\n",
    "            \"title\": \"pavillon\"\n",
    "        },\n",
    "        \"color\": {\n",
    "            \"field\": \"count_travel\",\n",
    "            \"type\": \"quantitative\",\n",
    "            \"title\": \"nb de trajets, échelle log\",\n",
    "            \"scale\": {\"type\": \"log\"}\n",
    "        }\n",
    "    }\n",
    "})"
   ]
  },
  {
   "cell_type": "code",
   "execution_count": null,
   "id": "f6b72191-d0f1-4bd6-bacc-183bac3dc16a",
   "metadata": {},
   "outputs": [],
   "source": []
  },
  {
   "cell_type": "code",
   "execution_count": null,
   "id": "d97cc810-9dd0-4d23-a0e9-999065a8aa9d",
   "metadata": {},
   "outputs": [],
   "source": []
  },
  {
   "cell_type": "code",
   "execution_count": null,
   "id": "f1895201-27eb-4d07-8aac-fc64d07fe55a",
   "metadata": {},
   "outputs": [],
   "source": []
  },
  {
   "cell_type": "code",
   "execution_count": null,
   "id": "bfe8340a-3d75-43e7-99c8-20b99929d38b",
   "metadata": {},
   "outputs": [],
   "source": []
  }
 ],
 "metadata": {
  "kernelspec": {
   "display_name": "Python 3 (ipykernel)",
   "language": "python",
   "name": "python3"
  },
  "language_info": {
   "codemirror_mode": {
    "name": "ipython",
    "version": 3
   },
   "file_extension": ".py",
   "mimetype": "text/x-python",
   "name": "python",
   "nbconvert_exporter": "python",
   "pygments_lexer": "ipython3",
   "version": "3.7.7"
  }
 },
 "nbformat": 4,
 "nbformat_minor": 5
}
