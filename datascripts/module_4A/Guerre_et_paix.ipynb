{
 "cells": [
  {
   "cell_type": "code",
   "execution_count": 1,
   "id": "13d4e6ee-7a43-4b04-9a35-327e20513658",
   "metadata": {
    "tags": []
   },
   "outputs": [],
   "source": [
    "import csv\n",
    "import pandas as pd\n",
    "import numpy as np\n",
    "import pprint"
   ]
  },
  {
   "cell_type": "markdown",
   "id": "59c06b63-a4ba-48a7-a76e-cc75f8a1a1bc",
   "metadata": {},
   "source": [
    "### 1. Filtrage des flows"
   ]
  },
  {
   "cell_type": "code",
   "execution_count": 2,
   "id": "1dde6ecd-6db1-400a-86e4-16afcf55ac60",
   "metadata": {},
   "outputs": [],
   "source": [
    "flows_to_Marseille = []\n",
    "rank_Marseille = {}\n",
    "with open('../../data/navigo_all_flows.csv', newline='') as csvfile:\n",
    "    reader = csv.DictReader(csvfile)\n",
    "    for row in reader:\n",
    "        if row['destination_function'] == \"O\" \\\n",
    "        and row[\"source_suite\"] == \"la Santé registre de patentes de Marseille\":\n",
    "           # and row['toponyme_fr'] == 'Marseille' \\\n",
    "            flows_to_Marseille.append(row)\n",
    "            rank_Marseille[row[\"source_doc_id\"]] = row[\"travel_rank\"]"
   ]
  },
  {
   "cell_type": "code",
   "execution_count": 3,
   "id": "2df40430-5ad7-48b5-8490-5aafc059d251",
   "metadata": {},
   "outputs": [
    {
     "data": {
      "text/plain": [
       "1202"
      ]
     },
     "execution_count": 3,
     "metadata": {},
     "output_type": "execute_result"
    }
   ],
   "source": [
    "ranks_smaller_than_Marseille = []\n",
    "counter_uhgs_99999 = 0\n",
    "with open('../../data/navigo_all_flows.csv', newline='') as csvfile:\n",
    "    reader = csv.DictReader(csvfile)\n",
    "    for row in reader:\n",
    "        if row[\"source_suite\"] == \"la Santé registre de patentes de Marseille\":\n",
    "            if row[\"destination_uhgs_id\"] == 'A9999997':\n",
    "                counter_uhgs_99999 += 1\n",
    "                continue\n",
    "            if row[\"source_doc_id\"] in rank_Marseille:\n",
    "                max_rank = rank_Marseille[row[\"source_doc_id\"]]\n",
    "                if row[\"travel_rank\"] <= max_rank:\n",
    "                    ranks_smaller_than_Marseille.append(row)\n",
    "counter_uhgs_99999"
   ]
  },
  {
   "cell_type": "markdown",
   "id": "01a4f49d-3e80-4ae1-85ca-cec4eed1cf32",
   "metadata": {},
   "source": [
    "### 2. Reconstitution des voyages"
   ]
  },
  {
   "cell_type": "code",
   "execution_count": 4,
   "id": "7312c35b-b812-4dd5-bf32-b37e0621c22b",
   "metadata": {},
   "outputs": [],
   "source": [
    "from collections import defaultdict\n",
    "travels = defaultdict(lambda: {\"total_miles\": 0, \"total_steps\": 0, \"keep\": True})\n",
    "null_distance = 0\n",
    "\n",
    "for row in ranks_smaller_than_Marseille:\n",
    "    doc_id = row[\"source_doc_id\"]\n",
    "    travel = travels[doc_id]\n",
    "    distance = row[\"distance_dep_dest_miles\"]\n",
    "    if distance and distance != '0' and travel[\"keep\"] and row[\"departure_out_date\"]:\n",
    "        travel[\"total_miles\"] += int(distance)\n",
    "        travel[\"total_steps\"] += 1\n",
    "        if row[\"travel_rank\"] == \"1\":\n",
    "            travel[\"departure_date\"] = row[\"departure_out_date\"]\n",
    "        if row[\"travel_rank\"] == rank_Marseille[doc_id]:\n",
    "            travel[\"arrival_date\"] = row[\"indate_fixed\"] \n",
    "            travel[\"pavillon\"] = row[\"ship_flag_standardized_fr\"]\n",
    "            travel[\"classe_bateau\"] = row[\"ship_class_standardized\"]\n",
    "            year = row[\"indate_fixed\"][:4]\n",
    "            travel[\"year\"] = year if year[-1] == \"9\" else year[:3]+\"9\"\n",
    "    else:\n",
    "        travel[\"keep\"] = False"
   ]
  },
  {
   "cell_type": "markdown",
   "id": "b7424fe0-c7d6-4570-ab65-fd6683ff65fb",
   "metadata": {
    "tags": []
   },
   "source": [
    "### 3. Suppression des voyages invalides"
   ]
  },
  {
   "cell_type": "code",
   "execution_count": 5,
   "id": "df9ef147-c751-4103-bb79-5ae7214969a8",
   "metadata": {
    "tags": []
   },
   "outputs": [],
   "source": [
    "from datetime import datetime\n",
    "\n",
    "good_travels = {}\n",
    "error_list = []\n",
    "\n",
    "for k, v in travels.items():\n",
    "    if v[\"keep\"] and ('<' not in v['departure_date'] and '>' not in v['departure_date']):\n",
    "        travel = v.copy()\n",
    "        end_time = datetime.strptime(v[\"arrival_date\"], \"%Y-%m-%d\")\n",
    "        try:\n",
    "            start_time = datetime.strptime(v[\"departure_date\"][:10], \"%Y=%m=%d\")\n",
    "        except ValueError as e:\n",
    "            error_list.append(e)\n",
    "            continue\n",
    "        travel[\"duration\"] = (end_time - start_time).days\n",
    "        if travel[\"duration\"] == 0:\n",
    "            travel[\"duration\"] = 1\n",
    "        travel[\"speed\"] = v[\"total_miles\"] / travel[\"duration\"]\n",
    "        travel[\"decade\"] = v[\"arrival_date\"][:4]\n",
    "        travel.pop(\"keep\")\n",
    "        good_travels[k] = travel"
   ]
  },
  {
   "cell_type": "code",
   "execution_count": 6,
   "id": "98bc8644-fd7f-4726-bd42-9936c62c0d4b",
   "metadata": {},
   "outputs": [],
   "source": [
    "df_travels = pd.DataFrame(good_travels).transpose()\n",
    "df_travels = df_travels[df_travels.duration > 0]"
   ]
  },
  {
   "cell_type": "markdown",
   "id": "3691dcf6-d912-4494-9d75-4ee81d0b2e5e",
   "metadata": {},
   "source": [
    "### 4. Création des visualisations"
   ]
  },
  {
   "cell_type": "code",
   "execution_count": 7,
   "id": "adeb32ae-2d6b-48f0-ab52-50c31b5fb880",
   "metadata": {},
   "outputs": [],
   "source": [
    "viz_df = df_travels.groupby(['year', 'pavillon']).agg({'speed': 'mean',\n",
    "                                                       'total_steps': 'mean',\n",
    "                                                       'total_miles': 'sum',\n",
    "                                                       'departure_date': 'size',\n",
    "                                                       'duration': 'mean'\n",
    "                                                       }\n",
    "                                                      ).reset_index()\n",
    "\n",
    "viz_df.columns = ['year', 'pavillon', 'mean_speed', 'mean_number_steps', 'sum_total_miles', 'count_travel', 'mean_duration']\n",
    "\n",
    "viz_df[\"war\"] = viz_df.year.isin([\"1759\", \"1779\", \"1799\"]).replace({True: \"guerre\", False: \"paix\"})"
   ]
  },
  {
   "cell_type": "code",
   "execution_count": 8,
   "id": "dccaec4d-f0cb-426c-9fc3-24bc4fda0972",
   "metadata": {},
   "outputs": [],
   "source": [
    "list_viz = []\n",
    "\n",
    "for i,row in viz_df.iterrows():\n",
    "    list_viz.append(dict(row))"
   ]
  },
  {
   "cell_type": "code",
   "execution_count": 9,
   "id": "6b1b4d03-2242-490a-85da-515c9bef392b",
   "metadata": {},
   "outputs": [],
   "source": [
    "from IPython.display import display\n",
    "\n",
    "def VegaLite(spec):\n",
    "    bundle = {}\n",
    "    bundle['application/vnd.vegalite.v4+json'] = spec\n",
    "    display(bundle, raw=True)"
   ]
  },
  {
   "cell_type": "code",
   "execution_count": 10,
   "id": "03de4545-53e7-4f3b-9681-29da24ebaa34",
   "metadata": {
    "tags": []
   },
   "outputs": [
    {
     "data": {
      "application/vnd.vegalite.v4+json": {
       "$schema": "https://vega.github.io/schema/vega-lite/v5.json",
       "data": {
        "values": [
         {
          "count_travel": 1,
          "mean_duration": 5,
          "mean_number_steps": 1,
          "mean_speed": 42,
          "pavillon": "",
          "sum_total_miles": 210,
          "war": "paix",
          "year": "1749"
         },
         {
          "count_travel": 92,
          "mean_duration": 50.17391304347826,
          "mean_number_steps": 1.5869565217391304,
          "mean_speed": 40.482952473159074,
          "pavillon": "britannique",
          "sum_total_miles": 150521,
          "war": "paix",
          "year": "1749"
         },
         {
          "count_travel": 9,
          "mean_duration": 68.88888888888889,
          "mean_number_steps": 1.7777777777777777,
          "mean_speed": 22.630349018891348,
          "pavillon": "danois",
          "sum_total_miles": 13542,
          "war": "paix",
          "year": "1749"
         },
         {
          "count_travel": 129,
          "mean_duration": 9.271317829457365,
          "mean_number_steps": 1.2170542635658914,
          "mean_speed": 41.61443435876488,
          "pavillon": "espagnol",
          "sum_total_miles": 27166,
          "war": "paix",
          "year": "1749"
         },
         {
          "count_travel": 1092,
          "mean_duration": 21.484432234432234,
          "mean_number_steps": 1.6565934065934067,
          "mean_speed": 34.235396597047725,
          "pavillon": "français",
          "sum_total_miles": 598967,
          "war": "paix",
          "year": "1749"
         },
         {
          "count_travel": 159,
          "mean_duration": 9.427672955974844,
          "mean_number_steps": 1.169811320754717,
          "mean_speed": 34.057443539667595,
          "pavillon": "génois",
          "sum_total_miles": 32108,
          "war": "paix",
          "year": "1749"
         },
         {
          "count_travel": 40,
          "mean_duration": 50.325,
          "mean_number_steps": 1.35,
          "mean_speed": 38.27219193813276,
          "pavillon": "hollandais",
          "sum_total_miles": 64561,
          "war": "paix",
          "year": "1749"
         },
         {
          "count_travel": 5,
          "mean_duration": 27.2,
          "mean_number_steps": 2.2,
          "mean_speed": 33.81243972999035,
          "pavillon": "maltais",
          "sum_total_miles": 2575,
          "war": "paix",
          "year": "1749"
         },
         {
          "count_travel": 33,
          "mean_duration": 6.666666666666667,
          "mean_number_steps": 1.0303030303030303,
          "mean_speed": 25.034031387507323,
          "pavillon": "monégasque",
          "sum_total_miles": 4160,
          "war": "paix",
          "year": "1749"
         },
         {
          "count_travel": 19,
          "mean_duration": 30.263157894736842,
          "mean_number_steps": 1.631578947368421,
          "mean_speed": 25.781379241063124,
          "pavillon": "napolitain",
          "sum_total_miles": 9755,
          "war": "paix",
          "year": "1749"
         },
         {
          "count_travel": 1,
          "mean_duration": 94,
          "mean_number_steps": 2,
          "mean_speed": 13.97872340425532,
          "pavillon": "ragusois",
          "sum_total_miles": 1314,
          "war": "paix",
          "year": "1749"
         },
         {
          "count_travel": 79,
          "mean_duration": 9.39240506329114,
          "mean_number_steps": 1.2531645569620253,
          "mean_speed": 33.52645465328661,
          "pavillon": "romain",
          "sum_total_miles": 13531,
          "war": "paix",
          "year": "1749"
         },
         {
          "count_travel": 12,
          "mean_duration": 4.166666666666667,
          "mean_number_steps": 1,
          "mean_speed": 57.196825396825396,
          "pavillon": "savoyard",
          "sum_total_miles": 2225,
          "war": "paix",
          "year": "1749"
         },
         {
          "count_travel": 15,
          "mean_duration": 32.13333333333333,
          "mean_number_steps": 1.3333333333333333,
          "mean_speed": 33.215144047578605,
          "pavillon": "suédois",
          "sum_total_miles": 15416,
          "war": "paix",
          "year": "1749"
         },
         {
          "count_travel": 3,
          "mean_duration": 39.666666666666664,
          "mean_number_steps": 2,
          "mean_speed": 27.46643026004728,
          "pavillon": "toscan",
          "sum_total_miles": 1647,
          "war": "paix",
          "year": "1749"
         },
         {
          "count_travel": 7,
          "mean_duration": 78.85714285714286,
          "mean_number_steps": 2.142857142857143,
          "mean_speed": 16.43937890376018,
          "pavillon": "vénitien",
          "sum_total_miles": 8219,
          "war": "paix",
          "year": "1749"
         },
         {
          "count_travel": 4,
          "mean_duration": 76,
          "mean_number_steps": 3,
          "mean_speed": 28.049892825420997,
          "pavillon": "",
          "sum_total_miles": 3806,
          "war": "guerre",
          "year": "1759"
         },
         {
          "count_travel": 4,
          "mean_duration": 26.25,
          "mean_number_steps": 2.5,
          "mean_speed": 31.009679479900065,
          "pavillon": "britannique",
          "sum_total_miles": 2820,
          "war": "guerre",
          "year": "1759"
         },
         {
          "count_travel": 1,
          "mean_duration": 109,
          "mean_number_steps": 4,
          "mean_speed": 22.577981651376145,
          "pavillon": "brémois",
          "sum_total_miles": 2461,
          "war": "guerre",
          "year": "1759"
         },
         {
          "count_travel": 10,
          "mean_duration": 45.3,
          "mean_number_steps": 1.5,
          "mean_speed": 26.976632089036695,
          "pavillon": "danois",
          "sum_total_miles": 9320,
          "war": "guerre",
          "year": "1759"
         },
         {
          "count_travel": 131,
          "mean_duration": 12.389312977099237,
          "mean_number_steps": 1.633587786259542,
          "mean_speed": 39.13261749259714,
          "pavillon": "espagnol",
          "sum_total_miles": 41901,
          "war": "guerre",
          "year": "1759"
         },
         {
          "count_travel": 650,
          "mean_duration": 8.183076923076923,
          "mean_number_steps": 1.4153846153846155,
          "mean_speed": 37.76012736680563,
          "pavillon": "français",
          "sum_total_miles": 133315,
          "war": "guerre",
          "year": "1759"
         },
         {
          "count_travel": 339,
          "mean_duration": 10.569321533923304,
          "mean_number_steps": 1.5427728613569323,
          "mean_speed": 49.15973556661068,
          "pavillon": "génois",
          "sum_total_miles": 104225,
          "war": "guerre",
          "year": "1759"
         },
         {
          "count_travel": 44,
          "mean_duration": 47.34090909090909,
          "mean_number_steps": 1.5454545454545454,
          "mean_speed": 24.520922314263597,
          "pavillon": "hollandais",
          "sum_total_miles": 45169,
          "war": "guerre",
          "year": "1759"
         },
         {
          "count_travel": 10,
          "mean_duration": 18.9,
          "mean_number_steps": 2.2,
          "mean_speed": 33.69994792108763,
          "pavillon": "maltais",
          "sum_total_miles": 4750,
          "war": "guerre",
          "year": "1759"
         },
         {
          "count_travel": 32,
          "mean_duration": 5.65625,
          "mean_number_steps": 1.125,
          "mean_speed": 32.356413465007215,
          "pavillon": "monégasque",
          "sum_total_miles": 4515,
          "war": "guerre",
          "year": "1759"
         },
         {
          "count_travel": 69,
          "mean_duration": 17.82608695652174,
          "mean_number_steps": 1.7246376811594204,
          "mean_speed": 47.24416744629161,
          "pavillon": "napolitain",
          "sum_total_miles": 29600,
          "war": "guerre",
          "year": "1759"
         },
         {
          "count_travel": 2,
          "mean_duration": 52,
          "mean_number_steps": 3,
          "mean_speed": 15.933184023889511,
          "pavillon": "ragusois",
          "sum_total_miles": 1600,
          "war": "guerre",
          "year": "1759"
         },
         {
          "count_travel": 29,
          "mean_duration": 6.103448275862069,
          "mean_number_steps": 1.4137931034482758,
          "mean_speed": 79.22074065780964,
          "pavillon": "romain",
          "sum_total_miles": 8398,
          "war": "guerre",
          "year": "1759"
         },
         {
          "count_travel": 138,
          "mean_duration": 7.0144927536231885,
          "mean_number_steps": 1.3623188405797102,
          "mean_speed": 65.11354447318344,
          "pavillon": "savoyard",
          "sum_total_miles": 38939,
          "war": "guerre",
          "year": "1759"
         },
         {
          "count_travel": 12,
          "mean_duration": 11.916666666666666,
          "mean_number_steps": 1.1666666666666667,
          "mean_speed": 37.61738095238095,
          "pavillon": "suédois",
          "sum_total_miles": 3250,
          "war": "guerre",
          "year": "1759"
         },
         {
          "count_travel": 27,
          "mean_duration": 26.185185185185187,
          "mean_number_steps": 2,
          "mean_speed": 30.169508015727974,
          "pavillon": "toscan",
          "sum_total_miles": 16343,
          "war": "guerre",
          "year": "1759"
         },
         {
          "count_travel": 4,
          "mean_duration": 24.75,
          "mean_number_steps": 1.75,
          "mean_speed": 34.87142218246869,
          "pavillon": "",
          "sum_total_miles": 3077,
          "war": "paix",
          "year": "1769"
         },
         {
          "count_travel": 41,
          "mean_duration": 23.48780487804878,
          "mean_number_steps": 1.5121951219512195,
          "mean_speed": 43.80267368942906,
          "pavillon": "britannique",
          "sum_total_miles": 34203,
          "war": "paix",
          "year": "1769"
         },
         {
          "count_travel": 5,
          "mean_duration": 10.8,
          "mean_number_steps": 1,
          "mean_speed": 28.57630008525149,
          "pavillon": "carrarais",
          "sum_total_miles": 952,
          "war": "paix",
          "year": "1769"
         },
         {
          "count_travel": 3,
          "mean_duration": 35.666666666666664,
          "mean_number_steps": 1.3333333333333333,
          "mean_speed": 25.60826818289505,
          "pavillon": "danois",
          "sum_total_miles": 2346,
          "war": "paix",
          "year": "1769"
         },
         {
          "count_travel": 73,
          "mean_duration": 14.753424657534246,
          "mean_number_steps": 1.0684931506849316,
          "mean_speed": 20.222031562680957,
          "pavillon": "espagnol",
          "sum_total_miles": 13502,
          "war": "paix",
          "year": "1769"
         },
         {
          "count_travel": 1304,
          "mean_duration": 17.34049079754601,
          "mean_number_steps": 1.5559815950920246,
          "mean_speed": 35.45036588295382,
          "pavillon": "français",
          "sum_total_miles": 559799,
          "war": "paix",
          "year": "1769"
         },
         {
          "count_travel": 125,
          "mean_duration": 10.992,
          "mean_number_steps": 1.104,
          "mean_speed": 32.65775219730749,
          "pavillon": "génois",
          "sum_total_miles": 32290,
          "war": "paix",
          "year": "1769"
         },
         {
          "count_travel": 27,
          "mean_duration": 25.814814814814813,
          "mean_number_steps": 1.2592592592592593,
          "mean_speed": 31.629216063142305,
          "pavillon": "hollandais",
          "sum_total_miles": 17282,
          "war": "paix",
          "year": "1769"
         },
         {
          "count_travel": 6,
          "mean_duration": 6.166666666666667,
          "mean_number_steps": 1.1666666666666667,
          "mean_speed": 39.89444444444444,
          "pavillon": "maltais",
          "sum_total_miles": 1309,
          "war": "paix",
          "year": "1769"
         },
         {
          "count_travel": 11,
          "mean_duration": 8.727272727272727,
          "mean_number_steps": 1,
          "mean_speed": 17.82276360003633,
          "pavillon": "monégasque",
          "sum_total_miles": 1392,
          "war": "paix",
          "year": "1769"
         },
         {
          "count_travel": 56,
          "mean_duration": 22.071428571428573,
          "mean_number_steps": 1.1428571428571428,
          "mean_speed": 31.317677499482045,
          "pavillon": "napolitain",
          "sum_total_miles": 25347,
          "war": "paix",
          "year": "1769"
         },
         {
          "count_travel": 2,
          "mean_duration": 30.5,
          "mean_number_steps": 2.5,
          "mean_speed": 18.226666666666667,
          "pavillon": "ragusois",
          "sum_total_miles": 1025,
          "war": "paix",
          "year": "1769"
         },
         {
          "count_travel": 2,
          "mean_duration": 27,
          "mean_number_steps": 1,
          "mean_speed": 12.727954971857411,
          "pavillon": "romain",
          "sum_total_miles": 544,
          "war": "paix",
          "year": "1769"
         },
         {
          "count_travel": 109,
          "mean_duration": 5.165137614678899,
          "mean_number_steps": 1.0275229357798166,
          "mean_speed": 84.05542047951515,
          "pavillon": "savoyard",
          "sum_total_miles": 30012,
          "war": "paix",
          "year": "1769"
         },
         {
          "count_travel": 17,
          "mean_duration": 50.94117647058823,
          "mean_number_steps": 1.411764705882353,
          "mean_speed": 28.808365858388036,
          "pavillon": "suédois",
          "sum_total_miles": 19029,
          "war": "paix",
          "year": "1769"
         },
         {
          "count_travel": 3,
          "mean_duration": 8.666666666666666,
          "mean_number_steps": 1,
          "mean_speed": 27.744588744588743,
          "pavillon": "toscan",
          "sum_total_miles": 696,
          "war": "paix",
          "year": "1769"
         },
         {
          "count_travel": 8,
          "mean_duration": 57,
          "mean_number_steps": 1.875,
          "mean_speed": 31.791330646672364,
          "pavillon": "vénitien",
          "sum_total_miles": 7480,
          "war": "paix",
          "year": "1769"
         },
         {
          "count_travel": 18,
          "mean_duration": 11.222222222222221,
          "mean_number_steps": 1.1666666666666667,
          "mean_speed": 32.1554131054131,
          "pavillon": "",
          "sum_total_miles": 4902,
          "war": "guerre",
          "year": "1779"
         },
         {
          "count_travel": 1,
          "mean_duration": 7,
          "mean_number_steps": 1,
          "mean_speed": 30.571428571428573,
          "pavillon": "britannique",
          "sum_total_miles": 214,
          "war": "guerre",
          "year": "1779"
         },
         {
          "count_travel": 6,
          "mean_duration": 12.166666666666666,
          "mean_number_steps": 1.1666666666666667,
          "mean_speed": 24.62931547619048,
          "pavillon": "carrarais",
          "sum_total_miles": 1263,
          "war": "guerre",
          "year": "1779"
         },
         {
          "count_travel": 27,
          "mean_duration": 23.74074074074074,
          "mean_number_steps": 1.2592592592592593,
          "mean_speed": 36.17267933745704,
          "pavillon": "danois",
          "sum_total_miles": 15443,
          "war": "guerre",
          "year": "1779"
         },
         {
          "count_travel": 108,
          "mean_duration": 14.231481481481481,
          "mean_number_steps": 1.2962962962962963,
          "mean_speed": 30.922805300621796,
          "pavillon": "espagnol",
          "sum_total_miles": 23208,
          "war": "guerre",
          "year": "1779"
         },
         {
          "count_travel": 1054,
          "mean_duration": 11.116698292220114,
          "mean_number_steps": 1.3700189753320684,
          "mean_speed": 31.09275378317038,
          "pavillon": "français",
          "sum_total_miles": 219648,
          "war": "guerre",
          "year": "1779"
         },
         {
          "count_travel": 258,
          "mean_duration": 10.542635658914728,
          "mean_number_steps": 1.193798449612403,
          "mean_speed": 34.57069298969579,
          "pavillon": "génois",
          "sum_total_miles": 65266,
          "war": "guerre",
          "year": "1779"
         },
         {
          "count_travel": 37,
          "mean_duration": 16.324324324324323,
          "mean_number_steps": 1.2162162162162162,
          "mean_speed": 40.69167160425716,
          "pavillon": "hollandais",
          "sum_total_miles": 16072,
          "war": "guerre",
          "year": "1779"
         },
         {
          "count_travel": 8,
          "mean_duration": 17.75,
          "mean_number_steps": 1.5,
          "mean_speed": 24.83021668907745,
          "pavillon": "maltais",
          "sum_total_miles": 2270,
          "war": "guerre",
          "year": "1779"
         },
         {
          "count_travel": 18,
          "mean_duration": 4.888888888888889,
          "mean_number_steps": 1,
          "mean_speed": 32.357870370370364,
          "pavillon": "monégasque",
          "sum_total_miles": 2195,
          "war": "guerre",
          "year": "1779"
         },
         {
          "count_travel": 95,
          "mean_duration": 19.589473684210525,
          "mean_number_steps": 1.4105263157894736,
          "mean_speed": 30.893658261524834,
          "pavillon": "napolitain",
          "sum_total_miles": 46159,
          "war": "guerre",
          "year": "1779"
         },
         {
          "count_travel": 12,
          "mean_duration": 39.916666666666664,
          "mean_number_steps": 2.0833333333333335,
          "mean_speed": 30.2665064872138,
          "pavillon": "ragusois",
          "sum_total_miles": 9859,
          "war": "guerre",
          "year": "1779"
         },
         {
          "count_travel": 9,
          "mean_duration": 6.444444444444445,
          "mean_number_steps": 1.1111111111111112,
          "mean_speed": 33.21759259259259,
          "pavillon": "romain",
          "sum_total_miles": 1835,
          "war": "guerre",
          "year": "1779"
         },
         {
          "count_travel": 153,
          "mean_duration": 5.03921568627451,
          "mean_number_steps": 1.026143790849673,
          "mean_speed": 86.33982731673046,
          "pavillon": "savoyard",
          "sum_total_miles": 39188,
          "war": "guerre",
          "year": "1779"
         },
         {
          "count_travel": 14,
          "mean_duration": 29.142857142857142,
          "mean_number_steps": 1.3571428571428572,
          "mean_speed": 38.39172697390577,
          "pavillon": "suédois",
          "sum_total_miles": 10596,
          "war": "guerre",
          "year": "1779"
         },
         {
          "count_travel": 11,
          "mean_duration": 16.545454545454547,
          "mean_number_steps": 1.8181818181818181,
          "mean_speed": 29.578377504848092,
          "pavillon": "toscan",
          "sum_total_miles": 3519,
          "war": "guerre",
          "year": "1779"
         },
         {
          "count_travel": 28,
          "mean_duration": 32.214285714285715,
          "mean_number_steps": 1.6785714285714286,
          "mean_speed": 28.377772672770142,
          "pavillon": "vénitien",
          "sum_total_miles": 20614,
          "war": "guerre",
          "year": "1779"
         },
         {
          "count_travel": 25,
          "mean_duration": 44.76,
          "mean_number_steps": 2.16,
          "mean_speed": 32.123874315691936,
          "pavillon": "",
          "sum_total_miles": 23726,
          "war": "paix",
          "year": "1789"
         },
         {
          "count_travel": 42,
          "mean_duration": 36.5,
          "mean_number_steps": 1.6428571428571428,
          "mean_speed": 45.36384888381065,
          "pavillon": "britannique",
          "sum_total_miles": 53537,
          "war": "paix",
          "year": "1789"
         },
         {
          "count_travel": 42,
          "mean_duration": 12.952380952380953,
          "mean_number_steps": 1.0476190476190477,
          "mean_speed": 27.584502355825315,
          "pavillon": "carrarais",
          "sum_total_miles": 8971,
          "war": "paix",
          "year": "1789"
         },
         {
          "count_travel": 53,
          "mean_duration": 38.77358490566038,
          "mean_number_steps": 1.3018867924528301,
          "mean_speed": 33.77296681250265,
          "pavillon": "danois",
          "sum_total_miles": 45775,
          "war": "paix",
          "year": "1789"
         },
         {
          "count_travel": 481,
          "mean_duration": 13.124740124740125,
          "mean_number_steps": 1.1933471933471933,
          "mean_speed": 34.88184032562117,
          "pavillon": "espagnol",
          "sum_total_miles": 120395,
          "war": "paix",
          "year": "1789"
         },
         {
          "count_travel": 3311,
          "mean_duration": 14.005738447598914,
          "mean_number_steps": 1.3947447900936274,
          "mean_speed": 34.12226891728997,
          "pavillon": "français",
          "sum_total_miles": 1203168,
          "war": "paix",
          "year": "1789"
         },
         {
          "count_travel": 392,
          "mean_duration": 12.561224489795919,
          "mean_number_steps": 1.058673469387755,
          "mean_speed": 32.06904666189673,
          "pavillon": "génois",
          "sum_total_miles": 99548,
          "war": "paix",
          "year": "1789"
         },
         {
          "count_travel": 32,
          "mean_duration": 24.34375,
          "mean_number_steps": 1.3125,
          "mean_speed": 32.59950150507486,
          "pavillon": "hollandais",
          "sum_total_miles": 23306,
          "war": "paix",
          "year": "1789"
         },
         {
          "count_travel": 20,
          "mean_duration": 8.75,
          "mean_number_steps": 1.05,
          "mean_speed": 40.18006784434203,
          "pavillon": "maltais",
          "sum_total_miles": 4142,
          "war": "paix",
          "year": "1789"
         },
         {
          "count_travel": 42,
          "mean_duration": 8.69047619047619,
          "mean_number_steps": 1,
          "mean_speed": 28.698814576724242,
          "pavillon": "monégasque",
          "sum_total_miles": 5503,
          "war": "paix",
          "year": "1789"
         },
         {
          "count_travel": 154,
          "mean_duration": 25.603896103896105,
          "mean_number_steps": 1.1948051948051948,
          "mean_speed": 30.410002035829105,
          "pavillon": "napolitain",
          "sum_total_miles": 83811,
          "war": "paix",
          "year": "1789"
         },
         {
          "count_travel": 2,
          "mean_duration": 54,
          "mean_number_steps": 2,
          "mean_speed": 16.79172510518934,
          "pavillon": "ottoman",
          "sum_total_miles": 1774,
          "war": "paix",
          "year": "1789"
         },
         {
          "count_travel": 45,
          "mean_duration": 25.866666666666667,
          "mean_number_steps": 1.6222222222222222,
          "mean_speed": 27.6823184016949,
          "pavillon": "ragusois",
          "sum_total_miles": 23394,
          "war": "paix",
          "year": "1789"
         },
         {
          "count_travel": 34,
          "mean_duration": 9.058823529411764,
          "mean_number_steps": 1.0588235294117647,
          "mean_speed": 31.923549370608196,
          "pavillon": "romain",
          "sum_total_miles": 6519,
          "war": "paix",
          "year": "1789"
         },
         {
          "count_travel": 11,
          "mean_duration": 62.45454545454545,
          "mean_number_steps": 3.909090909090909,
          "mean_speed": 28.49795109460797,
          "pavillon": "russe",
          "sum_total_miles": 19646,
          "war": "paix",
          "year": "1789"
         },
         {
          "count_travel": 296,
          "mean_duration": 6.094594594594595,
          "mean_number_steps": 1.0168918918918919,
          "mean_speed": 85.09690017706566,
          "pavillon": "savoyard",
          "sum_total_miles": 78910,
          "war": "paix",
          "year": "1789"
         },
         {
          "count_travel": 29,
          "mean_duration": 52.758620689655174,
          "mean_number_steps": 1.6206896551724137,
          "mean_speed": 36.8814989637428,
          "pavillon": "suédois",
          "sum_total_miles": 53915,
          "war": "paix",
          "year": "1789"
         },
         {
          "count_travel": 4,
          "mean_duration": 3.75,
          "mean_number_steps": 1,
          "mean_speed": 42.88194444444444,
          "pavillon": "toscan",
          "sum_total_miles": 539,
          "war": "paix",
          "year": "1789"
         },
         {
          "count_travel": 16,
          "mean_duration": 32.5625,
          "mean_number_steps": 1.5,
          "mean_speed": 25.206056912714324,
          "pavillon": "vénitien",
          "sum_total_miles": 10718,
          "war": "paix",
          "year": "1789"
         },
         {
          "count_travel": 28,
          "mean_duration": 3.5,
          "mean_number_steps": 1.1071428571428572,
          "mean_speed": 33.01570294784581,
          "pavillon": "",
          "sum_total_miles": 2337,
          "war": "guerre",
          "year": "1799"
         },
         {
          "count_travel": 13,
          "mean_duration": 9.23076923076923,
          "mean_number_steps": 1.1538461538461537,
          "mean_speed": 34.324657588788014,
          "pavillon": "danois",
          "sum_total_miles": 3274,
          "war": "guerre",
          "year": "1799"
         },
         {
          "count_travel": 167,
          "mean_duration": 14.269461077844312,
          "mean_number_steps": 1.0658682634730539,
          "mean_speed": 21.627437678060307,
          "pavillon": "espagnol",
          "sum_total_miles": 33197,
          "war": "guerre",
          "year": "1799"
         },
         {
          "count_travel": 1603,
          "mean_duration": 5.240798502807237,
          "mean_number_steps": 1.0667498440424206,
          "mean_speed": 34.268373343950174,
          "pavillon": "français",
          "sum_total_miles": 143582,
          "war": "guerre",
          "year": "1799"
         },
         {
          "count_travel": 693,
          "mean_duration": 10.59018759018759,
          "mean_number_steps": 1.051948051948052,
          "mean_speed": 25.986010016893573,
          "pavillon": "génois",
          "sum_total_miles": 124152,
          "war": "guerre",
          "year": "1799"
         },
         {
          "count_travel": 32,
          "mean_duration": 15.21875,
          "mean_number_steps": 1.4375,
          "mean_speed": 26.8587968128685,
          "pavillon": "napolitain",
          "sum_total_miles": 12767,
          "war": "guerre",
          "year": "1799"
         },
         {
          "count_travel": 2,
          "mean_duration": 25.5,
          "mean_number_steps": 1.5,
          "mean_speed": 27.85609756097561,
          "pavillon": "ottoman",
          "sum_total_miles": 1317,
          "war": "guerre",
          "year": "1799"
         },
         {
          "count_travel": 1,
          "mean_duration": 18,
          "mean_number_steps": 3,
          "mean_speed": 24.166666666666668,
          "pavillon": "ragusois",
          "sum_total_miles": 435,
          "war": "guerre",
          "year": "1799"
         },
         {
          "count_travel": 1,
          "mean_duration": 39,
          "mean_number_steps": 3,
          "mean_speed": 27.23076923076923,
          "pavillon": "russe",
          "sum_total_miles": 1062,
          "war": "guerre",
          "year": "1799"
         },
         {
          "count_travel": 2,
          "mean_duration": 6,
          "mean_number_steps": 1,
          "mean_speed": 42.34285714285714,
          "pavillon": "savoyard",
          "sum_total_miles": 524,
          "war": "guerre",
          "year": "1799"
         },
         {
          "count_travel": 3,
          "mean_duration": 3.3333333333333335,
          "mean_number_steps": 1,
          "mean_speed": 61.083333333333336,
          "pavillon": "suédois",
          "sum_total_miles": 685,
          "war": "guerre",
          "year": "1799"
         }
        ]
       },
       "encoding": {
        "color": {
         "field": "mean_speed",
         "title": "Vitesse moyenne",
         "type": "quantitative"
        },
        "column": {
         "field": "war"
        },
        "x": {
         "axis": {
          "orient": "top"
         },
         "field": "year",
         "title": "year",
         "type": "nominal"
        },
        "y": {
         "field": "pavillon",
         "title": "pavillon",
         "type": "nominal"
        }
       },
       "mark": {
        "tooltip": {
         "content": "data"
        },
        "type": "rect"
       },
       "resolve": {
        "scale": {
         "x": "independent"
        }
       },
       "title": "Vitesse moyenne pour chaque pavillon et chaque décennie"
      },
      "image/png": "[encoded data removed]"
     },
     "metadata": {},
     "output_type": "display_data"
    }
   ],
   "source": [
    "# Vitesse moyenne pour chaque pavillon et chaque décennie Heatmap, en temps de guerre et paix\n",
    "\n",
    "VegaLite({\n",
    "    \"$schema\": \"https://vega.github.io/schema/vega-lite/v5.json\",\n",
    "    \"title\": \"Vitesse moyenne pour chaque pavillon et chaque décennie\",\n",
    "    \"mark\": {\n",
    "        \"tooltip\": {\n",
    "         \"content\": \"data\"\n",
    "        },\n",
    "        \"type\": \"rect\"\n",
    "    },\n",
    "    \"data\": {\n",
    "        \"values\": list_viz\n",
    "    },\n",
    "    \"resolve\": {\"scale\": {\"x\": \"independent\"}},\n",
    "    \"encoding\": {\n",
    "        \"column\": {\"field\": \"war\"},\n",
    "        \"x\": {\n",
    "            \"field\": \"year\",\n",
    "            \"type\": \"nominal\", \n",
    "            \"title\": \"year\",\n",
    "            \"axis\": {\n",
    "                \"orient\": \"top\"\n",
    "            }\n",
    "        },\n",
    "        \"y\": {\n",
    "            \"field\": \"pavillon\",\n",
    "            \"type\": \"nominal\",\n",
    "            \"title\": \"pavillon\"\n",
    "        },\n",
    "        \"color\": {\n",
    "            \"field\": \"mean_speed\",\n",
    "            \"type\": \"quantitative\",\n",
    "            \"title\": \"Vitesse moyenne\"\n",
    "        }\n",
    "    }\n",
    "})"
   ]
  },
  {
   "cell_type": "code",
   "execution_count": 11,
   "id": "7100c53a-c007-4089-a118-bd06e59e8ef2",
   "metadata": {},
   "outputs": [
    {
     "data": {
      "application/vnd.vegalite.v4+json": {
       "$schema": "https://vega.github.io/schema/vega-lite/v5.json",
       "data": {
        "values": [
         {
          "count_travel": 1,
          "mean_duration": 5,
          "mean_number_steps": 1,
          "mean_speed": 42,
          "pavillon": "",
          "sum_total_miles": 210,
          "war": "paix",
          "year": "1749"
         },
         {
          "count_travel": 92,
          "mean_duration": 50.17391304347826,
          "mean_number_steps": 1.5869565217391304,
          "mean_speed": 40.482952473159074,
          "pavillon": "britannique",
          "sum_total_miles": 150521,
          "war": "paix",
          "year": "1749"
         },
         {
          "count_travel": 9,
          "mean_duration": 68.88888888888889,
          "mean_number_steps": 1.7777777777777777,
          "mean_speed": 22.630349018891348,
          "pavillon": "danois",
          "sum_total_miles": 13542,
          "war": "paix",
          "year": "1749"
         },
         {
          "count_travel": 129,
          "mean_duration": 9.271317829457365,
          "mean_number_steps": 1.2170542635658914,
          "mean_speed": 41.61443435876488,
          "pavillon": "espagnol",
          "sum_total_miles": 27166,
          "war": "paix",
          "year": "1749"
         },
         {
          "count_travel": 1092,
          "mean_duration": 21.484432234432234,
          "mean_number_steps": 1.6565934065934067,
          "mean_speed": 34.235396597047725,
          "pavillon": "français",
          "sum_total_miles": 598967,
          "war": "paix",
          "year": "1749"
         },
         {
          "count_travel": 159,
          "mean_duration": 9.427672955974844,
          "mean_number_steps": 1.169811320754717,
          "mean_speed": 34.057443539667595,
          "pavillon": "génois",
          "sum_total_miles": 32108,
          "war": "paix",
          "year": "1749"
         },
         {
          "count_travel": 40,
          "mean_duration": 50.325,
          "mean_number_steps": 1.35,
          "mean_speed": 38.27219193813276,
          "pavillon": "hollandais",
          "sum_total_miles": 64561,
          "war": "paix",
          "year": "1749"
         },
         {
          "count_travel": 5,
          "mean_duration": 27.2,
          "mean_number_steps": 2.2,
          "mean_speed": 33.81243972999035,
          "pavillon": "maltais",
          "sum_total_miles": 2575,
          "war": "paix",
          "year": "1749"
         },
         {
          "count_travel": 33,
          "mean_duration": 6.666666666666667,
          "mean_number_steps": 1.0303030303030303,
          "mean_speed": 25.034031387507323,
          "pavillon": "monégasque",
          "sum_total_miles": 4160,
          "war": "paix",
          "year": "1749"
         },
         {
          "count_travel": 19,
          "mean_duration": 30.263157894736842,
          "mean_number_steps": 1.631578947368421,
          "mean_speed": 25.781379241063124,
          "pavillon": "napolitain",
          "sum_total_miles": 9755,
          "war": "paix",
          "year": "1749"
         },
         {
          "count_travel": 1,
          "mean_duration": 94,
          "mean_number_steps": 2,
          "mean_speed": 13.97872340425532,
          "pavillon": "ragusois",
          "sum_total_miles": 1314,
          "war": "paix",
          "year": "1749"
         },
         {
          "count_travel": 79,
          "mean_duration": 9.39240506329114,
          "mean_number_steps": 1.2531645569620253,
          "mean_speed": 33.52645465328661,
          "pavillon": "romain",
          "sum_total_miles": 13531,
          "war": "paix",
          "year": "1749"
         },
         {
          "count_travel": 12,
          "mean_duration": 4.166666666666667,
          "mean_number_steps": 1,
          "mean_speed": 57.196825396825396,
          "pavillon": "savoyard",
          "sum_total_miles": 2225,
          "war": "paix",
          "year": "1749"
         },
         {
          "count_travel": 15,
          "mean_duration": 32.13333333333333,
          "mean_number_steps": 1.3333333333333333,
          "mean_speed": 33.215144047578605,
          "pavillon": "suédois",
          "sum_total_miles": 15416,
          "war": "paix",
          "year": "1749"
         },
         {
          "count_travel": 3,
          "mean_duration": 39.666666666666664,
          "mean_number_steps": 2,
          "mean_speed": 27.46643026004728,
          "pavillon": "toscan",
          "sum_total_miles": 1647,
          "war": "paix",
          "year": "1749"
         },
         {
          "count_travel": 7,
          "mean_duration": 78.85714285714286,
          "mean_number_steps": 2.142857142857143,
          "mean_speed": 16.43937890376018,
          "pavillon": "vénitien",
          "sum_total_miles": 8219,
          "war": "paix",
          "year": "1749"
         },
         {
          "count_travel": 4,
          "mean_duration": 76,
          "mean_number_steps": 3,
          "mean_speed": 28.049892825420997,
          "pavillon": "",
          "sum_total_miles": 3806,
          "war": "guerre",
          "year": "1759"
         },
         {
          "count_travel": 4,
          "mean_duration": 26.25,
          "mean_number_steps": 2.5,
          "mean_speed": 31.009679479900065,
          "pavillon": "britannique",
          "sum_total_miles": 2820,
          "war": "guerre",
          "year": "1759"
         },
         {
          "count_travel": 1,
          "mean_duration": 109,
          "mean_number_steps": 4,
          "mean_speed": 22.577981651376145,
          "pavillon": "brémois",
          "sum_total_miles": 2461,
          "war": "guerre",
          "year": "1759"
         },
         {
          "count_travel": 10,
          "mean_duration": 45.3,
          "mean_number_steps": 1.5,
          "mean_speed": 26.976632089036695,
          "pavillon": "danois",
          "sum_total_miles": 9320,
          "war": "guerre",
          "year": "1759"
         },
         {
          "count_travel": 131,
          "mean_duration": 12.389312977099237,
          "mean_number_steps": 1.633587786259542,
          "mean_speed": 39.13261749259714,
          "pavillon": "espagnol",
          "sum_total_miles": 41901,
          "war": "guerre",
          "year": "1759"
         },
         {
          "count_travel": 650,
          "mean_duration": 8.183076923076923,
          "mean_number_steps": 1.4153846153846155,
          "mean_speed": 37.76012736680563,
          "pavillon": "français",
          "sum_total_miles": 133315,
          "war": "guerre",
          "year": "1759"
         },
         {
          "count_travel": 339,
          "mean_duration": 10.569321533923304,
          "mean_number_steps": 1.5427728613569323,
          "mean_speed": 49.15973556661068,
          "pavillon": "génois",
          "sum_total_miles": 104225,
          "war": "guerre",
          "year": "1759"
         },
         {
          "count_travel": 44,
          "mean_duration": 47.34090909090909,
          "mean_number_steps": 1.5454545454545454,
          "mean_speed": 24.520922314263597,
          "pavillon": "hollandais",
          "sum_total_miles": 45169,
          "war": "guerre",
          "year": "1759"
         },
         {
          "count_travel": 10,
          "mean_duration": 18.9,
          "mean_number_steps": 2.2,
          "mean_speed": 33.69994792108763,
          "pavillon": "maltais",
          "sum_total_miles": 4750,
          "war": "guerre",
          "year": "1759"
         },
         {
          "count_travel": 32,
          "mean_duration": 5.65625,
          "mean_number_steps": 1.125,
          "mean_speed": 32.356413465007215,
          "pavillon": "monégasque",
          "sum_total_miles": 4515,
          "war": "guerre",
          "year": "1759"
         },
         {
          "count_travel": 69,
          "mean_duration": 17.82608695652174,
          "mean_number_steps": 1.7246376811594204,
          "mean_speed": 47.24416744629161,
          "pavillon": "napolitain",
          "sum_total_miles": 29600,
          "war": "guerre",
          "year": "1759"
         },
         {
          "count_travel": 2,
          "mean_duration": 52,
          "mean_number_steps": 3,
          "mean_speed": 15.933184023889511,
          "pavillon": "ragusois",
          "sum_total_miles": 1600,
          "war": "guerre",
          "year": "1759"
         },
         {
          "count_travel": 29,
          "mean_duration": 6.103448275862069,
          "mean_number_steps": 1.4137931034482758,
          "mean_speed": 79.22074065780964,
          "pavillon": "romain",
          "sum_total_miles": 8398,
          "war": "guerre",
          "year": "1759"
         },
         {
          "count_travel": 138,
          "mean_duration": 7.0144927536231885,
          "mean_number_steps": 1.3623188405797102,
          "mean_speed": 65.11354447318344,
          "pavillon": "savoyard",
          "sum_total_miles": 38939,
          "war": "guerre",
          "year": "1759"
         },
         {
          "count_travel": 12,
          "mean_duration": 11.916666666666666,
          "mean_number_steps": 1.1666666666666667,
          "mean_speed": 37.61738095238095,
          "pavillon": "suédois",
          "sum_total_miles": 3250,
          "war": "guerre",
          "year": "1759"
         },
         {
          "count_travel": 27,
          "mean_duration": 26.185185185185187,
          "mean_number_steps": 2,
          "mean_speed": 30.169508015727974,
          "pavillon": "toscan",
          "sum_total_miles": 16343,
          "war": "guerre",
          "year": "1759"
         },
         {
          "count_travel": 4,
          "mean_duration": 24.75,
          "mean_number_steps": 1.75,
          "mean_speed": 34.87142218246869,
          "pavillon": "",
          "sum_total_miles": 3077,
          "war": "paix",
          "year": "1769"
         },
         {
          "count_travel": 41,
          "mean_duration": 23.48780487804878,
          "mean_number_steps": 1.5121951219512195,
          "mean_speed": 43.80267368942906,
          "pavillon": "britannique",
          "sum_total_miles": 34203,
          "war": "paix",
          "year": "1769"
         },
         {
          "count_travel": 5,
          "mean_duration": 10.8,
          "mean_number_steps": 1,
          "mean_speed": 28.57630008525149,
          "pavillon": "carrarais",
          "sum_total_miles": 952,
          "war": "paix",
          "year": "1769"
         },
         {
          "count_travel": 3,
          "mean_duration": 35.666666666666664,
          "mean_number_steps": 1.3333333333333333,
          "mean_speed": 25.60826818289505,
          "pavillon": "danois",
          "sum_total_miles": 2346,
          "war": "paix",
          "year": "1769"
         },
         {
          "count_travel": 73,
          "mean_duration": 14.753424657534246,
          "mean_number_steps": 1.0684931506849316,
          "mean_speed": 20.222031562680957,
          "pavillon": "espagnol",
          "sum_total_miles": 13502,
          "war": "paix",
          "year": "1769"
         },
         {
          "count_travel": 1304,
          "mean_duration": 17.34049079754601,
          "mean_number_steps": 1.5559815950920246,
          "mean_speed": 35.45036588295382,
          "pavillon": "français",
          "sum_total_miles": 559799,
          "war": "paix",
          "year": "1769"
         },
         {
          "count_travel": 125,
          "mean_duration": 10.992,
          "mean_number_steps": 1.104,
          "mean_speed": 32.65775219730749,
          "pavillon": "génois",
          "sum_total_miles": 32290,
          "war": "paix",
          "year": "1769"
         },
         {
          "count_travel": 27,
          "mean_duration": 25.814814814814813,
          "mean_number_steps": 1.2592592592592593,
          "mean_speed": 31.629216063142305,
          "pavillon": "hollandais",
          "sum_total_miles": 17282,
          "war": "paix",
          "year": "1769"
         },
         {
          "count_travel": 6,
          "mean_duration": 6.166666666666667,
          "mean_number_steps": 1.1666666666666667,
          "mean_speed": 39.89444444444444,
          "pavillon": "maltais",
          "sum_total_miles": 1309,
          "war": "paix",
          "year": "1769"
         },
         {
          "count_travel": 11,
          "mean_duration": 8.727272727272727,
          "mean_number_steps": 1,
          "mean_speed": 17.82276360003633,
          "pavillon": "monégasque",
          "sum_total_miles": 1392,
          "war": "paix",
          "year": "1769"
         },
         {
          "count_travel": 56,
          "mean_duration": 22.071428571428573,
          "mean_number_steps": 1.1428571428571428,
          "mean_speed": 31.317677499482045,
          "pavillon": "napolitain",
          "sum_total_miles": 25347,
          "war": "paix",
          "year": "1769"
         },
         {
          "count_travel": 2,
          "mean_duration": 30.5,
          "mean_number_steps": 2.5,
          "mean_speed": 18.226666666666667,
          "pavillon": "ragusois",
          "sum_total_miles": 1025,
          "war": "paix",
          "year": "1769"
         },
         {
          "count_travel": 2,
          "mean_duration": 27,
          "mean_number_steps": 1,
          "mean_speed": 12.727954971857411,
          "pavillon": "romain",
          "sum_total_miles": 544,
          "war": "paix",
          "year": "1769"
         },
         {
          "count_travel": 109,
          "mean_duration": 5.165137614678899,
          "mean_number_steps": 1.0275229357798166,
          "mean_speed": 84.05542047951515,
          "pavillon": "savoyard",
          "sum_total_miles": 30012,
          "war": "paix",
          "year": "1769"
         },
         {
          "count_travel": 17,
          "mean_duration": 50.94117647058823,
          "mean_number_steps": 1.411764705882353,
          "mean_speed": 28.808365858388036,
          "pavillon": "suédois",
          "sum_total_miles": 19029,
          "war": "paix",
          "year": "1769"
         },
         {
          "count_travel": 3,
          "mean_duration": 8.666666666666666,
          "mean_number_steps": 1,
          "mean_speed": 27.744588744588743,
          "pavillon": "toscan",
          "sum_total_miles": 696,
          "war": "paix",
          "year": "1769"
         },
         {
          "count_travel": 8,
          "mean_duration": 57,
          "mean_number_steps": 1.875,
          "mean_speed": 31.791330646672364,
          "pavillon": "vénitien",
          "sum_total_miles": 7480,
          "war": "paix",
          "year": "1769"
         },
         {
          "count_travel": 18,
          "mean_duration": 11.222222222222221,
          "mean_number_steps": 1.1666666666666667,
          "mean_speed": 32.1554131054131,
          "pavillon": "",
          "sum_total_miles": 4902,
          "war": "guerre",
          "year": "1779"
         },
         {
          "count_travel": 1,
          "mean_duration": 7,
          "mean_number_steps": 1,
          "mean_speed": 30.571428571428573,
          "pavillon": "britannique",
          "sum_total_miles": 214,
          "war": "guerre",
          "year": "1779"
         },
         {
          "count_travel": 6,
          "mean_duration": 12.166666666666666,
          "mean_number_steps": 1.1666666666666667,
          "mean_speed": 24.62931547619048,
          "pavillon": "carrarais",
          "sum_total_miles": 1263,
          "war": "guerre",
          "year": "1779"
         },
         {
          "count_travel": 27,
          "mean_duration": 23.74074074074074,
          "mean_number_steps": 1.2592592592592593,
          "mean_speed": 36.17267933745704,
          "pavillon": "danois",
          "sum_total_miles": 15443,
          "war": "guerre",
          "year": "1779"
         },
         {
          "count_travel": 108,
          "mean_duration": 14.231481481481481,
          "mean_number_steps": 1.2962962962962963,
          "mean_speed": 30.922805300621796,
          "pavillon": "espagnol",
          "sum_total_miles": 23208,
          "war": "guerre",
          "year": "1779"
         },
         {
          "count_travel": 1054,
          "mean_duration": 11.116698292220114,
          "mean_number_steps": 1.3700189753320684,
          "mean_speed": 31.09275378317038,
          "pavillon": "français",
          "sum_total_miles": 219648,
          "war": "guerre",
          "year": "1779"
         },
         {
          "count_travel": 258,
          "mean_duration": 10.542635658914728,
          "mean_number_steps": 1.193798449612403,
          "mean_speed": 34.57069298969579,
          "pavillon": "génois",
          "sum_total_miles": 65266,
          "war": "guerre",
          "year": "1779"
         },
         {
          "count_travel": 37,
          "mean_duration": 16.324324324324323,
          "mean_number_steps": 1.2162162162162162,
          "mean_speed": 40.69167160425716,
          "pavillon": "hollandais",
          "sum_total_miles": 16072,
          "war": "guerre",
          "year": "1779"
         },
         {
          "count_travel": 8,
          "mean_duration": 17.75,
          "mean_number_steps": 1.5,
          "mean_speed": 24.83021668907745,
          "pavillon": "maltais",
          "sum_total_miles": 2270,
          "war": "guerre",
          "year": "1779"
         },
         {
          "count_travel": 18,
          "mean_duration": 4.888888888888889,
          "mean_number_steps": 1,
          "mean_speed": 32.357870370370364,
          "pavillon": "monégasque",
          "sum_total_miles": 2195,
          "war": "guerre",
          "year": "1779"
         },
         {
          "count_travel": 95,
          "mean_duration": 19.589473684210525,
          "mean_number_steps": 1.4105263157894736,
          "mean_speed": 30.893658261524834,
          "pavillon": "napolitain",
          "sum_total_miles": 46159,
          "war": "guerre",
          "year": "1779"
         },
         {
          "count_travel": 12,
          "mean_duration": 39.916666666666664,
          "mean_number_steps": 2.0833333333333335,
          "mean_speed": 30.2665064872138,
          "pavillon": "ragusois",
          "sum_total_miles": 9859,
          "war": "guerre",
          "year": "1779"
         },
         {
          "count_travel": 9,
          "mean_duration": 6.444444444444445,
          "mean_number_steps": 1.1111111111111112,
          "mean_speed": 33.21759259259259,
          "pavillon": "romain",
          "sum_total_miles": 1835,
          "war": "guerre",
          "year": "1779"
         },
         {
          "count_travel": 153,
          "mean_duration": 5.03921568627451,
          "mean_number_steps": 1.026143790849673,
          "mean_speed": 86.33982731673046,
          "pavillon": "savoyard",
          "sum_total_miles": 39188,
          "war": "guerre",
          "year": "1779"
         },
         {
          "count_travel": 14,
          "mean_duration": 29.142857142857142,
          "mean_number_steps": 1.3571428571428572,
          "mean_speed": 38.39172697390577,
          "pavillon": "suédois",
          "sum_total_miles": 10596,
          "war": "guerre",
          "year": "1779"
         },
         {
          "count_travel": 11,
          "mean_duration": 16.545454545454547,
          "mean_number_steps": 1.8181818181818181,
          "mean_speed": 29.578377504848092,
          "pavillon": "toscan",
          "sum_total_miles": 3519,
          "war": "guerre",
          "year": "1779"
         },
         {
          "count_travel": 28,
          "mean_duration": 32.214285714285715,
          "mean_number_steps": 1.6785714285714286,
          "mean_speed": 28.377772672770142,
          "pavillon": "vénitien",
          "sum_total_miles": 20614,
          "war": "guerre",
          "year": "1779"
         },
         {
          "count_travel": 25,
          "mean_duration": 44.76,
          "mean_number_steps": 2.16,
          "mean_speed": 32.123874315691936,
          "pavillon": "",
          "sum_total_miles": 23726,
          "war": "paix",
          "year": "1789"
         },
         {
          "count_travel": 42,
          "mean_duration": 36.5,
          "mean_number_steps": 1.6428571428571428,
          "mean_speed": 45.36384888381065,
          "pavillon": "britannique",
          "sum_total_miles": 53537,
          "war": "paix",
          "year": "1789"
         },
         {
          "count_travel": 42,
          "mean_duration": 12.952380952380953,
          "mean_number_steps": 1.0476190476190477,
          "mean_speed": 27.584502355825315,
          "pavillon": "carrarais",
          "sum_total_miles": 8971,
          "war": "paix",
          "year": "1789"
         },
         {
          "count_travel": 53,
          "mean_duration": 38.77358490566038,
          "mean_number_steps": 1.3018867924528301,
          "mean_speed": 33.77296681250265,
          "pavillon": "danois",
          "sum_total_miles": 45775,
          "war": "paix",
          "year": "1789"
         },
         {
          "count_travel": 481,
          "mean_duration": 13.124740124740125,
          "mean_number_steps": 1.1933471933471933,
          "mean_speed": 34.88184032562117,
          "pavillon": "espagnol",
          "sum_total_miles": 120395,
          "war": "paix",
          "year": "1789"
         },
         {
          "count_travel": 3311,
          "mean_duration": 14.005738447598914,
          "mean_number_steps": 1.3947447900936274,
          "mean_speed": 34.12226891728997,
          "pavillon": "français",
          "sum_total_miles": 1203168,
          "war": "paix",
          "year": "1789"
         },
         {
          "count_travel": 392,
          "mean_duration": 12.561224489795919,
          "mean_number_steps": 1.058673469387755,
          "mean_speed": 32.06904666189673,
          "pavillon": "génois",
          "sum_total_miles": 99548,
          "war": "paix",
          "year": "1789"
         },
         {
          "count_travel": 32,
          "mean_duration": 24.34375,
          "mean_number_steps": 1.3125,
          "mean_speed": 32.59950150507486,
          "pavillon": "hollandais",
          "sum_total_miles": 23306,
          "war": "paix",
          "year": "1789"
         },
         {
          "count_travel": 20,
          "mean_duration": 8.75,
          "mean_number_steps": 1.05,
          "mean_speed": 40.18006784434203,
          "pavillon": "maltais",
          "sum_total_miles": 4142,
          "war": "paix",
          "year": "1789"
         },
         {
          "count_travel": 42,
          "mean_duration": 8.69047619047619,
          "mean_number_steps": 1,
          "mean_speed": 28.698814576724242,
          "pavillon": "monégasque",
          "sum_total_miles": 5503,
          "war": "paix",
          "year": "1789"
         },
         {
          "count_travel": 154,
          "mean_duration": 25.603896103896105,
          "mean_number_steps": 1.1948051948051948,
          "mean_speed": 30.410002035829105,
          "pavillon": "napolitain",
          "sum_total_miles": 83811,
          "war": "paix",
          "year": "1789"
         },
         {
          "count_travel": 2,
          "mean_duration": 54,
          "mean_number_steps": 2,
          "mean_speed": 16.79172510518934,
          "pavillon": "ottoman",
          "sum_total_miles": 1774,
          "war": "paix",
          "year": "1789"
         },
         {
          "count_travel": 45,
          "mean_duration": 25.866666666666667,
          "mean_number_steps": 1.6222222222222222,
          "mean_speed": 27.6823184016949,
          "pavillon": "ragusois",
          "sum_total_miles": 23394,
          "war": "paix",
          "year": "1789"
         },
         {
          "count_travel": 34,
          "mean_duration": 9.058823529411764,
          "mean_number_steps": 1.0588235294117647,
          "mean_speed": 31.923549370608196,
          "pavillon": "romain",
          "sum_total_miles": 6519,
          "war": "paix",
          "year": "1789"
         },
         {
          "count_travel": 11,
          "mean_duration": 62.45454545454545,
          "mean_number_steps": 3.909090909090909,
          "mean_speed": 28.49795109460797,
          "pavillon": "russe",
          "sum_total_miles": 19646,
          "war": "paix",
          "year": "1789"
         },
         {
          "count_travel": 296,
          "mean_duration": 6.094594594594595,
          "mean_number_steps": 1.0168918918918919,
          "mean_speed": 85.09690017706566,
          "pavillon": "savoyard",
          "sum_total_miles": 78910,
          "war": "paix",
          "year": "1789"
         },
         {
          "count_travel": 29,
          "mean_duration": 52.758620689655174,
          "mean_number_steps": 1.6206896551724137,
          "mean_speed": 36.8814989637428,
          "pavillon": "suédois",
          "sum_total_miles": 53915,
          "war": "paix",
          "year": "1789"
         },
         {
          "count_travel": 4,
          "mean_duration": 3.75,
          "mean_number_steps": 1,
          "mean_speed": 42.88194444444444,
          "pavillon": "toscan",
          "sum_total_miles": 539,
          "war": "paix",
          "year": "1789"
         },
         {
          "count_travel": 16,
          "mean_duration": 32.5625,
          "mean_number_steps": 1.5,
          "mean_speed": 25.206056912714324,
          "pavillon": "vénitien",
          "sum_total_miles": 10718,
          "war": "paix",
          "year": "1789"
         },
         {
          "count_travel": 28,
          "mean_duration": 3.5,
          "mean_number_steps": 1.1071428571428572,
          "mean_speed": 33.01570294784581,
          "pavillon": "",
          "sum_total_miles": 2337,
          "war": "guerre",
          "year": "1799"
         },
         {
          "count_travel": 13,
          "mean_duration": 9.23076923076923,
          "mean_number_steps": 1.1538461538461537,
          "mean_speed": 34.324657588788014,
          "pavillon": "danois",
          "sum_total_miles": 3274,
          "war": "guerre",
          "year": "1799"
         },
         {
          "count_travel": 167,
          "mean_duration": 14.269461077844312,
          "mean_number_steps": 1.0658682634730539,
          "mean_speed": 21.627437678060307,
          "pavillon": "espagnol",
          "sum_total_miles": 33197,
          "war": "guerre",
          "year": "1799"
         },
         {
          "count_travel": 1603,
          "mean_duration": 5.240798502807237,
          "mean_number_steps": 1.0667498440424206,
          "mean_speed": 34.268373343950174,
          "pavillon": "français",
          "sum_total_miles": 143582,
          "war": "guerre",
          "year": "1799"
         },
         {
          "count_travel": 693,
          "mean_duration": 10.59018759018759,
          "mean_number_steps": 1.051948051948052,
          "mean_speed": 25.986010016893573,
          "pavillon": "génois",
          "sum_total_miles": 124152,
          "war": "guerre",
          "year": "1799"
         },
         {
          "count_travel": 32,
          "mean_duration": 15.21875,
          "mean_number_steps": 1.4375,
          "mean_speed": 26.8587968128685,
          "pavillon": "napolitain",
          "sum_total_miles": 12767,
          "war": "guerre",
          "year": "1799"
         },
         {
          "count_travel": 2,
          "mean_duration": 25.5,
          "mean_number_steps": 1.5,
          "mean_speed": 27.85609756097561,
          "pavillon": "ottoman",
          "sum_total_miles": 1317,
          "war": "guerre",
          "year": "1799"
         },
         {
          "count_travel": 1,
          "mean_duration": 18,
          "mean_number_steps": 3,
          "mean_speed": 24.166666666666668,
          "pavillon": "ragusois",
          "sum_total_miles": 435,
          "war": "guerre",
          "year": "1799"
         },
         {
          "count_travel": 1,
          "mean_duration": 39,
          "mean_number_steps": 3,
          "mean_speed": 27.23076923076923,
          "pavillon": "russe",
          "sum_total_miles": 1062,
          "war": "guerre",
          "year": "1799"
         },
         {
          "count_travel": 2,
          "mean_duration": 6,
          "mean_number_steps": 1,
          "mean_speed": 42.34285714285714,
          "pavillon": "savoyard",
          "sum_total_miles": 524,
          "war": "guerre",
          "year": "1799"
         },
         {
          "count_travel": 3,
          "mean_duration": 3.3333333333333335,
          "mean_number_steps": 1,
          "mean_speed": 61.083333333333336,
          "pavillon": "suédois",
          "sum_total_miles": 685,
          "war": "guerre",
          "year": "1799"
         }
        ]
       },
       "encoding": {
        "color": {
         "field": "count_travel",
         "scale": {
          "type": "log"
         },
         "title": "nb de trajets, échelle log",
         "type": "quantitative"
        },
        "column": {
         "field": "war"
        },
        "x": {
         "axis": {
          "orient": "top"
         },
         "field": "year",
         "title": "year",
         "type": "nominal"
        },
        "y": {
         "field": "pavillon",
         "title": "pavillon",
         "type": "nominal"
        }
       },
       "mark": {
        "tooltip": {
         "content": "data"
        },
        "type": "rect"
       },
       "resolve": {
        "scale": {
         "x": "independent"
        }
       },
       "title": "Nombre de trajets total pour chaque pavillon et chaque décennie"
      },
      "image/png": "[encoded data removed]"
     },
     "metadata": {},
     "output_type": "display_data"
    }
   ],
   "source": [
    "# Nombre de trajets total pour chaque pavillon et chaque décennie, en temps de guerre et paix\n",
    "\n",
    "VegaLite({\n",
    "    \"$schema\": \"https://vega.github.io/schema/vega-lite/v5.json\",\n",
    "    \"title\": \"Nombre de trajets total pour chaque pavillon et chaque décennie\",\n",
    "    \"mark\": {\n",
    "        \"tooltip\": {\n",
    "         \"content\": \"data\"\n",
    "        },\n",
    "        \"type\": \"rect\"\n",
    "    },\n",
    "    \"data\": {\n",
    "        \"values\": list_viz\n",
    "    },\n",
    "    \"resolve\": {\"scale\": {\"x\": \"independent\"}},\n",
    "    \"encoding\": {\n",
    "        \"column\": {\"field\": \"war\"},\n",
    "        \"x\": {\n",
    "            \"field\": \"year\",\n",
    "            \"type\": \"nominal\", \n",
    "            \"title\": \"year\",\n",
    "            \"axis\": {\n",
    "                \"orient\": \"top\"\n",
    "            }\n",
    "        },\n",
    "        \"y\": {\n",
    "            \"field\": \"pavillon\",\n",
    "            \"type\": \"nominal\",\n",
    "            \"title\": \"pavillon\"\n",
    "        },\n",
    "        \"color\": {\n",
    "            \"field\": \"count_travel\",\n",
    "            \"type\": \"quantitative\",\n",
    "            \"title\": \"nb de trajets, échelle log\",\n",
    "            \"scale\": {\"type\": \"log\"}\n",
    "        }\n",
    "    }\n",
    "})\n"
   ]
  },
  {
   "cell_type": "code",
   "execution_count": 12,
   "id": "e40dd9a4-3d90-4b4c-b93a-fb1bdb37a1c6",
   "metadata": {
    "tags": []
   },
   "outputs": [
    {
     "data": {
      "application/vnd.vegalite.v4+json": {
       "$schema": "https://vega.github.io/schema/vega-lite/v5.json",
       "data": {
        "values": [
         {
          "count_travel": 1092,
          "french_pavillon": "français",
          "mean_duration": 21.484432234432234,
          "mean_number_steps": 1.6565934065934067,
          "mean_speed": 34.235396597047725,
          "sum_total_miles": 598967,
          "war": "paix",
          "year": "1749"
         },
         {
          "count_travel": 604,
          "french_pavillon": "étranger",
          "mean_duration": 21.38907284768212,
          "mean_number_steps": 1.3079470198675496,
          "mean_speed": 36.11598028299276,
          "sum_total_miles": 346950,
          "war": "paix",
          "year": "1749"
         },
         {
          "count_travel": 650,
          "french_pavillon": "français",
          "mean_duration": 8.183076923076923,
          "mean_number_steps": 1.4153846153846155,
          "mean_speed": 37.76012736680563,
          "sum_total_miles": 133315,
          "war": "guerre",
          "year": "1759"
         },
         {
          "count_travel": 852,
          "french_pavillon": "étranger",
          "mean_duration": 14.036384976525822,
          "mean_number_steps": 1.556338028169014,
          "mean_speed": 47.666902533290916,
          "sum_total_miles": 317097,
          "war": "guerre",
          "year": "1759"
         },
         {
          "count_travel": 1304,
          "french_pavillon": "français",
          "mean_duration": 17.34049079754601,
          "mean_number_steps": 1.5559815950920246,
          "mean_speed": 35.45036588295382,
          "sum_total_miles": 559799,
          "war": "paix",
          "year": "1769"
         },
         {
          "count_travel": 492,
          "french_pavillon": "étranger",
          "mean_duration": 15.784552845528456,
          "mean_number_steps": 1.160569105691057,
          "mean_speed": 42.29264530527925,
          "sum_total_miles": 190486,
          "war": "paix",
          "year": "1769"
         },
         {
          "count_travel": 1054,
          "french_pavillon": "français",
          "mean_duration": 11.116698292220114,
          "mean_number_steps": 1.3700189753320684,
          "mean_speed": 31.09275378317038,
          "sum_total_miles": 219648,
          "war": "guerre",
          "year": "1779"
         },
         {
          "count_travel": 803,
          "french_pavillon": "étranger",
          "mean_duration": 13.293897882938978,
          "mean_number_steps": 1.2428393524283936,
          "mean_speed": 43.26756613112447,
          "sum_total_miles": 262603,
          "war": "guerre",
          "year": "1779"
         },
         {
          "count_travel": 3311,
          "french_pavillon": "français",
          "mean_duration": 14.005738447598914,
          "mean_number_steps": 1.3947447900936274,
          "mean_speed": 34.12226891728997,
          "sum_total_miles": 1203168,
          "war": "paix",
          "year": "1789"
         },
         {
          "count_travel": 1720,
          "french_pavillon": "étranger",
          "mean_duration": 16.213372093023256,
          "mean_number_steps": 1.1895348837209303,
          "mean_speed": 42.00734813928218,
          "sum_total_miles": 664129,
          "war": "paix",
          "year": "1789"
         },
         {
          "count_travel": 1603,
          "french_pavillon": "français",
          "mean_duration": 5.240798502807237,
          "mean_number_steps": 1.0667498440424206,
          "mean_speed": 34.268373343950174,
          "sum_total_miles": 143582,
          "war": "guerre",
          "year": "1799"
         },
         {
          "count_travel": 942,
          "french_pavillon": "étranger",
          "mean_duration": 11.207006369426752,
          "mean_number_steps": 1.075371549893843,
          "mean_speed": 25.716851495174236,
          "sum_total_miles": 179750,
          "war": "guerre",
          "year": "1799"
         }
        ]
       },
       "encoding": {
        "color": {
         "field": "count_travel",
         "title": "nombre de trajets",
         "type": "quantitative"
        },
        "column": {
         "field": "war"
        },
        "x": {
         "axis": {
          "orient": "top"
         },
         "field": "year",
         "title": "year",
         "type": "nominal"
        },
        "y": {
         "field": "french_pavillon",
         "title": "pavillon",
         "type": "nominal"
        }
       },
       "mark": {
        "tooltip": {
         "content": "data"
        },
        "type": "rect"
       },
       "resolve": {
        "scale": {
         "x": "independent"
        }
       },
       "title": "Nombre de trajets total pour chaque pavillon et chaque décennie"
      },
      "image/png": "[encoded data removed]"
     },
     "metadata": {},
     "output_type": "display_data"
    }
   ],
   "source": [
    "# Grouper les pavillons étrangers entre eux\n",
    "df_travels[\"french_pavillon\"] = df_travels.pavillon == \"français\"\n",
    "df_travels[\"french_pavillon\"] = df_travels[\"french_pavillon\"].replace({True: \"français\", False: \"étranger\"})\n",
    "\n",
    "viz_df = df_travels.groupby(['year', 'french_pavillon']).agg({'speed': 'mean',\n",
    "                                                       'total_steps': 'mean',\n",
    "                                                       'total_miles': 'sum',\n",
    "                                                       'departure_date': 'size',\n",
    "                                                       'duration': 'mean'\n",
    "                                                       }\n",
    "                                                      ).reset_index()\n",
    "viz_df.columns = ['year', 'french_pavillon', 'mean_speed', 'mean_number_steps', 'sum_total_miles', 'count_travel', 'mean_duration']\n",
    "viz_df[\"war\"] = viz_df.year.isin([\"1759\", \"1779\", \"1799\"]).replace({True: \"guerre\", False: \"paix\"})\n",
    "\n",
    "list_viz = []\n",
    "\n",
    "for i,row in viz_df.iterrows():\n",
    "    list_viz.append(dict(row))\n",
    "    \n",
    "VegaLite({\n",
    "    \"$schema\": \"https://vega.github.io/schema/vega-lite/v5.json\",\n",
    "    \"title\": \"Nombre de trajets total pour chaque pavillon et chaque décennie\",\n",
    "    \"mark\": {\n",
    "        \"tooltip\": {\n",
    "         \"content\": \"data\"\n",
    "        },\n",
    "        \"type\": \"rect\"\n",
    "    },\n",
    "    \"data\": {\n",
    "        \"values\": list_viz\n",
    "    },\n",
    "    \"resolve\": {\"scale\": {\"x\": \"independent\"}},\n",
    "    \"encoding\": {\n",
    "        \"column\": {\"field\": \"war\"},\n",
    "        \"x\": {\n",
    "            \"field\": \"year\",\n",
    "            \"type\": \"nominal\", \n",
    "            \"title\": \"year\",\n",
    "            \"axis\": {\n",
    "                \"orient\": \"top\"\n",
    "            }\n",
    "        },\n",
    "        \"y\": {\n",
    "            \"field\": \"french_pavillon\",\n",
    "            \"type\": \"nominal\",\n",
    "            \"title\": \"pavillon\"\n",
    "        },\n",
    "        \"color\": {\n",
    "            \"field\": \"count_travel\",\n",
    "            \"type\": \"quantitative\",\n",
    "            \"title\": \"nombre de trajets\"\n",
    "        }\n",
    "    }\n",
    "})"
   ]
  },
  {
   "cell_type": "code",
   "execution_count": 13,
   "id": "8afe4cd4-f945-4559-9163-8fe759409463",
   "metadata": {
    "tags": []
   },
   "outputs": [
    {
     "data": {
      "application/vnd.vegalite.v4+json": {
       "$schema": "https://vega.github.io/schema/vega-lite/v5.json",
       "data": {
        "values": [
         {
          "count_travel": 1,
          "mean_duration": 5,
          "mean_number_steps": 1,
          "mean_speed": 42,
          "pavillon": "",
          "sum_total_miles": 210,
          "war": "paix",
          "year": "1749"
         },
         {
          "count_travel": 92,
          "mean_duration": 50.17391304347826,
          "mean_number_steps": 1.5869565217391304,
          "mean_speed": 40.482952473159074,
          "pavillon": "britannique",
          "sum_total_miles": 150521,
          "war": "paix",
          "year": "1749"
         },
         {
          "count_travel": 9,
          "mean_duration": 68.88888888888889,
          "mean_number_steps": 1.7777777777777777,
          "mean_speed": 22.630349018891348,
          "pavillon": "danois",
          "sum_total_miles": 13542,
          "war": "paix",
          "year": "1749"
         },
         {
          "count_travel": 129,
          "mean_duration": 9.271317829457365,
          "mean_number_steps": 1.2170542635658914,
          "mean_speed": 41.61443435876488,
          "pavillon": "espagnol",
          "sum_total_miles": 27166,
          "war": "paix",
          "year": "1749"
         },
         {
          "count_travel": 159,
          "mean_duration": 9.427672955974844,
          "mean_number_steps": 1.169811320754717,
          "mean_speed": 34.057443539667595,
          "pavillon": "génois",
          "sum_total_miles": 32108,
          "war": "paix",
          "year": "1749"
         },
         {
          "count_travel": 40,
          "mean_duration": 50.325,
          "mean_number_steps": 1.35,
          "mean_speed": 38.27219193813276,
          "pavillon": "hollandais",
          "sum_total_miles": 64561,
          "war": "paix",
          "year": "1749"
         },
         {
          "count_travel": 5,
          "mean_duration": 27.2,
          "mean_number_steps": 2.2,
          "mean_speed": 33.81243972999035,
          "pavillon": "maltais",
          "sum_total_miles": 2575,
          "war": "paix",
          "year": "1749"
         },
         {
          "count_travel": 33,
          "mean_duration": 6.666666666666667,
          "mean_number_steps": 1.0303030303030303,
          "mean_speed": 25.034031387507323,
          "pavillon": "monégasque",
          "sum_total_miles": 4160,
          "war": "paix",
          "year": "1749"
         },
         {
          "count_travel": 19,
          "mean_duration": 30.263157894736842,
          "mean_number_steps": 1.631578947368421,
          "mean_speed": 25.781379241063124,
          "pavillon": "napolitain",
          "sum_total_miles": 9755,
          "war": "paix",
          "year": "1749"
         },
         {
          "count_travel": 1,
          "mean_duration": 94,
          "mean_number_steps": 2,
          "mean_speed": 13.97872340425532,
          "pavillon": "ragusois",
          "sum_total_miles": 1314,
          "war": "paix",
          "year": "1749"
         },
         {
          "count_travel": 79,
          "mean_duration": 9.39240506329114,
          "mean_number_steps": 1.2531645569620253,
          "mean_speed": 33.52645465328661,
          "pavillon": "romain",
          "sum_total_miles": 13531,
          "war": "paix",
          "year": "1749"
         },
         {
          "count_travel": 12,
          "mean_duration": 4.166666666666667,
          "mean_number_steps": 1,
          "mean_speed": 57.196825396825396,
          "pavillon": "savoyard",
          "sum_total_miles": 2225,
          "war": "paix",
          "year": "1749"
         },
         {
          "count_travel": 15,
          "mean_duration": 32.13333333333333,
          "mean_number_steps": 1.3333333333333333,
          "mean_speed": 33.215144047578605,
          "pavillon": "suédois",
          "sum_total_miles": 15416,
          "war": "paix",
          "year": "1749"
         },
         {
          "count_travel": 3,
          "mean_duration": 39.666666666666664,
          "mean_number_steps": 2,
          "mean_speed": 27.46643026004728,
          "pavillon": "toscan",
          "sum_total_miles": 1647,
          "war": "paix",
          "year": "1749"
         },
         {
          "count_travel": 7,
          "mean_duration": 78.85714285714286,
          "mean_number_steps": 2.142857142857143,
          "mean_speed": 16.43937890376018,
          "pavillon": "vénitien",
          "sum_total_miles": 8219,
          "war": "paix",
          "year": "1749"
         },
         {
          "count_travel": 4,
          "mean_duration": 76,
          "mean_number_steps": 3,
          "mean_speed": 28.049892825420997,
          "pavillon": "",
          "sum_total_miles": 3806,
          "war": "guerre",
          "year": "1759"
         },
         {
          "count_travel": 4,
          "mean_duration": 26.25,
          "mean_number_steps": 2.5,
          "mean_speed": 31.009679479900065,
          "pavillon": "britannique",
          "sum_total_miles": 2820,
          "war": "guerre",
          "year": "1759"
         },
         {
          "count_travel": 1,
          "mean_duration": 109,
          "mean_number_steps": 4,
          "mean_speed": 22.577981651376145,
          "pavillon": "brémois",
          "sum_total_miles": 2461,
          "war": "guerre",
          "year": "1759"
         },
         {
          "count_travel": 10,
          "mean_duration": 45.3,
          "mean_number_steps": 1.5,
          "mean_speed": 26.976632089036695,
          "pavillon": "danois",
          "sum_total_miles": 9320,
          "war": "guerre",
          "year": "1759"
         },
         {
          "count_travel": 131,
          "mean_duration": 12.389312977099237,
          "mean_number_steps": 1.633587786259542,
          "mean_speed": 39.13261749259714,
          "pavillon": "espagnol",
          "sum_total_miles": 41901,
          "war": "guerre",
          "year": "1759"
         },
         {
          "count_travel": 339,
          "mean_duration": 10.569321533923304,
          "mean_number_steps": 1.5427728613569323,
          "mean_speed": 49.15973556661068,
          "pavillon": "génois",
          "sum_total_miles": 104225,
          "war": "guerre",
          "year": "1759"
         },
         {
          "count_travel": 44,
          "mean_duration": 47.34090909090909,
          "mean_number_steps": 1.5454545454545454,
          "mean_speed": 24.520922314263597,
          "pavillon": "hollandais",
          "sum_total_miles": 45169,
          "war": "guerre",
          "year": "1759"
         },
         {
          "count_travel": 10,
          "mean_duration": 18.9,
          "mean_number_steps": 2.2,
          "mean_speed": 33.69994792108763,
          "pavillon": "maltais",
          "sum_total_miles": 4750,
          "war": "guerre",
          "year": "1759"
         },
         {
          "count_travel": 32,
          "mean_duration": 5.65625,
          "mean_number_steps": 1.125,
          "mean_speed": 32.356413465007215,
          "pavillon": "monégasque",
          "sum_total_miles": 4515,
          "war": "guerre",
          "year": "1759"
         },
         {
          "count_travel": 69,
          "mean_duration": 17.82608695652174,
          "mean_number_steps": 1.7246376811594204,
          "mean_speed": 47.24416744629161,
          "pavillon": "napolitain",
          "sum_total_miles": 29600,
          "war": "guerre",
          "year": "1759"
         },
         {
          "count_travel": 2,
          "mean_duration": 52,
          "mean_number_steps": 3,
          "mean_speed": 15.933184023889511,
          "pavillon": "ragusois",
          "sum_total_miles": 1600,
          "war": "guerre",
          "year": "1759"
         },
         {
          "count_travel": 29,
          "mean_duration": 6.103448275862069,
          "mean_number_steps": 1.4137931034482758,
          "mean_speed": 79.22074065780964,
          "pavillon": "romain",
          "sum_total_miles": 8398,
          "war": "guerre",
          "year": "1759"
         },
         {
          "count_travel": 138,
          "mean_duration": 7.0144927536231885,
          "mean_number_steps": 1.3623188405797102,
          "mean_speed": 65.11354447318344,
          "pavillon": "savoyard",
          "sum_total_miles": 38939,
          "war": "guerre",
          "year": "1759"
         },
         {
          "count_travel": 12,
          "mean_duration": 11.916666666666666,
          "mean_number_steps": 1.1666666666666667,
          "mean_speed": 37.61738095238095,
          "pavillon": "suédois",
          "sum_total_miles": 3250,
          "war": "guerre",
          "year": "1759"
         },
         {
          "count_travel": 27,
          "mean_duration": 26.185185185185187,
          "mean_number_steps": 2,
          "mean_speed": 30.169508015727974,
          "pavillon": "toscan",
          "sum_total_miles": 16343,
          "war": "guerre",
          "year": "1759"
         },
         {
          "count_travel": 4,
          "mean_duration": 24.75,
          "mean_number_steps": 1.75,
          "mean_speed": 34.87142218246869,
          "pavillon": "",
          "sum_total_miles": 3077,
          "war": "paix",
          "year": "1769"
         },
         {
          "count_travel": 41,
          "mean_duration": 23.48780487804878,
          "mean_number_steps": 1.5121951219512195,
          "mean_speed": 43.80267368942906,
          "pavillon": "britannique",
          "sum_total_miles": 34203,
          "war": "paix",
          "year": "1769"
         },
         {
          "count_travel": 5,
          "mean_duration": 10.8,
          "mean_number_steps": 1,
          "mean_speed": 28.57630008525149,
          "pavillon": "carrarais",
          "sum_total_miles": 952,
          "war": "paix",
          "year": "1769"
         },
         {
          "count_travel": 3,
          "mean_duration": 35.666666666666664,
          "mean_number_steps": 1.3333333333333333,
          "mean_speed": 25.60826818289505,
          "pavillon": "danois",
          "sum_total_miles": 2346,
          "war": "paix",
          "year": "1769"
         },
         {
          "count_travel": 73,
          "mean_duration": 14.753424657534246,
          "mean_number_steps": 1.0684931506849316,
          "mean_speed": 20.222031562680957,
          "pavillon": "espagnol",
          "sum_total_miles": 13502,
          "war": "paix",
          "year": "1769"
         },
         {
          "count_travel": 125,
          "mean_duration": 10.992,
          "mean_number_steps": 1.104,
          "mean_speed": 32.65775219730749,
          "pavillon": "génois",
          "sum_total_miles": 32290,
          "war": "paix",
          "year": "1769"
         },
         {
          "count_travel": 27,
          "mean_duration": 25.814814814814813,
          "mean_number_steps": 1.2592592592592593,
          "mean_speed": 31.629216063142305,
          "pavillon": "hollandais",
          "sum_total_miles": 17282,
          "war": "paix",
          "year": "1769"
         },
         {
          "count_travel": 6,
          "mean_duration": 6.166666666666667,
          "mean_number_steps": 1.1666666666666667,
          "mean_speed": 39.89444444444444,
          "pavillon": "maltais",
          "sum_total_miles": 1309,
          "war": "paix",
          "year": "1769"
         },
         {
          "count_travel": 11,
          "mean_duration": 8.727272727272727,
          "mean_number_steps": 1,
          "mean_speed": 17.82276360003633,
          "pavillon": "monégasque",
          "sum_total_miles": 1392,
          "war": "paix",
          "year": "1769"
         },
         {
          "count_travel": 56,
          "mean_duration": 22.071428571428573,
          "mean_number_steps": 1.1428571428571428,
          "mean_speed": 31.317677499482045,
          "pavillon": "napolitain",
          "sum_total_miles": 25347,
          "war": "paix",
          "year": "1769"
         },
         {
          "count_travel": 2,
          "mean_duration": 30.5,
          "mean_number_steps": 2.5,
          "mean_speed": 18.226666666666667,
          "pavillon": "ragusois",
          "sum_total_miles": 1025,
          "war": "paix",
          "year": "1769"
         },
         {
          "count_travel": 2,
          "mean_duration": 27,
          "mean_number_steps": 1,
          "mean_speed": 12.727954971857411,
          "pavillon": "romain",
          "sum_total_miles": 544,
          "war": "paix",
          "year": "1769"
         },
         {
          "count_travel": 109,
          "mean_duration": 5.165137614678899,
          "mean_number_steps": 1.0275229357798166,
          "mean_speed": 84.05542047951515,
          "pavillon": "savoyard",
          "sum_total_miles": 30012,
          "war": "paix",
          "year": "1769"
         },
         {
          "count_travel": 17,
          "mean_duration": 50.94117647058823,
          "mean_number_steps": 1.411764705882353,
          "mean_speed": 28.808365858388036,
          "pavillon": "suédois",
          "sum_total_miles": 19029,
          "war": "paix",
          "year": "1769"
         },
         {
          "count_travel": 3,
          "mean_duration": 8.666666666666666,
          "mean_number_steps": 1,
          "mean_speed": 27.744588744588743,
          "pavillon": "toscan",
          "sum_total_miles": 696,
          "war": "paix",
          "year": "1769"
         },
         {
          "count_travel": 8,
          "mean_duration": 57,
          "mean_number_steps": 1.875,
          "mean_speed": 31.791330646672364,
          "pavillon": "vénitien",
          "sum_total_miles": 7480,
          "war": "paix",
          "year": "1769"
         },
         {
          "count_travel": 18,
          "mean_duration": 11.222222222222221,
          "mean_number_steps": 1.1666666666666667,
          "mean_speed": 32.1554131054131,
          "pavillon": "",
          "sum_total_miles": 4902,
          "war": "guerre",
          "year": "1779"
         },
         {
          "count_travel": 1,
          "mean_duration": 7,
          "mean_number_steps": 1,
          "mean_speed": 30.571428571428573,
          "pavillon": "britannique",
          "sum_total_miles": 214,
          "war": "guerre",
          "year": "1779"
         },
         {
          "count_travel": 6,
          "mean_duration": 12.166666666666666,
          "mean_number_steps": 1.1666666666666667,
          "mean_speed": 24.62931547619048,
          "pavillon": "carrarais",
          "sum_total_miles": 1263,
          "war": "guerre",
          "year": "1779"
         },
         {
          "count_travel": 27,
          "mean_duration": 23.74074074074074,
          "mean_number_steps": 1.2592592592592593,
          "mean_speed": 36.17267933745704,
          "pavillon": "danois",
          "sum_total_miles": 15443,
          "war": "guerre",
          "year": "1779"
         },
         {
          "count_travel": 108,
          "mean_duration": 14.231481481481481,
          "mean_number_steps": 1.2962962962962963,
          "mean_speed": 30.922805300621796,
          "pavillon": "espagnol",
          "sum_total_miles": 23208,
          "war": "guerre",
          "year": "1779"
         },
         {
          "count_travel": 258,
          "mean_duration": 10.542635658914728,
          "mean_number_steps": 1.193798449612403,
          "mean_speed": 34.57069298969579,
          "pavillon": "génois",
          "sum_total_miles": 65266,
          "war": "guerre",
          "year": "1779"
         },
         {
          "count_travel": 37,
          "mean_duration": 16.324324324324323,
          "mean_number_steps": 1.2162162162162162,
          "mean_speed": 40.69167160425716,
          "pavillon": "hollandais",
          "sum_total_miles": 16072,
          "war": "guerre",
          "year": "1779"
         },
         {
          "count_travel": 8,
          "mean_duration": 17.75,
          "mean_number_steps": 1.5,
          "mean_speed": 24.83021668907745,
          "pavillon": "maltais",
          "sum_total_miles": 2270,
          "war": "guerre",
          "year": "1779"
         },
         {
          "count_travel": 18,
          "mean_duration": 4.888888888888889,
          "mean_number_steps": 1,
          "mean_speed": 32.357870370370364,
          "pavillon": "monégasque",
          "sum_total_miles": 2195,
          "war": "guerre",
          "year": "1779"
         },
         {
          "count_travel": 95,
          "mean_duration": 19.589473684210525,
          "mean_number_steps": 1.4105263157894736,
          "mean_speed": 30.893658261524834,
          "pavillon": "napolitain",
          "sum_total_miles": 46159,
          "war": "guerre",
          "year": "1779"
         },
         {
          "count_travel": 12,
          "mean_duration": 39.916666666666664,
          "mean_number_steps": 2.0833333333333335,
          "mean_speed": 30.2665064872138,
          "pavillon": "ragusois",
          "sum_total_miles": 9859,
          "war": "guerre",
          "year": "1779"
         },
         {
          "count_travel": 9,
          "mean_duration": 6.444444444444445,
          "mean_number_steps": 1.1111111111111112,
          "mean_speed": 33.21759259259259,
          "pavillon": "romain",
          "sum_total_miles": 1835,
          "war": "guerre",
          "year": "1779"
         },
         {
          "count_travel": 153,
          "mean_duration": 5.03921568627451,
          "mean_number_steps": 1.026143790849673,
          "mean_speed": 86.33982731673046,
          "pavillon": "savoyard",
          "sum_total_miles": 39188,
          "war": "guerre",
          "year": "1779"
         },
         {
          "count_travel": 14,
          "mean_duration": 29.142857142857142,
          "mean_number_steps": 1.3571428571428572,
          "mean_speed": 38.39172697390577,
          "pavillon": "suédois",
          "sum_total_miles": 10596,
          "war": "guerre",
          "year": "1779"
         },
         {
          "count_travel": 11,
          "mean_duration": 16.545454545454547,
          "mean_number_steps": 1.8181818181818181,
          "mean_speed": 29.578377504848092,
          "pavillon": "toscan",
          "sum_total_miles": 3519,
          "war": "guerre",
          "year": "1779"
         },
         {
          "count_travel": 28,
          "mean_duration": 32.214285714285715,
          "mean_number_steps": 1.6785714285714286,
          "mean_speed": 28.377772672770142,
          "pavillon": "vénitien",
          "sum_total_miles": 20614,
          "war": "guerre",
          "year": "1779"
         },
         {
          "count_travel": 25,
          "mean_duration": 44.76,
          "mean_number_steps": 2.16,
          "mean_speed": 32.123874315691936,
          "pavillon": "",
          "sum_total_miles": 23726,
          "war": "paix",
          "year": "1789"
         },
         {
          "count_travel": 42,
          "mean_duration": 36.5,
          "mean_number_steps": 1.6428571428571428,
          "mean_speed": 45.36384888381065,
          "pavillon": "britannique",
          "sum_total_miles": 53537,
          "war": "paix",
          "year": "1789"
         },
         {
          "count_travel": 42,
          "mean_duration": 12.952380952380953,
          "mean_number_steps": 1.0476190476190477,
          "mean_speed": 27.584502355825315,
          "pavillon": "carrarais",
          "sum_total_miles": 8971,
          "war": "paix",
          "year": "1789"
         },
         {
          "count_travel": 53,
          "mean_duration": 38.77358490566038,
          "mean_number_steps": 1.3018867924528301,
          "mean_speed": 33.77296681250265,
          "pavillon": "danois",
          "sum_total_miles": 45775,
          "war": "paix",
          "year": "1789"
         },
         {
          "count_travel": 481,
          "mean_duration": 13.124740124740125,
          "mean_number_steps": 1.1933471933471933,
          "mean_speed": 34.88184032562117,
          "pavillon": "espagnol",
          "sum_total_miles": 120395,
          "war": "paix",
          "year": "1789"
         },
         {
          "count_travel": 392,
          "mean_duration": 12.561224489795919,
          "mean_number_steps": 1.058673469387755,
          "mean_speed": 32.06904666189673,
          "pavillon": "génois",
          "sum_total_miles": 99548,
          "war": "paix",
          "year": "1789"
         },
         {
          "count_travel": 32,
          "mean_duration": 24.34375,
          "mean_number_steps": 1.3125,
          "mean_speed": 32.59950150507486,
          "pavillon": "hollandais",
          "sum_total_miles": 23306,
          "war": "paix",
          "year": "1789"
         },
         {
          "count_travel": 20,
          "mean_duration": 8.75,
          "mean_number_steps": 1.05,
          "mean_speed": 40.18006784434203,
          "pavillon": "maltais",
          "sum_total_miles": 4142,
          "war": "paix",
          "year": "1789"
         },
         {
          "count_travel": 42,
          "mean_duration": 8.69047619047619,
          "mean_number_steps": 1,
          "mean_speed": 28.698814576724242,
          "pavillon": "monégasque",
          "sum_total_miles": 5503,
          "war": "paix",
          "year": "1789"
         },
         {
          "count_travel": 154,
          "mean_duration": 25.603896103896105,
          "mean_number_steps": 1.1948051948051948,
          "mean_speed": 30.410002035829105,
          "pavillon": "napolitain",
          "sum_total_miles": 83811,
          "war": "paix",
          "year": "1789"
         },
         {
          "count_travel": 2,
          "mean_duration": 54,
          "mean_number_steps": 2,
          "mean_speed": 16.79172510518934,
          "pavillon": "ottoman",
          "sum_total_miles": 1774,
          "war": "paix",
          "year": "1789"
         },
         {
          "count_travel": 45,
          "mean_duration": 25.866666666666667,
          "mean_number_steps": 1.6222222222222222,
          "mean_speed": 27.6823184016949,
          "pavillon": "ragusois",
          "sum_total_miles": 23394,
          "war": "paix",
          "year": "1789"
         },
         {
          "count_travel": 34,
          "mean_duration": 9.058823529411764,
          "mean_number_steps": 1.0588235294117647,
          "mean_speed": 31.923549370608196,
          "pavillon": "romain",
          "sum_total_miles": 6519,
          "war": "paix",
          "year": "1789"
         },
         {
          "count_travel": 11,
          "mean_duration": 62.45454545454545,
          "mean_number_steps": 3.909090909090909,
          "mean_speed": 28.49795109460797,
          "pavillon": "russe",
          "sum_total_miles": 19646,
          "war": "paix",
          "year": "1789"
         },
         {
          "count_travel": 296,
          "mean_duration": 6.094594594594595,
          "mean_number_steps": 1.0168918918918919,
          "mean_speed": 85.09690017706566,
          "pavillon": "savoyard",
          "sum_total_miles": 78910,
          "war": "paix",
          "year": "1789"
         },
         {
          "count_travel": 29,
          "mean_duration": 52.758620689655174,
          "mean_number_steps": 1.6206896551724137,
          "mean_speed": 36.8814989637428,
          "pavillon": "suédois",
          "sum_total_miles": 53915,
          "war": "paix",
          "year": "1789"
         },
         {
          "count_travel": 4,
          "mean_duration": 3.75,
          "mean_number_steps": 1,
          "mean_speed": 42.88194444444444,
          "pavillon": "toscan",
          "sum_total_miles": 539,
          "war": "paix",
          "year": "1789"
         },
         {
          "count_travel": 16,
          "mean_duration": 32.5625,
          "mean_number_steps": 1.5,
          "mean_speed": 25.206056912714324,
          "pavillon": "vénitien",
          "sum_total_miles": 10718,
          "war": "paix",
          "year": "1789"
         },
         {
          "count_travel": 28,
          "mean_duration": 3.5,
          "mean_number_steps": 1.1071428571428572,
          "mean_speed": 33.01570294784581,
          "pavillon": "",
          "sum_total_miles": 2337,
          "war": "guerre",
          "year": "1799"
         },
         {
          "count_travel": 13,
          "mean_duration": 9.23076923076923,
          "mean_number_steps": 1.1538461538461537,
          "mean_speed": 34.324657588788014,
          "pavillon": "danois",
          "sum_total_miles": 3274,
          "war": "guerre",
          "year": "1799"
         },
         {
          "count_travel": 167,
          "mean_duration": 14.269461077844312,
          "mean_number_steps": 1.0658682634730539,
          "mean_speed": 21.627437678060307,
          "pavillon": "espagnol",
          "sum_total_miles": 33197,
          "war": "guerre",
          "year": "1799"
         },
         {
          "count_travel": 693,
          "mean_duration": 10.59018759018759,
          "mean_number_steps": 1.051948051948052,
          "mean_speed": 25.986010016893573,
          "pavillon": "génois",
          "sum_total_miles": 124152,
          "war": "guerre",
          "year": "1799"
         },
         {
          "count_travel": 32,
          "mean_duration": 15.21875,
          "mean_number_steps": 1.4375,
          "mean_speed": 26.8587968128685,
          "pavillon": "napolitain",
          "sum_total_miles": 12767,
          "war": "guerre",
          "year": "1799"
         },
         {
          "count_travel": 2,
          "mean_duration": 25.5,
          "mean_number_steps": 1.5,
          "mean_speed": 27.85609756097561,
          "pavillon": "ottoman",
          "sum_total_miles": 1317,
          "war": "guerre",
          "year": "1799"
         },
         {
          "count_travel": 1,
          "mean_duration": 18,
          "mean_number_steps": 3,
          "mean_speed": 24.166666666666668,
          "pavillon": "ragusois",
          "sum_total_miles": 435,
          "war": "guerre",
          "year": "1799"
         },
         {
          "count_travel": 1,
          "mean_duration": 39,
          "mean_number_steps": 3,
          "mean_speed": 27.23076923076923,
          "pavillon": "russe",
          "sum_total_miles": 1062,
          "war": "guerre",
          "year": "1799"
         },
         {
          "count_travel": 2,
          "mean_duration": 6,
          "mean_number_steps": 1,
          "mean_speed": 42.34285714285714,
          "pavillon": "savoyard",
          "sum_total_miles": 524,
          "war": "guerre",
          "year": "1799"
         },
         {
          "count_travel": 3,
          "mean_duration": 3.3333333333333335,
          "mean_number_steps": 1,
          "mean_speed": 61.083333333333336,
          "pavillon": "suédois",
          "sum_total_miles": 685,
          "war": "guerre",
          "year": "1799"
         }
        ]
       },
       "encoding": {
        "color": {
         "field": "count_travel",
         "scale": {
          "type": "log"
         },
         "title": "nb de trajets, échelle log",
         "type": "quantitative"
        },
        "column": {
         "field": "war"
        },
        "x": {
         "axis": {
          "orient": "top"
         },
         "field": "year",
         "title": "year",
         "type": "nominal"
        },
        "y": {
         "field": "pavillon",
         "title": "pavillon",
         "type": "nominal"
        }
       },
       "mark": {
        "tooltip": {
         "content": "data"
        },
        "type": "rect"
       },
       "resolve": {
        "scale": {
         "x": "independent"
        }
       },
       "title": "Nombre de trajets total pour chaque pavillon et chaque décennie, français exclus"
      },
      "image/png": "[encoded data removed]"
     },
     "metadata": {},
     "output_type": "display_data"
    }
   ],
   "source": [
    "# Regarder uniquement les pavillons étrangers\n",
    "viz_df = df_travels[df_travels.french_pavillon != \"français\"].groupby(['year', 'pavillon']).agg({'speed': 'mean',\n",
    "                                                       'total_steps': 'mean',\n",
    "                                                       'total_miles': 'sum',\n",
    "                                                       'departure_date': 'size',\n",
    "                                                       'duration': 'mean'\n",
    "                                                       }\n",
    "                                                      ).reset_index()\n",
    "viz_df.columns = ['year', 'pavillon', 'mean_speed', 'mean_number_steps', 'sum_total_miles', 'count_travel', 'mean_duration']\n",
    "viz_df[\"war\"] = viz_df.year.isin([\"1759\", \"1779\", \"1799\"]).replace({True: \"guerre\", False: \"paix\"})\n",
    "\n",
    "list_viz = []\n",
    "\n",
    "for i,row in viz_df.iterrows():\n",
    "    list_viz.append(dict(row))\n",
    "    \n",
    "VegaLite({\n",
    "    \"$schema\": \"https://vega.github.io/schema/vega-lite/v5.json\",\n",
    "    \"title\": \"Nombre de trajets total pour chaque pavillon et chaque décennie, français exclus\",\n",
    "    \"mark\": {\n",
    "        \"tooltip\": {\n",
    "         \"content\": \"data\"\n",
    "        },\n",
    "        \"type\": \"rect\"\n",
    "    },\n",
    "    \"data\": {\n",
    "        \"values\": list_viz\n",
    "    },\n",
    "    \"resolve\": {\"scale\": {\"x\": \"independent\"}},\n",
    "    \"encoding\": {\n",
    "        \"column\": {\"field\": \"war\"},\n",
    "        \"x\": {\n",
    "            \"field\": \"year\",\n",
    "            \"type\": \"nominal\", \n",
    "            \"title\": \"year\",\n",
    "            \"axis\": {\n",
    "                \"orient\": \"top\"\n",
    "            }\n",
    "        },\n",
    "        \"y\": {\n",
    "            \"field\": \"pavillon\",\n",
    "            \"type\": \"nominal\",\n",
    "            \"title\": \"pavillon\"\n",
    "        },\n",
    "        \"color\": {\n",
    "            \"field\": \"count_travel\",\n",
    "            \"type\": \"quantitative\",\n",
    "            \"title\": \"nb de trajets, échelle log\",\n",
    "            \"scale\": {\"type\": \"log\"}\n",
    "        }\n",
    "    }\n",
    "})"
   ]
  },
  {
   "cell_type": "code",
   "execution_count": null,
   "id": "f6b72191-d0f1-4bd6-bacc-183bac3dc16a",
   "metadata": {},
   "outputs": [],
   "source": []
  },
  {
   "cell_type": "code",
   "execution_count": null,
   "id": "d97cc810-9dd0-4d23-a0e9-999065a8aa9d",
   "metadata": {},
   "outputs": [],
   "source": []
  },
  {
   "cell_type": "code",
   "execution_count": null,
   "id": "f1895201-27eb-4d07-8aac-fc64d07fe55a",
   "metadata": {},
   "outputs": [],
   "source": []
  },
  {
   "cell_type": "code",
   "execution_count": null,
   "id": "bfe8340a-3d75-43e7-99c8-20b99929d38b",
   "metadata": {},
   "outputs": [],
   "source": []
  }
 ],
 "metadata": {
  "kernelspec": {
   "display_name": "Python 3 (ipykernel)",
   "language": "python",
   "name": "python3"
  },
  "language_info": {
   "codemirror_mode": {
    "name": "ipython",
    "version": 3
   },
   "file_extension": ".py",
   "mimetype": "text/x-python",
   "name": "python",
   "nbconvert_exporter": "python",
   "pygments_lexer": "ipython3",
   "version": "3.8.2"
  }
 },
 "nbformat": 4,
 "nbformat_minor": 5
}
