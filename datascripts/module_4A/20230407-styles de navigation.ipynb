{
 "cells": [
  {
   "cell_type": "code",
   "execution_count": null,
   "id": "f8e11578",
   "metadata": {
    "tags": []
   },
   "outputs": [],
   "source": [
    "import csv\n",
    "import pandas as pd\n",
    "import numpy as np\n",
    "import pprint\n",
    "import requests\n",
    "from IPython.display import display\n",
    "\n",
    "def VegaLite(spec):\n",
    "    bundle = {}\n",
    "    bundle['application/vnd.vegalite.v4+json'] = spec\n",
    "    display(bundle, raw=True)\n"
   ]
  },
  {
   "cell_type": "code",
   "execution_count": null,
   "id": "1e1bd3fb-45d7-4594-b340-26ed9c7f5d71",
   "metadata": {
    "tags": []
   },
   "outputs": [],
   "source": [
    "# On récupère l'estimation du tonnage par type de bateau\n",
    "TONNAGE_SPREADSHEET_URL = \"https://docs.google.com/spreadsheets/d/e/2PACX-1vTYdeIwpzaVpY_KS91cXiHxb309iYBS4JN_1_hW-_oyeysuwcIpC2VJ5fWeZJl4tA/pub?output=csv\"\n",
    "download = requests.get(TONNAGE_SPREADSHEET_URL)\n",
    "tonnages_estimate = {\"\": 0}\n",
    "for row in csv.DictReader(download.content.decode(\"utf-8\").splitlines()):\n",
    "    tonnages_estimate[row[\"ship_class\"]] = int(row[\"tonnage_estime_en_tx\"].replace(\"No data\", \"0\") or 0)"
   ]
  },
  {
   "cell_type": "markdown",
   "id": "127cb9f5",
   "metadata": {},
   "source": [
    "Ce module consiste a décrire diachroniquement les voyages arrivant à Marseille"
   ]
  },
  {
   "cell_type": "markdown",
   "id": "5e6ffcb8",
   "metadata": {},
   "source": [
    "### 1. Filtrage des flows"
   ]
  },
  {
   "cell_type": "markdown",
   "id": "f207e913",
   "metadata": {},
   "source": [
    "- Données de \"flows\" Navigo corpus\n",
    "- Uniquement la \"Santé\""
   ]
  },
  {
   "cell_type": "code",
   "execution_count": null,
   "id": "b4028b60",
   "metadata": {
    "tags": []
   },
   "outputs": [],
   "source": [
    "flows_to_Marseille = []\n",
    "rank_Marseille = {}\n",
    "with open('../../data/navigo_all_flows.csv', newline='') as csvfile:\n",
    "    reader = csv.DictReader(csvfile)\n",
    "    for row in reader:\n",
    "        if row['destination_function'] == \"O\" \\\n",
    "        and row[\"source_suite\"] == \"la Santé registre de patentes de Marseille\":\n",
    "           # and row['toponyme_fr'] == 'Marseille' \\\n",
    "            flows_to_Marseille.append(row)\n",
    "            rank_Marseille[row[\"source_doc_id\"]] = row[\"travel_rank\"]"
   ]
  },
  {
   "cell_type": "markdown",
   "id": "9e6c6484",
   "metadata": {},
   "source": [
    "- Prendre note des flows d'arrivées à Marseille\n",
    "- Isoler les flows qui précèdent les arrivées à Marseille"
   ]
  },
  {
   "cell_type": "code",
   "execution_count": null,
   "id": "8592bba8-942a-4773-a5e4-227eedb00844",
   "metadata": {
    "tags": []
   },
   "outputs": [],
   "source": [
    "ranks_smaller_than_Marseille = []\n",
    "counter_uhgs_99999 = 0\n",
    "with open('../../data/navigo_all_flows.csv', newline='') as csvfile:\n",
    "    reader = csv.DictReader(csvfile)\n",
    "    for row in reader:\n",
    "        if row[\"source_suite\"] == \"la Santé registre de patentes de Marseille\":\n",
    "            if row[\"destination_uhgs_id\"] == 'A9999997':\n",
    "                counter_uhgs_99999 += 1\n",
    "                continue\n",
    "            if row[\"source_doc_id\"] in rank_Marseille:\n",
    "                max_rank = rank_Marseille[row[\"source_doc_id\"]]\n",
    "                if row[\"travel_rank\"] <= max_rank:\n",
    "                    ranks_smaller_than_Marseille.append(row)\n",
    "counter_uhgs_99999"
   ]
  },
  {
   "cell_type": "markdown",
   "id": "6c1ab307",
   "metadata": {},
   "source": [
    "### 2. Reconstitution des voyages"
   ]
  },
  {
   "cell_type": "markdown",
   "id": "c6e19f66",
   "metadata": {},
   "source": [
    "- Reconstituer des voyages complets à partir des flows séquentiels\n",
    "- Attribution de caractéristiques aux voyages :\n",
    "    - distance parcourue\n",
    "    - nombre d'étapes\n",
    "    - date de départ\n",
    "    - date d'arrivée\n",
    "    - pavillon\n",
    "    - classe de bateau"
   ]
  },
  {
   "cell_type": "code",
   "execution_count": null,
   "id": "aa4b6e97-562e-4e9b-b968-cab4c683a665",
   "metadata": {
    "tags": []
   },
   "outputs": [],
   "source": [
    "from collections import defaultdict\n",
    "travels = defaultdict(lambda: {\"total_miles\": 0, \"total_steps\": 0, \"keep\": True})\n",
    "null_distance = 0\n",
    "\n",
    "\n",
    "province_to_class = {\n",
    "    'Normandie': 'Ponant', \n",
    "    'Aunis': 'Ponant', \n",
    "    'Guyenne': 'Ponant', \n",
    "    'Languedoc': 'méditerrannée occidentale', \n",
    "    'Provence': 'méditerrannée occidentale', \n",
    "    'Flandre': 'Ponant', \n",
    "    'Picardie': 'Ponant', \n",
    "    'Corse': 'méditerrannée occidentale', \n",
    "    'Bretagne': 'Ponant',\n",
    "    'Roussillon': 'méditerrannée occidentale'\n",
    "}\n",
    "state_to_class = {\n",
    "    'Etats pontificaux': 'méditerrannée occidentale', \n",
    "    'Hambourg': 'Ponant', \n",
    "    #\"Etats-Unis d'Amérique\": '', \n",
    "    'Monaco': 'méditerrannée occidentale', \n",
    "    'Provinces-Unies': 'Ponant', \n",
    "    'Prusse': 'Ponant', \n",
    "    'Grande-Bretagne': 'Ponant', \n",
    "    'République romaine': 'méditerrannée occidentale', \n",
    "    'Duché de Massa et Carrare': 'méditerrannée occidentale', \n",
    "    'Royaume de Naples': 'méditerrannée occidentale', \n",
    "    'Malte': 'méditerrannée occidentale', \n",
    "    'République\\xa0ligurienne': 'méditerrannée occidentale', \n",
    "    'Pologne': 'Ponant', \n",
    "    'République de Gênes': 'méditerrannée occidentale', \n",
    "    'Autriche': 'Ponant', \n",
    "    'République de Raguse': 'méditerrannée occidentale', \n",
    "    'Toscane': 'méditerrannée occidentale', \n",
    "    'Danemark': 'Ponant',\n",
    "    'République de Venise': 'méditerrannée occidentale', \n",
    "    'Maroc': 'méditerrannée occidentale', \n",
    "    'Espagne': 'méditerrannée occidentale', \n",
    "    'Empire ottoman': 'empire ottoman', \n",
    "    'Royaume de Piémont-Sardaigne': 'méditerrannée occidentale', \n",
    "    'Suède': 'Ponant', \n",
    "    'Portugal': 'Ponant', \n",
    "    'Empire russe': 'Ponant', \n",
    "    # 'France', \n",
    "    'Brême': 'méditerrannée occidentale', \n",
    "    'République de Lucques': 'méditerrannée occidentale'\n",
    "}\n",
    "\n",
    "for row in ranks_smaller_than_Marseille:\n",
    "    doc_id = row[\"source_doc_id\"]\n",
    "    travel = travels[doc_id]\n",
    "    distance = row[\"distance_dep_dest_miles\"]\n",
    "    if distance and distance != '0' and travel[\"keep\"] and row[\"departure_out_date\"]:\n",
    "        travel[\"total_miles\"] += int(distance)\n",
    "        travel[\"total_steps\"] += 1\n",
    "        # premier du voyage\n",
    "        if row[\"travel_rank\"] == \"1\":\n",
    "            travel[\"tonnage\"] = tonnages_estimate[row[\"ship_class_standardized\"]] if row[\"ship_class_standardized\"] in tonnages_estimate else 0\n",
    "            travel[\"departure_date\"] = row[\"departure_out_date\"]\n",
    "            travel[\"departure\"] = row[\"departure\"]\n",
    "            travel[\"departure_state\"] = row[\"departure_state_fr\"]\n",
    "            \n",
    "            if row[\"departure_state_fr\"] == \"France\":\n",
    "                if row[\"departure_province\"] in province_to_class:\n",
    "                    travel[\"departure_class\"] = province_to_class[row[\"departure_province\"]]\n",
    "            else:\n",
    "                if row[\"departure_state_fr\"] in state_to_class:\n",
    "                    travel[\"departure_class\"] = state_to_class[row[\"departure_state_fr\"]]\n",
    "        if row[\"travel_rank\"] == rank_Marseille[doc_id]:\n",
    "            travel[\"arrival_date\"] = row[\"indate_fixed\"] \n",
    "            travel[\"pavillon\"] = row[\"ship_flag_standardized_fr\"]\n",
    "            travel[\"classe_bateau\"] = row[\"ship_class_standardized\"]\n",
    "            year = row[\"indate_fixed\"][:4]\n",
    "            travel[\"year\"] = year if year[-1] == \"9\" else year[:3]+\"9\"\n",
    "            travel[\"wartimes\"] = \"guerre\" if year in [\"1759\", \"1779\", \"1799\"] else \"paix\"\n",
    "    else:\n",
    "        travel[\"keep\"] = False"
   ]
  },
  {
   "cell_type": "code",
   "execution_count": null,
   "id": "6840da0b-f1c2-4ad8-a51e-703492251166",
   "metadata": {
    "tags": []
   },
   "outputs": [],
   "source": [
    "for travel in travels.values():\n",
    "    if \"year\" in travel and travel[\"year\"] == '' and travel[\"keep\"] == True:\n",
    "        print(travel)"
   ]
  },
  {
   "cell_type": "markdown",
   "id": "7911ecf2",
   "metadata": {},
   "source": [
    "### 3. Suppression des voyages invalides et calcul de la vitesse"
   ]
  },
  {
   "cell_type": "markdown",
   "id": "236c53b6",
   "metadata": {},
   "source": [
    "- Suppression des voyages dont la date est invalide : contient une imprécision sous forme de '<' ou '>'"
   ]
  },
  {
   "cell_type": "code",
   "execution_count": null,
   "id": "726c2f88-0d56-41ec-8dc3-2f2084fc2d4a",
   "metadata": {
    "tags": []
   },
   "outputs": [],
   "source": [
    "from datetime import datetime\n",
    "\n",
    "good_travels = {}\n",
    "error_list = []\n",
    "\n",
    "for k, v in travels.items():\n",
    "    if v[\"keep\"] and ('<' not in v['departure_date'] and '>' not in v['departure_date']):\n",
    "        travel = v.copy()\n",
    "        end_time = datetime.strptime(v[\"arrival_date\"], \"%Y-%m-%d\")\n",
    "        try:\n",
    "            start_time = datetime.strptime(v[\"departure_date\"][:10], \"%Y=%m=%d\")\n",
    "        except ValueError as e:\n",
    "            error_list.append(e)\n",
    "            continue\n",
    "        travel[\"duration\"] = (end_time - start_time).days\n",
    "        if travel[\"duration\"] == 0:\n",
    "            travel[\"duration\"] = 1\n",
    "        travel[\"speed\"] = v[\"total_miles\"] / travel[\"duration\"]\n",
    "        travel[\"decade\"] = v[\"arrival_date\"][:4]\n",
    "        travel.pop(\"keep\")\n",
    "        good_travels[k] = travel\n",
    "\n",
    "travels_list = list(good_travels.values())\n",
    "\n",
    "travels_clean = [t for t in travels_list \\\n",
    "                    if \"departure_class\" in t \\\n",
    "                    and t[\"speed\"] < 300\n",
    "                   ]\n",
    "\n",
    "travels_in_peace = [t for t in travels_clean if t[\"wartimes\"] == \"paix\"]\n",
    "travels_in_war = [t for t in travels_clean if t[\"wartimes\"] == \"guerre\"]"
   ]
  },
  {
   "cell_type": "markdown",
   "id": "9141c883",
   "metadata": {},
   "source": [
    "### 5. Création des visualisations"
   ]
  },
  {
   "cell_type": "code",
   "execution_count": null,
   "id": "971ed15c-ab1f-48b1-a727-f736e4f9b728",
   "metadata": {
    "tags": []
   },
   "outputs": [],
   "source": [
    "VegaLite({\n",
    "    \"$schema\": \"https://vega.github.io/schema/vega-lite/v5.json\",\n",
    "    \"title\": \"Styles de navigation durant les années de paix\",\n",
    "    \"mark\": {\n",
    "        \"tooltip\": {\n",
    "         \"content\": \"data\"\n",
    "        },\n",
    "        \"type\": \"point\",\n",
    "    },\n",
    "    \"data\": {\n",
    "        \"values\": travels_in_peace\n",
    "    },\n",
    "    \"encoding\": {\n",
    "        \"row\": {\"field\": \"departure_class\"},\n",
    "        \"x\": {\n",
    "            \"field\": \"speed\",\n",
    "            \"type\": \"quantitative\", \n",
    "            \"title\": \"vitesse\"\n",
    "        },\n",
    "        \"y\": {\n",
    "            \"field\": \"tonnage\",\n",
    "            \"type\": \"quantitative\",\n",
    "            \"title\": \"tonnage\"\n",
    "        },\n",
    "        \"color\": {\n",
    "            \"field\": \"total_steps\",\n",
    "            \"title\": \"nombre d'étapes\",\n",
    "            \"type\": \"quantitative\",\n",
    "            \"scale\": {\n",
    "                \"range\": [\"lightblue\", \"yellow\"]\n",
    "            }\n",
    "        }\n",
    "            \n",
    "    },\n",
    "    # \"resolve\": {\"axis\": {\"x\": \"independent\", \"y\": \"independent\"}}\n",
    "})"
   ]
  },
  {
   "cell_type": "code",
   "execution_count": null,
   "id": "9870e8a8-f406-4c59-9491-a06212aa1143",
   "metadata": {
    "tags": []
   },
   "outputs": [],
   "source": [
    "VegaLite({\n",
    "    \"$schema\": \"https://vega.github.io/schema/vega-lite/v5.json\",\n",
    "    \"title\": \"Styles de navigation durant les années de guerre\",\n",
    "    \"mark\": {\n",
    "        \"tooltip\": {\n",
    "         \"content\": \"data\"\n",
    "        },\n",
    "        \"type\": \"point\",\n",
    "    },\n",
    "    \"data\": {\n",
    "        \"values\": travels_in_war\n",
    "    },\n",
    "    \"encoding\": {\n",
    "        \"row\": {\"field\": \"departure_class\"},\n",
    "        \"x\": {\n",
    "            \"field\": \"speed\",\n",
    "            \"type\": \"quantitative\", \n",
    "            \"title\": \"vitesse\"\n",
    "        },\n",
    "        \"y\": {\n",
    "            \"field\": \"tonnage\",\n",
    "            \"type\": \"quantitative\",\n",
    "            \"title\": \"tonnage\"\n",
    "        },\n",
    "        \"color\": {\n",
    "            \"field\": \"total_steps\",\n",
    "            \"title\": \"nombre d'étapes\",\n",
    "            \"type\": \"quantitative\",\n",
    "            \"scale\": {\n",
    "                \"range\": [\"lightblue\", \"yellow\"]\n",
    "            }\n",
    "        }\n",
    "            \n",
    "    },\n",
    "    # \"resolve\": {\"axis\": {\"x\": \"independent\", \"y\": \"independent\"}}\n",
    "})"
   ]
  },
  {
   "cell_type": "code",
   "execution_count": null,
   "id": "357c662e-085b-4ab7-8557-a592665f3014",
   "metadata": {
    "tags": []
   },
   "outputs": [],
   "source": [
    "VegaLite({\n",
    "    \"$schema\": \"https://vega.github.io/schema/vega-lite/v5.json\",\n",
    "    \"title\": \"Distribution des tonnages par provenance\",\n",
    "    \"mark\": {\n",
    "        \"tooltip\": {\n",
    "         \"content\": \"data\"\n",
    "        },\n",
    "        \"type\": \"bar\",\n",
    "    },\n",
    "    \"data\": {\n",
    "        \"values\": travels_in_peace\n",
    "    },\n",
    "    \"encoding\": {\n",
    "        \"row\": {\n",
    "            \"field\": \"departure_class\"\n",
    "        },\n",
    "        \"x\": {\n",
    "            \"field\": \"tonnage\",\n",
    "            \"type\": \"nominal\", \n",
    "            \"title\": \"tonnage\"\n",
    "        },\n",
    "        \"y\": {\n",
    "            \n",
    "            \"aggregate\": \"count\",\n",
    "            \"type\": \"quantitative\",\n",
    "            \"title\": \"nombre de voyages\"\n",
    "        }\n",
    "            \n",
    "    },\n",
    "    \"resolve\": {\n",
    "        \"scale\": {\n",
    "      # \"x\": \"independent\", \n",
    "            \"y\": \"independent\"\n",
    "        }\n",
    "    }\n",
    "})"
   ]
  },
  {
   "cell_type": "code",
   "execution_count": null,
   "id": "da62b79c-a1b1-4dd9-8bd3-a06b4bc12034",
   "metadata": {
    "tags": []
   },
   "outputs": [],
   "source": [
    "VegaLite({\n",
    "    \"$schema\": \"https://vega.github.io/schema/vega-lite/v5.json\",\n",
    "    \"title\": \"Distribution des nombres d'étapes par provenance les années de paix\",\n",
    "    \"mark\": {\n",
    "        \"tooltip\": {\n",
    "         \"content\": \"data\"\n",
    "        },\n",
    "        \"type\": \"bar\",\n",
    "    },\n",
    "    \"data\": {\n",
    "        \"values\": travels_in_peace\n",
    "    },\n",
    "    \"encoding\": {\n",
    "        \"row\": {\n",
    "            \"field\": \"departure_class\"\n",
    "        },\n",
    "        \"x\": {\n",
    "            \"field\": \"total_steps\",\n",
    "            \"type\": \"nominal\", \n",
    "            \"title\": \"nombre d'étapes\"\n",
    "        },\n",
    "        \"y\": {\n",
    "            \n",
    "            \"aggregate\": \"count\",\n",
    "            \"type\": \"quantitative\",\n",
    "            \"title\": \"nombre de voyages\"\n",
    "        }\n",
    "            \n",
    "    },\n",
    "    \"resolve\": {\n",
    "        \"scale\": {\n",
    "      # \"x\": \"independent\", \n",
    "            \"y\": \"independent\"\n",
    "        }\n",
    "    }\n",
    "})"
   ]
  },
  {
   "cell_type": "code",
   "execution_count": null,
   "id": "25ff5d44-c14f-4f24-a247-f6bd798360c8",
   "metadata": {
    "tags": []
   },
   "outputs": [],
   "source": [
    "VegaLite({\n",
    "    \"$schema\": \"https://vega.github.io/schema/vega-lite/v5.json\",\n",
    "    \"title\": \"Distribution des vitesses par provenance\",\n",
    "    \"mark\": {\n",
    "        \"tooltip\": {\n",
    "         \"content\": \"data\"\n",
    "        },\n",
    "        \"type\": \"bar\",\n",
    "    },\n",
    "    \"data\": {\n",
    "        \"values\": travels_in_peace\n",
    "    },\n",
    "    \"encoding\": {\n",
    "        \"row\": {\n",
    "            \"field\": \"departure_class\"\n",
    "        },\n",
    "        \"x\": {\n",
    "            \"field\": \"speed\",\n",
    "            \"type\": \"quantitative\", \n",
    "            \"title\": \"vitesse\",\n",
    "            \"bin\": True\n",
    "        },\n",
    "        \"y\": {\n",
    "            \n",
    "            \"aggregate\": \"count\",\n",
    "            \"type\": \"quantitative\",\n",
    "            \"title\": \"nombre de voyages\"\n",
    "        }\n",
    "            \n",
    "    },\n",
    "    \"resolve\": {\n",
    "        \"scale\": {\n",
    "      # \"x\": \"independent\", \n",
    "            \"y\": \"independent\"\n",
    "        }\n",
    "    }\n",
    "})"
   ]
  },
  {
   "cell_type": "code",
   "execution_count": null,
   "id": "2e88c240-6a27-4aee-b1ce-9a90ae3be11a",
   "metadata": {
    "tags": []
   },
   "outputs": [],
   "source": [
    "VegaLite({\n",
    "    \"$schema\": \"https://vega.github.io/schema/vega-lite/v5.json\",\n",
    "    \"title\": \"Distribution des distances par provenance\",\n",
    "    \"data\": {\n",
    "        \"values\": travels_clean\n",
    "    },\n",
    "    \"facet\": {\n",
    "        \"row\": {\n",
    "            \"field\": \"departure_class\"\n",
    "        },\n",
    "        \"column\": {\n",
    "            \"field\": \"wartimes\"\n",
    "        },\n",
    "    },\n",
    "    \"spec\": {\n",
    "        \"mark\": {\n",
    "            \"tooltip\": {\n",
    "             \"content\": \"data\"\n",
    "            },\n",
    "            \"type\": \"bar\",\n",
    "        },\n",
    "        \"encoding\": {\n",
    "            \"x\": {\n",
    "                \"field\": \"total_miles\",\n",
    "                \"type\": \"quantitative\", \n",
    "                \"title\": \"distance totale parcourue\",\n",
    "                \"bin\": True\n",
    "            },\n",
    "            \"y\": {\n",
    "\n",
    "                \"aggregate\": \"count\",\n",
    "                \"type\": \"quantitative\",\n",
    "                \"title\": \"nombre de voyages\"\n",
    "            }\n",
    "\n",
    "        },\n",
    "        \n",
    "    },\n",
    "    \"resolve\": {\n",
    "            \"scale\": {\n",
    "          # \"x\": \"independent\", \n",
    "                \"y\": \"independent\"\n",
    "            }\n",
    "        }\n",
    "    \n",
    "    \n",
    "})"
   ]
  },
  {
   "cell_type": "code",
   "execution_count": null,
   "id": "c2ed9448-d99f-4c75-bff5-2ac65908a48c",
   "metadata": {
    "tags": []
   },
   "outputs": [],
   "source": [
    "VegaLite({\n",
    "    \"$schema\": \"https://vega.github.io/schema/vega-lite/v5.json\",\n",
    "    \"title\": \"Distribution des nombres d'étapes et tonnages par provenance les années de paix\",\n",
    "    \"mark\": {\n",
    "        \"tooltip\": {\n",
    "         \"content\": \"data\"\n",
    "        },\n",
    "        \"type\": \"circle\",\n",
    "    },\n",
    "    \"data\": {\n",
    "        \"values\": travels_in_peace\n",
    "    },\n",
    "    \"encoding\": {\n",
    "        \"row\": {\n",
    "            \"field\": \"departure_class\"\n",
    "        },\n",
    "        \"y\": {\n",
    "            \"field\": \"total_steps\",\n",
    "            \"type\": \"ordinal\", \n",
    "            \"title\": \"nombre d'étapes\",\n",
    "            \"sort\": \"descending\"\n",
    "        },\n",
    "        \"x\": {\n",
    "            \"field\": \"tonnage\",\n",
    "            \"type\": \"nominal\",\n",
    "            \"title\": \"tonnage\"\n",
    "        },\n",
    "        \"size\": {\n",
    "            \"aggregate\": \"count\",\n",
    "            \"title\": \"nombre de voyages\"\n",
    "        }\n",
    "            \n",
    "    },\n",
    "    \"resolve\": {\n",
    "        \"scale\": {\n",
    "      # \"x\": \"independent\", \n",
    "            \"size\": \"independent\"\n",
    "        }\n",
    "    }\n",
    "})"
   ]
  }
 ],
 "metadata": {
  "kernelspec": {
   "display_name": "Python 3 (ipykernel)",
   "language": "python",
   "name": "python3"
  },
  "language_info": {
   "codemirror_mode": {
    "name": "ipython",
    "version": 3
   },
   "file_extension": ".py",
   "mimetype": "text/x-python",
   "name": "python",
   "nbconvert_exporter": "python",
   "pygments_lexer": "ipython3",
   "version": "3.7.7"
  },
  "vscode": {
   "interpreter": {
    "hash": "d0a0fda81e871a488515550ff9eda7570f03c43328c7ae4915d98c868a556550"
   }
  }
 },
 "nbformat": 4,
 "nbformat_minor": 5
}
