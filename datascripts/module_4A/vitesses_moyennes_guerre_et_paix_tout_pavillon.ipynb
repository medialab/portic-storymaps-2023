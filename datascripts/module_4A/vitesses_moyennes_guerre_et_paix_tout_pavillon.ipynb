{
 "cells": [
  {
   "cell_type": "code",
   "execution_count": null,
   "id": "f8e11578",
   "metadata": {
    "tags": []
   },
   "outputs": [],
   "source": [
    "import csv\n",
    "import pandas as pd\n",
    "import numpy as np\n",
    "import pprint"
   ]
  },
  {
   "cell_type": "markdown",
   "id": "127cb9f5",
   "metadata": {},
   "source": [
    "Ce module consiste a décrire diachroniquement les voyages arrivant à Marseille"
   ]
  },
  {
   "cell_type": "markdown",
   "id": "5e6ffcb8",
   "metadata": {},
   "source": [
    "### 1. Filtrage des flows"
   ]
  },
  {
   "cell_type": "markdown",
   "id": "f207e913",
   "metadata": {},
   "source": [
    "- Données de \"flows\" Navigo corpus\n",
    "- Uniquement la \"Santé\""
   ]
  },
  {
   "cell_type": "code",
   "execution_count": null,
   "id": "b4028b60",
   "metadata": {
    "tags": []
   },
   "outputs": [],
   "source": [
    "flows_to_Marseille = []\n",
    "rank_Marseille = {}\n",
    "with open('../../data/navigo_all_flows.csv', newline='') as csvfile:\n",
    "    reader = csv.DictReader(csvfile)\n",
    "    for row in reader:\n",
    "        if row['destination_function'] == \"O\" \\\n",
    "        and row[\"source_suite\"] == \"la Santé registre de patentes de Marseille\":\n",
    "           # and row['toponyme_fr'] == 'Marseille' \\\n",
    "            flows_to_Marseille.append(row)\n",
    "            rank_Marseille[row[\"source_doc_id\"]] = row[\"travel_rank\"]\n"
   ]
  },
  {
   "cell_type": "markdown",
   "id": "9e6c6484",
   "metadata": {},
   "source": [
    "- Prendre note des flows d'arrivées à Marseille\n",
    "- Isoler les flows qui précèdent les arrivées à Marseille"
   ]
  },
  {
   "cell_type": "code",
   "execution_count": null,
   "id": "8592bba8-942a-4773-a5e4-227eedb00844",
   "metadata": {
    "tags": []
   },
   "outputs": [],
   "source": [
    "ranks_smaller_than_Marseille = []\n",
    "counter_uhgs_99999 = 0\n",
    "with open('../../data/navigo_all_flows.csv', newline='') as csvfile:\n",
    "    reader = csv.DictReader(csvfile)\n",
    "    for row in reader:\n",
    "        if row[\"source_suite\"] == \"la Santé registre de patentes de Marseille\":\n",
    "            if row[\"destination_uhgs_id\"] == 'A9999997':\n",
    "                counter_uhgs_99999 += 1\n",
    "                continue\n",
    "            if row[\"source_doc_id\"] in rank_Marseille:\n",
    "                max_rank = rank_Marseille[row[\"source_doc_id\"]]\n",
    "                if row[\"travel_rank\"] <= max_rank:\n",
    "                    ranks_smaller_than_Marseille.append(row)\n",
    "counter_uhgs_99999"
   ]
  },
  {
   "cell_type": "markdown",
   "id": "6c1ab307",
   "metadata": {},
   "source": [
    "### 2. Reconstitution des voyages"
   ]
  },
  {
   "cell_type": "markdown",
   "id": "c6e19f66",
   "metadata": {},
   "source": [
    "- Reconstituer des voyages complets à partir des flows séquentiels\n",
    "- Attribution de caractéristiques aux voyages :\n",
    "    - distance parcourue\n",
    "    - nombre d'étapes\n",
    "    - date de départ\n",
    "    - date d'arrivée\n",
    "    - pavillon\n",
    "    - classe de bateau"
   ]
  },
  {
   "cell_type": "code",
   "execution_count": null,
   "id": "c4acb890-0774-4abc-92d8-892749f3759d",
   "metadata": {
    "tags": []
   },
   "outputs": [],
   "source": [
    "from collections import defaultdict\n",
    "travels = defaultdict(lambda: {\"total_miles\": 0, \"total_steps\": 0, \"keep\": True})\n",
    "null_distance = 0\n",
    "\n",
    "for row in ranks_smaller_than_Marseille:\n",
    "    doc_id = row[\"source_doc_id\"]\n",
    "    travel = travels[doc_id]\n",
    "    distance = row[\"distance_dep_dest_miles\"]\n",
    "    if distance and distance != '0' and travel[\"keep\"] and row[\"departure_out_date\"]:\n",
    "        travel[\"total_miles\"] += int(distance)\n",
    "        travel[\"total_steps\"] += 1\n",
    "        if row[\"travel_rank\"] == \"1\":\n",
    "            travel[\"departure_date\"] = row[\"departure_out_date\"]\n",
    "        if row[\"travel_rank\"] == rank_Marseille[doc_id]:\n",
    "            travel[\"arrival_date\"] = row[\"indate_fixed\"] \n",
    "            travel[\"pavillon\"] = row[\"ship_flag_standardized_fr\"]\n",
    "            travel[\"classe_bateau\"] = row[\"ship_class_standardized\"]\n",
    "            travel[\"year\"] = row[\"indate_fixed\"][:4]\n",
    "    else:\n",
    "        travel[\"keep\"] = False"
   ]
  },
  {
   "cell_type": "markdown",
   "id": "7911ecf2",
   "metadata": {},
   "source": [
    "### 3. Suppression des voyages invalides"
   ]
  },
  {
   "cell_type": "markdown",
   "id": "236c53b6",
   "metadata": {},
   "source": [
    "- Suppression des voyages dont la date est invalide : contient une imprécision sous forme de '<' ou '>'\n",
    "- Suppression des voyages en 1787, pour bien comparer guerre et paix"
   ]
  },
  {
   "cell_type": "code",
   "execution_count": null,
   "id": "726c2f88-0d56-41ec-8dc3-2f2084fc2d4a",
   "metadata": {
    "tags": []
   },
   "outputs": [],
   "source": [
    "from datetime import datetime\n",
    "\n",
    "good_travels = {}\n",
    "error_list = []\n",
    "\n",
    "for k, v in travels.items():\n",
    "    if v[\"keep\"] and ('<' not in v['departure_date'] and '>' not in v['departure_date']) and v[\"year\"] != '1787':\n",
    "        travel = v.copy()\n",
    "        end_time = datetime.strptime(v[\"arrival_date\"], \"%Y-%m-%d\")\n",
    "        try:\n",
    "            start_time = datetime.strptime(v[\"departure_date\"][:10], \"%Y=%m=%d\")\n",
    "        except ValueError as e:\n",
    "            error_list.append(e)\n",
    "            continue\n",
    "        travel[\"duration\"] = (end_time - start_time).days\n",
    "        if travel[\"duration\"] == 0:\n",
    "            travel[\"duration\"] = 1\n",
    "        travel[\"speed\"] = v[\"total_miles\"] / travel[\"duration\"]\n",
    "        travel.pop(\"keep\")\n",
    "        good_travels[k] = travel\n"
   ]
  },
  {
   "cell_type": "markdown",
   "id": "c5f9b4f6",
   "metadata": {},
   "source": [
    "- Création du dataframe de voyages"
   ]
  },
  {
   "cell_type": "code",
   "execution_count": null,
   "id": "1e0ce142-5c3e-4208-b290-dac6a6b9fc20",
   "metadata": {
    "tags": []
   },
   "outputs": [],
   "source": [
    "df_travels = pd.DataFrame(good_travels).transpose()\n",
    "df_travels = df_travels[df_travels.duration > 0]"
   ]
  },
  {
   "cell_type": "code",
   "execution_count": null,
   "id": "c78647cc",
   "metadata": {},
   "outputs": [],
   "source": [
    "df_travels.year.value_counts().sort_index()"
   ]
  },
  {
   "cell_type": "markdown",
   "id": "3a6ac4b4",
   "metadata": {},
   "source": [
    "### 4. Création des visualisations"
   ]
  },
  {
   "cell_type": "code",
   "execution_count": null,
   "id": "e6409c5f-225c-4105-a4a8-28cd48910ecc",
   "metadata": {
    "tags": []
   },
   "outputs": [],
   "source": [
    "viz_df = df_travels.groupby(['year']).agg({'speed': 'mean',\n",
    "                                           'total_steps': 'mean',\n",
    "                                           'total_miles': 'mean',\n",
    "                                           'departure_date': 'size',\n",
    "                                           'duration': 'mean'\n",
    "                                          }).reset_index()\n",
    "\n",
    "viz_df.columns = ['year', 'mean_speed', 'mean_number_steps', 'mean_distance', 'count_travel', 'mean_duration']\n",
    "\n",
    "viz_df[\"war\"] = viz_df.year.isin([\"1759\", \"1779\", \"1799\"]).replace({True: \"guerre\", False: \"paix\"})"
   ]
  },
  {
   "cell_type": "markdown",
   "id": "576369de",
   "metadata": {},
   "source": [
    "- Passage de dataframe Pandas à des listes \"VegaLite-ready\"\n",
    "- Configuration de Vegalite"
   ]
  },
  {
   "cell_type": "code",
   "execution_count": null,
   "id": "23be2f16",
   "metadata": {},
   "outputs": [],
   "source": [
    "list_viz = []\n",
    "\n",
    "for i,row in viz_df.iterrows():\n",
    "    list_viz.append(dict(row))\n"
   ]
  },
  {
   "cell_type": "code",
   "execution_count": null,
   "id": "88ce9ff2",
   "metadata": {},
   "outputs": [],
   "source": [
    "from IPython.display import display\n",
    "\n",
    "def VegaLite(spec):\n",
    "    bundle = {}\n",
    "    bundle['application/vnd.vegalite.v4+json'] = spec\n",
    "    display(bundle, raw=True)"
   ]
  },
  {
   "cell_type": "code",
   "execution_count": null,
   "id": "9ba2d49d",
   "metadata": {},
   "outputs": [],
   "source": [
    "VegaLite({\n",
    "    \"$schema\": \"https://vega.github.io/schema/vega-lite/v5.json\",\n",
    "    \"title\": \"Vitesse moyenne pour chaque décennie\",\n",
    "    \"mark\":  \"bar\",\n",
    "    \"data\": {\n",
    "        \"values\": list_viz\n",
    "    },\n",
    "    \"encoding\": {\n",
    "        \"x\": {\n",
    "            \"field\": \"year\",\n",
    "            \"type\": \"nominal\", \n",
    "            \"title\": \"year\"\n",
    "        },\n",
    "        \"y\": {\n",
    "            \"field\": \"mean_speed\",\n",
    "            \"type\": \"quantitative\",\n",
    "            \"title\": \"mean speed\"\n",
    "        },\n",
    "        \"color\": {\n",
    "            \"field\": \"war\",\n",
    "            \"type\": \"nominal\",\n",
    "            \"title\": \"guerre\"\n",
    "        }\n",
    "    }\n",
    "})"
   ]
  },
  {
   "cell_type": "code",
   "execution_count": null,
   "id": "fc590787",
   "metadata": {},
   "outputs": [],
   "source": [
    "VegaLite({\n",
    "    \"$schema\": \"https://vega.github.io/schema/vega-lite/v5.json\",\n",
    "    \"title\": \"Nombre moyen d'étapes pour chaque décennie\",\n",
    "    \"mark\":  \"bar\",\n",
    "    \"data\": {\n",
    "        \"values\": list_viz\n",
    "    },\n",
    "    \"encoding\": {\n",
    "        \"x\": {\n",
    "            \"field\": \"year\",\n",
    "            \"type\": \"nominal\", \n",
    "            \"title\": \"year\"\n",
    "        },\n",
    "        \"y\": {\n",
    "            \"field\": \"mean_number_steps\",\n",
    "            \"type\": \"quantitative\",\n",
    "            \"title\": \"mean number of steps\"\n",
    "        },\n",
    "        \"color\": {\n",
    "            \"field\": \"war\",\n",
    "            \"type\": \"nominal\",\n",
    "            \"title\": \"guerre\"\n",
    "        }\n",
    "    }\n",
    "})"
   ]
  },
  {
   "cell_type": "code",
   "execution_count": null,
   "id": "07853769-e858-4ad4-b078-cc91bc006711",
   "metadata": {
    "tags": []
   },
   "outputs": [],
   "source": [
    "VegaLite({\n",
    "    \"$schema\": \"https://vega.github.io/schema/vega-lite/v5.json\",\n",
    "    \"title\": \"Durée moyenne des trajets pour chaque décennie\",\n",
    "    \"mark\":  \"bar\",\n",
    "    \"data\": {\n",
    "        \"values\": list_viz\n",
    "    },\n",
    "    \"encoding\": {\n",
    "        \"x\": {\n",
    "            \"field\": \"year\",\n",
    "            \"type\": \"nominal\", \n",
    "            \"title\": \"année\"\n",
    "        },\n",
    "        \"y\": {\n",
    "            \"field\": \"mean_duration\",\n",
    "            \"type\": \"quantitative\",\n",
    "            \"title\": \"Durée moyenne, jours\"\n",
    "        },\n",
    "        \"color\": {\n",
    "            \"field\": \"war\",\n",
    "            \"type\": \"nominal\",\n",
    "            \"title\": \"guerre\"\n",
    "        }\n",
    "    }\n",
    "})"
   ]
  },
  {
   "cell_type": "code",
   "execution_count": null,
   "id": "8ca7003f-1f9f-4ac4-a415-30686892907d",
   "metadata": {
    "tags": []
   },
   "outputs": [],
   "source": [
    "VegaLite({\n",
    "    \"$schema\": \"https://vega.github.io/schema/vega-lite/v5.json\",\n",
    "    \"title\": \"Longueur moyenne des trajets en miles, pour chaque décennie\",\n",
    "    \"mark\":  \"bar\",\n",
    "    \"data\": {\n",
    "        \"values\": list_viz\n",
    "    },\n",
    "    \"encoding\": {\n",
    "        \"x\": {\n",
    "            \"field\": \"year\",\n",
    "            \"type\": \"nominal\", \n",
    "            \"title\": \"année\"\n",
    "        },\n",
    "        \"y\": {\n",
    "            \"field\": \"mean_distance\",\n",
    "            \"type\": \"quantitative\",\n",
    "            \"title\": \"Distance moyenne, miles\"\n",
    "        },\n",
    "        \"color\": {\n",
    "            \"field\": \"war\",\n",
    "            \"type\": \"nominal\",\n",
    "            \"title\": \"guerre\"\n",
    "        }\n",
    "    }\n",
    "})"
   ]
  },
  {
   "cell_type": "code",
   "execution_count": null,
   "id": "3e0e01f8-7585-4cfe-b411-0c847c79e337",
   "metadata": {},
   "outputs": [],
   "source": []
  }
 ],
 "metadata": {
  "kernelspec": {
   "display_name": "Python 3 (ipykernel)",
   "language": "python",
   "name": "python3"
  },
  "language_info": {
   "codemirror_mode": {
    "name": "ipython",
    "version": 3
   },
   "file_extension": ".py",
   "mimetype": "text/x-python",
   "name": "python",
   "nbconvert_exporter": "python",
   "pygments_lexer": "ipython3",
   "version": "3.8.2"
  },
  "vscode": {
   "interpreter": {
    "hash": "d0a0fda81e871a488515550ff9eda7570f03c43328c7ae4915d98c868a556550"
   }
  }
 },
 "nbformat": 4,
 "nbformat_minor": 5
}
