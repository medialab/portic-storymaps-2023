{
 "cells": [
  {
   "cell_type": "markdown",
   "id": "72fccfd2-612f-4dfc-b006-122fd580c37c",
   "metadata": {},
   "source": [
    "L'objectif de ce notebook est de créer une méthode permettant de classer les pavillons des bateaux passés par Marseille pour tester diverses hypothèses portant sur les différentes logiques de navigation à l'œuvre."
   ]
  },
  {
   "cell_type": "code",
   "execution_count": null,
   "id": "c0035cd7-3d73-4d16-a55d-39c44358b514",
   "metadata": {
    "tags": []
   },
   "outputs": [],
   "source": [
    "import csv\n",
    "import pandas as pd\n",
    "import numpy as np\n",
    "import pprint"
   ]
  },
  {
   "cell_type": "markdown",
   "id": "8faea92b-05ea-4475-9bb7-0defe8406a30",
   "metadata": {
    "tags": []
   },
   "source": [
    "# La méthode"
   ]
  },
  {
   "cell_type": "code",
   "execution_count": null,
   "id": "57f209e1-ccc8-429d-91b6-bd74e63590fc",
   "metadata": {
    "tags": []
   },
   "outputs": [],
   "source": [
    "ughs_id_to_province = {}\n",
    "provinces = set()\n",
    "with open('../../data/navigo_all_pointcalls.csv', newline='') as csvfile:\n",
    "    reader = csv.DictReader(csvfile)\n",
    "    for row in reader:\n",
    "        uhgs_id = row['pointcall_uhgs_id']\n",
    "        province = row['pointcall_province']\n",
    "        #state = row['pointcall_state_1789_fr']\n",
    "        if row['state_fr'] == 'France':\n",
    "            ughs_id_to_province[uhgs_id] = province\n",
    "            provinces.add(province)\n",
    "        if row['homeport_state_1789_fr'] == 'France':\n",
    "            ughs_id_to_province[row['homeport_uhgs_id']] = row['homeport_province']\n",
    "\n",
    "LEVANT_PROVINCES = ['Corse', 'Languedoc',  'Roussillon', 'Provence']\n",
    "#ITALIAN_FLAGS = [\n",
    "#    'italien, indéterminé', 'carrarais', 'savoyard', 'vénitien', 'ragusois', 'génois', 'napolitain', 'toscan', 'romain'\n",
    "#]\n",
    "\n",
    "BIRTHPLACE_TO_PROVINCE = {\n",
    "    '': 'Inconnu', \n",
    "    'Olioule': 'Provence', \n",
    "    'La Cadiere': 'Provence', \n",
    "    'Sejan [Sigean]': 'Languedoc', \n",
    "    'Roquebrune': 'Provence', \n",
    "    'Séjean': 'Provence',\n",
    "    'Sejan': 'Provence', \n",
    "    'Ambon': 'Bretagne', \n",
    "    'Hieres': 'Province', \n",
    "    'Rivage [France, undetermined]': 'Inconnu', \n",
    "    'La Cadière': 'Provence', \n",
    "    'Istre': 'Provence', \n",
    "    'Cadiere': 'Provence', \n",
    "    'Aubagne': 'Provence', \n",
    "    'Seyreste': 'Provence', \n",
    "    'Solliés': 'Provence', \n",
    "    'Gruissand': 'Languedoc', \n",
    "    'Ceyreste': 'Provence', \n",
    "    'Valauris': 'Provence', \n",
    "    'Six fours': 'Provence', \n",
    "    'Gruissan': 'Provence', \n",
    "    'Mazargue': 'Provence', \n",
    "    'Roquemaure en Languedoc': 'Languedoc', \n",
    "    'Oullioulles': 'Provence', \n",
    "    'Six Fours': 'Provence', \n",
    "    'Hières': 'Provence', \n",
    "    'Mazargues': 'Provence', \n",
    "    'Sejean': 'Languedoc', \n",
    "    'Six Four': 'Provence', \n",
    "    'Roussillon': 'Roussillon', \n",
    "    'Istres': 'Provence', \n",
    "    'Gruisson': 'Languedoc', \n",
    "    'Serinan': 'Languedoc', \n",
    "    'Roquemaure': 'Languedoc', \n",
    "    'Sixfours': 'Provence'\n",
    "}\n",
    "\n",
    "FLAG_TO_GROUPING = {\n",
    "    'italien, indéterminé': 'Italie', \n",
    "    'carrarais': 'Italie', \n",
    "    'savoyard': 'Italie', \n",
    "    'vénitien': 'Italie', \n",
    "    'ragusois': 'Italie', \n",
    "    'génois': 'Italie', \n",
    "    'napolitain': 'Italie', \n",
    "    'toscan': 'Italie', \n",
    "    'romain': 'Italie',\n",
    "    \n",
    "    'hollandais': 'Hollande', \n",
    "    'danois': 'Nord', \n",
    "    'ottoman': 'Levant et Barbarie', \n",
    "    'étasunien': 'États-Unis d\\'Amérique', \n",
    "    'monégasque': 'France', \n",
    "    'britannique': 'Angleterre', \n",
    "    'suédois': 'Nord', \n",
    "    'français': 'France', \n",
    "    'maltais': 'Autre'\n",
    "}\n",
    "def aggregate_flag_for_flow(flow, ughs_id_to_province_map, isolate_levant=True):\n",
    "    flag = row['ship_flag_standardized_fr']\n",
    "    birthplace_uhgs_id = row['birthplace_uhgs_id']\n",
    "    birthplace_city = row['birthplace']\n",
    "    if flag == '':\n",
    "        return 'Inconnu'\n",
    "    if flag == 'français' and isolate_levant:\n",
    "        province = ughs_id_to_province_map[birthplace_uhgs_id] if birthplace_uhgs_id in ughs_id_to_province_map else 'Inconnu'\n",
    "        if province == 'Inconnu' and birthplace_city in BIRTHPLACE_TO_PROVINCE:\n",
    "            province = BIRTHPLACE_TO_PROVINCE[birthplace_city]\n",
    "        if province in LEVANT_PROVINCES:\n",
    "            return 'France du Levant'\n",
    "        else:\n",
    "            return 'France du Ponant'\n",
    "    elif flag in FLAG_TO_GROUPING:\n",
    "        if flag == 'monégasque' and isolate_levant:\n",
    "            return 'France du Levant'\n",
    "        else:\n",
    "            return FLAG_TO_GROUPING[flag]\n",
    "    else:\n",
    "        return 'Inconnu'"
   ]
  },
  {
   "cell_type": "markdown",
   "id": "b0f92ade-5941-404a-ae7f-a9e5a1c7b717",
   "metadata": {},
   "source": [
    "# Test de la fonction"
   ]
  },
  {
   "cell_type": "code",
   "execution_count": null,
   "id": "10070ee7-dc04-43e6-acac-fb6bb9bca72b",
   "metadata": {
    "tags": []
   },
   "outputs": [],
   "source": [
    "stats = {}\n",
    "with open('../../data/navigo_all_flows.csv', newline='') as csvfile:\n",
    "    reader = csv.DictReader(csvfile)\n",
    "    for row in reader:\n",
    "        if row['destination_function'] == \"O\" \\\n",
    "        and row[\"source_suite\"] == \"la Santé registre de patentes de Marseille\":\n",
    "           # and row['toponyme_fr'] == 'Marseille' \\\n",
    "            flag_class = aggregate_flag_for_flow(row, ughs_id_to_province)\n",
    "            if flag_class not in stats:\n",
    "                stats[flag_class] = 0\n",
    "            stats[flag_class]+= 1\n",
    "# print(flags)\n",
    "for flag_class, nb in sorted(stats.items(), key=lambda c : c[1]):\n",
    "    print(flag_class, str(nb))"
   ]
  }
 ],
 "metadata": {
  "kernelspec": {
   "display_name": "Python 3 (ipykernel)",
   "language": "python",
   "name": "python3"
  },
  "language_info": {
   "codemirror_mode": {
    "name": "ipython",
    "version": 3
   },
   "file_extension": ".py",
   "mimetype": "text/x-python",
   "name": "python",
   "nbconvert_exporter": "python",
   "pygments_lexer": "ipython3",
   "version": "3.7.7"
  }
 },
 "nbformat": 4,
 "nbformat_minor": 5
}
