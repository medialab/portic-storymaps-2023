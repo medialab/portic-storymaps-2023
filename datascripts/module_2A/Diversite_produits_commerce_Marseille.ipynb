{
 "cells": [
  {
   "cell_type": "code",
   "execution_count": null,
   "id": "10aea615-6dac-49d8-9c40-9ac66a70d995",
   "metadata": {},
   "outputs": [],
   "source": [
    "# pip intall duckdb==0.7.0 rich==2.14.0"
   ]
  },
  {
   "cell_type": "code",
   "execution_count": null,
   "id": "87e44c14-de9c-432a-8fb9-c32afa1f8014",
   "metadata": {},
   "outputs": [],
   "source": [
    "from IPython.display import display\n",
    "import altair as alt\n",
    "\n",
    "def VegaLite(spec):\n",
    "    bundle = {}\n",
    "    bundle['application/vnd.vegalite.v4+json'] = spec\n",
    "    display(bundle, raw=True)"
   ]
  },
  {
   "cell_type": "markdown",
   "id": "373a2d24",
   "metadata": {},
   "source": [
    "# Récuperer les données\n",
    "\n",
    "Pour changer la classification du produit utilisée pour faire les agrégations, changer la valeur de `PRODUCT_CLASSIFICATION` pour le nom d'une autre colonne."
   ]
  },
  {
   "cell_type": "code",
   "execution_count": null,
   "id": "d56e3d2d",
   "metadata": {},
   "outputs": [],
   "source": [
    "import duckdb\n",
    "\n",
    "# Le dataset\n",
    "CSV = '../../data/toflit18_all_flows.csv'\n",
    "\n",
    "PRODUCT_CLASSIFICATION = 'product_revolutionempire'\n",
    "\n",
    "# Lire le csv et l'envoyer comme une relation (table)\n",
    "csv_data = duckdb.sql(f\"\"\"\n",
    "SELECT  customs_region,\n",
    "        customs_office,\n",
    "        CAST(value AS FLOAT) as value,\n",
    "        year,\n",
    "        export_import,\n",
    "        best_guess_region_prodxpart,\n",
    "        {PRODUCT_CLASSIFICATION},\n",
    "FROM read_csv_auto('{CSV}', ALL_VARCHAR=TRUE)\n",
    "\"\"\")"
   ]
  },
  {
   "cell_type": "markdown",
   "id": "bac1e2a0",
   "metadata": {},
   "source": [
    "# Fonction pour calculer l'indice"
   ]
  },
  {
   "cell_type": "code",
   "execution_count": null,
   "id": "c8f507d1",
   "metadata": {},
   "outputs": [],
   "source": [
    "def carre_du_marche(year, bureau_OR_direction, nom):\n",
    "\n",
    "        relation = duckdb.sql(f\"\"\"\n",
    "        FROM csv_data\n",
    "        WHERE value IS NOT NULL\n",
    "        AND export_import = 'Exports'\n",
    "        AND best_guess_region_prodxpart = '1'\n",
    "        AND year = '{year}'\n",
    "        AND {bureau_OR_direction} = '{nom}'\n",
    "        \"\"\")\n",
    "\n",
    "        all_product_value = relation.sum('value').fetchone()[0]\n",
    "        if not all_product_value:\n",
    "                return None\n",
    "\n",
    "        aggreg = duckdb.sql(f\"\"\"\n",
    "        SELECT {PRODUCT_CLASSIFICATION}, SUM(value) AS sum_value\n",
    "        FROM relation\n",
    "        GROUP BY {PRODUCT_CLASSIFICATION}\n",
    "        \"\"\")\n",
    "\n",
    "        carre = duckdb.sql(f\"\"\"\n",
    "        SELECT  {PRODUCT_CLASSIFICATION},\n",
    "                sum_value, {all_product_value} AS total,\n",
    "                power(sum_value/{all_product_value}, 2) AS carre_part_marche\n",
    "        FROM aggreg\n",
    "        \"\"\")\n",
    "\n",
    "        return carre.sum('carre_part_marche').fetchone()[0]"
   ]
  },
  {
   "cell_type": "markdown",
   "id": "f5d8f277",
   "metadata": {},
   "source": [
    "# Résultats"
   ]
  },
  {
   "cell_type": "markdown",
   "id": "67717690",
   "metadata": {},
   "source": [
    "## A. Indices par direction de ferme"
   ]
  },
  {
   "cell_type": "markdown",
   "id": "52eefaff-19aa-4eae-9e5d-1a551f975e0b",
   "metadata": {},
   "source": [
    "Récupérer toutes les années enregistrées dans le dataset."
   ]
  },
  {
   "cell_type": "code",
   "execution_count": null,
   "id": "f4126af8-104f-4230-a7f8-a967b6150eff",
   "metadata": {},
   "outputs": [],
   "source": [
    "year_select = duckdb.query('SELECT CAST(year AS INTEGER) FROM csv_data')\n",
    "years = [tuple[0] for tuple in year_select.distinct().fetchall()]"
   ]
  },
  {
   "cell_type": "markdown",
   "id": "a1e54f30-8881-4c9b-838c-ed05616c5d08",
   "metadata": {},
   "source": [
    "Boucler sur les directions ciblées et lancer la fonction de calcul pour toute année. "
   ]
  },
  {
   "cell_type": "code",
   "execution_count": null,
   "id": "75a9c7f6",
   "metadata": {},
   "outputs": [],
   "source": [
    "# Attention: Le calcul de l'indice pour toutes les années prend environ entre 5 et 6 minutes par direction\n",
    "from rich.progress import track\n",
    "\n",
    "carre_du_marche_directions = []\n",
    "\n",
    "directions = ['Bordeaux', 'Marseille', 'Rouen', 'Nantes', 'La Rochelle', 'Bayonne']\n",
    "\n",
    "for direction in directions:\n",
    "    print(direction)\n",
    "\n",
    "    for year in track(years, description='Calculating indices...'):\n",
    "\n",
    "        indice = carre_du_marche(\n",
    "                year=year,\n",
    "                bureau_OR_direction='customs_region',\n",
    "                nom=direction)\n",
    "\n",
    "        carre_du_marche_directions.append({\n",
    "            'direction': direction,\n",
    "            'year': year,\n",
    "            'indice' : indice,\n",
    "        })"
   ]
  },
  {
   "cell_type": "markdown",
   "id": "d3e66aea-c525-43cd-85a8-504bc1b0a0aa",
   "metadata": {},
   "source": [
    "Sauveguarder les résultats dans un fichier csv."
   ]
  },
  {
   "cell_type": "code",
   "execution_count": null,
   "id": "93e39011-1b01-48e9-a571-75d7bba57047",
   "metadata": {
    "tags": []
   },
   "outputs": [],
   "source": [
    "import csv\n",
    "with open('part_du_marche_des_directions.csv', 'w') as of:\n",
    "    fieldnames = ['direction', 'year', 'indice']\n",
    "    writer = csv.DictWriter(of, fieldnames=fieldnames)\n",
    "    writer.writeheader()\n",
    "    writer.writerows(carre_du_marche_directions)"
   ]
  },
  {
   "cell_type": "markdown",
   "id": "b10b2b13-944d-4b68-93a4-ea66ebe438ad",
   "metadata": {},
   "source": [
    "Ordonner et formatter les résultats en préparation pour la visualisation."
   ]
  },
  {
   "cell_type": "code",
   "execution_count": null,
   "id": "c0b94901-aef5-426f-9d1a-bf411147ca33",
   "metadata": {
    "tags": []
   },
   "outputs": [],
   "source": [
    "relation = duckdb.read_csv('part_du_marche_des_directions.csv', header=True).order('year').fetchdf()\n",
    "\n",
    "data = relation.to_dict('records')"
   ]
  },
  {
   "cell_type": "markdown",
   "id": "d6e60ff8-b849-447d-b6f6-92ed6431fd64",
   "metadata": {},
   "source": [
    "Visualiser les résultats."
   ]
  },
  {
   "cell_type": "code",
   "execution_count": null,
   "id": "0c0af1a0-00b7-48c5-8e80-fb2a7e74ebc1",
   "metadata": {
    "tags": []
   },
   "outputs": [],
   "source": [
    "VegaLite({\n",
    "    \"$schema\": \"https://vega.github.io/schema/vega-lite/v5.json\",\n",
    "    \"title\": \"Diversification des produits du commerce des principaux ports français\",\n",
    "    \"width\": 800,\n",
    "    \"height\": 300,\n",
    "    \"mark\": {\n",
    "        \"tooltip\": {\n",
    "         \"content\": \"data\"\n",
    "        },\n",
    "        \"type\": \"line\",\n",
    "        \"point\": True\n",
    "    },\n",
    "    \"data\": {\n",
    "        \"values\": data,\n",
    "    },\n",
    "    \"encoding\": {\n",
    "        \"x\": {\n",
    "            \"field\": \"year\",\n",
    "            \"type\": \"quantitative\",\n",
    "            \"title\": \"Année\",\n",
    "            \"axis\": {\n",
    "                \"orient\": \"bottom\",\n",
    "            },\n",
    "            \"scale\": {\"domain\": [1715, 1795]}\n",
    "        },\n",
    "        \"y\": {\n",
    "            \"field\": \"indice\",\n",
    "            \"type\": \"quantitative\",\n",
    "            \"title\": \"Indice Herfindhal\",\n",
    "        },\n",
    "        \"color\": {\n",
    "            \"field\": \"direction\",\n",
    "            \"type\": \"nominal\",\n",
    "            \"title\": \"direction\"\n",
    "        }\n",
    "    }\n",
    "})"
   ]
  },
  {
   "cell_type": "markdown",
   "id": "6e508456",
   "metadata": {},
   "source": [
    "## B. Indices par bureau de ferme"
   ]
  },
  {
   "cell_type": "markdown",
   "id": "2db7cd92-c799-4ace-b361-0e86bb93d675",
   "metadata": {},
   "source": [
    "Boucler sur les bureaux ciblés et lancer la fonction de calcul pour l'année 1789, qui est la seule qui ont les données nécessaires."
   ]
  },
  {
   "cell_type": "code",
   "execution_count": null,
   "id": "3fe39cce",
   "metadata": {},
   "outputs": [],
   "source": [
    "from rich.progress import track\n",
    "\n",
    "carre_du_marche_bureaux = []\n",
    "\n",
    "bureaux = ['Bordeaux', 'Marseille', 'Rouen', 'Nantes', 'La Rochelle', 'Bayonne', 'Saint-Malo', 'Le Havre']\n",
    "year = 1789\n",
    "\n",
    "for bureau in track(bureaux):\n",
    "    indice = carre_du_marche(\n",
    "                year=year,\n",
    "                bureau_OR_direction='customs_office',\n",
    "                nom=bureau)\n",
    "    carre_du_marche_bureaux.append({\n",
    "            'bureau': bureau,\n",
    "            'year': year,\n",
    "            'indice' : indice,\n",
    "        })"
   ]
  },
  {
   "cell_type": "markdown",
   "id": "dbf009ad-17d2-4565-abed-2596d24b2038",
   "metadata": {},
   "source": [
    "Sauvegarder les résultats dans un fichier csv."
   ]
  },
  {
   "cell_type": "code",
   "execution_count": null,
   "id": "03131410-1c2a-4241-8120-c01df9f37e2a",
   "metadata": {},
   "outputs": [],
   "source": [
    "import csv\n",
    "with open('part_du_marche_des_bureaux.csv', 'w') as of:\n",
    "    fieldnames = ['bureau', 'year', 'indice']\n",
    "    writer = csv.DictWriter(of, fieldnames=fieldnames)\n",
    "    writer.writeheader()\n",
    "    writer.writerows(carre_du_marche_bureaux)"
   ]
  },
  {
   "cell_type": "markdown",
   "id": "136f30c6-b888-4232-b5dd-a682cef4adcf",
   "metadata": {},
   "source": [
    "Ordonner et formatter les données en préparation pour la visualisation."
   ]
  },
  {
   "cell_type": "code",
   "execution_count": null,
   "id": "51638aaf-c0c2-46e3-acdc-c6795dc39282",
   "metadata": {
    "tags": []
   },
   "outputs": [],
   "source": [
    "relation = duckdb.read_csv('part_du_marche_des_bureaux.csv', header=True).order('bureau').fetchdf()\n",
    "\n",
    "data = relation.to_dict('records')"
   ]
  },
  {
   "cell_type": "markdown",
   "id": "9092e7bd-d707-4675-9291-86d149654fe9",
   "metadata": {},
   "source": [
    "Visualiser les résultats."
   ]
  },
  {
   "cell_type": "code",
   "execution_count": null,
   "id": "a6ee4a26-b7a4-40a5-bcb6-1717b74f8607",
   "metadata": {
    "tags": []
   },
   "outputs": [],
   "source": [
    "VegaLite({\n",
    "    \"$schema\": \"https://vega.github.io/schema/vega-lite/v5.json\",\n",
    "    \"title\": \"Diversification des produits du commerce des principaux bureaux de ferme en 1789\",\n",
    "    \"width\": 800,\n",
    "    \"height\": 300,\n",
    "    \"mark\": {\n",
    "        \"tooltip\": {\n",
    "         \"content\": \"data\"\n",
    "        },\n",
    "        \"type\": \"bar\",\n",
    "    },\n",
    "    \"data\": {\n",
    "        \"values\": data\n",
    "    },\n",
    "    \"encoding\": {\n",
    "        \"x\": {\n",
    "            \"field\": \"bureau\",\n",
    "            \"type\": \"nominal\", \n",
    "            \"title\": \"Bureau\",\n",
    "            \"axis\": {\n",
    "                \"orient\": \"bottom\", \n",
    "            },\n",
    "        },\n",
    "        \"y\": {\n",
    "            \"field\": \"indice\",\n",
    "            \"type\": \"quantitative\",\n",
    "            \"title\": \"Indice Herfindhal\"\n",
    "        },\n",
    "    },\n",
    "})"
   ]
  },
  {
   "cell_type": "markdown",
   "id": "4efa13fc",
   "metadata": {},
   "source": [
    "## C. Toute la France en moyenne\n",
    "\n",
    "Pour calculer l'indice pour toute la France, au lieu d'une direction, reprendre tout `customs_region` où la valeur n'est pas `NULL`."
   ]
  },
  {
   "cell_type": "code",
   "execution_count": null,
   "id": "901d0122",
   "metadata": {},
   "outputs": [],
   "source": [
    "relation = duckdb.sql(f\"\"\"\n",
    "    FROM csv_data\n",
    "    WHERE customs_region IS NOT NULL\n",
    "    AND year = 1789\n",
    "    \"\"\")\n",
    "\n",
    "all_product_value = relation.sum('value').fetchone()[0]\n",
    "\n",
    "aggreg = duckdb.sql(f\"\"\"\n",
    "SELECT product_revolutionempire, SUM(value) AS sum_value\n",
    "FROM relation\n",
    "GROUP BY product_revolutionempire\n",
    "\"\"\")\n",
    "\n",
    "carre = duckdb.sql(f\"\"\"\n",
    "SELECT  product_revolutionempire,\n",
    "        sum_value, {all_product_value} AS total,\n",
    "        power(sum_value/{all_product_value}, 2) AS carre_part_marche\n",
    "FROM aggreg\n",
    "\"\"\")\n",
    "\n",
    "carre.sum('carre_part_marche').fetchone()[0]"
   ]
  },
  {
   "cell_type": "code",
   "execution_count": null,
   "id": "139d8023",
   "metadata": {},
   "outputs": [],
   "source": []
  }
 ],
 "metadata": {
  "kernelspec": {
   "display_name": "Python 3 (ipykernel)",
   "language": "python",
   "name": "python3"
  },
  "language_info": {
   "codemirror_mode": {
    "name": "ipython",
    "version": 3
   },
   "file_extension": ".py",
   "mimetype": "text/x-python",
   "name": "python",
   "nbconvert_exporter": "python",
   "pygments_lexer": "ipython3",
   "version": "3.7.7"
  },
  "vscode": {
   "interpreter": {
    "hash": "0ce833c5b73e6d5f6ca6b0c40d780d6c01d5f39b699eb9f23f578f6903492dfc"
   }
  }
 },
 "nbformat": 4,
 "nbformat_minor": 5
}
