{
 "cells": [
  {
   "cell_type": "code",
   "execution_count": 139,
   "id": "87e44c14-de9c-432a-8fb9-c32afa1f8014",
   "metadata": {},
   "outputs": [],
   "source": [
    "from IPython.display import display\n",
    "import altair as alt\n",
    "\n",
    "def VegaLite(spec):\n",
    "    bundle = {}\n",
    "    bundle['application/vnd.vegalite.v4+json'] = spec\n",
    "    display(bundle, raw=True)"
   ]
  },
  {
   "attachments": {},
   "cell_type": "markdown",
   "id": "373a2d24",
   "metadata": {},
   "source": [
    "# Récuperer les données"
   ]
  },
  {
   "cell_type": "code",
   "execution_count": 146,
   "id": "d56e3d2d",
   "metadata": {},
   "outputs": [
    {
     "name": "stdout",
     "output_type": "stream",
     "text": [
      "┌────────────────┬────────────────┬───────────┬─────────┬───────────────┬──────────────────────┬───────────────────────┐\n",
      "│ customs_region │ customs_office │   value   │  year   │ export_import │ best_guess_region_…  │ product_revolutione…  │\n",
      "│    varchar     │    varchar     │   float   │ varchar │    varchar    │       varchar        │        varchar        │\n",
      "├────────────────┼────────────────┼───────────┼─────────┼───────────────┼──────────────────────┼───────────────────────┤\n",
      "│ NULL           │ NULL           │  248210.0 │ 1792    │ Exports       │ 0                    │ Quincaillerie         │\n",
      "│ NULL           │ NULL           │      NULL │ 1792    │ Exports       │ 0                    │ Alun                  │\n",
      "│ NULL           │ NULL           │      NULL │ 1792    │ Exports       │ 0                    │ Fruits secs et noix   │\n",
      "│ NULL           │ NULL           │      NULL │ 1792    │ Exports       │ 0                    │ Fruits secs et noix   │\n",
      "│ NULL           │ NULL           │      NULL │ 1792    │ Exports       │ 0                    │ Fruits secs et noix   │\n",
      "│ NULL           │ NULL           │      NULL │ 1792    │ Exports       │ 0                    │ Ouvrages divers et …  │\n",
      "│ NULL           │ NULL           │      NULL │ 1792    │ Exports       │ 0                    │ Poissons et fruits …  │\n",
      "│ NULL           │ NULL           │      NULL │ 1792    │ Exports       │ 0                    │ Drogues médicinales…  │\n",
      "│ NULL           │ NULL           │      NULL │ 1792    │ Exports       │ 0                    │ Matières premières …  │\n",
      "│ NULL           │ NULL           │      NULL │ 1792    │ Exports       │ 0                    │ Matières premières …  │\n",
      "│  ·             │  ·             │        ·  │  ·      │    ·          │ ·                    │  ·                    │\n",
      "│  ·             │  ·             │        ·  │  ·      │    ·          │ ·                    │  ·                    │\n",
      "│  ·             │  ·             │        ·  │  ·      │    ·          │ ·                    │  ·                    │\n",
      "│ Bayonne        │ NULL           │     351.6 │ 1760    │ Exports       │ 1                    │ Sel                   │\n",
      "│ Bayonne        │ NULL           │      81.0 │ 1760    │ Exports       │ 1                    │ Cordonnerie et sell…  │\n",
      "│ Bayonne        │ NULL           │      72.0 │ 1760    │ Exports       │ 1                    │ Séné                  │\n",
      "│ Bayonne        │ NULL           │    1582.5 │ 1760    │ Exports       │ 1                    │ Étoffes diverses      │\n",
      "│ Bayonne        │ NULL           │     140.0 │ 1760    │ Exports       │ 1                    │ Quincaillerie         │\n",
      "│ Bayonne        │ NULL           │ 1620.0001 │ 1760    │ Exports       │ 1                    │ Divers incertains     │\n",
      "│ Bayonne        │ NULL           │      56.0 │ 1760    │ Exports       │ 1                    │ Ouvrages métalliques  │\n",
      "│ Bayonne        │ NULL           │       1.2 │ 1760    │ Exports       │ 1                    │ Salpêtre et soufre    │\n",
      "│ Bayonne        │ NULL           │   23544.0 │ 1760    │ Exports       │ 1                    │ Cordonnerie et sell…  │\n",
      "│ Bayonne        │ NULL           │   4461.75 │ 1760    │ Exports       │ 1                    │ Cordonnerie et sell…  │\n",
      "├────────────────┴────────────────┴───────────┴─────────┴───────────────┴──────────────────────┴───────────────────────┤\n",
      "│ ? rows (>9999 rows, 20 shown)                                                                              7 columns │\n",
      "└──────────────────────────────────────────────────────────────────────────────────────────────────────────────────────┘\n",
      "\n"
     ]
    }
   ],
   "source": [
    "import duckdb\n",
    "\n",
    "# Le dataset\n",
    "csv = '../../data/toflit18_all_flows.csv'\n",
    "\n",
    "# Lire le csv et l'envoyer comme une relation (table)\n",
    "toflit_flows = duckdb.sql(f\"\"\"\n",
    "SELECT  customs_region,\n",
    "        customs_office,\n",
    "        CAST(value AS FLOAT) as value,\n",
    "        year,\n",
    "        export_import,\n",
    "        best_guess_region_prodxpart,\n",
    "        product_revolutionempire\n",
    "FROM read_csv_auto('{csv}', ALL_VARCHAR=TRUE)\n",
    "\"\"\")\n",
    "\n",
    "toflit_flows.show()"
   ]
  },
  {
   "cell_type": "code",
   "execution_count": 141,
   "id": "275086a3",
   "metadata": {},
   "outputs": [],
   "source": [
    "# Appliquer les filtres de base (communes à tous)\n",
    "\n",
    "exports = duckdb.sql(f\"\"\"\n",
    "    FROM toflit_flows\n",
    "    WHERE value IS NOT NULL\n",
    "    AND export_import = 'Exports'\n",
    "    AND best_guess_region_prodxpart = '1'\n",
    "\"\"\")\n",
    "\n",
    "imports = duckdb.sql(f\"\"\"\n",
    "    FROM toflit_flows\n",
    "    WHERE value IS NOT NULL\n",
    "    AND export_import = 'Imports'\n",
    "    AND best_guess_region_prodxpart = '1'\n",
    "\"\"\")"
   ]
  },
  {
   "attachments": {},
   "cell_type": "markdown",
   "id": "bac1e2a0",
   "metadata": {},
   "source": [
    "# Analyser la diversité du marché"
   ]
  },
  {
   "cell_type": "code",
   "execution_count": 142,
   "id": "c8f507d1",
   "metadata": {},
   "outputs": [],
   "source": [
    "def carre_du_marche(export_import, year, bureau_direction, nom):\n",
    "    \n",
    "        relation = duckdb.sql(f\"\"\"\n",
    "        FROM {export_import}\n",
    "        WHERE {bureau_direction} = '{nom}'\n",
    "        AND year = '{year}'\n",
    "        \"\"\")\n",
    "\n",
    "        all_product_value = relation.sum('value').fetchone()[0]\n",
    "\n",
    "        aggreg = duckdb.sql(f\"\"\"\n",
    "        SELECT product_revolutionempire, SUM(value) AS sum_value\n",
    "        FROM relation\n",
    "        GROUP BY product_revolutionempire\n",
    "        \"\"\")\n",
    "\n",
    "        carre = duckdb.sql(f\"\"\"\n",
    "        SELECT  product_revolutionempire,\n",
    "                sum_value, {all_product_value} AS total,\n",
    "                power(sum_value/{all_product_value}, 2) AS carre_part_marche\n",
    "        FROM aggreg\n",
    "        \"\"\")\n",
    "\n",
    "        return carre.sum('carre_part_marche').fetchone()[0]\n",
    "\n"
   ]
  },
  {
   "attachments": {},
   "cell_type": "markdown",
   "id": "f5d8f277",
   "metadata": {},
   "source": [
    "# Résultats pour les directions"
   ]
  },
  {
   "cell_type": "code",
   "execution_count": 143,
   "id": "480b7ace",
   "metadata": {},
   "outputs": [],
   "source": [
    "directions_table = duckdb.query(\"\"\"\n",
    "    SELECT DISTINCT customs_region\n",
    "    FROM toflit_flows\n",
    "    WHERE customs_region IS NOT NULL\n",
    "    AND product_revolutionempire IS NOT NULL\n",
    "\"\"\")\n",
    "directions = [tuple[0] for tuple in directions_table.fetchall()]"
   ]
  },
  {
   "cell_type": "code",
   "execution_count": 144,
   "id": "75a9c7f6",
   "metadata": {},
   "outputs": [
    {
     "name": "stdout",
     "output_type": "stream",
     "text": [
      "Pas de résultat pour France par la Compagnie des Indes\n",
      "Pas de résultat pour Îles françaises de l'Amérique par la Compagnie des Indes\n",
      "Pas de résultat pour Colonies Françaises de l'Amérique\n",
      "Pas de résultat pour Rennes\n",
      "Pas de résultat pour Bourgogne\n",
      "Pas de résultat pour Le Havre\n",
      "Pas de résultat pour Paris\n"
     ]
    },
    {
     "data": {
      "text/plain": [
       "[{'direction': 'Bayonne', 'carre_du_marche': 0.05187351022552995},\n",
       " {'direction': 'Bordeaux', 'carre_du_marche': 0.15313622333510415},\n",
       " {'direction': 'Caen', 'carre_du_marche': 0.1425434992682523},\n",
       " {'direction': 'Flandre', 'carre_du_marche': 0.07045997055524397},\n",
       " {'direction': 'La Rochelle', 'carre_du_marche': 0.2372572195962676},\n",
       " {'direction': 'Lyon', 'carre_du_marche': 0.1091605770171786},\n",
       " {'direction': 'Marseille', 'carre_du_marche': 0.07092719733421061},\n",
       " {'direction': 'Montpellier', 'carre_du_marche': 0.11633090857861035},\n",
       " {'direction': 'Nantes', 'carre_du_marche': 0.15998648838608395},\n",
       " {'direction': 'Rouen', 'carre_du_marche': 0.1397437786548302},\n",
       " {'direction': 'Amiens', 'carre_du_marche': 0.2996099650923989},\n",
       " {'direction': 'Auch', 'carre_du_marche': 0.27257857864021223},\n",
       " {'direction': 'Besançon', 'carre_du_marche': 0.11788428688554205},\n",
       " {'direction': 'Charleville', 'carre_du_marche': 0.15837474012943928},\n",
       " {'direction': 'Châlons', 'carre_du_marche': 0.08556529807816997},\n",
       " {'direction': 'Directions de terre', 'carre_du_marche': 0.5295238986839408},\n",
       " {'direction': 'France', 'carre_du_marche': 0.05988757558038836},\n",
       " {'direction': 'Grenoble', 'carre_du_marche': 0.09252546759991014},\n",
       " {'direction': 'Langres', 'carre_du_marche': 0.2687576638827042},\n",
       " {'direction': 'Lorient', 'carre_du_marche': 0.1864742232674505},\n",
       " {'direction': 'Narbonne', 'carre_du_marche': 0.08883317130360312},\n",
       " {'direction': 'Saint-Malo', 'carre_du_marche': 0.22055109491260258},\n",
       " {'direction': 'Saint-Quentin', 'carre_du_marche': 0.22877115917870572},\n",
       " {'direction': 'Soisson', 'carre_du_marche': 0.285249896304128},\n",
       " {'direction': 'Toulon', 'carre_du_marche': 0.1613373815710159},\n",
       " {'direction': 'Valenciennes', 'carre_du_marche': 0.1434200711046532}]"
      ]
     },
     "execution_count": 144,
     "metadata": {},
     "output_type": "execute_result"
    }
   ],
   "source": [
    "carre_du_marche_directions = []\n",
    "for direction in directions:\n",
    "    try:\n",
    "        carre = carre_du_marche(\n",
    "            export_import='exports',\n",
    "            year='1789',\n",
    "            bureau_direction='customs_region',\n",
    "            nom=direction)\n",
    "    except:\n",
    "        print(f\"Pas de résultat pour {direction}\")\n",
    "    else:\n",
    "        carre_du_marche_directions.append({\n",
    "            'direction': direction,\n",
    "            'carre_du_marche' : carre\n",
    "        })\n",
    "\n",
    "carre_du_marche_directions"
   ]
  },
  {
   "attachments": {},
   "cell_type": "markdown",
   "id": "6e508456",
   "metadata": {},
   "source": [
    "# Résultats pour les bureaux"
   ]
  },
  {
   "cell_type": "code",
   "execution_count": 147,
   "id": "cf4e69b6",
   "metadata": {},
   "outputs": [],
   "source": [
    "bureaux_table = duckdb.query(\"\"\"\n",
    "    SELECT DISTINCT customs_region\n",
    "    FROM toflit_flows\n",
    "    WHERE customs_office IS NOT NULL\n",
    "    AND product_revolutionempire IS NOT NULL\n",
    "\"\"\")\n",
    "bureaux = [tuple[0] for tuple in bureaux_table.fetchall()]"
   ]
  },
  {
   "cell_type": "code",
   "execution_count": 148,
   "id": "3fe39cce",
   "metadata": {},
   "outputs": [
    {
     "name": "stdout",
     "output_type": "stream",
     "text": [
      "Pas de résultat pour None\n"
     ]
    },
    {
     "data": {
      "text/plain": [
       "[{'bureau': 'Flandre', 'carre_du_marche': 0.07045997055524397},\n",
       " {'bureau': 'Amiens', 'carre_du_marche': 0.2996099650923989},\n",
       " {'bureau': 'Auch', 'carre_du_marche': 0.27257857864021223},\n",
       " {'bureau': 'Bayonne', 'carre_du_marche': 0.05187351022552995},\n",
       " {'bureau': 'Besançon', 'carre_du_marche': 0.11788428688554205},\n",
       " {'bureau': 'Bordeaux', 'carre_du_marche': 0.15313622333510415},\n",
       " {'bureau': 'Caen', 'carre_du_marche': 0.1425434992682523},\n",
       " {'bureau': 'Charleville', 'carre_du_marche': 0.15837474012943928},\n",
       " {'bureau': 'Châlons', 'carre_du_marche': 0.08556529807816997},\n",
       " {'bureau': 'Directions de terre', 'carre_du_marche': 0.5295238986839408},\n",
       " {'bureau': 'France', 'carre_du_marche': 0.05988757558038836},\n",
       " {'bureau': 'Grenoble', 'carre_du_marche': 0.09252546759991014},\n",
       " {'bureau': 'La Rochelle', 'carre_du_marche': 0.2372572195962676},\n",
       " {'bureau': 'Langres', 'carre_du_marche': 0.2687576638827042},\n",
       " {'bureau': 'Lorient', 'carre_du_marche': 0.1864742232674505},\n",
       " {'bureau': 'Lyon', 'carre_du_marche': 0.1091605770171786},\n",
       " {'bureau': 'Marseille', 'carre_du_marche': 0.07092719733421061},\n",
       " {'bureau': 'Montpellier', 'carre_du_marche': 0.11633090857861035},\n",
       " {'bureau': 'Nantes', 'carre_du_marche': 0.15998648838608395},\n",
       " {'bureau': 'Narbonne', 'carre_du_marche': 0.08883317130360312},\n",
       " {'bureau': 'Rouen', 'carre_du_marche': 0.1397437786548302},\n",
       " {'bureau': 'Saint-Malo', 'carre_du_marche': 0.22055109491260258},\n",
       " {'bureau': 'Saint-Quentin', 'carre_du_marche': 0.22877115917870572},\n",
       " {'bureau': 'Soisson', 'carre_du_marche': 0.285249896304128},\n",
       " {'bureau': 'Toulon', 'carre_du_marche': 0.1613373815710159},\n",
       " {'bureau': 'Valenciennes', 'carre_du_marche': 0.1434200711046532}]"
      ]
     },
     "execution_count": 148,
     "metadata": {},
     "output_type": "execute_result"
    }
   ],
   "source": [
    "carre_du_marche_bureaux = []\n",
    "for bureau in bureaux:\n",
    "    try:\n",
    "        carre = carre_du_marche(\n",
    "            export_import='exports',\n",
    "            year='1789',\n",
    "            bureau_direction='customs_region',\n",
    "            nom=bureau)\n",
    "    except:\n",
    "        print(f\"Pas de résultat pour {bureau}\")\n",
    "    else:\n",
    "        carre_du_marche_bureaux.append({\n",
    "            'bureau': bureau,\n",
    "            'carre_du_marche' : carre\n",
    "        })\n",
    "\n",
    "carre_du_marche_bureaux"
   ]
  },
  {
   "attachments": {},
   "cell_type": "markdown",
   "id": "4efa13fc",
   "metadata": {},
   "source": [
    "## Toute la France"
   ]
  },
  {
   "cell_type": "code",
   "execution_count": null,
   "id": "901d0122",
   "metadata": {},
   "outputs": [
    {
     "data": {
      "text/plain": [
       "0.06499554121933382"
      ]
     },
     "execution_count": 68,
     "metadata": {},
     "output_type": "execute_result"
    }
   ],
   "source": [
    "relation = duckdb.sql(f\"\"\"\n",
    "    FROM base_relation\n",
    "    WHERE customs_region IS NOT NULL\n",
    "    \"\"\")\n",
    "\n",
    "all_product_value = relation.sum('value').fetchone()[0]\n",
    "\n",
    "aggreg = duckdb.sql(f\"\"\"\n",
    "SELECT product_revolutionempire, SUM(value) AS sum_value\n",
    "FROM relation\n",
    "GROUP BY product_revolutionempire\n",
    "\"\"\")\n",
    "\n",
    "carre = duckdb.sql(f\"\"\"\n",
    "SELECT  product_revolutionempire,\n",
    "        sum_value, {all_product_value} AS total,\n",
    "        power(sum_value/{all_product_value}, 2) AS carre_part_marche\n",
    "FROM aggreg\n",
    "\"\"\")\n",
    "\n",
    "carre.sum('carre_part_marche').fetchone()[0]"
   ]
  }
 ],
 "metadata": {
  "kernelspec": {
   "display_name": "portic2023",
   "language": "python",
   "name": "python3"
  },
  "language_info": {
   "codemirror_mode": {
    "name": "ipython",
    "version": 3
   },
   "file_extension": ".py",
   "mimetype": "text/x-python",
   "name": "python",
   "nbconvert_exporter": "python",
   "pygments_lexer": "ipython3",
   "version": "3.11.0"
  },
  "vscode": {
   "interpreter": {
    "hash": "0ce833c5b73e6d5f6ca6b0c40d780d6c01d5f39b699eb9f23f578f6903492dfc"
   }
  }
 },
 "nbformat": 4,
 "nbformat_minor": 5
}
