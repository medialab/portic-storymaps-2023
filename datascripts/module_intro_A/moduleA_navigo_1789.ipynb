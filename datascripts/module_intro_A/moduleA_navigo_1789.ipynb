{
 "cells": [
  {
   "cell_type": "code",
   "execution_count": 115,
   "id": "c261ae5e",
   "metadata": {},
   "outputs": [
    {
     "name": "stdout",
     "output_type": "stream",
     "text": [
      "5323\n"
     ]
    }
   ],
   "source": [
    "from csv import DictReader\n",
    "\n",
    "flows = []\n",
    "with open('../../data/navigo_all_pointcalls.csv', newline='') as csvfile:\n",
    "    reader = DictReader(csvfile)\n",
    "    for row in reader:\n",
    "        if \\\n",
    "                 row['source_suite'] != 'G5' \\\n",
    "            and row['source_suite'] != 'Expéditions coloniales Marseille (1789)' \\\n",
    "            and row['date_fixed'].split('-')[0] == '1789' \\\n",
    "            and row['pointcall_rank_dedieu'] == '1.0' \\\n",
    "            :\n",
    "            flows.append(dict(row))\n",
    "\n",
    "print(len(flows))"
   ]
  },
  {
   "cell_type": "code",
   "execution_count": 116,
   "id": "cdc674e9",
   "metadata": {},
   "outputs": [
    {
     "data": {
      "text/plain": [
       "{'ship_id': '',\n",
       " 'pkid': '141583',\n",
       " 'record_id': '00363269',\n",
       " 'source_doc_id': '00358327',\n",
       " 'source_text': 'AdBR, 200 E 608',\n",
       " 'source_suite': 'Registre du petit cabotage (1786-1787)',\n",
       " 'pointcall_uhgs_id': 'A0124996',\n",
       " 'toponyme_fr': 'Martigues',\n",
       " 'pointcall_admiralty': 'Martigues',\n",
       " 'pointcall_province': 'Provence',\n",
       " 'state_fr': 'France',\n",
       " 'substate_fr': '',\n",
       " 'pointcall_out_date': '1789<09<14',\n",
       " 'pointcall_action': 'Out',\n",
       " 'pointcall_in_date': '',\n",
       " 'net_route_marker': '',\n",
       " 'fixed_net_route_marker': '',\n",
       " 'certitude': 'Observé',\n",
       " 'pointcall_function': 'A',\n",
       " 'navigo_status': 'PC-RS',\n",
       " 'pointcall_rank_dedieu': '1.0',\n",
       " 'pointcall_rankfull': '43467',\n",
       " 'data_block_leader_marker': '',\n",
       " 'pointcall_uncertainity': '0',\n",
       " 'ship_name': 'Unnamed',\n",
       " 'tonnage': '',\n",
       " 'tonnage_unit': '',\n",
       " 'tonnage_class': '',\n",
       " 'flag': '',\n",
       " 'ship_flag_id': '',\n",
       " 'ship_flag_standardized_fr': '',\n",
       " 'captain_id': '',\n",
       " 'captain_name': 'Gras, Jean Baptiste',\n",
       " 'homeport': '',\n",
       " 'homeport_substate_1789_fr': '',\n",
       " 'homeport_state_1789_fr': '',\n",
       " 'homeport_province': '',\n",
       " 'pointcall_outdate_uncertainity': '0',\n",
       " 'ship_uncertainity': '-4',\n",
       " 'tonnage_uncertainity': '-4',\n",
       " 'flag_uncertainity': '-4',\n",
       " 'homeport_uncertainity': '-4',\n",
       " 'captain_uncertainity': '0',\n",
       " 'shipclass_uncertainity': '0',\n",
       " 'birthplace_uncertainity': '-4',\n",
       " 'citizenship_uncertainity': '-4',\n",
       " 'birthplace_uhgs_id_uncertainity': '-4',\n",
       " 'cargo_uncertainity': '-4',\n",
       " 'taxe_uncertainity': '-4',\n",
       " 'outdate_fixed': '1789-09-13',\n",
       " 'indate_fixed': '',\n",
       " 'pointcall_in_date2': '',\n",
       " 'pointcall_out_date2': '1789=09=13',\n",
       " 'date_fixed': '1789-09-13',\n",
       " 'in_crew': '',\n",
       " 'class': 'bateau de battelier',\n",
       " 'ship_class_standardized': 'Bateau',\n",
       " 'ship_flag_standardized_en': '',\n",
       " 'birthplace': '',\n",
       " 'birthplace_uhgs_id': '',\n",
       " 'status': '',\n",
       " 'citizenship': '',\n",
       " 'citizenship_uhgs_id': '',\n",
       " 'nb_cargo': '1',\n",
       " 'tax_concept1': '',\n",
       " 'taxe_amount01': '0.0',\n",
       " 'tax_concept2': '',\n",
       " 'taxe_amount02': '0.0',\n",
       " 'tax_concept3': '',\n",
       " 'taxe_amount03': '0.0',\n",
       " 'tax_concept4': '',\n",
       " 'taxe_amount04': '0.0',\n",
       " 'tax_concept5': '',\n",
       " 'taxe_amount05': '0.0',\n",
       " 'homeport_uhgs_id': '',\n",
       " 'homeport_toponyme_fr': '',\n",
       " 'homeport_toponyme_en': '',\n",
       " 'homeport_latitude': '',\n",
       " 'homeport_longitude': '',\n",
       " 'homeport_admiralty': '',\n",
       " 'homeport_state_1789_en': '',\n",
       " 'homeport_substate_1789_en': '',\n",
       " 'homeport_point': '',\n",
       " 'homeport_ferme_direction': '',\n",
       " 'homeport_ferme_bureau': '',\n",
       " 'homeport_ferme_bureau_uncertainty': '',\n",
       " 'homeport_partner_balance_1789': '',\n",
       " 'homeport_partner_balance_supp_1789': '',\n",
       " 'homeport_partner_balance_1789_uncertainty': '',\n",
       " 'homeport_partner_balance_supp_1789_uncertainty': '',\n",
       " 'source_component': 'ADBdR, 200 E 608',\n",
       " 'source_main_port_uhgs_id': 'A0210797',\n",
       " 'source_main_port_toponyme': 'Marseille',\n",
       " 'source_subset': 'Registre du petit cabotage (1786-1787)',\n",
       " 'pointcall': 'Martigues',\n",
       " 'toponyme_en': 'Martigues',\n",
       " 'latitude': '43.4',\n",
       " 'longitude': '5.05',\n",
       " 'pointcall_states': '[{\"1749-1815\" : \"France\"}]',\n",
       " 'pointcall_substates': '',\n",
       " 'pointcall_states_en': '[{\"1749-1815\" : \"France\"}]',\n",
       " 'pointcall_substates_en': '',\n",
       " 'state_1789_en': 'France',\n",
       " 'substate_1789_en': '',\n",
       " 'pointcall_status_uncertainity': '0',\n",
       " 'pointcall_status': 'siège amirauté',\n",
       " 'shiparea': 'MED-LION',\n",
       " 'pointcall_point': 'POINT (562163.4285060315 5373055.471883489)',\n",
       " 'ferme_direction': 'Marseille',\n",
       " 'ferme_direction_uncertainty': '0',\n",
       " 'ferme_bureau': 'Arles',\n",
       " 'ferme_bureau_uncertainty': '-1',\n",
       " 'partner_balance_1789': '',\n",
       " 'partner_balance_supp_1789': 'France',\n",
       " 'partner_balance_1789_uncertainty': '',\n",
       " 'partner_balance_supp_1789_uncertainty': '0'}"
      ]
     },
     "execution_count": 116,
     "metadata": {},
     "output_type": "execute_result"
    }
   ],
   "source": [
    "flows[0]"
   ]
  },
  {
   "cell_type": "code",
   "execution_count": 117,
   "id": "819b6f1f",
   "metadata": {},
   "outputs": [
    {
     "data": {
      "text/plain": [
       "{'Registre du petit cabotage (1786-1787)',\n",
       " 'la Santé registre de patentes de Marseille'}"
      ]
     },
     "execution_count": 117,
     "metadata": {},
     "output_type": "execute_result"
    }
   ],
   "source": [
    "set([f['source_suite'] for f in flows])"
   ]
  },
  {
   "cell_type": "code",
   "execution_count": 118,
   "id": "7f1626bc",
   "metadata": {},
   "outputs": [
    {
     "name": "stdout",
     "output_type": "stream",
     "text": [
      "5188\n"
     ]
    }
   ],
   "source": [
    "flows_sourced = [f for f in flows if f['net_route_marker'] != 'Q']\n",
    "print(len(flows_sourced))"
   ]
  },
  {
   "cell_type": "markdown",
   "id": "b1082e36",
   "metadata": {},
   "source": [
    "On a  filtré les net_route_marker = Q pour supprimer les doublons du petit cabotage"
   ]
  },
  {
   "cell_type": "code",
   "execution_count": 119,
   "id": "279de84d",
   "metadata": {},
   "outputs": [
    {
     "data": {
      "text/plain": [
       "{'',\n",
       " 'Autriche',\n",
       " 'Danemark',\n",
       " 'Duché de Courlande',\n",
       " 'Duché de Massa et Carrare',\n",
       " 'Empire ottoman',\n",
       " 'Empire russe',\n",
       " 'Espagne',\n",
       " 'Etats pontificaux',\n",
       " \"Etats-Unis d'Amérique\",\n",
       " 'France',\n",
       " 'Grande-Bretagne',\n",
       " 'Hambourg',\n",
       " 'Malte',\n",
       " 'Maroc',\n",
       " 'Monaco',\n",
       " 'Portugal',\n",
       " 'Provinces-Unies',\n",
       " 'Prusse',\n",
       " 'Royaume de Naples',\n",
       " 'Royaume de Piémont-Sardaigne',\n",
       " 'République de Gênes',\n",
       " 'République de Lucques',\n",
       " 'République de Raguse',\n",
       " 'République de Venise',\n",
       " 'Suède',\n",
       " 'Toscane'}"
      ]
     },
     "execution_count": 119,
     "metadata": {},
     "output_type": "execute_result"
    }
   ],
   "source": [
    "set([f['state_fr'] for f in flows])"
   ]
  },
  {
   "cell_type": "code",
   "execution_count": 120,
   "id": "011e2250",
   "metadata": {},
   "outputs": [],
   "source": [
    "state_to_partner = {\n",
    "    '': 'Inconnu',\n",
    "    'Autriche': 'Flandre et autres états de l\\'Empereur',\n",
    "    'Danemark': 'Nord',\n",
    "    'Duché de Courlande': 'Nord',\n",
    "    'Duché de Massa et Carrare': 'Italie',\n",
    "    'Empire ottoman':'Levant et Barbarie',\n",
    "    'Empire russe': 'Nord',\n",
    "    'Espagne': 'Espagne',\n",
    "    'Etats pontificaux': 'Italie',\n",
    "    \"Etats-Unis d'Amérique\": \"États-Unis d'Amérique\",\n",
    "    'France': 'France',\n",
    "    'Grande-Bretagne': 'Angleterre',\n",
    "    'Hambourg': 'Nord',\n",
    "    'Malte': 'Italie',\n",
    "    'Maroc': 'Levant et Barbarie',\n",
    "    'Monaco': 'Italie',\n",
    "    'Portugal': 'Portugal',\n",
    "    'Provinces-Unies': 'Hollande',\n",
    "    'Prusse': 'Nord',\n",
    "    'Royaume de Naples': 'Italie',\n",
    "    'Royaume de Piémont-Sardaigne': 'Italie',\n",
    "    'République de Gênes': 'Italie',\n",
    "    'République de Lucques': 'Italie',\n",
    "    'République de Raguse': 'Levant et Barbarie',\n",
    "    'République de Venise': 'Italie',\n",
    "    'Suède': 'Nord',\n",
    "    'Toscane': 'Italie',\n",
    "    'multi-Etat': 'Inconnu',\n",
    "    'zone maritime': 'Gibraltar'\n",
    "}"
   ]
  },
  {
   "cell_type": "code",
   "execution_count": 121,
   "id": "e9ea21f5",
   "metadata": {},
   "outputs": [
    {
     "name": "stdout",
     "output_type": "stream",
     "text": [
      "Counter({'France': 2841,\n",
      "         'Italie': 1356,\n",
      "         'Espagne': 454,\n",
      "         'Levant et Barbarie': 319,\n",
      "         'Angleterre': 73,\n",
      "         'Nord': 47,\n",
      "         \"Flandre et autres états de l'Empereur\": 36,\n",
      "         'Inconnu': 27,\n",
      "         'Hollande': 13,\n",
      "         'Portugal': 13,\n",
      "         \"États-Unis d'Amérique\": 9})\n"
     ]
    }
   ],
   "source": [
    "from collections import Counter\n",
    "\n",
    "departures = Counter()\n",
    "\n",
    "for flow in flows_sourced:\n",
    "    state = flow['state_fr']\n",
    "    partner = state_to_partner[state]\n",
    "    departures.update({partner: 1})\n",
    "\n",
    "pprint(departures)"
   ]
  },
  {
   "cell_type": "code",
   "execution_count": 122,
   "id": "feac4c7e",
   "metadata": {},
   "outputs": [
    {
     "name": "stdout",
     "output_type": "stream",
     "text": [
      "{'Allège': 100, 'Aviso': 0, 'Balancelle': 0, 'Balandre': 35, 'Barge': 0, 'Barque': 150, 'Bateau': 5, 'Bâtiment': 50, 'Bisque': 20, 'Bombarde': 140, 'Brick': 100, 'Brigantin': 150, 'Canary': 15, 'Cannonière': 0, 'Canot': 0, 'Chaloupe': 5, 'Chasse-marée': 30, 'Chebec': 100, 'Corvette': 175, 'Cotre': 25, 'Dogre': 130, 'Esperonnade': 0, 'Felouque': 10, 'Filadière': 2, 'Floger': 10, 'Flûte': 250, 'Frégate': 250, 'Gabare': 20, 'Galiote': 130, 'Garde-côte': 10, 'Goelette': 50, 'Gondole': 5, 'Hourque': 20, 'Indeterminé': 0, 'Kirlanghi': 0, 'Leuto': 15, 'liuto': 0, 'Londro': 0, 'Lougre': 10, 'Navire': 150, 'Paquebot': 0, 'Patache': 50, 'Pinasse': 0, 'Pinque': 80, 'Polacre': 160, 'Queche': 140, 'Sacoleva': 0, 'Senau': 150, 'Sloop': 30, 'Smack': 75, 'Tartane': 50, 'Tiake': 70, 'Trabaccolo': 120, 'Vaisseau': 300, '': 0}\n"
     ]
    }
   ],
   "source": [
    "from csv import DictReader\n",
    "from collections import Counter\n",
    "import requests\n",
    "import csv\n",
    "\n",
    "# 1. get online csv data\n",
    "def get_online_csv(url):\n",
    "  results = []\n",
    "  with requests.Session() as s:\n",
    "      download = s.get(url)\n",
    "      decoded_content = download.content.decode('utf-8')\n",
    "      reader = csv.DictReader(decoded_content.splitlines(), delimiter=',')\n",
    "      for row in reader:\n",
    "        results.append(dict(row))\n",
    "  return results\n",
    "\n",
    "TONNAGE_SPREADSHEET_URL = 'https://docs.google.com/spreadsheets/d/e/2PACX-1vTYdeIwpzaVpY_KS91cXiHxb309iYBS4JN_1_hW-_oyeysuwcIpC2VJ5fWeZJl4tA/pub?output=csv'\n",
    "\n",
    "tonnage_data = get_online_csv(TONNAGE_SPREADSHEET_URL)\n",
    "\n",
    "# 2. build a shipclass->tx dict\n",
    "tonnage_estimates = {}\n",
    "for l in tonnage_data:\n",
    "    estimation = l['tonnage_estime_en_tx'] or 0\n",
    "    if l['tonnage_estime_en_tx'] == 'No data':\n",
    "        estimation = 0\n",
    "    else :\n",
    "        estimation = int(estimation)\n",
    "    \n",
    "    ship_class = l['ship_class']\n",
    "    \n",
    "    tonnage_estimates[ship_class] = estimation\n",
    "   \n",
    "tonnage_estimates[''] = 0\n",
    "print(tonnage_estimates)"
   ]
  },
  {
   "cell_type": "markdown",
   "id": "2ade4bae",
   "metadata": {},
   "source": [
    "Attention : quand pas de classe de navire, tonnage égale 0 -> pas bien, INCERTAIN"
   ]
  },
  {
   "cell_type": "code",
   "execution_count": 123,
   "id": "ce1bd665",
   "metadata": {},
   "outputs": [
    {
     "name": "stdout",
     "output_type": "stream",
     "text": [
      "Counter({'France': 148820, 'Italie': 77195, 'Levant et Barbarie': 40820, 'Espagne': 29835, 'Angleterre': 15140, 'Nord': 8660, \"Flandre et autres états de l'Empereur\": 6020, 'Hollande': 3150, 'Portugal': 2035, \"États-Unis d'Amérique\": 1660, 'Inconnu': 860})\n"
     ]
    }
   ],
   "source": [
    "departures_tonnage = Counter()\n",
    "\n",
    "for flow in flows_sourced:\n",
    "    state = flow['state_fr']\n",
    "    partner = state_to_partner[state]\n",
    "    departures_tonnage.update({partner: tonnage_estimates[flow['ship_class_standardized']]})\n",
    "\n",
    "print(departures_tonnage)"
   ]
  },
  {
   "cell_type": "code",
   "execution_count": 124,
   "id": "1d76bede",
   "metadata": {},
   "outputs": [
    {
     "name": "stdout",
     "output_type": "stream",
     "text": [
      "Counter({'Vaisseau': 32,\n",
      "         'Brigantin': 30,\n",
      "         'Senau': 6,\n",
      "         'Bateau': 2,\n",
      "         'Sloop': 1,\n",
      "         'Tartane': 1,\n",
      "         'Goelette': 1})\n"
     ]
    }
   ],
   "source": [
    "angleterre_tonnage = Counter()\n",
    "\n",
    "for flow in flows_sourced:\n",
    "    state = flow['state_fr']\n",
    "    if state == 'Grande-Bretagne':\n",
    "        ship_class_standardized = flow['ship_class_standardized']\n",
    "        angleterre_tonnage.update({ship_class_standardized: 1})\n",
    "\n",
    "pprint(angleterre_tonnage)"
   ]
  },
  {
   "cell_type": "code",
   "execution_count": 125,
   "id": "7a307901",
   "metadata": {},
   "outputs": [
    {
     "data": {
      "text/plain": [
       "[{'state': 'France', 'tonnage': 148820},\n",
       " {'state': 'Espagne', 'tonnage': 29835},\n",
       " {'state': 'Italie', 'tonnage': 77195},\n",
       " {'state': 'Levant et Barbarie', 'tonnage': 40820},\n",
       " {'state': 'Inconnu', 'tonnage': 860},\n",
       " {'state': 'Nord', 'tonnage': 8660},\n",
       " {'state': \"Flandre et autres états de l'Empereur\", 'tonnage': 6020},\n",
       " {'state': \"États-Unis d'Amérique\", 'tonnage': 1660},\n",
       " {'state': 'Angleterre', 'tonnage': 15140},\n",
       " {'state': 'Hollande', 'tonnage': 3150},\n",
       " {'state': 'Portugal', 'tonnage': 2035}]"
      ]
     },
     "execution_count": 125,
     "metadata": {},
     "output_type": "execute_result"
    }
   ],
   "source": [
    "departures_tonnage_liste = [{\"state\" : state, \"tonnage\": tonnage} for state,tonnage in dict(departures_tonnage).items()]\n",
    "departures_tonnage_liste"
   ]
  },
  {
   "cell_type": "code",
   "execution_count": 126,
   "id": "48e3dae2",
   "metadata": {},
   "outputs": [
    {
     "data": {
      "text/plain": [
       "[{'state': 'France', 'bateaux': 2841},\n",
       " {'state': 'Espagne', 'bateaux': 454},\n",
       " {'state': 'Italie', 'bateaux': 1356},\n",
       " {'state': 'Levant et Barbarie', 'bateaux': 319},\n",
       " {'state': 'Inconnu', 'bateaux': 27},\n",
       " {'state': 'Nord', 'bateaux': 47},\n",
       " {'state': \"Flandre et autres états de l'Empereur\", 'bateaux': 36},\n",
       " {'state': \"États-Unis d'Amérique\", 'bateaux': 9},\n",
       " {'state': 'Angleterre', 'bateaux': 73},\n",
       " {'state': 'Hollande', 'bateaux': 13},\n",
       " {'state': 'Portugal', 'bateaux': 13}]"
      ]
     },
     "execution_count": 126,
     "metadata": {},
     "output_type": "execute_result"
    }
   ],
   "source": [
    "departures_bateaux_liste = [{\"state\" : state, \"bateaux\": bateaux} for state,bateaux in dict(departures).items()]\n",
    "departures_bateaux_liste"
   ]
  },
  {
   "cell_type": "code",
   "execution_count": 127,
   "id": "afd8a7f0",
   "metadata": {},
   "outputs": [
    {
     "data": {
      "text/plain": [
       "[{'state': 'France', 'tonnage': 148820},\n",
       " {'state': 'Espagne', 'tonnage': 29835},\n",
       " {'state': 'Italie', 'tonnage': 77195},\n",
       " {'state': 'Levant et Barbarie', 'tonnage': 40820},\n",
       " {'state': 'Inconnu', 'tonnage': 860},\n",
       " {'state': 'Nord', 'tonnage': 8660},\n",
       " {'state': \"Flandre et autres états de l'Empereur\", 'tonnage': 6020},\n",
       " {'state': \"États-Unis d'Amérique\", 'tonnage': 1660},\n",
       " {'state': 'Angleterre', 'tonnage': 15140},\n",
       " {'state': 'Hollande', 'tonnage': 3150},\n",
       " {'state': 'Portugal', 'tonnage': 2035}]"
      ]
     },
     "execution_count": 127,
     "metadata": {},
     "output_type": "execute_result"
    }
   ],
   "source": [
    "departures = [{\"state\" : state, \"count\": tonnage} for state,tonnage in dict(departures_tonnage).items()]\n",
    "departures_tonnage_liste"
   ]
  },
  {
   "cell_type": "code",
   "execution_count": 128,
   "id": "79cd4a37",
   "metadata": {},
   "outputs": [],
   "source": [
    "from IPython.display import display\n",
    "\n",
    "def VegaLite(spec):\n",
    "    bundle = {}\n",
    "    bundle['application/vnd.vegalite.v4+json'] = spec\n",
    "    display(bundle, raw=True)"
   ]
  },
  {
   "cell_type": "code",
   "execution_count": 129,
   "id": "3df5af25",
   "metadata": {},
   "outputs": [
    {
     "data": {
      "application/vnd.vegalite.v4+json": {
       "$schema": "https://vega.github.io/schema/vega-lite/v5.json",
       "data": {
        "values": [
         {
          "state": "France",
          "tonnage": 148820
         },
         {
          "state": "Espagne",
          "tonnage": 29835
         },
         {
          "state": "Italie",
          "tonnage": 77195
         },
         {
          "state": "Levant et Barbarie",
          "tonnage": 40820
         },
         {
          "state": "Inconnu",
          "tonnage": 860
         },
         {
          "state": "Nord",
          "tonnage": 8660
         },
         {
          "state": "Flandre et autres états de l'Empereur",
          "tonnage": 6020
         },
         {
          "state": "États-Unis d'Amérique",
          "tonnage": 1660
         },
         {
          "state": "Angleterre",
          "tonnage": 15140
         },
         {
          "state": "Hollande",
          "tonnage": 3150
         },
         {
          "state": "Portugal",
          "tonnage": 2035
         }
        ]
       },
       "encoding": {
        "x": {
         "axis": {
          "orient": "top"
         },
         "field": "tonnage",
         "title": "tonnage",
         "type": "quantitative"
        },
        "y": {
         "field": "state",
         "sort": {
          "field": "tonnage",
          "order": "descending"
         },
         "title": "partenaires grouping",
         "type": "nominal"
        }
       },
       "mark": {
        "tooltip": {
         "content": "data"
        },
        "type": "bar"
       },
       "title": "Tonnage par partenaires, pour les entrées à Marseille en 1789"
      }
     },
     "metadata": {},
     "output_type": "display_data"
    }
   ],
   "source": [
    "\n",
    "VegaLite({\n",
    "    \"$schema\": \"https://vega.github.io/schema/vega-lite/v5.json\",\n",
    "    \"title\": \"Tonnage par partenaires, pour les entrées à Marseille en 1789\",\n",
    "    \"mark\": {\n",
    "        \"tooltip\": {\n",
    "         \"content\": \"data\"\n",
    "        },\n",
    "        \"type\": \"bar\" #type de visualisation (ici rectangle)\n",
    "    },\n",
    "    \"data\": {\n",
    "        \"values\": departures_tonnage_liste #mettre la liste des données\n",
    "    },\n",
    "    \"encoding\": {\n",
    "        \"x\": {\n",
    "            \"field\": \"tonnage\",\n",
    "            \"type\": \"quantitative\", #ou nominal \n",
    "            \"title\": \"tonnage\",\n",
    "            \"axis\": {\n",
    "                \"orient\": \"top\"\n",
    "            }\n",
    "        },\n",
    "        \"y\": {\n",
    "            \"field\": \"state\",\n",
    "            \"type\": \"nominal\",\n",
    "            \"title\": \"partenaires grouping\",\n",
    "            \"sort\": {\"field\" : \"tonnage\",\n",
    "                     \"order\": \"descending\"}\n",
    "        },\n",
    "    }\n",
    "})"
   ]
  },
  {
   "attachments": {},
   "cell_type": "markdown",
   "id": "a4916094",
   "metadata": {},
   "source": [
    "attention : VegaLite ne marche pas sur jupyter notebook -> faire sur VScode ou jupyterlab"
   ]
  },
  {
   "cell_type": "code",
   "execution_count": 137,
   "id": "d97df80d",
   "metadata": {},
   "outputs": [
    {
     "data": {
      "application/vnd.vegalite.v4+json": {
       "$schema": "https://vega.github.io/schema/vega-lite/v5.json",
       "data": {
        "values": [
         {
          "bateaux": 2841,
          "state": "France"
         },
         {
          "bateaux": 454,
          "state": "Espagne"
         },
         {
          "bateaux": 1356,
          "state": "Italie"
         },
         {
          "bateaux": 319,
          "state": "Levant et Barbarie"
         },
         {
          "bateaux": 27,
          "state": "Inconnu"
         },
         {
          "bateaux": 47,
          "state": "Nord"
         },
         {
          "bateaux": 36,
          "state": "Flandre et autres états de l'Empereur"
         },
         {
          "bateaux": 9,
          "state": "États-Unis d'Amérique"
         },
         {
          "bateaux": 73,
          "state": "Angleterre"
         },
         {
          "bateaux": 13,
          "state": "Hollande"
         },
         {
          "bateaux": 13,
          "state": "Portugal"
         }
        ]
       },
       "encoding": {
        "x": {
         "axis": {
          "orient": "top"
         },
         "field": "bateaux",
         "scale": {
          "reverse": true
         },
         "title": "nombre debateaux",
         "type": "quantitative"
        },
        "y": {
         "axis": {
          "orient": "right"
         },
         "field": "state",
         "sort": [
          "France",
          "Italie",
          "Levant et Barbarie",
          "Espagne",
          "Angleterre",
          "Nord",
          "Flandre et autres états de l'Empereur",
          "Hollande",
          "Portugal",
          "États-Unis d'Amérique",
          "Inconnu"
         ],
         "title": "partenaires grouping",
         "type": "nominal"
        }
       },
       "mark": {
        "tooltip": {
         "content": "data"
        },
        "type": "bar"
       },
       "title": "Bateaux par partenaires, pour les entrées à Marseille en 1789"
      }
     },
     "metadata": {},
     "output_type": "display_data"
    }
   ],
   "source": [
    "VegaLite({\n",
    "    \"$schema\": \"https://vega.github.io/schema/vega-lite/v5.json\",\n",
    "    \"title\": \"Bateaux par partenaires, pour les entrées à Marseille en 1789\",\n",
    "    \"mark\": {\n",
    "        \"tooltip\": {\n",
    "         \"content\": \"data\"\n",
    "        },\n",
    "        \"type\": \"bar\" #type de visualisation (ici rectangle)\n",
    "    },\n",
    "    \"data\": {\n",
    "        \"values\": departures_bateaux_liste #mettre la liste des données\n",
    "    },\n",
    "    \"encoding\": {\n",
    "        \"x\": {\n",
    "            \"field\": \"bateaux\",\n",
    "            \"type\": \"quantitative\", #ou nominal \n",
    "            \"title\": \"nombre debateaux\",\n",
    "            \"axis\": {\n",
    "                \"orient\": \"top\"\n",
    "            },\n",
    "            \"scale\": {\n",
    "                \"reverse\": True\n",
    "            }\n",
    "        },\n",
    "        \"y\": {\n",
    "            \"field\": \"state\",\n",
    "            \"type\": \"nominal\",\n",
    "            \"title\": \"partenaires grouping\",\n",
    "            \"axis\": {\n",
    "                \"orient\": \"right\",\n",
    "            },\n",
    "            \"sort\": [\n",
    "                \"France\",\n",
    "                \"Italie\",\n",
    "                \"Levant et Barbarie\",\n",
    "                \"Espagne\",\n",
    "                \"Angleterre\",\n",
    "                \"Nord\",\n",
    "                \"Flandre et autres états de l'Empereur\",\n",
    "                \"Hollande\",\n",
    "                \"Portugal\",\n",
    "                \"États-Unis d'Amérique\",\n",
    "                \"Inconnu\"\n",
    "                ]\n",
    "                     }\n",
    "        },\n",
    "    })"
   ]
  }
 ],
 "metadata": {
  "kernelspec": {
   "display_name": "Python 3 (ipykernel)",
   "language": "python",
   "name": "python3"
  },
  "language_info": {
   "codemirror_mode": {
    "name": "ipython",
    "version": 3
   },
   "file_extension": ".py",
   "mimetype": "text/x-python",
   "name": "python",
   "nbconvert_exporter": "python",
   "pygments_lexer": "ipython3",
   "version": "3.8.14"
  }
 },
 "nbformat": 4,
 "nbformat_minor": 5
}
