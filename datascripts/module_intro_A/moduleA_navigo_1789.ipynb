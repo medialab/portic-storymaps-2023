{
 "cells": [
  {
   "cell_type": "code",
   "execution_count": null,
   "id": "c261ae5e",
   "metadata": {},
   "outputs": [],
   "source": [
    "from csv import DictReader\n",
    "\n",
    "flows = []\n",
    "with open('../../data/navigo_all_flows.csv', newline='') as csvfile:\n",
    "    reader = DictReader(csvfile)\n",
    "    for row in reader:\n",
    "        if \\\n",
    "                row['destination_fr'] == 'Marseille' \\\n",
    "            and row['indate_fixed'].split('-')[0] == '1789' \\\n",
    "            :\n",
    "            flows.append(dict(row))\n",
    "\n",
    "print(len(flows))"
   ]
  },
  {
   "cell_type": "code",
   "execution_count": null,
   "id": "cdc674e9",
   "metadata": {},
   "outputs": [],
   "source": [
    "flows[0]"
   ]
  },
  {
   "cell_type": "code",
   "execution_count": null,
   "id": "819b6f1f",
   "metadata": {},
   "outputs": [],
   "source": [
    "set([f['source_suite'] for f in flows])"
   ]
  },
  {
   "cell_type": "code",
   "execution_count": null,
   "id": "7f1626bc",
   "metadata": {},
   "outputs": [],
   "source": [
    "flows_sourced = [f for f in flows if f['source_suite'] != 'G5']\n",
    "print(len(flows_sourced))"
   ]
  },
  {
   "cell_type": "markdown",
   "id": "b1082e36",
   "metadata": {},
   "source": [
    "Attention : on a pas filtré les net_route_marker = Q , il peut y avoir des doublons entre petit cabotage et la santé, A NETTOYER"
   ]
  },
  {
   "cell_type": "code",
   "execution_count": null,
   "id": "279de84d",
   "metadata": {},
   "outputs": [],
   "source": [
    "set([f['departure_state_fr'] for f in flows])"
   ]
  },
  {
   "cell_type": "code",
   "execution_count": null,
   "id": "011e2250",
   "metadata": {},
   "outputs": [],
   "source": [
    "state_to_partner = {'': 'Inconnu',\n",
    " 'Autriche': 'Flandre et autres états de l\\'Empereur',\n",
    " 'Duché de Massa et Carrare': 'Italie',\n",
    " 'Empire ottoman':'Levant et Barbarie',\n",
    " 'Espagne': 'Espagne',\n",
    " 'Etats pontificaux': 'Italie',\n",
    " 'France': 'France',\n",
    " 'Grande-Bretagne': 'Angleterre',\n",
    " 'Malte': 'Italie',\n",
    " 'Maroc': 'Levant et Barbarie',\n",
    " 'Monaco': 'Italie',\n",
    " 'Royaume de Naples': 'Italie',\n",
    " 'Royaume de Piémont-Sardaigne': 'Italie',\n",
    " 'République de Gênes': 'Italie',\n",
    " 'République de Lucques': 'Italie',\n",
    " 'République de Venise': 'Italie',\n",
    " 'Toscane': 'Italie',\n",
    " 'multi-Etat': 'Inconnu',\n",
    " 'zone maritime': 'Inconnu'}\n"
   ]
  },
  {
   "cell_type": "code",
   "execution_count": null,
   "id": "e9ea21f5",
   "metadata": {},
   "outputs": [],
   "source": [
    "from collections import Counter\n",
    "\n",
    "departures = Counter()\n",
    "\n",
    "for flow in flows_sourced:\n",
    "    state = flow['departure_state_fr']\n",
    "    partner = state_to_partner[state]\n",
    "    departures.update({partner: 1})\n",
    "\n",
    "print(departures)"
   ]
  },
  {
   "cell_type": "code",
   "execution_count": null,
   "id": "feac4c7e",
   "metadata": {},
   "outputs": [],
   "source": [
    "from csv import DictReader\n",
    "from collections import Counter\n",
    "import requests\n",
    "import csv\n",
    "\n",
    "# 1. get online csv data\n",
    "def get_online_csv(url):\n",
    "  results = []\n",
    "  with requests.Session() as s:\n",
    "      download = s.get(url)\n",
    "      decoded_content = download.content.decode('utf-8')\n",
    "      reader = csv.DictReader(decoded_content.splitlines(), delimiter=',')\n",
    "      for row in reader:\n",
    "        results.append(dict(row))\n",
    "  return results\n",
    "\n",
    "TONNAGE_SPREADSHEET_URL = 'https://docs.google.com/spreadsheets/d/e/2PACX-1vTYdeIwpzaVpY_KS91cXiHxb309iYBS4JN_1_hW-_oyeysuwcIpC2VJ5fWeZJl4tA/pub?output=csv'\n",
    "\n",
    "tonnage_data = get_online_csv(TONNAGE_SPREADSHEET_URL)\n",
    "\n",
    "# 2. build a shipclass->tx dict\n",
    "tonnage_estimates = {}\n",
    "for l in tonnage_data:\n",
    "    estimation = l['tonnage_estime_en_tx'] or 0\n",
    "    if l['tonnage_estime_en_tx'] == 'No data':\n",
    "        estimation = 0\n",
    "    else :\n",
    "        estimation = int(estimation)\n",
    "    \n",
    "    ship_class = l['ship_class']\n",
    "    \n",
    "    tonnage_estimates[ship_class] = estimation\n",
    "   \n",
    "tonnage_estimates[''] = 0\n",
    "print(tonnage_estimates)"
   ]
  },
  {
   "cell_type": "markdown",
   "id": "2ade4bae",
   "metadata": {},
   "source": [
    "Attention : quand pas de classe de navire, tonnage égale 0 -> pas bien, INCERTAIN"
   ]
  },
  {
   "cell_type": "code",
   "execution_count": null,
   "id": "ce1bd665",
   "metadata": {},
   "outputs": [],
   "source": [
    "departures_tonnage = Counter()\n",
    "\n",
    "for flow in flows_sourced:\n",
    "    state = flow['departure_state_fr']\n",
    "    partner = state_to_partner[state]\n",
    "    departures_tonnage.update({partner: tonnage_estimates[flow['ship_class_standardized']]})\n",
    "\n",
    "print(departures_tonnage)"
   ]
  },
  {
   "cell_type": "code",
   "execution_count": null,
   "id": "1d76bede",
   "metadata": {},
   "outputs": [],
   "source": [
    "angleterre_tonnage = Counter()\n",
    "\n",
    "for flow in flows_sourced:\n",
    "    state = flow['departure_state_fr']\n",
    "    if state == 'Grande-Bretagne':\n",
    "        ship_class_standardized = flow['ship_class_standardized']\n",
    "        angleterre_tonnage.update({ship_class_standardized: 1})\n",
    "\n",
    "print(angleterre_tonnage)"
   ]
  },
  {
   "cell_type": "code",
   "execution_count": null,
   "id": "7a307901",
   "metadata": {},
   "outputs": [],
   "source": [
    "departures_tonnage_liste = [{\"state\" : state, \"tonnage\": tonnage} for state,tonnage in dict(departures_tonnage).items()]\n",
    "departures_tonnage_liste"
   ]
  },
  {
   "cell_type": "code",
   "execution_count": null,
   "id": "79cd4a37",
   "metadata": {},
   "outputs": [],
   "source": [
    "from IPython.display import display\n",
    "\n",
    "\n",
    "def VegaLite(spec):\n",
    "    bundle = {}\n",
    "    bundle['application/vnd.vegalite.v4+json'] = spec\n",
    "    display(bundle, raw=True)"
   ]
  },
  {
   "cell_type": "code",
   "execution_count": null,
   "id": "3df5af25",
   "metadata": {},
   "outputs": [],
   "source": [
    "\n",
    "VegaLite({\n",
    "    \"$schema\": \"https://vega.github.io/schema/vega-lite/v5.json\",\n",
    "    \"title\": \"Tonnage par partenaires, pour les entrées à Marseille en 1789\",\n",
    "    \"mark\": {\n",
    "        \"tooltip\": {\n",
    "         \"content\": \"data\"\n",
    "        },\n",
    "        \"type\": \"rect\" #type de visualisation (ici rectangle)\n",
    "    },\n",
    "    \"data\": {\n",
    "        \"values\": departures_tonnage_liste #mettre la liste des données\n",
    "    },\n",
    "    \"encoding\": {\n",
    "        \"x\": {\n",
    "            \"field\": \"tonnage\",\n",
    "            \"type\": \"quantitative\", #ou nominal \n",
    "            \"title\": \"tonnage\",\n",
    "            \"axis\": {\n",
    "                \"orient\": \"top\"\n",
    "            }\n",
    "        },\n",
    "        \"y\": {\n",
    "            \"field\": \"state\",\n",
    "            \"type\": \"nominal\",\n",
    "            \"title\": \"partenaires grouping\"\n",
    "        },\n",
    "    }\n",
    "})"
   ]
  },
  {
   "cell_type": "code",
   "execution_count": null,
   "id": "0bc645b1",
   "metadata": {},
   "outputs": [],
   "source": [
    "from vega import VegaLite\n",
    "import pandas as pd\n",
    "\n",
    "df = pd.DataFrame([departures_tonnage_liste])\n",
    "\n",
    "VegaLite({\n",
    "    \"$schema\": \"https://vega.github.io/schema/vega-lite/v5.json\",\n",
    "    \"title\": \"Tonnage par partenaires, pour les entrées à Marseille en 1789\",\n",
    "    \"mark\": {\n",
    "        \"tooltip\": {\n",
    "         \"content\": \"data\"\n",
    "        },\n",
    "        \"type\": \"rect\" #type de visualisation (ici rectangle)\n",
    "    },\n",
    "    \"encoding\": {\n",
    "        \"x\": {\n",
    "            \"field\": \"tonnage\",\n",
    "            \"type\": \"quantitative\", #ou nominal \n",
    "            \"title\": \"tonnage\",\n",
    "            \"axis\": {\n",
    "                \"orient\": \"top\"\n",
    "            }\n",
    "        },\n",
    "        \"y\": {\n",
    "            \"field\": \"state\",\n",
    "            \"type\": \"nominal\",\n",
    "            \"title\": \"partenaires grouping\"\n",
    "        },\n",
    "    }\n",
    "}, df)"
   ]
  }
 ],
 "metadata": {
  "kernelspec": {
   "display_name": "Python 3 (ipykernel)",
   "language": "python",
   "name": "python3"
  },
  "language_info": {
   "codemirror_mode": {
    "name": "ipython",
    "version": 3
   },
   "file_extension": ".py",
   "mimetype": "text/x-python",
   "name": "python",
   "nbconvert_exporter": "python",
   "pygments_lexer": "ipython3",
   "version": "3.8.14"
  }
 },
 "nbformat": 4,
 "nbformat_minor": 5
}
