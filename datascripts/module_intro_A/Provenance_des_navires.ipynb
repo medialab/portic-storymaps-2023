{
 "cells": [
  {
   "cell_type": "code",
   "execution_count": null,
   "id": "3a4f3ba9-cffd-49bf-9fe0-e855d41b5c70",
   "metadata": {
    "tags": []
   },
   "outputs": [],
   "source": [
    "from IPython.display import display\n",
    "import pandas as pd\n"
   ]
  },
  {
   "cell_type": "code",
   "execution_count": null,
   "id": "41cea970-1802-465b-a63b-b7415c4e9ea6",
   "metadata": {},
   "outputs": [],
   "source": [
    "from marseillesprint import Portic\n",
    "portic_client = Portic()\n",
    "\n",
    "# methods of the client: .get_flows(), .get_pointcalls()\n",
    "pointcalls = portic_client.get_pointcalls(\n",
    " pointcall = 'Marseille',\n",
    " year=1789\n",
    ")"
   ]
  },
  {
   "cell_type": "code",
   "execution_count": null,
   "id": "5c02b256",
   "metadata": {},
   "outputs": [],
   "source": [
    "pointcalls[0]"
   ]
  },
  {
   "cell_type": "code",
   "execution_count": null,
   "id": "45a1306b",
   "metadata": {},
   "outputs": [],
   "source": [
    "# parmi toutes les sources dispo, est-ce qu'on a du homeport ?\n",
    "\n",
    "from collections import defaultdict\n",
    "\n",
    "r = {}\n",
    "\n",
    "# homeport\n",
    "# pkid\n",
    "# source_suite\n",
    "\n",
    "\n",
    "for p in pointcalls:\n",
    "    if p['source_suite'] not in r:\n",
    "        r[p['source_suite']]={'with_homeport':0, 'without_homeport':0}\n",
    "    if p['homeport']:\n",
    "        r[p['source_suite']]['with_homeport']+=1\n",
    "    else:\n",
    "        r[p['source_suite']]['without_homeport']+=1\n",
    "    \n"
   ]
  },
  {
   "cell_type": "code",
   "execution_count": null,
   "id": "3c6039be",
   "metadata": {},
   "outputs": [],
   "source": [
    "from pprint import pprint\n",
    "pprint(r)"
   ]
  },
  {
   "cell_type": "code",
   "execution_count": null,
   "id": "6bf9d3e4",
   "metadata": {},
   "outputs": [],
   "source": []
  }
 ],
 "metadata": {
  "kernelspec": {
   "display_name": "Python 3 (ipykernel)",
   "language": "python",
   "name": "python3"
  },
  "language_info": {
   "codemirror_mode": {
    "name": "ipython",
    "version": 3
   },
   "file_extension": ".py",
   "mimetype": "text/x-python",
   "name": "python",
   "nbconvert_exporter": "python",
   "pygments_lexer": "ipython3",
   "version": "3.11.0"
  }
 },
 "nbformat": 4,
 "nbformat_minor": 5
}
