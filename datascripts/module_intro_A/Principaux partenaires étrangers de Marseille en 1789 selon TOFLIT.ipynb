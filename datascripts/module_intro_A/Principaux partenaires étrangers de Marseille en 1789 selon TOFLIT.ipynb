{
 "cells": [
  {
   "cell_type": "code",
   "execution_count": 40,
   "id": "dc110549",
   "metadata": {},
   "outputs": [],
   "source": [
    "import casanova\n",
    "from collections import Counter\n"
   ]
  },
  {
   "cell_type": "code",
   "execution_count": 41,
   "id": "1ecdbc8d",
   "metadata": {},
   "outputs": [],
   "source": [
    "reader = casanova.reader(\"../../data/toflit18_all_flows.csv\")\n",
    "\n",
    "#Filters\n",
    "year_col = reader.headers[\"year\"]\n",
    "dirferme_col = reader.headers[\"customs_region\"]\n",
    "exchange_col = reader.headers[\"export_import\"]\n",
    "source_col = reader.headers[\"best_guess_region_prodxpart\"]\n",
    "\n",
    "#Fields\n",
    "partner_col = reader.headers[\"partner_grouping\"]\n",
    "value_col = reader.headers[\"value\"]\n",
    "\n",
    "imports = Counter()\n",
    "exports = Counter()\n",
    "for row in reader:\n",
    "    if row[year_col] == \"1789\" and row[dirferme_col] == \"Marseille\" and row[source_col] == \"1\":\n",
    "        if row[exchange_col] == \"Imports\":\n",
    "            imports[row[partner_col]] += float(row[value_col] or 0)\n",
    "        elif row[exchange_col] == \"Exports\":\n",
    "            exports[row[partner_col]] += float(row[value_col] or 0)"
   ]
  },
  {
   "cell_type": "code",
   "execution_count": 42,
   "id": "be2c4de0",
   "metadata": {},
   "outputs": [
    {
     "data": {
      "text/plain": [
       "Counter({'Nord': 3283456.5936220004,\n",
       "         'Hollande': 2046345.67102488,\n",
       "         'Italie': 43052914.571335405,\n",
       "         'Amériques': 31740648.0,\n",
       "         'Levant et Barbarie': 39436933.45469722,\n",
       "         'Espagne': 8840868.18039737,\n",
       "         'Portugal': 304088.001869,\n",
       "         'France': 32135889.123546023,\n",
       "         \"États-Unis d'Amérique\": 958093.7048460001,\n",
       "         \"Flandre et autres états de l'Empereur\": 823740.383224,\n",
       "         'Afrique': 10756.0,\n",
       "         'Angleterre': 1046333.0,\n",
       "         '[vide]': 2201.0})"
      ]
     },
     "execution_count": 42,
     "metadata": {},
     "output_type": "execute_result"
    }
   ],
   "source": [
    "imports"
   ]
  },
  {
   "cell_type": "code",
   "execution_count": 44,
   "id": "caf21616",
   "metadata": {},
   "outputs": [
    {
     "data": {
      "text/plain": [
       "Counter({'France': 36427133.12979482,\n",
       "         'Monde': 24912626.0,\n",
       "         'Angleterre': 1140719.80401517,\n",
       "         'Italie': 13691097.147279572,\n",
       "         'Allemagne': 2052.0,\n",
       "         'Levant et Barbarie': 13304798.760940531,\n",
       "         'Espagne': 9863096.925390964,\n",
       "         'Nord': 1178146.32251836,\n",
       "         \"Flandre et autres états de l'Empereur\": 282884.47705189005,\n",
       "         'Hollande': 895695.7541407199,\n",
       "         \"États-Unis d'Amérique\": 239788.98914249995,\n",
       "         'Amériques': 14542393.0,\n",
       "         'Afrique': 408552.0,\n",
       "         '????': 360.0,\n",
       "         'Asie': 1660684.0})"
      ]
     },
     "execution_count": 44,
     "metadata": {},
     "output_type": "execute_result"
    }
   ],
   "source": [
    "exports"
   ]
  },
  {
   "cell_type": "code",
   "execution_count": 39,
   "id": "a4c1720a",
   "metadata": {},
   "outputs": [
    {
     "data": {
      "text/plain": [
       "Counter()"
      ]
     },
     "execution_count": 39,
     "metadata": {},
     "output_type": "execute_result"
    }
   ],
   "source": []
  }
 ],
 "metadata": {
  "kernelspec": {
   "display_name": "Python 3 (ipykernel)",
   "language": "python",
   "name": "python3"
  },
  "language_info": {
   "codemirror_mode": {
    "name": "ipython",
    "version": 3
   },
   "file_extension": ".py",
   "mimetype": "text/x-python",
   "name": "python",
   "nbconvert_exporter": "python",
   "pygments_lexer": "ipython3",
   "version": "3.9.5"
  }
 },
 "nbformat": 4,
 "nbformat_minor": 5
}
