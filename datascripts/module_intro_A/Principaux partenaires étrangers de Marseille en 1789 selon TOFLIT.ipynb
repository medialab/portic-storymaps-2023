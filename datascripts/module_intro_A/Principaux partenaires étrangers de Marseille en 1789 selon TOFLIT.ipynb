{
 "cells": [
  {
   "cell_type": "code",
   "execution_count": null,
   "id": "1a4e02e2",
   "metadata": {},
   "outputs": [],
   "source": [
    "import casanova\n",
    "from collections import Counter\n"
   ]
  },
  {
   "cell_type": "code",
   "execution_count": null,
   "id": "1eb41246",
   "metadata": {},
   "outputs": [],
   "source": [
    "reader = casanova.reader(\"../../data/toflit18_all_flows.csv\")\n",
    "\n",
    "#Filters\n",
    "year_col = reader.headers[\"year\"]\n",
    "dirferme_col = reader.headers[\"customs_region\"]\n",
    "exchange_col = reader.headers[\"export_import\"]\n",
    "source_col = reader.headers[\"best_guess_region_prodxpart\"]\n",
    "\n",
    "#Fields\n",
    "partner_col = reader.headers[\"partner_grouping\"]\n",
    "value_col = reader.headers[\"value\"]\n",
    "\n",
    "imports = Counter()\n",
    "exports = Counter()\n",
    "for row in reader:\n",
    "    if row[year_col] == \"1789\" and row[dirferme_col] == \"Marseille\" and row[source_col] == \"1\":\n",
    "        if row[exchange_col] == \"Imports\":\n",
    "            imports[row[partner_col]] += float(row[value_col] or 0)\n",
    "        elif row[exchange_col] == \"Exports\":\n",
    "            exports[row[partner_col]] += float(row[value_col] or 0)"
   ]
  },
  {
   "cell_type": "code",
   "execution_count": null,
   "id": "a6e4e595",
   "metadata": {},
   "outputs": [],
   "source": [
    "imports"
   ]
  },
  {
   "cell_type": "code",
   "execution_count": null,
   "id": "b2801683",
   "metadata": {},
   "outputs": [],
   "source": [
    "exports"
   ]
  },
  {
   "cell_type": "code",
   "execution_count": null,
   "id": "e3837713",
   "metadata": {},
   "outputs": [],
   "source": [
    "partners = set([k for k in imports.keys()] + [k for k in exports.keys()])"
   ]
  },
  {
   "cell_type": "code",
   "execution_count": null,
   "id": "7a81ceb6",
   "metadata": {},
   "outputs": [],
   "source": [
    "coords = {}\n",
    "geoloc = lambda place: {\n",
    "  \"type\": \"Feature\",\n",
    "  \"geometry\": {\n",
    "    \"type\": \"Point\",\n",
    "    \"coordinates\": coords.get(place)\n",
    "  },\n",
    "  \"properties\": {\n",
    "    \"name\": place,\n",
    "    \"imports\": imports.get(place),\n",
    "    \"exports\": exports.get(place)\n",
    "  }\n",
    "}\n",
    "geojson_data = {\n",
    "    \"type\": \"FeatureCollection\",\n",
    "    \"features\": [geoloc(p) for p in partners]\n",
    "}"
   ]
  },
  {
   "cell_type": "code",
   "execution_count": null,
   "id": "5456dd66",
   "metadata": {},
   "outputs": [],
   "source": [
    "geojson_data"
   ]
  },
  {
   "cell_type": "code",
   "execution_count": null,
   "id": "c1d13aab",
   "metadata": {},
   "outputs": [],
   "source": []
  }
 ],
 "metadata": {
  "kernelspec": {
   "display_name": "Python 3 (ipykernel)",
   "language": "python",
   "name": "python3"
  },
  "language_info": {
   "codemirror_mode": {
    "name": "ipython",
    "version": 3
   },
   "file_extension": ".py",
   "mimetype": "text/x-python",
   "name": "python",
   "nbconvert_exporter": "python",
   "pygments_lexer": "ipython3",
   "version": "3.9.5"
  }
 },
 "nbformat": 4,
 "nbformat_minor": 5
}
