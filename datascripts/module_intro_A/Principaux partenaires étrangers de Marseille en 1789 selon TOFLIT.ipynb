{
 "cells": [
  {
   "cell_type": "code",
   "execution_count": 1,
   "id": "a6dba388",
   "metadata": {},
   "outputs": [],
   "source": [
    "import json\n",
    "import casanova\n",
    "from collections import Counter"
   ]
  },
  {
   "cell_type": "code",
   "execution_count": 2,
   "id": "ef715421",
   "metadata": {},
   "outputs": [],
   "source": [
    "reader = casanova.reader(\"../../data/toflit18_all_flows.csv\")\n",
    "\n",
    "#Filters\n",
    "year_col = reader.headers[\"year\"]\n",
    "dirferme_col = reader.headers[\"customs_region\"]\n",
    "exchange_col = reader.headers[\"export_import\"]\n",
    "source_col = reader.headers[\"best_guess_region_prodxpart\"]\n",
    "\n",
    "#Fields\n",
    "partner_col = reader.headers[\"partner_grouping\"]\n",
    "value_col = reader.headers[\"value\"]\n",
    "\n",
    "imports = Counter()\n",
    "exports = Counter()\n",
    "for row in reader:\n",
    "    if row[year_col] == \"1789\" and row[dirferme_col] == \"Marseille\" and row[source_col] == \"1\":\n",
    "        if row[exchange_col] == \"Imports\":\n",
    "            imports[row[partner_col]] += float(row[value_col] or 0)\n",
    "        elif row[exchange_col] == \"Exports\":\n",
    "            exports[row[partner_col]] += float(row[value_col] or 0)"
   ]
  },
  {
   "cell_type": "code",
   "execution_count": 3,
   "id": "f5e1a2a9",
   "metadata": {},
   "outputs": [
    {
     "data": {
      "text/plain": [
       "Counter({'Nord': 3283456.5936220004,\n",
       "         'Hollande': 2046345.67102488,\n",
       "         'Italie': 43052914.571335405,\n",
       "         'Amériques': 31740648.0,\n",
       "         'Levant et Barbarie': 39436933.45469722,\n",
       "         'Espagne': 8840868.18039737,\n",
       "         'Portugal': 304088.001869,\n",
       "         'France': 32135889.123546023,\n",
       "         \"États-Unis d'Amérique\": 958093.7048460001,\n",
       "         \"Flandre et autres états de l'Empereur\": 823740.383224,\n",
       "         'Afrique': 10756.0,\n",
       "         'Angleterre': 1046333.0,\n",
       "         '[vide]': 2201.0})"
      ]
     },
     "execution_count": 3,
     "metadata": {},
     "output_type": "execute_result"
    }
   ],
   "source": [
    "imports"
   ]
  },
  {
   "cell_type": "code",
   "execution_count": 4,
   "id": "7e2b3ed8",
   "metadata": {},
   "outputs": [
    {
     "data": {
      "text/plain": [
       "Counter({'France': 36427133.12979482,\n",
       "         'Monde': 24912626.0,\n",
       "         'Angleterre': 1140719.80401517,\n",
       "         'Italie': 13691097.147279572,\n",
       "         'Allemagne': 2052.0,\n",
       "         'Levant et Barbarie': 13304798.760940531,\n",
       "         'Espagne': 9863096.925390964,\n",
       "         'Nord': 1178146.32251836,\n",
       "         \"Flandre et autres états de l'Empereur\": 282884.47705189005,\n",
       "         'Hollande': 895695.7541407199,\n",
       "         \"États-Unis d'Amérique\": 239788.98914249995,\n",
       "         'Amériques': 14542393.0,\n",
       "         'Afrique': 408552.0,\n",
       "         '????': 360.0,\n",
       "         'Asie': 1660684.0})"
      ]
     },
     "execution_count": 4,
     "metadata": {},
     "output_type": "execute_result"
    }
   ],
   "source": [
    "exports"
   ]
  },
  {
   "cell_type": "code",
   "execution_count": 5,
   "id": "3f672077",
   "metadata": {},
   "outputs": [],
   "source": [
    "partners = set([k for k in imports.keys()] + [k for k in exports.keys()])"
   ]
  },
  {
   "cell_type": "code",
   "execution_count": 6,
   "id": "d0253577",
   "metadata": {},
   "outputs": [],
   "source": [
    "with open(\"partner_grouping_latlong.json\") as f:\n",
    "    coords = json.load(f)\n",
    "\n",
    "geoloc = lambda place: {\n",
    "  \"type\": \"Feature\",\n",
    "  \"geometry\": {\n",
    "    \"type\": \"Point\",\n",
    "    \"coordinates\": coords.get(place)\n",
    "  },\n",
    "  \"properties\": {\n",
    "    \"name\": place,\n",
    "    \"imports\": imports.get(place),\n",
    "    \"exports\": exports.get(place)\n",
    "  }\n",
    "}\n",
    "\n",
    "geojson_data = {\n",
    "    \"type\": \"FeatureCollection\",\n",
    "    \"features\": [geoloc(p) for p in partners if p in coords]\n",
    "}"
   ]
  },
  {
   "cell_type": "code",
   "execution_count": 7,
   "id": "9c2d9f47",
   "metadata": {},
   "outputs": [
    {
     "data": {
      "text/plain": [
       "{'type': 'FeatureCollection',\n",
       " 'features': [{'type': 'Feature',\n",
       "   'geometry': {'type': 'Point', 'coordinates': [8.2397, 39.6797]},\n",
       "   'properties': {'name': 'Portugal',\n",
       "    'imports': 304088.001869,\n",
       "    'exports': None}},\n",
       "  {'type': 'Feature',\n",
       "   'geometry': {'type': 'Point', 'coordinates': [-15.414, 13.454]},\n",
       "   'properties': {'name': 'Afrique', 'imports': 10756.0, 'exports': 408552.0}},\n",
       "  {'type': 'Feature',\n",
       "   'geometry': {'type': 'Point', 'coordinates': [4.2764, 50.8242]},\n",
       "   'properties': {'name': \"Flandre et autres états de l'Empereur\",\n",
       "    'imports': 823740.383224,\n",
       "    'exports': 282884.47705189005}},\n",
       "  {'type': 'Feature',\n",
       "   'geometry': {'type': 'Point', 'coordinates': [5.427, 40.271]},\n",
       "   'properties': {'name': 'Monde', 'imports': None, 'exports': 24912626.0}},\n",
       "  {'type': 'Feature',\n",
       "   'geometry': {'type': 'Point', 'coordinates': [4.9878, 52.2984]},\n",
       "   'properties': {'name': 'Hollande',\n",
       "    'imports': 2046345.67102488,\n",
       "    'exports': 895695.7541407199}},\n",
       "  {'type': 'Feature',\n",
       "   'geometry': {'type': 'Point', 'coordinates': [13.337, 41.87]},\n",
       "   'properties': {'name': 'Italie',\n",
       "    'imports': 43052914.571335405,\n",
       "    'exports': 13691097.147279572}},\n",
       "  {'type': 'Feature',\n",
       "   'geometry': {'type': 'Point', 'coordinates': [-0.483, 46.725]},\n",
       "   'properties': {'name': 'France',\n",
       "    'imports': 32135889.123546023,\n",
       "    'exports': 36427133.12979482}},\n",
       "  {'type': 'Feature',\n",
       "   'geometry': {'type': 'Point', 'coordinates': [-98.569, 37.545]},\n",
       "   'properties': {'name': \"États-Unis d'Amérique\",\n",
       "    'imports': 958093.7048460001,\n",
       "    'exports': 239788.98914249995}},\n",
       "  {'type': 'Feature',\n",
       "   'geometry': {'type': 'Point', 'coordinates': [-66.379, 16.762]},\n",
       "   'properties': {'name': 'Amériques',\n",
       "    'imports': 31740648.0,\n",
       "    'exports': 14542393.0}},\n",
       "  {'type': 'Feature',\n",
       "   'geometry': {'type': 'Point', 'coordinates': [-5.867, 40.33]},\n",
       "   'properties': {'name': 'Espagne',\n",
       "    'imports': 8840868.18039737,\n",
       "    'exports': 9863096.925390964}},\n",
       "  {'type': 'Feature',\n",
       "   'geometry': {'type': 'Point', 'coordinates': [-1.835, 52.829]},\n",
       "   'properties': {'name': 'Angleterre',\n",
       "    'imports': 1046333.0,\n",
       "    'exports': 1140719.80401517}},\n",
       "  {'type': 'Feature',\n",
       "   'geometry': {'type': 'Point', 'coordinates': [28.597, 35.147]},\n",
       "   'properties': {'name': 'Levant et Barbarie',\n",
       "    'imports': 39436933.45469722,\n",
       "    'exports': 13304798.760940531}},\n",
       "  {'type': 'Feature',\n",
       "   'geometry': {'type': 'Point', 'coordinates': [18.479, 56.475]},\n",
       "   'properties': {'name': 'Nord',\n",
       "    'imports': 3283456.5936220004,\n",
       "    'exports': 1178146.32251836}},\n",
       "  {'type': 'Feature',\n",
       "   'geometry': {'type': 'Point', 'coordinates': [13.799, 52.703]},\n",
       "   'properties': {'name': 'Allemagne', 'imports': None, 'exports': 2052.0}},\n",
       "  {'type': 'Feature',\n",
       "   'geometry': {'type': 'Point', 'coordinates': [76.64, -7.8]},\n",
       "   'properties': {'name': 'Asie', 'imports': None, 'exports': 1660684.0}}]}"
      ]
     },
     "execution_count": 7,
     "metadata": {},
     "output_type": "execute_result"
    }
   ],
   "source": [
    "geojson_data"
   ]
  },
  {
   "cell_type": "code",
   "execution_count": 9,
   "id": "97d1dc46",
   "metadata": {},
   "outputs": [],
   "source": [
    "with open(\"map/marseille_partner_groupings_import_export_geoloc.json\", \"w\") as f:\n",
    "    json.dump(geojson_data, f)"
   ]
  },
  {
   "cell_type": "code",
   "execution_count": null,
   "id": "25bc297e",
   "metadata": {},
   "outputs": [],
   "source": []
  }
 ],
 "metadata": {
  "kernelspec": {
   "display_name": "Python 3 (ipykernel)",
   "language": "python",
   "name": "python3"
  },
  "language_info": {
   "codemirror_mode": {
    "name": "ipython",
    "version": 3
   },
   "file_extension": ".py",
   "mimetype": "text/x-python",
   "name": "python",
   "nbconvert_exporter": "python",
   "pygments_lexer": "ipython3",
   "version": "3.9.5"
  }
 },
 "nbformat": 4,
 "nbformat_minor": 5
}
